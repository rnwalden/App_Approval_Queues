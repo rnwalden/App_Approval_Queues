{
 "cells": [
  {
   "cell_type": "code",
   "execution_count": null,
   "metadata": {
    "collapsed": true,
    "pycharm": {
     "name": "#%%\n"
    }
   },
   "outputs": [],
   "source": [
    "import approval_que_app as aqa"
   ]
  },
  {
   "cell_type": "code",
   "execution_count": null,
   "outputs": [],
   "source": [
    "working_session = aqa.OracleConnect()\n",
    "working_session_backup = aqa.TableBackUp(working_session)\n",
    "\n",
    "# Create session backups\n",
    "_result = working_session_backup.perform_session_backup()\n",
    "print(_result)\n",
    "# Display created file names\n",
    "print(working_session_backup.session_bk_FORAQUS_file_name)\n",
    "print(working_session_backup.session_bk_FORAQRC_file_name)\n",
    "print(working_session_backup.session_bk_FTVAPPQ_file_name)\n"
   ],
   "metadata": {
    "collapsed": false,
    "pycharm": {
     "name": "#%%\n"
    }
   }
  },
  {
   "cell_type": "code",
   "execution_count": null,
   "outputs": [],
   "source": [
    "working_session.engine_connection.close()"
   ],
   "metadata": {
    "collapsed": false,
    "pycharm": {
     "name": "#%%\n"
    }
   }
  },
  {
   "cell_type": "code",
   "execution_count": null,
   "outputs": [],
   "source": [
    "#returns who in the queues which they are in\n",
    "\n",
    "_select = f\"\"\"select distinct FORAQUS_QUEUE_ID, FORAQUS_USER_ID_APPR,\n",
    "listagg(distinct FORAQRC_ORGN_CODE,', '), listagg(distinct FTVORGN_TITLE,', ')\"\"\"\n",
    "_from = f\"\"\"from FORAQUS, FORAQRC, FTVORGN\"\"\"\n",
    "_where = f\"\"\"where FORAQUS_QUEUE_ID like '%B%'\n",
    "and FORAQUS_NCHG_DATE is null\n",
    "and FORAQUS_TERM_DATE is null\n",
    "and replace(FORAQUS_QUEUE_ID, 'B', '') = replace(FORAQRC_QUEUE_ID, 'A', '')\n",
    "and FTVORGN_ORGN_CODE = FORAQRC_ORGN_CODE\"\"\"\n",
    "_by = f\"\"\"group by FORAQUS_QUEUE_ID, FORAQUS_USER_ID_APPR\n",
    "order by FORAQUS_USER_ID_APPR, FORAQUS_QUEUE_ID \"\"\"\n",
    "\n",
    "x = working_session.db_query(cur,_select,_from,_where,_by)\n",
    "for y in x:\n",
    "    print(y)"
   ],
   "metadata": {
    "collapsed": false,
    "pycharm": {
     "name": "#%%\n"
    }
   }
  },
  {
   "cell_type": "code",
   "execution_count": null,
   "outputs": [],
   "source": [
    "approver_un = 'SMILLER66'\n",
    "approver_un = 'SMILLER66'\n",
    "approver_un = 'SMILLER66'\n",
    "approver_un = 'BJESTER1'\n",
    "cur = working_session\n",
    "_select = f\"\"\"foraqus.FORAQUS_QUEUE_ID,foraqus.FORAQUS_USER_ID_APPR,\n",
    "(select count(FORAQUS_USER_ID_APPR)\n",
    "from foraqus fa\n",
    "where fa.FORAQUS_USER_ID_APPR != '{approver_un}'\n",
    "      and fa.FORAQUS_QUEUE_ID = foraqus.FORAQUS_QUEUE_ID\n",
    "                                and fa.FORAQUS_TERM_DATE is null\n",
    "                                and fa.FORAQUS_NCHG_DATE is null) as OtherApprovers\"\"\"\n",
    "_from = f\"\"\"foraqus\"\"\"\n",
    "_where = f\"\"\"foraqus.FORAQUS_USER_ID_APPR = '{approver_un}'\n",
    "and foraqus.FORAQUS_TERM_DATE is null\n",
    "and foraqus.FORAQUS_NCHG_DATE is null\"\"\"\n",
    "_order_by = \"\"\"\"\"\"\n",
    "_group_by = \"\"\"\"\"\"\n",
    "_max_records_returned = \"\"\"\"\"\"\n",
    "\n",
    "x = working_session.db_query(_select,_from,_where,_order_by,_group_by,_max_records_returned)\n",
    "for y in x:\n",
    "    print(y)"
   ],
   "metadata": {
    "collapsed": false,
    "pycharm": {
     "name": "#%%\n",
     "is_executing": true
    }
   }
  },
  {
   "cell_type": "code",
   "execution_count": null,
   "outputs": [],
   "source": [],
   "metadata": {
    "collapsed": false,
    "pycharm": {
     "name": "#%%\n"
    }
   }
  },
  {
   "cell_type": "code",
   "execution_count": null,
   "outputs": [],
   "source": [
    "# search for empty queues\n",
    "def search_for_mt_queues():\n",
    "    mt_list = []\n",
    "    _select = f\"\"\"foraqus.FORAQUS_QUEUE_ID,\n",
    "    (select count(FORAQUS_USER_ID_APPR)\n",
    "    from foraqus fa\n",
    "    where fa.FORAQUS_QUEUE_ID = foraqus.FORAQUS_QUEUE_ID\n",
    "                                and fa.FORAQUS_TERM_DATE is null\n",
    "                                and fa.FORAQUS_NCHG_DATE is null) as OtherApprovers\"\"\"\n",
    "    _from = f\"\"\"foraqus\"\"\"\n",
    "    _where = f\"\"\"foraqus.FORAQUS_TERM_DATE is null\n",
    "    and foraqus.FORAQUS_NCHG_DATE is null\"\"\"\n",
    "    _order_by = \"\"\"2\"\"\"\n",
    "    _group_by = \"\"\"\"\"\"\n",
    "    _max_records_returned = \"\"\"\"\"\"\n",
    "    x = working_session.db_query(_select,_from,_where,_order_by,_group_by,_max_records_returned)\n",
    "    for y in x:\n",
    "        if y[1] == 0:\n",
    "            print('alert', y)\n",
    "            mt_list.append(y)\n",
    "        print(y)\n",
    "    return mt_list\n",
    "search_for_mt_queues()"
   ],
   "metadata": {
    "collapsed": false,
    "pycharm": {
     "name": "#%%\n"
    }
   }
  },
  {
   "cell_type": "code",
   "execution_count": null,
   "outputs": [],
   "source": [],
   "metadata": {
    "collapsed": false,
    "pycharm": {
     "name": "#%%\n"
    }
   }
  },
  {
   "cell_type": "code",
   "execution_count": null,
   "outputs": [],
   "source": [
    "def orgn_to_queue(orgns):\n",
    "    _select = f\"\"\"distinct FORAQRC_ORGN_CODE, SUBSTR( FORAQRC_QUEUE_ID, 1, 3 )\"\"\"\n",
    "    _from = f\"\"\"FORAQRC\"\"\"\n",
    "    _where = f\"\"\"FORAQRC_ORGN_CODE in ({orgns}) and SUBSTR( FORAQRC_QUEUE_ID, 1, 1 ) != 'B'\"\"\"\n",
    "    _order_by = f\"\"\"\"\"\"\n",
    "    _group_by = f\"\"\"\"\"\"\n",
    "    _max_records_returned = f\"\"\"\"\"\"\n",
    "\n",
    "    x = working_session.db_query(_select,_from,_where,_order_by,_group_by,_max_records_returned)\n",
    "    return x\n",
    "\n",
    "\n",
    "list1 = orgn_to_queue(\"'13205', '13206', '62452'\")\n",
    "print(list1)\n",
    "list2 = orgn_to_queue(\"'1001','1002','3001','1400'\")\n",
    "print(list2)"
   ],
   "metadata": {
    "collapsed": false,
    "pycharm": {
     "name": "#%%\n"
    }
   }
  },
  {
   "cell_type": "code",
   "execution_count": null,
   "outputs": [],
   "source": [
    "def queue_to_orgn(orgns):\n",
    "    _select = f\"\"\"distinct FORAQRC_QUEUE_ID, FORAQRC_ORGN_CODE\"\"\"\n",
    "    _from = f\"\"\"FORAQRC\"\"\"\n",
    "    _where = f\"\"\"FORAQRC_QUEUE_ID in ({orgns})\"\"\"\n",
    "    _order_by = f\"\"\"\"\"\"\n",
    "    _group_by = f\"\"\"\"\"\"\n",
    "    _max_records_returned = f\"\"\"\"\"\"\n",
    "\n",
    "    x = working_session.db_query(_select,_from,_where,_order_by,_group_by,_max_records_returned)\n",
    "    return x"
   ],
   "metadata": {
    "collapsed": false,
    "pycharm": {
     "name": "#%%\n"
    }
   }
  },
  {
   "cell_type": "code",
   "execution_count": null,
   "outputs": [],
   "source": [
    "list1 = queue_to_orgn(\"'024A','024B','B024'\")\n",
    "print(list1)"
   ],
   "metadata": {
    "collapsed": false,
    "pycharm": {
     "name": "#%%\n"
    }
   }
  },
  {
   "cell_type": "code",
   "execution_count": null,
   "outputs": [],
   "source": [
    "\n",
    "def get_orgn_pred_info(orgn):\n",
    "    _select = f\"\"\"FTVORGN.FTVORGN_ORGN_CODE,FTVORGN.FTVORGN_TITLE,FTVORGN.FTVORGN_FMGR_CODE_PIDM FMGR_PIDM,\n",
    "case when FTVORGN.FTVORGN_FMGR_CODE_PIDM is not null then baninst1.Gokname.f_get_name(FTVORGN.FTVORGN_FMGR_CODE_PIDM, 'PREF_FMIL') else 'None Assigned' end,\n",
    "FTVORGN.FTVORGN_ORGN_CODE_PRED\"\"\"\n",
    "    _from = f\"\"\"FIMSMGR.FTVORGN FTVORGN\"\"\"\n",
    "    _where = f\"\"\"FTVORGN.FTVORGN_TERM_DATE is null\n",
    "and FTVORGN.FTVORGN_ORGN_CODE = (select FTVORGN_ORGN_CODE_PRED\n",
    "from ftvorgn\n",
    "where FTVORGN_TERM_DATE is null\n",
    "and FTVORGN.FTVORGN_STATUS_IND = 'A'\n",
    "and (FTVORGN.FTVORGN_NCHG_DATE > sysdate or FTVORGN.FTVORGN_NCHG_DATE is null)\n",
    "                                and FTVORGN_ORGN_CODE = {orgn})\n",
    "and FTVORGN.FTVORGN_STATUS_IND = 'A'\n",
    "and (FTVORGN.FTVORGN_NCHG_DATE > sysdate or FTVORGN.FTVORGN_NCHG_DATE is null)\"\"\"\n",
    "    _order_by = f\"\"\"\"\"\"\n",
    "    _group_by = f\"\"\"\"\"\"\n",
    "    _max_records_returned = f\"\"\"\"\"\"\n",
    "\n",
    "    x = working_session.db_query(_select,_from,_where,_order_by,_group_by,_max_records_returned)\n",
    "    return x\n",
    "\n",
    "\n"
   ],
   "metadata": {
    "collapsed": false,
    "pycharm": {
     "name": "#%%\n",
     "is_executing": true
    }
   }
  },
  {
   "cell_type": "code",
   "execution_count": null,
   "outputs": [],
   "source": [
    "orgns_to_inv = '11050', '11200', '11800', '12930'\n",
    "orgn_preds = []\n",
    "for x in orgns_to_inv:\n",
    "    a = get_orgn_pred_info(x)\n",
    "    orgn_preds.append(a)\n"
   ],
   "metadata": {
    "collapsed": false,
    "pycharm": {
     "name": "#%%\n"
    }
   }
  },
  {
   "cell_type": "code",
   "execution_count": null,
   "outputs": [],
   "source": [
    "print(orgn_preds)\n",
    "\n",
    "for x in orgn_preds:\n",
    "    print(x[0][0])"
   ],
   "metadata": {
    "collapsed": false,
    "pycharm": {
     "name": "#%%\n"
    }
   }
  },
  {
   "cell_type": "code",
   "execution_count": null,
   "outputs": [],
   "source": [
    "get_orgn_pred_info(10)"
   ],
   "metadata": {
    "collapsed": false,
    "pycharm": {
     "name": "#%%\n"
    }
   }
  },
  {
   "cell_type": "code",
   "execution_count": null,
   "outputs": [],
   "source": [],
   "metadata": {
    "collapsed": false,
    "pycharm": {
     "name": "#%%\n"
    }
   }
  }
 ],
 "metadata": {
  "kernelspec": {
   "display_name": "Python 3",
   "language": "python",
   "name": "python3"
  },
  "language_info": {
   "codemirror_mode": {
    "name": "ipython",
    "version": 2
   },
   "file_extension": ".py",
   "mimetype": "text/x-python",
   "name": "python",
   "nbconvert_exporter": "python",
   "pygments_lexer": "ipython2",
   "version": "2.7.6"
  }
 },
 "nbformat": 4,
 "nbformat_minor": 0
}