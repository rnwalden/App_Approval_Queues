{
 "cells": [
  {
   "cell_type": "raw",
   "source": [
    "\n",
    "https://cx-oracle.readthedocs.io/en/latest/user_guide/sql_execution.html\n",
    "\n",
    "https://www.foxinfotech.in/2018/09/how-to-call-oracle-function-in-python.html\n",
    "\n",
    "https://www.oracletutorial.com/oracle-basics/oracle-delete/\n",
    "\n",
    "https://www.oracletutorial.com/python-oracle/updating-data/"
   ],
   "metadata": {
    "collapsed": false,
    "pycharm": {
     "name": "#%% raw\n"
    }
   }
  },
  {
   "cell_type": "code",
   "execution_count": null,
   "outputs": [],
   "source": [
    "#!/usr/bin/env python\n",
    "# -*- coding: utf-8 -*-\n",
    "import cx_Oracle\n",
    "import getpass\n",
    "import requests\n",
    "\n",
    "#######Database connection###########\n",
    "def con_database():\n",
    "    #dsn_tns = cx_Oracle.makedsn('bandb-at1.test.avc.edu', '1521', service_name='avcprod.avc.edu') # if needed, place an 'r' before any parameter in order to address special characters such as '\\'.\n",
    "    dsn_tns = cx_Oracle.makedsn('bandb-at1.test.avc.edu', '1521', 'avcprep')\n",
    "    while True:\n",
    "        try:\n",
    "            _connection = cx_Oracle.connect(user=getpass.getpass(\"Username: \"), password=getpass.getpass(\"Password: \"),\n",
    "                                           dsn=dsn_tns, #'AVCPROD', #dsn_tns, #'AVCPREP',\n",
    "                                           encoding=\"UTF-8\")\n",
    "            #print(connection)\n",
    "            return _connection\n",
    "        except Exception as e:\n",
    "            print(e)\n",
    "\n",
    "def close_db_cur():\n",
    "    cur.close()\n",
    "\n",
    "def close_db_connection():\n",
    "    connection.close()\n",
    "\n",
    "def exit_db():\n",
    "    close_db_cur()\n",
    "    close_db_connection()\n",
    "####### END Database connection###########"
   ],
   "metadata": {
    "collapsed": false,
    "pycharm": {
     "name": "#%%\n"
    }
   }
  },
  {
   "cell_type": "code",
   "execution_count": null,
   "outputs": [],
   "source": [
    "connection = con_database()\n",
    "cur = connection.cursor()\n",
    "print(connection.version)"
   ],
   "metadata": {
    "collapsed": false,
    "pycharm": {
     "name": "#%%\n"
    }
   }
  },
  {
   "cell_type": "code",
   "execution_count": null,
   "outputs": [],
   "source": [
    "def define_table(table):\n",
    "    _query = f\"\"\"select * from {table}\"\"\"\n",
    "    for column in cur.description:\n",
    "        print(column)\n",
    "    #return app_data\n",
    "\n",
    "define_table('FORAQUS')"
   ],
   "metadata": {
    "collapsed": false,
    "pycharm": {
     "name": "#%%\n",
     "is_executing": true
    }
   }
  },
  {
   "cell_type": "code",
   "execution_count": null,
   "outputs": [],
   "source": [
    "def db_query(cur,_select,_from,_where,_order_by,_group_by,_max_records_returned):\n",
    "    _select = f\"\"\"select  {_select}\"\"\"\n",
    "    _from = f\"\"\"from {_from}\"\"\"\n",
    "    _where = (f\"\"\"where {_where}\"\"\" if _where else '')\n",
    "    _order_by = (f\"\"\"order by {_order_by}\"\"\" if _order_by else '')\n",
    "    _group_by = (f\"\"\"group by {_group_by}\"\"\"  if _group_by else '')\n",
    "    _max_records_returned = (f\"\"\"fetch next {_max_records_returned} rows only\"\"\" if _max_records_returned else '')\n",
    "    _query = f\"\"\"{_select} {_from} {_where} {_group_by} {_order_by} {_max_records_returned}\"\"\"\n",
    "\n",
    "    print(_query)\n",
    "    cur.execute(_query)\n",
    "    app_data = cur.fetchall()\n",
    "\n",
    "\n",
    "\n",
    "    return app_data\n"
   ],
   "metadata": {
    "collapsed": false,
    "pycharm": {
     "name": "#%%\n"
    }
   }
  },
  {
   "cell_type": "code",
   "execution_count": null,
   "outputs": [],
   "source": [
    "select = f\"\"\"FORAQUS_QUEUE_ID,FORAQUS_USER_ID_APPR,FORAQUS_QUEUE_LEVEL,FORAQUS_QUEUE_LIMIT,FORAQUS_EFF_DATE,\n",
    "FORAQUS_NCHG_DATE,FORAQUS_TERM_DATE\"\"\"\n",
    "from_ = f\"\"\"FORAQUS\"\"\"\n",
    "where = f\"\"\"\"\"\"\n",
    "order_by = f\"\"\"FORAQUS_QUEUE_ID\"\"\"\n",
    "group_by = f\"\"\"\"\"\"\n",
    "max_records_returned = '' #10 #f\"\"\"10\"\"\"\n",
    "x = db_query(cur,select,from_,where,order_by,group_by,max_records_returned)\n",
    "for y in x:\n",
    "    print(y)"
   ],
   "metadata": {
    "collapsed": false,
    "pycharm": {
     "name": "#%%\n",
     "is_executing": true
    }
   }
  },
  {
   "cell_type": "code",
   "execution_count": null,
   "outputs": [],
   "source": [],
   "metadata": {
    "collapsed": false,
    "pycharm": {
     "name": "#%%\n"
    }
   }
  },
  {
   "cell_type": "code",
   "execution_count": null,
   "outputs": [],
   "source": [
    "_select = f\"\"\"select FORAQUS_QUEUE_ID,FORAQUS_USER_ID_APPR,FORAQUS_QUEUE_LEVEL,FORAQUS_QUEUE_LIMIT,FORAQUS_EFF_DATE,\n",
    "FORAQUS_NCHG_DATE,FORAQUS_TERM_DATE\"\"\"\n",
    "_from = f\"\"\"from FORAQUS\"\"\"\n",
    "_where = f\"\"\"\"\"\"\n",
    "\n",
    "x = db_query(cur,_select,_from,_where,_order_by)\n",
    "for y in x:\n",
    "    print(y)"
   ],
   "metadata": {
    "collapsed": false,
    "pycharm": {
     "name": "#%%\n"
    }
   }
  },
  {
   "cell_type": "raw",
   "source": [
    "(select count(*)from FORAQUS)as Number_User_in_a_Que,\n",
    "(select count(distinct FORAQUS_USER_ID_APPR) from FORAQUS where FORAQUS_TERM_DATE is null and FORAQUS_NCHG_DATE is null) as Number_of_users,\n",
    "(select count(*) as Numbr_of_queues from FTVAPPQ) as num_of_queues\n",
    "\n",
    "FIMSMGR.FORAQRC FORAQRC,\n",
    "FIMSMGR.FORAQUS FORAQUS,\n",
    "FIMSMGR.FTVAPPQ FTVAPPQ"
   ],
   "metadata": {
    "collapsed": false,
    "pycharm": {
     "name": "#%% raw\n"
    }
   }
  },
  {
   "cell_type": "raw",
   "source": [
    "_query = f\"\"\"select * from FORAQUS where FORAQUS_TERM_DATE is null and FORAQUS_NCHG_DATE is null\"\"\"\n",
    "cur.execute(_query)\n",
    "app_data = cur.fetchall()\n",
    "\n",
    "for x in app_data:\n",
    "    print(x)"
   ],
   "metadata": {
    "collapsed": false,
    "pycharm": {
     "name": "#%% raw\n"
    }
   }
  },
  {
   "cell_type": "raw",
   "source": [
    "dsnStr = cx_Oracle.makedsn('bandb-at1.test.avc.edu', '1521', 'avcprep')\n",
    "print(dsnStr)\n",
    "\n",
    "con = cx_Oracle.connect(user=getpass.getpass(\"Username: \"), password=getpass.getpass(\"Password: \"), dsn=dsnStr)\n",
    "print(con.version)\n",
    "con.close()"
   ],
   "metadata": {
    "collapsed": false,
    "pycharm": {
     "name": "#%% raw\n"
    }
   }
  },
  {
   "cell_type": "code",
   "execution_count": null,
   "outputs": [],
   "source": [
    "_select = f\"\"\"distinct FORAQUS_QUEUE_ID, FORAQUS_USER_ID_APPR,\n",
    "listagg(distinct FORAQRC_ORGN_CODE,', '), listagg(distinct FTVORGN_TITLE,', ')\"\"\"\n",
    "_from = f\"\"\"FORAQUS, FORAQRC, FTVORGN\"\"\"\n",
    "_where = f\"\"\"FORAQUS_QUEUE_ID like '%B%'\n",
    "and FORAQUS_NCHG_DATE is null\n",
    "and FORAQUS_TERM_DATE is null\n",
    "and replace(FORAQUS_QUEUE_ID, 'B', '') = replace(FORAQRC_QUEUE_ID, 'A', '')\n",
    "and FTVORGN_ORGN_CODE = FORAQRC_ORGN_CODE\"\"\"\n",
    "_order_by = f\"\"\"FORAQUS_USER_ID_APPR, FORAQUS_QUEUE_ID \"\"\"\n",
    "_group_by = f\"\"\"FORAQUS_QUEUE_ID, FORAQUS_USER_ID_APPR\"\"\"\n",
    "_max_records_returned = f\"\"\"\"\"\"\n",
    "x = db_query(cur,_select,_from,_where,_order_by,_group_by,_max_records_returned)\n",
    "for y in x:\n",
    "    print(y)"
   ],
   "metadata": {
    "collapsed": false,
    "pycharm": {
     "name": "#%%\n",
     "is_executing": true
    }
   }
  },
  {
   "cell_type": "code",
   "execution_count": null,
   "outputs": [],
   "source": [],
   "metadata": {
    "collapsed": false,
    "pycharm": {
     "name": "#%%\n"
    }
   }
  },
  {
   "cell_type": "code",
   "execution_count": null,
   "outputs": [],
   "source": [
    "approver_un = 'SMILLER66'\n",
    "_select = f\"\"\"foraqus.FORAQUS_QUEUE_ID,foraqus.FORAQUS_USER_ID_APPR,\n",
    "(select count(FORAQUS_USER_ID_APPR)\n",
    "from foraqus fa\n",
    "where fa.FORAQUS_USER_ID_APPR != '{approver_un}'\n",
    "      and fa.FORAQUS_QUEUE_ID = foraqus.FORAQUS_QUEUE_ID\n",
    "                                and fa.FORAQUS_TERM_DATE is null\n",
    "                                and fa.FORAQUS_NCHG_DATE is null) as OtherApprovers\"\"\"\n",
    "_from = f\"\"\"foraqus\"\"\"\n",
    "_where = f\"\"\"foraqus.FORAQUS_USER_ID_APPR = '{approver_un}'\n",
    "and foraqus.FORAQUS_TERM_DATE is null\n",
    "and foraqus.FORAQUS_NCHG_DATE is null\"\"\"\n",
    "_order_by = \"\"\"\"\"\"\n",
    "_group_by = \"\"\"\"\"\"\n",
    "_max_records_returned = \"\"\"\"\"\"\n",
    "\n",
    "x = db_query(cur,_select,_from,_where,_order_by,_group_by,_max_records_returned)\n",
    "for y in x:\n",
    "    print(y)"
   ],
   "metadata": {
    "collapsed": false,
    "pycharm": {
     "name": "#%%\n",
     "is_executing": true
    }
   }
  },
  {
   "cell_type": "code",
   "execution_count": null,
   "outputs": [],
   "source": [],
   "metadata": {
    "collapsed": false,
    "pycharm": {
     "name": "#%%\n"
    }
   }
  }
 ],
 "metadata": {
  "kernelspec": {
   "display_name": "Python 3",
   "language": "python",
   "name": "python3"
  },
  "language_info": {
   "codemirror_mode": {
    "name": "ipython",
    "version": 2
   },
   "file_extension": ".py",
   "mimetype": "text/x-python",
   "name": "python",
   "nbconvert_exporter": "python",
   "pygments_lexer": "ipython2",
   "version": "2.7.6"
  }
 },
 "nbformat": 4,
 "nbformat_minor": 0
}