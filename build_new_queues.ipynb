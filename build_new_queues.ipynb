{
 "cells": [
  {
   "cell_type": "code",
   "execution_count": 1,
   "metadata": {
    "collapsed": true
   },
   "outputs": [],
   "source": [
    "%load_ext autoreload\n",
    "%autoreload 2"
   ]
  },
  {
   "cell_type": "code",
   "execution_count": 2,
   "outputs": [],
   "source": [
    "import approval_que_app as aqa"
   ],
   "metadata": {
    "collapsed": false
   }
  },
  {
   "cell_type": "code",
   "execution_count": 3,
   "outputs": [
    {
     "name": "stdout",
     "output_type": "stream",
     "text": [
      "logs file exists in project_root\n"
     ]
    }
   ],
   "source": [
    "working_session = aqa.OracleConnect()"
   ],
   "metadata": {
    "collapsed": false
   }
  },
  {
   "cell_type": "code",
   "execution_count": 4,
   "outputs": [
    {
     "name": "stdout",
     "output_type": "stream",
     "text": [
      "back_ups file exists in project_root\n",
      "session_back_ups file exists in back_ups\n",
      "user_back_ups file exists in back_ups\n"
     ]
    }
   ],
   "source": [
    "working_session_backup = aqa.TableBackUp(working_session)"
   ],
   "metadata": {
    "collapsed": false
   }
  },
  {
   "cell_type": "code",
   "execution_count": 5,
   "outputs": [
    {
     "name": "stdout",
     "output_type": "stream",
     "text": [
      "back_ups/session_back_ups/FORAQUS_2022-12-05\n",
      "select  FORAQUS_QUEUE_ID, FORAQUS_USER_ID_APPR, FORAQUS_QUEUE_LEVEL, FORAQUS_QUEUE_LIMIT, FORAQUS_EFF_DATE, FORAQUS_NCHG_DATE, FORAQUS_TERM_DATE, FORAQUS_ACTIVITY_DATE, FORAQUS_USER_ID, FORAQUS_SURROGATE_ID, FORAQUS_VERSION, FORAQUS_DATA_ORIGIN, FORAQUS_VPDI_CODE from FORAQUS    \n",
      "execute_sql_query  exec_time: 2.3257803916931152\n",
      "select  FORAQRC_QUEUE_ID, FORAQRC_DOC_TYPE, FORAQRC_RULE_GROUP, FORAQRC_COAS_CODE, FORAQRC_FTYP_CODE, FORAQRC_FUND_CODE, FORAQRC_ORGN_CODE, FORAQRC_ATYP_CODE, FORAQRC_ACCT_CODE, FORAQRC_ACTIVITY_DATE, FORAQRC_USER_ID, FORAQRC_PROG_CODE, FORAQRC_SURROGATE_ID, FORAQRC_VERSION, FORAQRC_DATA_ORIGIN, FORAQRC_VPDI_CODE from FORAQRC    \n",
      "execute_sql_query  exec_time: 0.2652592658996582\n",
      "select  FTVAPPQ_QUEUE_ID, FTVAPPQ_DESCRIPTION, FTVAPPQ_QUEUE_LIMIT, FTVAPPQ_NEXT_QUEUE_ID, FTVAPPQ_APPROVAL_REQ, FTVAPPQ_ACTIVITY_DATE, FTVAPPQ_USER_ID, FTVAPPQ_SURROGATE_ID, FTVAPPQ_DATA_ORIGIN, FTVAPPQ_VERSION, FTVAPPQ_VPDI_CODE from FTVAPPQ    \n",
      "execute_sql_query  exec_time: 0.3034372329711914\n",
      "None\n",
      "FORAQUS_2022-12-05\n",
      "FORAQRC_2022-12-05\n",
      "FTVAPPQ_2022-12-05\n"
     ]
    }
   ],
   "source": [
    "# Create session backups\n",
    "_result = working_session_backup.perform_session_backup()\n",
    "print(_result)\n",
    "# Display created file names\n",
    "print(working_session_backup.session_bk_FORAQUS_file_name)\n",
    "print(working_session_backup.session_bk_FORAQRC_file_name)\n",
    "print(working_session_backup.session_bk_FTVAPPQ_file_name)"
   ],
   "metadata": {
    "collapsed": false
   }
  },
  {
   "cell_type": "code",
   "execution_count": 9,
   "outputs": [],
   "source": [
    "working_session.engine_connection.close()"
   ],
   "metadata": {
    "collapsed": false
   }
  },
  {
   "cell_type": "code",
   "execution_count": null,
   "outputs": [],
   "source": [
    "print(working_session)\n",
    "print(dir(working_session))\n",
    "print(vars(working_session))"
   ],
   "metadata": {
    "collapsed": false
   }
  },
  {
   "cell_type": "code",
   "execution_count": null,
   "outputs": [],
   "source": [
    "_select = 'distinct FORAQUS_USER_ID_APPR'\n",
    "_from = 'FORAQUS'\n",
    "_where = ''\n",
    "_order_by = 'FORAQUS_USER_ID_APPR'\n",
    "_group_by = ''\n",
    "_max_records_returned = ''"
   ],
   "metadata": {
    "collapsed": false
   }
  },
  {
   "cell_type": "code",
   "execution_count": null,
   "outputs": [],
   "source": [
    "x = working_session.db_query(_select, _from, _where, _order_by, _group_by, _max_records_returned)\n",
    "print(x)"
   ],
   "metadata": {
    "collapsed": false
   }
  },
  {
   "cell_type": "code",
   "execution_count": null,
   "outputs": [],
   "source": [
    "queue_chain_number = working_session.get_next_queue_number()\n",
    "queue_description = 'Workforce Development Community Engagement'\n",
    "queues_to_build = [('A','B',0,['AMUSIAL1','EOBRIEN3']),('B','E',.01,['LNOWAK']),('E','G',999.99,['BJESTER1']),('G','EXBS',4999.99,['HDAVIS18'])]\n",
    "orgns_to_route = ['12807']\n",
    "working_session.build_a_new_queue_chain(queue_chain_number, queue_description, queues_to_build, orgns_to_route)"
   ],
   "metadata": {
    "collapsed": false
   }
  },
  {
   "cell_type": "code",
   "execution_count": null,
   "outputs": [],
   "source": [
    "queue_chain_number = working_session.get_next_queue_number()\n",
    "queue_description = 'Cell Towers'\n",
    "queues_to_build = [('A','B',0,['AMUSIAL1','EOBRIEN3']),('B','G',.01,['BJESTER1']),('G','VPAS',.05,['DMCINTOSH1'])]\n",
    "orgns_to_route = ['23003', '23004']\n",
    "working_session.build_a_new_queue_chain(queue_chain_number, queue_description, queues_to_build, orgns_to_route)"
   ],
   "metadata": {
    "collapsed": false
   }
  },
  {
   "cell_type": "code",
   "execution_count": null,
   "outputs": [],
   "source": [],
   "metadata": {
    "collapsed": false
   }
  },
  {
   "cell_type": "code",
   "execution_count": null,
   "outputs": [],
   "source": [
    "queue_chain_number = working_session.get_next_queue_number()\n",
    "queue_description = '23006 Emergency Phone'\n",
    "queues_to_build = [('A','B',0,['AMUSIAL1','EOBRIEN3']),('B','C',.01,['BJESTER1']),('C','E',.02,['SMILLER66']),('E','G',0.03,['MDIOQUINO']),('G','VPAS',0.04,['RSHAW'])]\n",
    "orgns_to_route = ['23006']\n",
    "working_session.build_a_new_queue_chain(queue_chain_number, queue_description, queues_to_build, orgns_to_route)"
   ],
   "metadata": {
    "collapsed": false
   }
  },
  {
   "cell_type": "code",
   "execution_count": null,
   "outputs": [],
   "source": [],
   "metadata": {
    "collapsed": false
   }
  },
  {
   "cell_type": "code",
   "execution_count": null,
   "outputs": [],
   "source": [
    "queue_chain_number = working_session.get_next_queue_number()\n",
    "queue_description = 'COVID-19 Recovery Block Grant'\n",
    "queues_to_build = [('A','B',0,['AMUSIAL1','EOBRIEN3']),('B','E',.01,['UGOFF']),('E','G',0.03,['SMILLER66']),('G','VPAS',0.04,['SMILLER66'])]\n",
    "orgns_to_route = ['62402']\n",
    "working_session.build_a_new_queue_chain(queue_chain_number, queue_description, queues_to_build, orgns_to_route)"
   ],
   "metadata": {
    "collapsed": false
   }
  },
  {
   "cell_type": "code",
   "execution_count": null,
   "outputs": [],
   "source": [],
   "metadata": {
    "collapsed": false
   }
  },
  {
   "cell_type": "code",
   "execution_count": null,
   "outputs": [],
   "source": [
    "queue_chain_number = working_session.get_next_queue_number()\n",
    "queue_description = 'Student Housing Planning Grant'\n",
    "queues_to_build = [('A','B',0,['AMUSIAL1','EOBRIEN3']),('B','E',.01,['UGOFF']),('E','G',0.03,['SBRAR']),('G','VPAS',0.04,['SMILLER66'])]\n",
    "orgns_to_route = ['62401']\n",
    "working_session.build_a_new_queue_chain(queue_chain_number, queue_description, queues_to_build, orgns_to_route)"
   ],
   "metadata": {
    "collapsed": false
   }
  },
  {
   "cell_type": "code",
   "execution_count": null,
   "outputs": [],
   "source": [],
   "metadata": {
    "collapsed": false
   }
  },
  {
   "cell_type": "code",
   "execution_count": null,
   "outputs": [],
   "source": [
    "queue_chain_number = working_session.get_next_queue_number()\n",
    "queue_description = 'Zero Textbook Cost Prog'\n",
    "queues_to_build = [('A','B',0,['AMUSIAL1','EOBRIEN3']),('B','E',.01,['BJESTER1']),('E','G',0.03,['KMITCHELL18']),('G','VPAS',0.04,['SMILLER66'])]\n",
    "orgns_to_route = ['62401']\n",
    "working_session.build_a_new_queue_chain(queue_chain_number, queue_description, queues_to_build, orgns_to_route)"
   ],
   "metadata": {
    "collapsed": false
   }
  },
  {
   "cell_type": "code",
   "execution_count": null,
   "outputs": [],
   "source": [],
   "metadata": {
    "collapsed": false
   }
  },
  {
   "cell_type": "code",
   "execution_count": null,
   "outputs": [],
   "source": [
    "# 11-14-2022"
   ],
   "metadata": {
    "collapsed": false
   }
  },
  {
   "cell_type": "code",
   "execution_count": 6,
   "outputs": [
    {
     "name": "stdout",
     "output_type": "stream",
     "text": [
      "select  max(to_number(substr(FTVAPPQ_QUEUE_ID,0,3))) from FTVAPPQ where substr(FTVAPPQ_QUEUE_ID,0,1) in ('0','1','2','3','4','5','6','7','8','9')   \n",
      "execute_sql_query  exec_time: 0.03818464279174805\n",
      "'150A','Emergency Financial Asstc Suppl',0,'150B', null, sysdate, 'RWALDEN'\n",
      "insert into FTVAPPQ(FTVAPPQ_QUEUE_ID, FTVAPPQ_DESCRIPTION, FTVAPPQ_QUEUE_LIMIT, FTVAPPQ_NEXT_QUEUE_ID, FTVAPPQ_APPROVAL_REQ, FTVAPPQ_ACTIVITY_DATE, FTVAPPQ_USER_ID) values('150A','Emergency Financial Asstc Suppl',0,'150B', null, sysdate, 'RWALDEN')\n",
      "execute_sql_insert  exec_time: 0.09192967414855957\n",
      "None\n",
      "'150A', 'AMUSIAL1', 10, 0, sysdate, null, null, sysdate, 'RWALDEN'\n",
      "insert into FORAQUS(FORAQUS_QUEUE_ID,FORAQUS_USER_ID_APPR,FORAQUS_QUEUE_LEVEL,FORAQUS_QUEUE_LIMIT,FORAQUS_EFF_DATE,FORAQUS_NCHG_DATE,FORAQUS_TERM_DATE,FORAQUS_ACTIVITY_DATE,FORAQUS_USER_ID) values('150A', 'AMUSIAL1', 10, 0, sysdate, null, null, sysdate, 'RWALDEN')\n",
      "execute_sql_insert  exec_time: 0.0759739875793457\n",
      "None\n",
      "'150A', 'EOBRIEN3', 10, 0, sysdate, null, null, sysdate, 'RWALDEN'\n",
      "insert into FORAQUS(FORAQUS_QUEUE_ID,FORAQUS_USER_ID_APPR,FORAQUS_QUEUE_LEVEL,FORAQUS_QUEUE_LIMIT,FORAQUS_EFF_DATE,FORAQUS_NCHG_DATE,FORAQUS_TERM_DATE,FORAQUS_ACTIVITY_DATE,FORAQUS_USER_ID) values('150A', 'EOBRIEN3', 10, 0, sysdate, null, null, sysdate, 'RWALDEN')\n",
      "execute_sql_insert  exec_time: 0.07075810432434082\n",
      "None\n",
      "'150A', 1, 'REQG', 'A', '', '', '62503', '', '', sysdate, 'RWALDEN', ''\n",
      "'150A', 2, 'CORG', 'A', '', '', '62503', '', '', sysdate, 'RWALDEN', ''\n",
      "insert into FORAQRC(FORAQRC_QUEUE_ID, FORAQRC_DOC_TYPE, FORAQRC_RULE_GROUP, FORAQRC_COAS_CODE, FORAQRC_FTYP_CODE, FORAQRC_FUND_CODE, FORAQRC_ORGN_CODE, FORAQRC_ATYP_CODE, FORAQRC_ACCT_CODE, FORAQRC_ACTIVITY_DATE, FORAQRC_USER_ID, FORAQRC_PROG_CODE)  values('150A', 1, 'REQG', 'A', '', '', '62503', '', '', sysdate, 'RWALDEN', '')\n",
      "execute_sql_insert  exec_time: 0.07399868965148926\n",
      "None\n",
      "insert into FORAQRC(FORAQRC_QUEUE_ID, FORAQRC_DOC_TYPE, FORAQRC_RULE_GROUP, FORAQRC_COAS_CODE, FORAQRC_FTYP_CODE, FORAQRC_FUND_CODE, FORAQRC_ORGN_CODE, FORAQRC_ATYP_CODE, FORAQRC_ACCT_CODE, FORAQRC_ACTIVITY_DATE, FORAQRC_USER_ID, FORAQRC_PROG_CODE)  values('150A', 2, 'CORG', 'A', '', '', '62503', '', '', sysdate, 'RWALDEN', '')\n",
      "execute_sql_insert  exec_time: 0.0709991455078125\n",
      "None\n",
      "'150B','Emergency Financial Asstc Suppl',0.01,'150E', null, sysdate, 'RWALDEN'\n",
      "insert into FTVAPPQ(FTVAPPQ_QUEUE_ID, FTVAPPQ_DESCRIPTION, FTVAPPQ_QUEUE_LIMIT, FTVAPPQ_NEXT_QUEUE_ID, FTVAPPQ_APPROVAL_REQ, FTVAPPQ_ACTIVITY_DATE, FTVAPPQ_USER_ID) values('150B','Emergency Financial Asstc Suppl',0.01,'150E', null, sysdate, 'RWALDEN')\n",
      "execute_sql_insert  exec_time: 0.07099747657775879\n",
      "None\n",
      "'150B', 'UGOFF', 10, 0.01, sysdate, null, null, sysdate, 'RWALDEN'\n",
      "insert into FORAQUS(FORAQUS_QUEUE_ID,FORAQUS_USER_ID_APPR,FORAQUS_QUEUE_LEVEL,FORAQUS_QUEUE_LIMIT,FORAQUS_EFF_DATE,FORAQUS_NCHG_DATE,FORAQUS_TERM_DATE,FORAQUS_ACTIVITY_DATE,FORAQUS_USER_ID) values('150B', 'UGOFF', 10, 0.01, sysdate, null, null, sysdate, 'RWALDEN')\n",
      "execute_sql_insert  exec_time: 0.0711054801940918\n",
      "None\n",
      "'150E','Emergency Financial Asstc Suppl',999.99,'150F', null, sysdate, 'RWALDEN'\n",
      "insert into FTVAPPQ(FTVAPPQ_QUEUE_ID, FTVAPPQ_DESCRIPTION, FTVAPPQ_QUEUE_LIMIT, FTVAPPQ_NEXT_QUEUE_ID, FTVAPPQ_APPROVAL_REQ, FTVAPPQ_ACTIVITY_DATE, FTVAPPQ_USER_ID) values('150E','Emergency Financial Asstc Suppl',999.99,'150F', null, sysdate, 'RWALDEN')\n",
      "execute_sql_insert  exec_time: 0.07158899307250977\n",
      "None\n",
      "'150E', 'nwilliams', 10, 999.99, sysdate, null, null, sysdate, 'RWALDEN'\n",
      "insert into FORAQUS(FORAQUS_QUEUE_ID,FORAQUS_USER_ID_APPR,FORAQUS_QUEUE_LEVEL,FORAQUS_QUEUE_LIMIT,FORAQUS_EFF_DATE,FORAQUS_NCHG_DATE,FORAQUS_TERM_DATE,FORAQUS_ACTIVITY_DATE,FORAQUS_USER_ID) values('150E', 'nwilliams', 10, 999.99, sysdate, null, null, sysdate, 'RWALDEN')\n",
      "execute_sql_insert  exec_time: 0.07250547409057617\n",
      "None\n",
      "'150F','Emergency Financial Asstc Suppl',999.99,'150G', null, sysdate, 'RWALDEN'\n",
      "insert into FTVAPPQ(FTVAPPQ_QUEUE_ID, FTVAPPQ_DESCRIPTION, FTVAPPQ_QUEUE_LIMIT, FTVAPPQ_NEXT_QUEUE_ID, FTVAPPQ_APPROVAL_REQ, FTVAPPQ_ACTIVITY_DATE, FTVAPPQ_USER_ID) values('150F','Emergency Financial Asstc Suppl',999.99,'150G', null, sysdate, 'RWALDEN')\n",
      "execute_sql_insert  exec_time: 0.07158660888671875\n",
      "None\n",
      "'150F', 'ltrimble', 10, 999.99, sysdate, null, null, sysdate, 'RWALDEN'\n",
      "insert into FORAQUS(FORAQUS_QUEUE_ID,FORAQUS_USER_ID_APPR,FORAQUS_QUEUE_LEVEL,FORAQUS_QUEUE_LIMIT,FORAQUS_EFF_DATE,FORAQUS_NCHG_DATE,FORAQUS_TERM_DATE,FORAQUS_ACTIVITY_DATE,FORAQUS_USER_ID) values('150F', 'ltrimble', 10, 999.99, sysdate, null, null, sysdate, 'RWALDEN')\n",
      "execute_sql_insert  exec_time: 0.07039117813110352\n",
      "None\n",
      "'150G','Emergency Financial Asstc Suppl',4999.99,'EXBS', null, sysdate, 'RWALDEN'\n",
      "insert into FTVAPPQ(FTVAPPQ_QUEUE_ID, FTVAPPQ_DESCRIPTION, FTVAPPQ_QUEUE_LIMIT, FTVAPPQ_NEXT_QUEUE_ID, FTVAPPQ_APPROVAL_REQ, FTVAPPQ_ACTIVITY_DATE, FTVAPPQ_USER_ID) values('150G','Emergency Financial Asstc Suppl',4999.99,'EXBS', null, sysdate, 'RWALDEN')\n",
      "execute_sql_insert  exec_time: 0.07011723518371582\n",
      "None\n",
      "'150G', 'SMILLER66', 10, 4999.99, sysdate, null, null, sysdate, 'RWALDEN'\n",
      "insert into FORAQUS(FORAQUS_QUEUE_ID,FORAQUS_USER_ID_APPR,FORAQUS_QUEUE_LEVEL,FORAQUS_QUEUE_LIMIT,FORAQUS_EFF_DATE,FORAQUS_NCHG_DATE,FORAQUS_TERM_DATE,FORAQUS_ACTIVITY_DATE,FORAQUS_USER_ID) values('150G', 'SMILLER66', 10, 4999.99, sysdate, null, null, sysdate, 'RWALDEN')\n",
      "execute_sql_insert  exec_time: 0.07126045227050781\n",
      "None\n",
      "'B150','Emergency Financial Asstc Suppl',0,'150E', null, sysdate, 'RWALDEN'\n",
      "insert into FTVAPPQ(FTVAPPQ_QUEUE_ID, FTVAPPQ_DESCRIPTION, FTVAPPQ_QUEUE_LIMIT, FTVAPPQ_NEXT_QUEUE_ID, FTVAPPQ_APPROVAL_REQ, FTVAPPQ_ACTIVITY_DATE, FTVAPPQ_USER_ID) values('B150','Emergency Financial Asstc Suppl',0,'150E', null, sysdate, 'RWALDEN')\n",
      "execute_sql_insert  exec_time: 0.07001757621765137\n",
      "None\n",
      "'B150', 'KJANISZEWSKI', 10, 0, sysdate, null, null, sysdate, 'RWALDEN'\n",
      "insert into FORAQUS(FORAQUS_QUEUE_ID,FORAQUS_USER_ID_APPR,FORAQUS_QUEUE_LEVEL,FORAQUS_QUEUE_LIMIT,FORAQUS_EFF_DATE,FORAQUS_NCHG_DATE,FORAQUS_TERM_DATE,FORAQUS_ACTIVITY_DATE,FORAQUS_USER_ID) values('B150', 'KJANISZEWSKI', 10, 0, sysdate, null, null, sysdate, 'RWALDEN')\n",
      "execute_sql_insert  exec_time: 0.06995248794555664\n",
      "None\n",
      "'B150', 'UGOFF', 10, 0, sysdate, null, null, sysdate, 'RWALDEN'\n",
      "insert into FORAQUS(FORAQUS_QUEUE_ID,FORAQUS_USER_ID_APPR,FORAQUS_QUEUE_LEVEL,FORAQUS_QUEUE_LIMIT,FORAQUS_EFF_DATE,FORAQUS_NCHG_DATE,FORAQUS_TERM_DATE,FORAQUS_ACTIVITY_DATE,FORAQUS_USER_ID) values('B150', 'UGOFF', 10, 0, sysdate, null, null, sysdate, 'RWALDEN')\n",
      "execute_sql_insert  exec_time: 0.0709836483001709\n",
      "None\n",
      "'B150', 'BJESTER1', 10, 0, sysdate, null, null, sysdate, 'RWALDEN'\n",
      "insert into FORAQUS(FORAQUS_QUEUE_ID,FORAQUS_USER_ID_APPR,FORAQUS_QUEUE_LEVEL,FORAQUS_QUEUE_LIMIT,FORAQUS_EFF_DATE,FORAQUS_NCHG_DATE,FORAQUS_TERM_DATE,FORAQUS_ACTIVITY_DATE,FORAQUS_USER_ID) values('B150', 'BJESTER1', 10, 0, sysdate, null, null, sysdate, 'RWALDEN')\n",
      "execute_sql_insert  exec_time: 0.06905627250671387\n",
      "None\n",
      "'B150', 'LNOWAK', 10, 0, sysdate, null, null, sysdate, 'RWALDEN'\n",
      "insert into FORAQUS(FORAQUS_QUEUE_ID,FORAQUS_USER_ID_APPR,FORAQUS_QUEUE_LEVEL,FORAQUS_QUEUE_LIMIT,FORAQUS_EFF_DATE,FORAQUS_NCHG_DATE,FORAQUS_TERM_DATE,FORAQUS_ACTIVITY_DATE,FORAQUS_USER_ID) values('B150', 'LNOWAK', 10, 0, sysdate, null, null, sysdate, 'RWALDEN')\n",
      "execute_sql_insert  exec_time: 0.07192230224609375\n",
      "None\n",
      "'B150', 20, 'DBRG', 'A', '', '', '62503', '', '', sysdate, 'RWALDEN', ''\n",
      "insert into FORAQRC(FORAQRC_QUEUE_ID, FORAQRC_DOC_TYPE, FORAQRC_RULE_GROUP, FORAQRC_COAS_CODE, FORAQRC_FTYP_CODE, FORAQRC_FUND_CODE, FORAQRC_ORGN_CODE, FORAQRC_ATYP_CODE, FORAQRC_ACCT_CODE, FORAQRC_ACTIVITY_DATE, FORAQRC_USER_ID, FORAQRC_PROG_CODE)  values('B150', 20, 'DBRG', 'A', '', '', '62503', '', '', sysdate, 'RWALDEN', '')\n",
      "execute_sql_insert  exec_time: 0.07101058959960938\n",
      "None\n"
     ]
    }
   ],
   "source": [
    "queue_chain_number = working_session.get_next_queue_number()\n",
    "queue_description = 'Emergency Financial Asstc Suppl'\n",
    "queues_to_build = [('A','B',0,['AMUSIAL1','EOBRIEN3']),('B','E',.01,['UGOFF']),('E','F',999.99,['nwilliams']),('F','G',999.99,['ltrimble']),('G','EXBS',4999.99,['SMILLER66'])]\n",
    "orgns_to_route = ['62503']\n",
    "working_session.build_a_new_queue_chain(queue_chain_number, queue_description, queues_to_build, orgns_to_route)"
   ],
   "metadata": {
    "collapsed": false
   }
  },
  {
   "cell_type": "code",
   "execution_count": 7,
   "outputs": [
    {
     "name": "stdout",
     "output_type": "stream",
     "text": [
      "select  max(to_number(substr(FTVAPPQ_QUEUE_ID,0,3))) from FTVAPPQ where substr(FTVAPPQ_QUEUE_ID,0,1) in ('0','1','2','3','4','5','6','7','8','9')   \n",
      "execute_sql_query  exec_time: 0.034172773361206055\n",
      "'151A','Title V Data Science',0,'151B', null, sysdate, 'RWALDEN'\n",
      "insert into FTVAPPQ(FTVAPPQ_QUEUE_ID, FTVAPPQ_DESCRIPTION, FTVAPPQ_QUEUE_LIMIT, FTVAPPQ_NEXT_QUEUE_ID, FTVAPPQ_APPROVAL_REQ, FTVAPPQ_ACTIVITY_DATE, FTVAPPQ_USER_ID) values('151A','Title V Data Science',0,'151B', null, sysdate, 'RWALDEN')\n",
      "execute_sql_insert  exec_time: 0.07199835777282715\n",
      "None\n",
      "'151A', 'AMUSIAL1', 10, 0, sysdate, null, null, sysdate, 'RWALDEN'\n",
      "insert into FORAQUS(FORAQUS_QUEUE_ID,FORAQUS_USER_ID_APPR,FORAQUS_QUEUE_LEVEL,FORAQUS_QUEUE_LIMIT,FORAQUS_EFF_DATE,FORAQUS_NCHG_DATE,FORAQUS_TERM_DATE,FORAQUS_ACTIVITY_DATE,FORAQUS_USER_ID) values('151A', 'AMUSIAL1', 10, 0, sysdate, null, null, sysdate, 'RWALDEN')\n",
      "execute_sql_insert  exec_time: 0.07001280784606934\n",
      "None\n",
      "'151A', 'EOBRIEN3', 10, 0, sysdate, null, null, sysdate, 'RWALDEN'\n",
      "insert into FORAQUS(FORAQUS_QUEUE_ID,FORAQUS_USER_ID_APPR,FORAQUS_QUEUE_LEVEL,FORAQUS_QUEUE_LIMIT,FORAQUS_EFF_DATE,FORAQUS_NCHG_DATE,FORAQUS_TERM_DATE,FORAQUS_ACTIVITY_DATE,FORAQUS_USER_ID) values('151A', 'EOBRIEN3', 10, 0, sysdate, null, null, sysdate, 'RWALDEN')\n",
      "execute_sql_insert  exec_time: 0.06998705863952637\n",
      "None\n",
      "'151A', 1, 'REQG', 'A', '', '', '62051', '', '', sysdate, 'RWALDEN', ''\n",
      "'151A', 2, 'CORG', 'A', '', '', '62051', '', '', sysdate, 'RWALDEN', ''\n",
      "insert into FORAQRC(FORAQRC_QUEUE_ID, FORAQRC_DOC_TYPE, FORAQRC_RULE_GROUP, FORAQRC_COAS_CODE, FORAQRC_FTYP_CODE, FORAQRC_FUND_CODE, FORAQRC_ORGN_CODE, FORAQRC_ATYP_CODE, FORAQRC_ACCT_CODE, FORAQRC_ACTIVITY_DATE, FORAQRC_USER_ID, FORAQRC_PROG_CODE)  values('151A', 1, 'REQG', 'A', '', '', '62051', '', '', sysdate, 'RWALDEN', '')\n",
      "execute_sql_insert  exec_time: 0.07099413871765137\n",
      "None\n",
      "insert into FORAQRC(FORAQRC_QUEUE_ID, FORAQRC_DOC_TYPE, FORAQRC_RULE_GROUP, FORAQRC_COAS_CODE, FORAQRC_FTYP_CODE, FORAQRC_FUND_CODE, FORAQRC_ORGN_CODE, FORAQRC_ATYP_CODE, FORAQRC_ACCT_CODE, FORAQRC_ACTIVITY_DATE, FORAQRC_USER_ID, FORAQRC_PROG_CODE)  values('151A', 2, 'CORG', 'A', '', '', '62051', '', '', sysdate, 'RWALDEN', '')\n",
      "execute_sql_insert  exec_time: 0.06910324096679688\n",
      "None\n",
      "'151B','Title V Data Science',0.01,'151E', null, sysdate, 'RWALDEN'\n",
      "insert into FTVAPPQ(FTVAPPQ_QUEUE_ID, FTVAPPQ_DESCRIPTION, FTVAPPQ_QUEUE_LIMIT, FTVAPPQ_NEXT_QUEUE_ID, FTVAPPQ_APPROVAL_REQ, FTVAPPQ_ACTIVITY_DATE, FTVAPPQ_USER_ID) values('151B','Title V Data Science',0.01,'151E', null, sysdate, 'RWALDEN')\n",
      "execute_sql_insert  exec_time: 0.07190895080566406\n",
      "None\n",
      "'151B', 'BJESTER1', 10, 0.01, sysdate, null, null, sysdate, 'RWALDEN'\n",
      "insert into FORAQUS(FORAQUS_QUEUE_ID,FORAQUS_USER_ID_APPR,FORAQUS_QUEUE_LEVEL,FORAQUS_QUEUE_LIMIT,FORAQUS_EFF_DATE,FORAQUS_NCHG_DATE,FORAQUS_TERM_DATE,FORAQUS_ACTIVITY_DATE,FORAQUS_USER_ID) values('151B', 'BJESTER1', 10, 0.01, sysdate, null, null, sysdate, 'RWALDEN')\n",
      "execute_sql_insert  exec_time: 0.07008719444274902\n",
      "None\n",
      "'151E','Title V Data Science',999.99,'151F', null, sysdate, 'RWALDEN'\n",
      "insert into FTVAPPQ(FTVAPPQ_QUEUE_ID, FTVAPPQ_DESCRIPTION, FTVAPPQ_QUEUE_LIMIT, FTVAPPQ_NEXT_QUEUE_ID, FTVAPPQ_APPROVAL_REQ, FTVAPPQ_ACTIVITY_DATE, FTVAPPQ_USER_ID) values('151E','Title V Data Science',999.99,'151F', null, sysdate, 'RWALDEN')\n",
      "execute_sql_insert  exec_time: 0.07089519500732422\n",
      "None\n",
      "'151E', 'cvaliotis', 10, 999.99, sysdate, null, null, sysdate, 'RWALDEN'\n",
      "insert into FORAQUS(FORAQUS_QUEUE_ID,FORAQUS_USER_ID_APPR,FORAQUS_QUEUE_LEVEL,FORAQUS_QUEUE_LIMIT,FORAQUS_EFF_DATE,FORAQUS_NCHG_DATE,FORAQUS_TERM_DATE,FORAQUS_ACTIVITY_DATE,FORAQUS_USER_ID) values('151E', 'cvaliotis', 10, 999.99, sysdate, null, null, sysdate, 'RWALDEN')\n",
      "execute_sql_insert  exec_time: 0.07007431983947754\n",
      "None\n",
      "'151F','Title V Data Science',999.99,'151G', null, sysdate, 'RWALDEN'\n",
      "insert into FTVAPPQ(FTVAPPQ_QUEUE_ID, FTVAPPQ_DESCRIPTION, FTVAPPQ_QUEUE_LIMIT, FTVAPPQ_NEXT_QUEUE_ID, FTVAPPQ_APPROVAL_REQ, FTVAPPQ_ACTIVITY_DATE, FTVAPPQ_USER_ID) values('151F','Title V Data Science',999.99,'151G', null, sysdate, 'RWALDEN')\n",
      "execute_sql_insert  exec_time: 0.06994366645812988\n",
      "None\n",
      "'151F', 'cvaliotis', 10, 999.99, sysdate, null, null, sysdate, 'RWALDEN'\n",
      "insert into FORAQUS(FORAQUS_QUEUE_ID,FORAQUS_USER_ID_APPR,FORAQUS_QUEUE_LEVEL,FORAQUS_QUEUE_LIMIT,FORAQUS_EFF_DATE,FORAQUS_NCHG_DATE,FORAQUS_TERM_DATE,FORAQUS_ACTIVITY_DATE,FORAQUS_USER_ID) values('151F', 'cvaliotis', 10, 999.99, sysdate, null, null, sysdate, 'RWALDEN')\n",
      "execute_sql_insert  exec_time: 0.07008981704711914\n",
      "None\n",
      "'151G','Title V Data Science',4999.99,'EXBS', null, sysdate, 'RWALDEN'\n",
      "insert into FTVAPPQ(FTVAPPQ_QUEUE_ID, FTVAPPQ_DESCRIPTION, FTVAPPQ_QUEUE_LIMIT, FTVAPPQ_NEXT_QUEUE_ID, FTVAPPQ_APPROVAL_REQ, FTVAPPQ_ACTIVITY_DATE, FTVAPPQ_USER_ID) values('151G','Title V Data Science',4999.99,'EXBS', null, sysdate, 'RWALDEN')\n",
      "execute_sql_insert  exec_time: 0.07190656661987305\n",
      "None\n",
      "'151G', 'SMILLER66', 10, 4999.99, sysdate, null, null, sysdate, 'RWALDEN'\n",
      "insert into FORAQUS(FORAQUS_QUEUE_ID,FORAQUS_USER_ID_APPR,FORAQUS_QUEUE_LEVEL,FORAQUS_QUEUE_LIMIT,FORAQUS_EFF_DATE,FORAQUS_NCHG_DATE,FORAQUS_TERM_DATE,FORAQUS_ACTIVITY_DATE,FORAQUS_USER_ID) values('151G', 'SMILLER66', 10, 4999.99, sysdate, null, null, sysdate, 'RWALDEN')\n",
      "execute_sql_insert  exec_time: 0.07080554962158203\n",
      "None\n",
      "'B151','Title V Data Science',0,'151E', null, sysdate, 'RWALDEN'\n",
      "insert into FTVAPPQ(FTVAPPQ_QUEUE_ID, FTVAPPQ_DESCRIPTION, FTVAPPQ_QUEUE_LIMIT, FTVAPPQ_NEXT_QUEUE_ID, FTVAPPQ_APPROVAL_REQ, FTVAPPQ_ACTIVITY_DATE, FTVAPPQ_USER_ID) values('B151','Title V Data Science',0,'151E', null, sysdate, 'RWALDEN')\n",
      "execute_sql_insert  exec_time: 0.07152152061462402\n",
      "None\n",
      "'B151', 'KJANISZEWSKI', 10, 0, sysdate, null, null, sysdate, 'RWALDEN'\n",
      "insert into FORAQUS(FORAQUS_QUEUE_ID,FORAQUS_USER_ID_APPR,FORAQUS_QUEUE_LEVEL,FORAQUS_QUEUE_LIMIT,FORAQUS_EFF_DATE,FORAQUS_NCHG_DATE,FORAQUS_TERM_DATE,FORAQUS_ACTIVITY_DATE,FORAQUS_USER_ID) values('B151', 'KJANISZEWSKI', 10, 0, sysdate, null, null, sysdate, 'RWALDEN')\n",
      "execute_sql_insert  exec_time: 0.07223868370056152\n",
      "None\n",
      "'B151', 'UGOFF', 10, 0, sysdate, null, null, sysdate, 'RWALDEN'\n",
      "insert into FORAQUS(FORAQUS_QUEUE_ID,FORAQUS_USER_ID_APPR,FORAQUS_QUEUE_LEVEL,FORAQUS_QUEUE_LIMIT,FORAQUS_EFF_DATE,FORAQUS_NCHG_DATE,FORAQUS_TERM_DATE,FORAQUS_ACTIVITY_DATE,FORAQUS_USER_ID) values('B151', 'UGOFF', 10, 0, sysdate, null, null, sysdate, 'RWALDEN')\n",
      "execute_sql_insert  exec_time: 0.08061981201171875\n",
      "None\n",
      "'B151', 'BJESTER1', 10, 0, sysdate, null, null, sysdate, 'RWALDEN'\n",
      "insert into FORAQUS(FORAQUS_QUEUE_ID,FORAQUS_USER_ID_APPR,FORAQUS_QUEUE_LEVEL,FORAQUS_QUEUE_LIMIT,FORAQUS_EFF_DATE,FORAQUS_NCHG_DATE,FORAQUS_TERM_DATE,FORAQUS_ACTIVITY_DATE,FORAQUS_USER_ID) values('B151', 'BJESTER1', 10, 0, sysdate, null, null, sysdate, 'RWALDEN')\n",
      "execute_sql_insert  exec_time: 0.07172465324401855\n",
      "None\n",
      "'B151', 'LNOWAK', 10, 0, sysdate, null, null, sysdate, 'RWALDEN'\n",
      "insert into FORAQUS(FORAQUS_QUEUE_ID,FORAQUS_USER_ID_APPR,FORAQUS_QUEUE_LEVEL,FORAQUS_QUEUE_LIMIT,FORAQUS_EFF_DATE,FORAQUS_NCHG_DATE,FORAQUS_TERM_DATE,FORAQUS_ACTIVITY_DATE,FORAQUS_USER_ID) values('B151', 'LNOWAK', 10, 0, sysdate, null, null, sysdate, 'RWALDEN')\n",
      "execute_sql_insert  exec_time: 0.07110953330993652\n",
      "None\n",
      "'B151', 20, 'DBRG', 'A', '', '', '62051', '', '', sysdate, 'RWALDEN', ''\n",
      "insert into FORAQRC(FORAQRC_QUEUE_ID, FORAQRC_DOC_TYPE, FORAQRC_RULE_GROUP, FORAQRC_COAS_CODE, FORAQRC_FTYP_CODE, FORAQRC_FUND_CODE, FORAQRC_ORGN_CODE, FORAQRC_ATYP_CODE, FORAQRC_ACCT_CODE, FORAQRC_ACTIVITY_DATE, FORAQRC_USER_ID, FORAQRC_PROG_CODE)  values('B151', 20, 'DBRG', 'A', '', '', '62051', '', '', sysdate, 'RWALDEN', '')\n",
      "execute_sql_insert  exec_time: 0.07323670387268066\n",
      "None\n"
     ]
    }
   ],
   "source": [
    "queue_chain_number = working_session.get_next_queue_number()\n",
    "queue_description = 'Title V Data Science'\n",
    "queues_to_build = [('A','B',0,['AMUSIAL1','EOBRIEN3']),('B','E',.01,['BJESTER1']),('E','F',999.99,['cvaliotis']),('F','G',999.99,['cvaliotis']),('G','EXBS',4999.99,['SMILLER66'])]\n",
    "orgns_to_route = ['62051']\n",
    "working_session.build_a_new_queue_chain(queue_chain_number, queue_description, queues_to_build, orgns_to_route)"
   ],
   "metadata": {
    "collapsed": false
   }
  },
  {
   "cell_type": "code",
   "execution_count": 8,
   "outputs": [
    {
     "name": "stdout",
     "output_type": "stream",
     "text": [
      "select  max(to_number(substr(FTVAPPQ_QUEUE_ID,0,3))) from FTVAPPQ where substr(FTVAPPQ_QUEUE_ID,0,1) in ('0','1','2','3','4','5','6','7','8','9')   \n",
      "execute_sql_query  exec_time: 0.03399991989135742\n",
      "'152A','Payroll',0,'152B', null, sysdate, 'RWALDEN'\n",
      "insert into FTVAPPQ(FTVAPPQ_QUEUE_ID, FTVAPPQ_DESCRIPTION, FTVAPPQ_QUEUE_LIMIT, FTVAPPQ_NEXT_QUEUE_ID, FTVAPPQ_APPROVAL_REQ, FTVAPPQ_ACTIVITY_DATE, FTVAPPQ_USER_ID) values('152A','Payroll',0,'152B', null, sysdate, 'RWALDEN')\n",
      "execute_sql_insert  exec_time: 0.07210350036621094\n",
      "None\n",
      "'152A', 'AMUSIAL1', 10, 0, sysdate, null, null, sysdate, 'RWALDEN'\n",
      "insert into FORAQUS(FORAQUS_QUEUE_ID,FORAQUS_USER_ID_APPR,FORAQUS_QUEUE_LEVEL,FORAQUS_QUEUE_LIMIT,FORAQUS_EFF_DATE,FORAQUS_NCHG_DATE,FORAQUS_TERM_DATE,FORAQUS_ACTIVITY_DATE,FORAQUS_USER_ID) values('152A', 'AMUSIAL1', 10, 0, sysdate, null, null, sysdate, 'RWALDEN')\n",
      "execute_sql_insert  exec_time: 0.07228493690490723\n",
      "None\n",
      "'152A', 'EOBRIEN3', 10, 0, sysdate, null, null, sysdate, 'RWALDEN'\n",
      "insert into FORAQUS(FORAQUS_QUEUE_ID,FORAQUS_USER_ID_APPR,FORAQUS_QUEUE_LEVEL,FORAQUS_QUEUE_LIMIT,FORAQUS_EFF_DATE,FORAQUS_NCHG_DATE,FORAQUS_TERM_DATE,FORAQUS_ACTIVITY_DATE,FORAQUS_USER_ID) values('152A', 'EOBRIEN3', 10, 0, sysdate, null, null, sysdate, 'RWALDEN')\n",
      "execute_sql_insert  exec_time: 0.07092809677124023\n",
      "None\n",
      "'152A', 1, 'REQG', 'A', '', '', '11035', '', '', sysdate, 'RWALDEN', ''\n",
      "'152A', 2, 'CORG', 'A', '', '', '11035', '', '', sysdate, 'RWALDEN', ''\n",
      "insert into FORAQRC(FORAQRC_QUEUE_ID, FORAQRC_DOC_TYPE, FORAQRC_RULE_GROUP, FORAQRC_COAS_CODE, FORAQRC_FTYP_CODE, FORAQRC_FUND_CODE, FORAQRC_ORGN_CODE, FORAQRC_ATYP_CODE, FORAQRC_ACCT_CODE, FORAQRC_ACTIVITY_DATE, FORAQRC_USER_ID, FORAQRC_PROG_CODE)  values('152A', 1, 'REQG', 'A', '', '', '11035', '', '', sysdate, 'RWALDEN', '')\n",
      "execute_sql_insert  exec_time: 0.06959772109985352\n",
      "None\n",
      "insert into FORAQRC(FORAQRC_QUEUE_ID, FORAQRC_DOC_TYPE, FORAQRC_RULE_GROUP, FORAQRC_COAS_CODE, FORAQRC_FTYP_CODE, FORAQRC_FUND_CODE, FORAQRC_ORGN_CODE, FORAQRC_ATYP_CODE, FORAQRC_ACCT_CODE, FORAQRC_ACTIVITY_DATE, FORAQRC_USER_ID, FORAQRC_PROG_CODE)  values('152A', 2, 'CORG', 'A', '', '', '11035', '', '', sysdate, 'RWALDEN', '')\n",
      "execute_sql_insert  exec_time: 0.06974005699157715\n",
      "None\n",
      "'152B','Payroll',0.01,'152G', null, sysdate, 'RWALDEN'\n",
      "insert into FTVAPPQ(FTVAPPQ_QUEUE_ID, FTVAPPQ_DESCRIPTION, FTVAPPQ_QUEUE_LIMIT, FTVAPPQ_NEXT_QUEUE_ID, FTVAPPQ_APPROVAL_REQ, FTVAPPQ_ACTIVITY_DATE, FTVAPPQ_USER_ID) values('152B','Payroll',0.01,'152G', null, sysdate, 'RWALDEN')\n",
      "execute_sql_insert  exec_time: 0.07104253768920898\n",
      "None\n",
      "'152B', 'BJESTER1', 10, 0.01, sysdate, null, null, sysdate, 'RWALDEN'\n",
      "insert into FORAQUS(FORAQUS_QUEUE_ID,FORAQUS_USER_ID_APPR,FORAQUS_QUEUE_LEVEL,FORAQUS_QUEUE_LIMIT,FORAQUS_EFF_DATE,FORAQUS_NCHG_DATE,FORAQUS_TERM_DATE,FORAQUS_ACTIVITY_DATE,FORAQUS_USER_ID) values('152B', 'BJESTER1', 10, 0.01, sysdate, null, null, sysdate, 'RWALDEN')\n",
      "execute_sql_insert  exec_time: 0.07222938537597656\n",
      "None\n",
      "'152G','Payroll',0.05,'VPAS', null, sysdate, 'RWALDEN'\n",
      "insert into FTVAPPQ(FTVAPPQ_QUEUE_ID, FTVAPPQ_DESCRIPTION, FTVAPPQ_QUEUE_LIMIT, FTVAPPQ_NEXT_QUEUE_ID, FTVAPPQ_APPROVAL_REQ, FTVAPPQ_ACTIVITY_DATE, FTVAPPQ_USER_ID) values('152G','Payroll',0.05,'VPAS', null, sysdate, 'RWALDEN')\n",
      "execute_sql_insert  exec_time: 0.07309556007385254\n",
      "None\n",
      "'152G', 'dclarkhackenberg', 10, 0.05, sysdate, null, null, sysdate, 'RWALDEN'\n",
      "insert into FORAQUS(FORAQUS_QUEUE_ID,FORAQUS_USER_ID_APPR,FORAQUS_QUEUE_LEVEL,FORAQUS_QUEUE_LIMIT,FORAQUS_EFF_DATE,FORAQUS_NCHG_DATE,FORAQUS_TERM_DATE,FORAQUS_ACTIVITY_DATE,FORAQUS_USER_ID) values('152G', 'dclarkhackenberg', 10, 0.05, sysdate, null, null, sysdate, 'RWALDEN')\n",
      "execute_sql_insert  exec_time: 0.07429313659667969\n",
      "None\n",
      "'B152','Payroll',0,'152G', null, sysdate, 'RWALDEN'\n",
      "insert into FTVAPPQ(FTVAPPQ_QUEUE_ID, FTVAPPQ_DESCRIPTION, FTVAPPQ_QUEUE_LIMIT, FTVAPPQ_NEXT_QUEUE_ID, FTVAPPQ_APPROVAL_REQ, FTVAPPQ_ACTIVITY_DATE, FTVAPPQ_USER_ID) values('B152','Payroll',0,'152G', null, sysdate, 'RWALDEN')\n",
      "execute_sql_insert  exec_time: 0.07134556770324707\n",
      "None\n",
      "'B152', 'KJANISZEWSKI', 10, 0, sysdate, null, null, sysdate, 'RWALDEN'\n",
      "insert into FORAQUS(FORAQUS_QUEUE_ID,FORAQUS_USER_ID_APPR,FORAQUS_QUEUE_LEVEL,FORAQUS_QUEUE_LIMIT,FORAQUS_EFF_DATE,FORAQUS_NCHG_DATE,FORAQUS_TERM_DATE,FORAQUS_ACTIVITY_DATE,FORAQUS_USER_ID) values('B152', 'KJANISZEWSKI', 10, 0, sysdate, null, null, sysdate, 'RWALDEN')\n",
      "execute_sql_insert  exec_time: 0.07317590713500977\n",
      "None\n",
      "'B152', 'UGOFF', 10, 0, sysdate, null, null, sysdate, 'RWALDEN'\n",
      "insert into FORAQUS(FORAQUS_QUEUE_ID,FORAQUS_USER_ID_APPR,FORAQUS_QUEUE_LEVEL,FORAQUS_QUEUE_LIMIT,FORAQUS_EFF_DATE,FORAQUS_NCHG_DATE,FORAQUS_TERM_DATE,FORAQUS_ACTIVITY_DATE,FORAQUS_USER_ID) values('B152', 'UGOFF', 10, 0, sysdate, null, null, sysdate, 'RWALDEN')\n",
      "execute_sql_insert  exec_time: 0.07150411605834961\n",
      "None\n",
      "'B152', 'BJESTER1', 10, 0, sysdate, null, null, sysdate, 'RWALDEN'\n",
      "insert into FORAQUS(FORAQUS_QUEUE_ID,FORAQUS_USER_ID_APPR,FORAQUS_QUEUE_LEVEL,FORAQUS_QUEUE_LIMIT,FORAQUS_EFF_DATE,FORAQUS_NCHG_DATE,FORAQUS_TERM_DATE,FORAQUS_ACTIVITY_DATE,FORAQUS_USER_ID) values('B152', 'BJESTER1', 10, 0, sysdate, null, null, sysdate, 'RWALDEN')\n",
      "execute_sql_insert  exec_time: 0.07221865653991699\n",
      "None\n",
      "'B152', 'LNOWAK', 10, 0, sysdate, null, null, sysdate, 'RWALDEN'\n",
      "insert into FORAQUS(FORAQUS_QUEUE_ID,FORAQUS_USER_ID_APPR,FORAQUS_QUEUE_LEVEL,FORAQUS_QUEUE_LIMIT,FORAQUS_EFF_DATE,FORAQUS_NCHG_DATE,FORAQUS_TERM_DATE,FORAQUS_ACTIVITY_DATE,FORAQUS_USER_ID) values('B152', 'LNOWAK', 10, 0, sysdate, null, null, sysdate, 'RWALDEN')\n",
      "execute_sql_insert  exec_time: 0.06984496116638184\n",
      "None\n",
      "'B152', 20, 'DBRG', 'A', '', '', '11035', '', '', sysdate, 'RWALDEN', ''\n",
      "insert into FORAQRC(FORAQRC_QUEUE_ID, FORAQRC_DOC_TYPE, FORAQRC_RULE_GROUP, FORAQRC_COAS_CODE, FORAQRC_FTYP_CODE, FORAQRC_FUND_CODE, FORAQRC_ORGN_CODE, FORAQRC_ATYP_CODE, FORAQRC_ACCT_CODE, FORAQRC_ACTIVITY_DATE, FORAQRC_USER_ID, FORAQRC_PROG_CODE)  values('B152', 20, 'DBRG', 'A', '', '', '11035', '', '', sysdate, 'RWALDEN', '')\n",
      "execute_sql_insert  exec_time: 0.07138943672180176\n",
      "None\n"
     ]
    }
   ],
   "source": [
    "queue_chain_number = working_session.get_next_queue_number()\n",
    "queue_description = 'Payroll'\n",
    "queues_to_build = [('A','B',0,['AMUSIAL1','EOBRIEN3']),('B','G',.01,['BJESTER1']),('G','VPAS',0.05,['dclarkhackenberg'])]\n",
    "orgns_to_route = ['11035']\n",
    "working_session.build_a_new_queue_chain(queue_chain_number, queue_description, queues_to_build, orgns_to_route)"
   ],
   "metadata": {
    "collapsed": false
   }
  },
  {
   "cell_type": "code",
   "execution_count": null,
   "outputs": [],
   "source": [],
   "metadata": {
    "collapsed": false
   }
  },
  {
   "cell_type": "code",
   "execution_count": 6,
   "outputs": [
    {
     "name": "stdout",
     "output_type": "stream",
     "text": [
      "select  FORAQUS_QUEUE_ID,FORAQUS_USER_ID_APPR,FORAQUS_QUEUE_LEVEL,FORAQUS_QUEUE_LIMIT,FORAQUS_EFF_DATE,\n",
      "        FORAQUS_NCHG_DATE,FORAQUS_TERM_DATE from FORAQUS where FORAQUS_USER_ID_APPR = 'SBRAR' and FORAQUS_NCHG_DATE is null and FORAQUS_TERM_DATE is null order by FORAQUS_QUEUE_ID  \n",
      "execute_sql_query  exec_time: 0.06396722793579102\n",
      "SBRAR ['021G', '022E', '023E', '024G', '025G', '027G', '089C', '134G', '137G', '145G', '148E', 'VPAS']\n"
     ]
    }
   ],
   "source": [
    "# List current approver queues\n",
    "x,y = working_session.get_approvers_queues('SBRAR')\n",
    "print(x,y)"
   ],
   "metadata": {
    "collapsed": false
   }
  },
  {
   "cell_type": "code",
   "execution_count": 7,
   "outputs": [
    {
     "name": "stdout",
     "output_type": "stream",
     "text": [
      "select  FORAQUS_QUEUE_ID,FORAQUS_USER_ID_APPR,FORAQUS_QUEUE_LEVEL,FORAQUS_QUEUE_LIMIT,FORAQUS_EFF_DATE,\n",
      "        FORAQUS_NCHG_DATE,FORAQUS_TERM_DATE from FORAQUS where FORAQUS_USER_ID_APPR = 'SBRAR' and FORAQUS_NCHG_DATE is null and FORAQUS_TERM_DATE is null   \n",
      "execute_sql_query  exec_time: 0.06421041488647461\n",
      "insert into FORAQUS(FORAQUS_QUEUE_ID,FORAQUS_USER_ID_APPR,FORAQUS_QUEUE_LEVEL,FORAQUS_QUEUE_LIMIT,FORAQUS_EFF_DATE,FORAQUS_NCHG_DATE,FORAQUS_TERM_DATE,FORAQUS_ACTIVITY_DATE,FORAQUS_USER_ID) values('021G', 'JZELLET', 10, 0.05, '23-NOV-22', null, '12-DEC-22', sysdate, 'RWALDEN' )\n",
      "execute_sql_insert  exec_time: 0.0707542896270752\n",
      "None\n",
      "insert into FORAQUS(FORAQUS_QUEUE_ID,FORAQUS_USER_ID_APPR,FORAQUS_QUEUE_LEVEL,FORAQUS_QUEUE_LIMIT,FORAQUS_EFF_DATE,FORAQUS_NCHG_DATE,FORAQUS_TERM_DATE,FORAQUS_ACTIVITY_DATE,FORAQUS_USER_ID) values('VPAS', 'JZELLET', 10, 4999.99, '23-NOV-22', null, '12-DEC-22', sysdate, 'RWALDEN' )\n",
      "execute_sql_insert  exec_time: 0.06799983978271484\n",
      "None\n",
      "insert into FORAQUS(FORAQUS_QUEUE_ID,FORAQUS_USER_ID_APPR,FORAQUS_QUEUE_LEVEL,FORAQUS_QUEUE_LIMIT,FORAQUS_EFF_DATE,FORAQUS_NCHG_DATE,FORAQUS_TERM_DATE,FORAQUS_ACTIVITY_DATE,FORAQUS_USER_ID) values('148E', 'JZELLET', 10, 0.03, '23-NOV-22', null, '12-DEC-22', sysdate, 'RWALDEN' )\n",
      "execute_sql_insert  exec_time: 0.06699657440185547\n",
      "None\n",
      "insert into FORAQUS(FORAQUS_QUEUE_ID,FORAQUS_USER_ID_APPR,FORAQUS_QUEUE_LEVEL,FORAQUS_QUEUE_LIMIT,FORAQUS_EFF_DATE,FORAQUS_NCHG_DATE,FORAQUS_TERM_DATE,FORAQUS_ACTIVITY_DATE,FORAQUS_USER_ID) values('022E', 'JZELLET', 10, 0.04, '23-NOV-22', null, '12-DEC-22', sysdate, 'RWALDEN' )\n",
      "execute_sql_insert  exec_time: 0.06498551368713379\n",
      "None\n",
      "insert into FORAQUS(FORAQUS_QUEUE_ID,FORAQUS_USER_ID_APPR,FORAQUS_QUEUE_LEVEL,FORAQUS_QUEUE_LIMIT,FORAQUS_EFF_DATE,FORAQUS_NCHG_DATE,FORAQUS_TERM_DATE,FORAQUS_ACTIVITY_DATE,FORAQUS_USER_ID) values('023E', 'JZELLET', 10, 0.04, '23-NOV-22', null, '12-DEC-22', sysdate, 'RWALDEN' )\n",
      "execute_sql_insert  exec_time: 0.06712198257446289\n",
      "None\n",
      "insert into FORAQUS(FORAQUS_QUEUE_ID,FORAQUS_USER_ID_APPR,FORAQUS_QUEUE_LEVEL,FORAQUS_QUEUE_LIMIT,FORAQUS_EFF_DATE,FORAQUS_NCHG_DATE,FORAQUS_TERM_DATE,FORAQUS_ACTIVITY_DATE,FORAQUS_USER_ID) values('025G', 'JZELLET', 10, 0.05, '23-NOV-22', null, '12-DEC-22', sysdate, 'RWALDEN' )\n",
      "execute_sql_insert  exec_time: 0.06629681587219238\n",
      "None\n",
      "insert into FORAQUS(FORAQUS_QUEUE_ID,FORAQUS_USER_ID_APPR,FORAQUS_QUEUE_LEVEL,FORAQUS_QUEUE_LIMIT,FORAQUS_EFF_DATE,FORAQUS_NCHG_DATE,FORAQUS_TERM_DATE,FORAQUS_ACTIVITY_DATE,FORAQUS_USER_ID) values('024G', 'JZELLET', 9, 0.05, '23-NOV-22', null, '12-DEC-22', sysdate, 'RWALDEN' )\n",
      "execute_sql_insert  exec_time: 0.06811833381652832\n",
      "None\n",
      "insert into FORAQUS(FORAQUS_QUEUE_ID,FORAQUS_USER_ID_APPR,FORAQUS_QUEUE_LEVEL,FORAQUS_QUEUE_LIMIT,FORAQUS_EFF_DATE,FORAQUS_NCHG_DATE,FORAQUS_TERM_DATE,FORAQUS_ACTIVITY_DATE,FORAQUS_USER_ID) values('089C', 'JZELLET', 10, 0.05, '23-NOV-22', null, '12-DEC-22', sysdate, 'RWALDEN' )\n",
      "execute_sql_insert  exec_time: 0.06663918495178223\n",
      "None\n",
      "insert into FORAQUS(FORAQUS_QUEUE_ID,FORAQUS_USER_ID_APPR,FORAQUS_QUEUE_LEVEL,FORAQUS_QUEUE_LIMIT,FORAQUS_EFF_DATE,FORAQUS_NCHG_DATE,FORAQUS_TERM_DATE,FORAQUS_ACTIVITY_DATE,FORAQUS_USER_ID) values('134G', 'JZELLET', 10, 0.05, '23-NOV-22', null, '12-DEC-22', sysdate, 'RWALDEN' )\n",
      "execute_sql_insert  exec_time: 0.06714916229248047\n",
      "None\n",
      "insert into FORAQUS(FORAQUS_QUEUE_ID,FORAQUS_USER_ID_APPR,FORAQUS_QUEUE_LEVEL,FORAQUS_QUEUE_LIMIT,FORAQUS_EFF_DATE,FORAQUS_NCHG_DATE,FORAQUS_TERM_DATE,FORAQUS_ACTIVITY_DATE,FORAQUS_USER_ID) values('145G', 'JZELLET', 10, 0.05, '23-NOV-22', null, '12-DEC-22', sysdate, 'RWALDEN' )\n",
      "execute_sql_insert  exec_time: 0.06585049629211426\n",
      "None\n",
      "insert into FORAQUS(FORAQUS_QUEUE_ID,FORAQUS_USER_ID_APPR,FORAQUS_QUEUE_LEVEL,FORAQUS_QUEUE_LIMIT,FORAQUS_EFF_DATE,FORAQUS_NCHG_DATE,FORAQUS_TERM_DATE,FORAQUS_ACTIVITY_DATE,FORAQUS_USER_ID) values('137G', 'JZELLET', 10, 4999.99, '23-NOV-22', null, '12-DEC-22', sysdate, 'RWALDEN' )\n",
      "execute_sql_insert  exec_time: 0.06565141677856445\n",
      "None\n",
      "insert into FORAQUS(FORAQUS_QUEUE_ID,FORAQUS_USER_ID_APPR,FORAQUS_QUEUE_LEVEL,FORAQUS_QUEUE_LIMIT,FORAQUS_EFF_DATE,FORAQUS_NCHG_DATE,FORAQUS_TERM_DATE,FORAQUS_ACTIVITY_DATE,FORAQUS_USER_ID) values('027G', 'JZELLET', 10, 0.05, '23-NOV-22', null, '12-DEC-22', sysdate, 'RWALDEN' )\n",
      "execute_sql_insert  exec_time: 0.06592011451721191\n",
      "None\n"
     ]
    }
   ],
   "source": [
    "x = working_session.set_proxy_approver('SBRAR', 'JZELLET', '23-NOV-22', '12-DEC-22')"
   ],
   "metadata": {
    "collapsed": false
   }
  },
  {
   "cell_type": "code",
   "execution_count": null,
   "outputs": [],
   "source": [],
   "metadata": {
    "collapsed": false
   }
  },
  {
   "cell_type": "markdown",
   "source": [
    "#12/1/2022 queue updates\n",
    "\n",
    "23007\n",
    "Fire Alarm System Upgrade\n",
    "\n",
    "23008\n",
    "Asbestos Abatement\n",
    "\n",
    "23009\n",
    "Child Development Center Upgrade\n",
    "\n",
    "23010\n",
    "Emerg. Lighting Upgrade/Replacement\n",
    "\n",
    "23011\n",
    "Fire Pump Replacement\n",
    "\n",
    "23012\n",
    "Repair/Replacement Roof/Exhaust Fan\n",
    "\n",
    "23013\n",
    "HVAC VFD Replacement\n",
    "\n",
    "23014\n",
    "Lighting Control System Replacement\n",
    "\n",
    "23015\n",
    "Landscape,AccessPoint&CampusPathway\n",
    "\n",
    "23016\n",
    "HVAC Heating Units Upgrade/Replacem\n"
   ],
   "metadata": {
    "collapsed": false
   }
  },
  {
   "cell_type": "code",
   "execution_count": 6,
   "outputs": [
    {
     "name": "stdout",
     "output_type": "stream",
     "text": [
      "select  max(to_number(substr(FTVAPPQ_QUEUE_ID,0,3))) from FTVAPPQ where substr(FTVAPPQ_QUEUE_ID,0,1) in ('0','1','2','3','4','5','6','7','8','9')   \n",
      "execute_sql_query  exec_time: 0.03755044937133789\n",
      "'153A','Fire Alarm System Upgrade',0,'153B', null, sysdate, 'RWALDEN'\n",
      "insert into FTVAPPQ(FTVAPPQ_QUEUE_ID, FTVAPPQ_DESCRIPTION, FTVAPPQ_QUEUE_LIMIT, FTVAPPQ_NEXT_QUEUE_ID, FTVAPPQ_APPROVAL_REQ, FTVAPPQ_ACTIVITY_DATE, FTVAPPQ_USER_ID) values('153A','Fire Alarm System Upgrade',0,'153B', null, sysdate, 'RWALDEN')\n",
      "execute_sql_insert  exec_time: 0.09200644493103027\n",
      "None\n",
      "'153A', 'AMUSIAL1', 10, 0, sysdate, null, null, sysdate, 'RWALDEN'\n",
      "insert into FORAQUS(FORAQUS_QUEUE_ID,FORAQUS_USER_ID_APPR,FORAQUS_QUEUE_LEVEL,FORAQUS_QUEUE_LIMIT,FORAQUS_EFF_DATE,FORAQUS_NCHG_DATE,FORAQUS_TERM_DATE,FORAQUS_ACTIVITY_DATE,FORAQUS_USER_ID) values('153A', 'AMUSIAL1', 10, 0, sysdate, null, null, sysdate, 'RWALDEN')\n",
      "execute_sql_insert  exec_time: 0.07803845405578613\n",
      "None\n",
      "'153A', 'EOBRIEN3', 10, 0, sysdate, null, null, sysdate, 'RWALDEN'\n",
      "insert into FORAQUS(FORAQUS_QUEUE_ID,FORAQUS_USER_ID_APPR,FORAQUS_QUEUE_LEVEL,FORAQUS_QUEUE_LIMIT,FORAQUS_EFF_DATE,FORAQUS_NCHG_DATE,FORAQUS_TERM_DATE,FORAQUS_ACTIVITY_DATE,FORAQUS_USER_ID) values('153A', 'EOBRIEN3', 10, 0, sysdate, null, null, sysdate, 'RWALDEN')\n",
      "execute_sql_insert  exec_time: 0.07003617286682129\n",
      "None\n",
      "'153A', 1, 'REQG', 'A', '', '', '23007', '', '', sysdate, 'RWALDEN', ''\n",
      "'153A', 2, 'CORG', 'A', '', '', '23007', '', '', sysdate, 'RWALDEN', ''\n",
      "insert into FORAQRC(FORAQRC_QUEUE_ID, FORAQRC_DOC_TYPE, FORAQRC_RULE_GROUP, FORAQRC_COAS_CODE, FORAQRC_FTYP_CODE, FORAQRC_FUND_CODE, FORAQRC_ORGN_CODE, FORAQRC_ATYP_CODE, FORAQRC_ACCT_CODE, FORAQRC_ACTIVITY_DATE, FORAQRC_USER_ID, FORAQRC_PROG_CODE)  values('153A', 1, 'REQG', 'A', '', '', '23007', '', '', sysdate, 'RWALDEN', '')\n",
      "execute_sql_insert  exec_time: 0.07262730598449707\n",
      "None\n",
      "insert into FORAQRC(FORAQRC_QUEUE_ID, FORAQRC_DOC_TYPE, FORAQRC_RULE_GROUP, FORAQRC_COAS_CODE, FORAQRC_FTYP_CODE, FORAQRC_FUND_CODE, FORAQRC_ORGN_CODE, FORAQRC_ATYP_CODE, FORAQRC_ACCT_CODE, FORAQRC_ACTIVITY_DATE, FORAQRC_USER_ID, FORAQRC_PROG_CODE)  values('153A', 2, 'CORG', 'A', '', '', '23007', '', '', sysdate, 'RWALDEN', '')\n",
      "execute_sql_insert  exec_time: 0.07070612907409668\n",
      "None\n",
      "'153B','Fire Alarm System Upgrade',0.01,'153G', null, sysdate, 'RWALDEN'\n",
      "insert into FTVAPPQ(FTVAPPQ_QUEUE_ID, FTVAPPQ_DESCRIPTION, FTVAPPQ_QUEUE_LIMIT, FTVAPPQ_NEXT_QUEUE_ID, FTVAPPQ_APPROVAL_REQ, FTVAPPQ_ACTIVITY_DATE, FTVAPPQ_USER_ID) values('153B','Fire Alarm System Upgrade',0.01,'153G', null, sysdate, 'RWALDEN')\n",
      "execute_sql_insert  exec_time: 0.07497096061706543\n",
      "None\n",
      "'153B', 'BJESTER1', 10, 0.01, sysdate, null, null, sysdate, 'RWALDEN'\n",
      "insert into FORAQUS(FORAQUS_QUEUE_ID,FORAQUS_USER_ID_APPR,FORAQUS_QUEUE_LEVEL,FORAQUS_QUEUE_LIMIT,FORAQUS_EFF_DATE,FORAQUS_NCHG_DATE,FORAQUS_TERM_DATE,FORAQUS_ACTIVITY_DATE,FORAQUS_USER_ID) values('153B', 'BJESTER1', 10, 0.01, sysdate, null, null, sysdate, 'RWALDEN')\n",
      "execute_sql_insert  exec_time: 0.06866335868835449\n",
      "None\n",
      "'153G','Fire Alarm System Upgrade',4999.99,'VPAS', null, sysdate, 'RWALDEN'\n",
      "insert into FTVAPPQ(FTVAPPQ_QUEUE_ID, FTVAPPQ_DESCRIPTION, FTVAPPQ_QUEUE_LIMIT, FTVAPPQ_NEXT_QUEUE_ID, FTVAPPQ_APPROVAL_REQ, FTVAPPQ_ACTIVITY_DATE, FTVAPPQ_USER_ID) values('153G','Fire Alarm System Upgrade',4999.99,'VPAS', null, sysdate, 'RWALDEN')\n",
      "execute_sql_insert  exec_time: 0.07964777946472168\n",
      "None\n",
      "'153G', 'SBRAR', 10, 4999.99, sysdate, null, null, sysdate, 'RWALDEN'\n",
      "insert into FORAQUS(FORAQUS_QUEUE_ID,FORAQUS_USER_ID_APPR,FORAQUS_QUEUE_LEVEL,FORAQUS_QUEUE_LIMIT,FORAQUS_EFF_DATE,FORAQUS_NCHG_DATE,FORAQUS_TERM_DATE,FORAQUS_ACTIVITY_DATE,FORAQUS_USER_ID) values('153G', 'SBRAR', 10, 4999.99, sysdate, null, null, sysdate, 'RWALDEN')\n",
      "execute_sql_insert  exec_time: 0.07308793067932129\n",
      "None\n",
      "'B153','Fire Alarm System Upgrade',0,'153G', null, sysdate, 'RWALDEN'\n",
      "insert into FTVAPPQ(FTVAPPQ_QUEUE_ID, FTVAPPQ_DESCRIPTION, FTVAPPQ_QUEUE_LIMIT, FTVAPPQ_NEXT_QUEUE_ID, FTVAPPQ_APPROVAL_REQ, FTVAPPQ_ACTIVITY_DATE, FTVAPPQ_USER_ID) values('B153','Fire Alarm System Upgrade',0,'153G', null, sysdate, 'RWALDEN')\n",
      "execute_sql_insert  exec_time: 0.06939411163330078\n",
      "None\n",
      "'B153', 'KJANISZEWSKI', 10, 0, sysdate, null, null, sysdate, 'RWALDEN'\n",
      "insert into FORAQUS(FORAQUS_QUEUE_ID,FORAQUS_USER_ID_APPR,FORAQUS_QUEUE_LEVEL,FORAQUS_QUEUE_LIMIT,FORAQUS_EFF_DATE,FORAQUS_NCHG_DATE,FORAQUS_TERM_DATE,FORAQUS_ACTIVITY_DATE,FORAQUS_USER_ID) values('B153', 'KJANISZEWSKI', 10, 0, sysdate, null, null, sysdate, 'RWALDEN')\n",
      "execute_sql_insert  exec_time: 0.06916213035583496\n",
      "None\n",
      "'B153', 'UGOFF', 10, 0, sysdate, null, null, sysdate, 'RWALDEN'\n",
      "insert into FORAQUS(FORAQUS_QUEUE_ID,FORAQUS_USER_ID_APPR,FORAQUS_QUEUE_LEVEL,FORAQUS_QUEUE_LIMIT,FORAQUS_EFF_DATE,FORAQUS_NCHG_DATE,FORAQUS_TERM_DATE,FORAQUS_ACTIVITY_DATE,FORAQUS_USER_ID) values('B153', 'UGOFF', 10, 0, sysdate, null, null, sysdate, 'RWALDEN')\n",
      "execute_sql_insert  exec_time: 0.09226417541503906\n",
      "None\n",
      "'B153', 'BJESTER1', 10, 0, sysdate, null, null, sysdate, 'RWALDEN'\n",
      "insert into FORAQUS(FORAQUS_QUEUE_ID,FORAQUS_USER_ID_APPR,FORAQUS_QUEUE_LEVEL,FORAQUS_QUEUE_LIMIT,FORAQUS_EFF_DATE,FORAQUS_NCHG_DATE,FORAQUS_TERM_DATE,FORAQUS_ACTIVITY_DATE,FORAQUS_USER_ID) values('B153', 'BJESTER1', 10, 0, sysdate, null, null, sysdate, 'RWALDEN')\n",
      "execute_sql_insert  exec_time: 0.07002663612365723\n",
      "None\n",
      "'B153', 'LNOWAK', 10, 0, sysdate, null, null, sysdate, 'RWALDEN'\n",
      "insert into FORAQUS(FORAQUS_QUEUE_ID,FORAQUS_USER_ID_APPR,FORAQUS_QUEUE_LEVEL,FORAQUS_QUEUE_LIMIT,FORAQUS_EFF_DATE,FORAQUS_NCHG_DATE,FORAQUS_TERM_DATE,FORAQUS_ACTIVITY_DATE,FORAQUS_USER_ID) values('B153', 'LNOWAK', 10, 0, sysdate, null, null, sysdate, 'RWALDEN')\n",
      "execute_sql_insert  exec_time: 0.0682058334350586\n",
      "None\n",
      "'B153', 20, 'DBRG', 'A', '', '', '23007', '', '', sysdate, 'RWALDEN', ''\n",
      "insert into FORAQRC(FORAQRC_QUEUE_ID, FORAQRC_DOC_TYPE, FORAQRC_RULE_GROUP, FORAQRC_COAS_CODE, FORAQRC_FTYP_CODE, FORAQRC_FUND_CODE, FORAQRC_ORGN_CODE, FORAQRC_ATYP_CODE, FORAQRC_ACCT_CODE, FORAQRC_ACTIVITY_DATE, FORAQRC_USER_ID, FORAQRC_PROG_CODE)  values('B153', 20, 'DBRG', 'A', '', '', '23007', '', '', sysdate, 'RWALDEN', '')\n",
      "execute_sql_insert  exec_time: 0.07102799415588379\n",
      "None\n"
     ]
    }
   ],
   "source": [
    "queue_chain_number = working_session.get_next_queue_number()\n",
    "queue_description = 'Fire Alarm System Upgrade'\n",
    "queues_to_build = [('A','B',0,['AMUSIAL1','EOBRIEN3']),('B','G',.01,['BJESTER1']),('G','VPAS',4999.99,['SBRAR'])]\n",
    "orgns_to_route = ['23007']\n",
    "working_session.build_a_new_queue_chain(queue_chain_number, queue_description, queues_to_build, orgns_to_route)"
   ],
   "metadata": {
    "collapsed": false
   }
  },
  {
   "cell_type": "code",
   "execution_count": 7,
   "outputs": [
    {
     "name": "stdout",
     "output_type": "stream",
     "text": [
      "select  max(to_number(substr(FTVAPPQ_QUEUE_ID,0,3))) from FTVAPPQ where substr(FTVAPPQ_QUEUE_ID,0,1) in ('0','1','2','3','4','5','6','7','8','9')   \n",
      "execute_sql_query  exec_time: 0.0330352783203125\n",
      "'154A','Asbestos Abatement',0,'154B', null, sysdate, 'RWALDEN'\n",
      "insert into FTVAPPQ(FTVAPPQ_QUEUE_ID, FTVAPPQ_DESCRIPTION, FTVAPPQ_QUEUE_LIMIT, FTVAPPQ_NEXT_QUEUE_ID, FTVAPPQ_APPROVAL_REQ, FTVAPPQ_ACTIVITY_DATE, FTVAPPQ_USER_ID) values('154A','Asbestos Abatement',0,'154B', null, sysdate, 'RWALDEN')\n",
      "execute_sql_insert  exec_time: 0.06757545471191406\n",
      "None\n",
      "'154A', 'AMUSIAL1', 10, 0, sysdate, null, null, sysdate, 'RWALDEN'\n",
      "insert into FORAQUS(FORAQUS_QUEUE_ID,FORAQUS_USER_ID_APPR,FORAQUS_QUEUE_LEVEL,FORAQUS_QUEUE_LIMIT,FORAQUS_EFF_DATE,FORAQUS_NCHG_DATE,FORAQUS_TERM_DATE,FORAQUS_ACTIVITY_DATE,FORAQUS_USER_ID) values('154A', 'AMUSIAL1', 10, 0, sysdate, null, null, sysdate, 'RWALDEN')\n",
      "execute_sql_insert  exec_time: 0.06606054306030273\n",
      "None\n",
      "'154A', 'EOBRIEN3', 10, 0, sysdate, null, null, sysdate, 'RWALDEN'\n",
      "insert into FORAQUS(FORAQUS_QUEUE_ID,FORAQUS_USER_ID_APPR,FORAQUS_QUEUE_LEVEL,FORAQUS_QUEUE_LIMIT,FORAQUS_EFF_DATE,FORAQUS_NCHG_DATE,FORAQUS_TERM_DATE,FORAQUS_ACTIVITY_DATE,FORAQUS_USER_ID) values('154A', 'EOBRIEN3', 10, 0, sysdate, null, null, sysdate, 'RWALDEN')\n",
      "execute_sql_insert  exec_time: 0.06772613525390625\n",
      "None\n",
      "'154A', 1, 'REQG', 'A', '', '', '23008', '', '', sysdate, 'RWALDEN', ''\n",
      "'154A', 2, 'CORG', 'A', '', '', '23008', '', '', sysdate, 'RWALDEN', ''\n",
      "insert into FORAQRC(FORAQRC_QUEUE_ID, FORAQRC_DOC_TYPE, FORAQRC_RULE_GROUP, FORAQRC_COAS_CODE, FORAQRC_FTYP_CODE, FORAQRC_FUND_CODE, FORAQRC_ORGN_CODE, FORAQRC_ATYP_CODE, FORAQRC_ACCT_CODE, FORAQRC_ACTIVITY_DATE, FORAQRC_USER_ID, FORAQRC_PROG_CODE)  values('154A', 1, 'REQG', 'A', '', '', '23008', '', '', sysdate, 'RWALDEN', '')\n",
      "execute_sql_insert  exec_time: 0.0719749927520752\n",
      "None\n",
      "insert into FORAQRC(FORAQRC_QUEUE_ID, FORAQRC_DOC_TYPE, FORAQRC_RULE_GROUP, FORAQRC_COAS_CODE, FORAQRC_FTYP_CODE, FORAQRC_FUND_CODE, FORAQRC_ORGN_CODE, FORAQRC_ATYP_CODE, FORAQRC_ACCT_CODE, FORAQRC_ACTIVITY_DATE, FORAQRC_USER_ID, FORAQRC_PROG_CODE)  values('154A', 2, 'CORG', 'A', '', '', '23008', '', '', sysdate, 'RWALDEN', '')\n",
      "execute_sql_insert  exec_time: 0.06586003303527832\n",
      "None\n",
      "'154B','Asbestos Abatement',0.01,'154G', null, sysdate, 'RWALDEN'\n",
      "insert into FTVAPPQ(FTVAPPQ_QUEUE_ID, FTVAPPQ_DESCRIPTION, FTVAPPQ_QUEUE_LIMIT, FTVAPPQ_NEXT_QUEUE_ID, FTVAPPQ_APPROVAL_REQ, FTVAPPQ_ACTIVITY_DATE, FTVAPPQ_USER_ID) values('154B','Asbestos Abatement',0.01,'154G', null, sysdate, 'RWALDEN')\n",
      "execute_sql_insert  exec_time: 0.06896305084228516\n",
      "None\n",
      "'154B', 'BJESTER1', 10, 0.01, sysdate, null, null, sysdate, 'RWALDEN'\n",
      "insert into FORAQUS(FORAQUS_QUEUE_ID,FORAQUS_USER_ID_APPR,FORAQUS_QUEUE_LEVEL,FORAQUS_QUEUE_LIMIT,FORAQUS_EFF_DATE,FORAQUS_NCHG_DATE,FORAQUS_TERM_DATE,FORAQUS_ACTIVITY_DATE,FORAQUS_USER_ID) values('154B', 'BJESTER1', 10, 0.01, sysdate, null, null, sysdate, 'RWALDEN')\n",
      "execute_sql_insert  exec_time: 0.06633591651916504\n",
      "None\n",
      "'154G','Asbestos Abatement',4999.99,'VPAS', null, sysdate, 'RWALDEN'\n",
      "insert into FTVAPPQ(FTVAPPQ_QUEUE_ID, FTVAPPQ_DESCRIPTION, FTVAPPQ_QUEUE_LIMIT, FTVAPPQ_NEXT_QUEUE_ID, FTVAPPQ_APPROVAL_REQ, FTVAPPQ_ACTIVITY_DATE, FTVAPPQ_USER_ID) values('154G','Asbestos Abatement',4999.99,'VPAS', null, sysdate, 'RWALDEN')\n",
      "execute_sql_insert  exec_time: 0.06678628921508789\n",
      "None\n",
      "'154G', 'SBRAR', 10, 4999.99, sysdate, null, null, sysdate, 'RWALDEN'\n",
      "insert into FORAQUS(FORAQUS_QUEUE_ID,FORAQUS_USER_ID_APPR,FORAQUS_QUEUE_LEVEL,FORAQUS_QUEUE_LIMIT,FORAQUS_EFF_DATE,FORAQUS_NCHG_DATE,FORAQUS_TERM_DATE,FORAQUS_ACTIVITY_DATE,FORAQUS_USER_ID) values('154G', 'SBRAR', 10, 4999.99, sysdate, null, null, sysdate, 'RWALDEN')\n",
      "execute_sql_insert  exec_time: 0.06803488731384277\n",
      "None\n",
      "'B154','Asbestos Abatement',0,'154G', null, sysdate, 'RWALDEN'\n",
      "insert into FTVAPPQ(FTVAPPQ_QUEUE_ID, FTVAPPQ_DESCRIPTION, FTVAPPQ_QUEUE_LIMIT, FTVAPPQ_NEXT_QUEUE_ID, FTVAPPQ_APPROVAL_REQ, FTVAPPQ_ACTIVITY_DATE, FTVAPPQ_USER_ID) values('B154','Asbestos Abatement',0,'154G', null, sysdate, 'RWALDEN')\n",
      "execute_sql_insert  exec_time: 0.06841135025024414\n",
      "None\n",
      "'B154', 20, 'DBRG', 'A', '', '', '23008', '', '', sysdate, 'RWALDEN', ''\n",
      "insert into FORAQRC(FORAQRC_QUEUE_ID, FORAQRC_DOC_TYPE, FORAQRC_RULE_GROUP, FORAQRC_COAS_CODE, FORAQRC_FTYP_CODE, FORAQRC_FUND_CODE, FORAQRC_ORGN_CODE, FORAQRC_ATYP_CODE, FORAQRC_ACCT_CODE, FORAQRC_ACTIVITY_DATE, FORAQRC_USER_ID, FORAQRC_PROG_CODE)  values('B154', 20, 'DBRG', 'A', '', '', '23008', '', '', sysdate, 'RWALDEN', '')\n",
      "execute_sql_insert  exec_time: 0.06629467010498047\n",
      "None\n"
     ]
    }
   ],
   "source": [
    "queue_chain_number = working_session.get_next_queue_number()\n",
    "queue_description = 'Asbestos Abatement'\n",
    "queues_to_build = [('A','B',0,['AMUSIAL1','EOBRIEN3']),('B','G',.01,['BJESTER1']),('G','VPAS',4999.99,['SBRAR'])]\n",
    "orgns_to_route = ['23008']\n",
    "working_session.build_a_new_queue_chain(queue_chain_number, queue_description, queues_to_build, orgns_to_route)"
   ],
   "metadata": {
    "collapsed": false
   }
  },
  {
   "cell_type": "code",
   "execution_count": 8,
   "outputs": [
    {
     "name": "stdout",
     "output_type": "stream",
     "text": [
      "select  max(to_number(substr(FTVAPPQ_QUEUE_ID,0,3))) from FTVAPPQ where substr(FTVAPPQ_QUEUE_ID,0,1) in ('0','1','2','3','4','5','6','7','8','9')   \n",
      "execute_sql_query  exec_time: 0.03215956687927246\n",
      "'155A','Child Development Center Upgrade',0,'155B', null, sysdate, 'RWALDEN'\n",
      "insert into FTVAPPQ(FTVAPPQ_QUEUE_ID, FTVAPPQ_DESCRIPTION, FTVAPPQ_QUEUE_LIMIT, FTVAPPQ_NEXT_QUEUE_ID, FTVAPPQ_APPROVAL_REQ, FTVAPPQ_ACTIVITY_DATE, FTVAPPQ_USER_ID) values('155A','Child Development Center Upgrade',0,'155B', null, sysdate, 'RWALDEN')\n",
      "execute_sql_insert  exec_time: 0.06903266906738281\n",
      "None\n",
      "'155A', 'AMUSIAL1', 10, 0, sysdate, null, null, sysdate, 'RWALDEN'\n",
      "insert into FORAQUS(FORAQUS_QUEUE_ID,FORAQUS_USER_ID_APPR,FORAQUS_QUEUE_LEVEL,FORAQUS_QUEUE_LIMIT,FORAQUS_EFF_DATE,FORAQUS_NCHG_DATE,FORAQUS_TERM_DATE,FORAQUS_ACTIVITY_DATE,FORAQUS_USER_ID) values('155A', 'AMUSIAL1', 10, 0, sysdate, null, null, sysdate, 'RWALDEN')\n",
      "execute_sql_insert  exec_time: 0.06809258460998535\n",
      "None\n",
      "'155A', 'EOBRIEN3', 10, 0, sysdate, null, null, sysdate, 'RWALDEN'\n",
      "insert into FORAQUS(FORAQUS_QUEUE_ID,FORAQUS_USER_ID_APPR,FORAQUS_QUEUE_LEVEL,FORAQUS_QUEUE_LIMIT,FORAQUS_EFF_DATE,FORAQUS_NCHG_DATE,FORAQUS_TERM_DATE,FORAQUS_ACTIVITY_DATE,FORAQUS_USER_ID) values('155A', 'EOBRIEN3', 10, 0, sysdate, null, null, sysdate, 'RWALDEN')\n",
      "execute_sql_insert  exec_time: 0.06690788269042969\n",
      "None\n",
      "'155A', 1, 'REQG', 'A', '', '', '23009', '', '', sysdate, 'RWALDEN', ''\n",
      "'155A', 2, 'CORG', 'A', '', '', '23009', '', '', sysdate, 'RWALDEN', ''\n",
      "insert into FORAQRC(FORAQRC_QUEUE_ID, FORAQRC_DOC_TYPE, FORAQRC_RULE_GROUP, FORAQRC_COAS_CODE, FORAQRC_FTYP_CODE, FORAQRC_FUND_CODE, FORAQRC_ORGN_CODE, FORAQRC_ATYP_CODE, FORAQRC_ACCT_CODE, FORAQRC_ACTIVITY_DATE, FORAQRC_USER_ID, FORAQRC_PROG_CODE)  values('155A', 1, 'REQG', 'A', '', '', '23009', '', '', sysdate, 'RWALDEN', '')\n",
      "execute_sql_insert  exec_time: 0.06891298294067383\n",
      "None\n",
      "insert into FORAQRC(FORAQRC_QUEUE_ID, FORAQRC_DOC_TYPE, FORAQRC_RULE_GROUP, FORAQRC_COAS_CODE, FORAQRC_FTYP_CODE, FORAQRC_FUND_CODE, FORAQRC_ORGN_CODE, FORAQRC_ATYP_CODE, FORAQRC_ACCT_CODE, FORAQRC_ACTIVITY_DATE, FORAQRC_USER_ID, FORAQRC_PROG_CODE)  values('155A', 2, 'CORG', 'A', '', '', '23009', '', '', sysdate, 'RWALDEN', '')\n",
      "execute_sql_insert  exec_time: 0.06602263450622559\n",
      "None\n",
      "'155B','Child Development Center Upgrade',0.01,'155G', null, sysdate, 'RWALDEN'\n",
      "insert into FTVAPPQ(FTVAPPQ_QUEUE_ID, FTVAPPQ_DESCRIPTION, FTVAPPQ_QUEUE_LIMIT, FTVAPPQ_NEXT_QUEUE_ID, FTVAPPQ_APPROVAL_REQ, FTVAPPQ_ACTIVITY_DATE, FTVAPPQ_USER_ID) values('155B','Child Development Center Upgrade',0.01,'155G', null, sysdate, 'RWALDEN')\n",
      "execute_sql_insert  exec_time: 0.06699442863464355\n",
      "None\n",
      "'155B', 'BJESTER1', 10, 0.01, sysdate, null, null, sysdate, 'RWALDEN'\n",
      "insert into FORAQUS(FORAQUS_QUEUE_ID,FORAQUS_USER_ID_APPR,FORAQUS_QUEUE_LEVEL,FORAQUS_QUEUE_LIMIT,FORAQUS_EFF_DATE,FORAQUS_NCHG_DATE,FORAQUS_TERM_DATE,FORAQUS_ACTIVITY_DATE,FORAQUS_USER_ID) values('155B', 'BJESTER1', 10, 0.01, sysdate, null, null, sysdate, 'RWALDEN')\n",
      "execute_sql_insert  exec_time: 0.0673210620880127\n",
      "None\n",
      "'155G','Child Development Center Upgrade',4999.99,'VPAS', null, sysdate, 'RWALDEN'\n",
      "insert into FTVAPPQ(FTVAPPQ_QUEUE_ID, FTVAPPQ_DESCRIPTION, FTVAPPQ_QUEUE_LIMIT, FTVAPPQ_NEXT_QUEUE_ID, FTVAPPQ_APPROVAL_REQ, FTVAPPQ_ACTIVITY_DATE, FTVAPPQ_USER_ID) values('155G','Child Development Center Upgrade',4999.99,'VPAS', null, sysdate, 'RWALDEN')\n",
      "execute_sql_insert  exec_time: 0.06853461265563965\n",
      "None\n",
      "'155G', 'SBRAR', 10, 4999.99, sysdate, null, null, sysdate, 'RWALDEN'\n",
      "insert into FORAQUS(FORAQUS_QUEUE_ID,FORAQUS_USER_ID_APPR,FORAQUS_QUEUE_LEVEL,FORAQUS_QUEUE_LIMIT,FORAQUS_EFF_DATE,FORAQUS_NCHG_DATE,FORAQUS_TERM_DATE,FORAQUS_ACTIVITY_DATE,FORAQUS_USER_ID) values('155G', 'SBRAR', 10, 4999.99, sysdate, null, null, sysdate, 'RWALDEN')\n",
      "execute_sql_insert  exec_time: 0.06828045845031738\n",
      "None\n",
      "'B155','Child Development Center Upgrade',0,'155G', null, sysdate, 'RWALDEN'\n",
      "insert into FTVAPPQ(FTVAPPQ_QUEUE_ID, FTVAPPQ_DESCRIPTION, FTVAPPQ_QUEUE_LIMIT, FTVAPPQ_NEXT_QUEUE_ID, FTVAPPQ_APPROVAL_REQ, FTVAPPQ_ACTIVITY_DATE, FTVAPPQ_USER_ID) values('B155','Child Development Center Upgrade',0,'155G', null, sysdate, 'RWALDEN')\n",
      "execute_sql_insert  exec_time: 0.06892061233520508\n",
      "None\n",
      "'B155', 20, 'DBRG', 'A', '', '', '23009', '', '', sysdate, 'RWALDEN', ''\n",
      "insert into FORAQRC(FORAQRC_QUEUE_ID, FORAQRC_DOC_TYPE, FORAQRC_RULE_GROUP, FORAQRC_COAS_CODE, FORAQRC_FTYP_CODE, FORAQRC_FUND_CODE, FORAQRC_ORGN_CODE, FORAQRC_ATYP_CODE, FORAQRC_ACCT_CODE, FORAQRC_ACTIVITY_DATE, FORAQRC_USER_ID, FORAQRC_PROG_CODE)  values('B155', 20, 'DBRG', 'A', '', '', '23009', '', '', sysdate, 'RWALDEN', '')\n",
      "execute_sql_insert  exec_time: 0.06696557998657227\n",
      "None\n"
     ]
    }
   ],
   "source": [
    "queue_chain_number = working_session.get_next_queue_number()\n",
    "queue_description = 'Child Development Center Upgrade'\n",
    "queues_to_build = [('A','B',0,['AMUSIAL1','EOBRIEN3']),('B','G',.01,['BJESTER1']),('G','VPAS',4999.99,['SBRAR'])]\n",
    "orgns_to_route = ['23009']\n",
    "working_session.build_a_new_queue_chain(queue_chain_number, queue_description, queues_to_build, orgns_to_route)"
   ],
   "metadata": {
    "collapsed": false
   }
  },
  {
   "cell_type": "code",
   "execution_count": 9,
   "outputs": [
    {
     "name": "stdout",
     "output_type": "stream",
     "text": [
      "select  max(to_number(substr(FTVAPPQ_QUEUE_ID,0,3))) from FTVAPPQ where substr(FTVAPPQ_QUEUE_ID,0,1) in ('0','1','2','3','4','5','6','7','8','9')   \n",
      "execute_sql_query  exec_time: 0.03310275077819824\n",
      "'156A','Emerg Lighting Upgrade Replacement',0,'156B', null, sysdate, 'RWALDEN'\n",
      "insert into FTVAPPQ(FTVAPPQ_QUEUE_ID, FTVAPPQ_DESCRIPTION, FTVAPPQ_QUEUE_LIMIT, FTVAPPQ_NEXT_QUEUE_ID, FTVAPPQ_APPROVAL_REQ, FTVAPPQ_ACTIVITY_DATE, FTVAPPQ_USER_ID) values('156A','Emerg Lighting Upgrade Replacement',0,'156B', null, sysdate, 'RWALDEN')\n",
      "execute_sql_insert  exec_time: 0.06893277168273926\n",
      "None\n",
      "'156A', 'AMUSIAL1', 10, 0, sysdate, null, null, sysdate, 'RWALDEN'\n",
      "insert into FORAQUS(FORAQUS_QUEUE_ID,FORAQUS_USER_ID_APPR,FORAQUS_QUEUE_LEVEL,FORAQUS_QUEUE_LIMIT,FORAQUS_EFF_DATE,FORAQUS_NCHG_DATE,FORAQUS_TERM_DATE,FORAQUS_ACTIVITY_DATE,FORAQUS_USER_ID) values('156A', 'AMUSIAL1', 10, 0, sysdate, null, null, sysdate, 'RWALDEN')\n",
      "execute_sql_insert  exec_time: 0.06793427467346191\n",
      "None\n",
      "'156A', 'EOBRIEN3', 10, 0, sysdate, null, null, sysdate, 'RWALDEN'\n",
      "insert into FORAQUS(FORAQUS_QUEUE_ID,FORAQUS_USER_ID_APPR,FORAQUS_QUEUE_LEVEL,FORAQUS_QUEUE_LIMIT,FORAQUS_EFF_DATE,FORAQUS_NCHG_DATE,FORAQUS_TERM_DATE,FORAQUS_ACTIVITY_DATE,FORAQUS_USER_ID) values('156A', 'EOBRIEN3', 10, 0, sysdate, null, null, sysdate, 'RWALDEN')\n",
      "execute_sql_insert  exec_time: 0.0679941177368164\n",
      "None\n",
      "'156A', 1, 'REQG', 'A', '', '', '23010', '', '', sysdate, 'RWALDEN', ''\n",
      "'156A', 2, 'CORG', 'A', '', '', '23010', '', '', sysdate, 'RWALDEN', ''\n",
      "insert into FORAQRC(FORAQRC_QUEUE_ID, FORAQRC_DOC_TYPE, FORAQRC_RULE_GROUP, FORAQRC_COAS_CODE, FORAQRC_FTYP_CODE, FORAQRC_FUND_CODE, FORAQRC_ORGN_CODE, FORAQRC_ATYP_CODE, FORAQRC_ACCT_CODE, FORAQRC_ACTIVITY_DATE, FORAQRC_USER_ID, FORAQRC_PROG_CODE)  values('156A', 1, 'REQG', 'A', '', '', '23010', '', '', sysdate, 'RWALDEN', '')\n",
      "execute_sql_insert  exec_time: 0.06790947914123535\n",
      "None\n",
      "insert into FORAQRC(FORAQRC_QUEUE_ID, FORAQRC_DOC_TYPE, FORAQRC_RULE_GROUP, FORAQRC_COAS_CODE, FORAQRC_FTYP_CODE, FORAQRC_FUND_CODE, FORAQRC_ORGN_CODE, FORAQRC_ATYP_CODE, FORAQRC_ACCT_CODE, FORAQRC_ACTIVITY_DATE, FORAQRC_USER_ID, FORAQRC_PROG_CODE)  values('156A', 2, 'CORG', 'A', '', '', '23010', '', '', sysdate, 'RWALDEN', '')\n",
      "execute_sql_insert  exec_time: 0.06644010543823242\n",
      "None\n",
      "'156B','Emerg Lighting Upgrade Replacement',0.01,'156G', null, sysdate, 'RWALDEN'\n",
      "insert into FTVAPPQ(FTVAPPQ_QUEUE_ID, FTVAPPQ_DESCRIPTION, FTVAPPQ_QUEUE_LIMIT, FTVAPPQ_NEXT_QUEUE_ID, FTVAPPQ_APPROVAL_REQ, FTVAPPQ_ACTIVITY_DATE, FTVAPPQ_USER_ID) values('156B','Emerg Lighting Upgrade Replacement',0.01,'156G', null, sysdate, 'RWALDEN')\n",
      "execute_sql_insert  exec_time: 0.06736373901367188\n",
      "None\n",
      "'156B', 'BJESTER1', 10, 0.01, sysdate, null, null, sysdate, 'RWALDEN'\n",
      "insert into FORAQUS(FORAQUS_QUEUE_ID,FORAQUS_USER_ID_APPR,FORAQUS_QUEUE_LEVEL,FORAQUS_QUEUE_LIMIT,FORAQUS_EFF_DATE,FORAQUS_NCHG_DATE,FORAQUS_TERM_DATE,FORAQUS_ACTIVITY_DATE,FORAQUS_USER_ID) values('156B', 'BJESTER1', 10, 0.01, sysdate, null, null, sysdate, 'RWALDEN')\n",
      "execute_sql_insert  exec_time: 0.06987667083740234\n",
      "None\n",
      "'156G','Emerg Lighting Upgrade Replacement',4999.99,'VPAS', null, sysdate, 'RWALDEN'\n",
      "insert into FTVAPPQ(FTVAPPQ_QUEUE_ID, FTVAPPQ_DESCRIPTION, FTVAPPQ_QUEUE_LIMIT, FTVAPPQ_NEXT_QUEUE_ID, FTVAPPQ_APPROVAL_REQ, FTVAPPQ_ACTIVITY_DATE, FTVAPPQ_USER_ID) values('156G','Emerg Lighting Upgrade Replacement',4999.99,'VPAS', null, sysdate, 'RWALDEN')\n",
      "execute_sql_insert  exec_time: 0.07039737701416016\n",
      "None\n",
      "'156G', 'SBRAR', 10, 4999.99, sysdate, null, null, sysdate, 'RWALDEN'\n",
      "insert into FORAQUS(FORAQUS_QUEUE_ID,FORAQUS_USER_ID_APPR,FORAQUS_QUEUE_LEVEL,FORAQUS_QUEUE_LIMIT,FORAQUS_EFF_DATE,FORAQUS_NCHG_DATE,FORAQUS_TERM_DATE,FORAQUS_ACTIVITY_DATE,FORAQUS_USER_ID) values('156G', 'SBRAR', 10, 4999.99, sysdate, null, null, sysdate, 'RWALDEN')\n",
      "execute_sql_insert  exec_time: 0.06841087341308594\n",
      "None\n",
      "'B156','Emerg Lighting Upgrade Replacement',0,'156G', null, sysdate, 'RWALDEN'\n",
      "insert into FTVAPPQ(FTVAPPQ_QUEUE_ID, FTVAPPQ_DESCRIPTION, FTVAPPQ_QUEUE_LIMIT, FTVAPPQ_NEXT_QUEUE_ID, FTVAPPQ_APPROVAL_REQ, FTVAPPQ_ACTIVITY_DATE, FTVAPPQ_USER_ID) values('B156','Emerg Lighting Upgrade Replacement',0,'156G', null, sysdate, 'RWALDEN')\n",
      "execute_sql_insert  exec_time: 0.0691218376159668\n",
      "None\n",
      "'B156', 20, 'DBRG', 'A', '', '', '23010', '', '', sysdate, 'RWALDEN', ''\n",
      "insert into FORAQRC(FORAQRC_QUEUE_ID, FORAQRC_DOC_TYPE, FORAQRC_RULE_GROUP, FORAQRC_COAS_CODE, FORAQRC_FTYP_CODE, FORAQRC_FUND_CODE, FORAQRC_ORGN_CODE, FORAQRC_ATYP_CODE, FORAQRC_ACCT_CODE, FORAQRC_ACTIVITY_DATE, FORAQRC_USER_ID, FORAQRC_PROG_CODE)  values('B156', 20, 'DBRG', 'A', '', '', '23010', '', '', sysdate, 'RWALDEN', '')\n",
      "execute_sql_insert  exec_time: 0.06927299499511719\n",
      "None\n"
     ]
    }
   ],
   "source": [
    "queue_chain_number = working_session.get_next_queue_number()\n",
    "queue_description = 'Emerg Lighting Upgrade Replacement'\n",
    "queues_to_build = [('A','B',0,['AMUSIAL1','EOBRIEN3']),('B','G',.01,['BJESTER1']),('G','VPAS',4999.99,['SBRAR'])]\n",
    "orgns_to_route = ['23010']\n",
    "working_session.build_a_new_queue_chain(queue_chain_number, queue_description, queues_to_build, orgns_to_route)"
   ],
   "metadata": {
    "collapsed": false
   }
  },
  {
   "cell_type": "code",
   "execution_count": 10,
   "outputs": [
    {
     "name": "stdout",
     "output_type": "stream",
     "text": [
      "select  max(to_number(substr(FTVAPPQ_QUEUE_ID,0,3))) from FTVAPPQ where substr(FTVAPPQ_QUEUE_ID,0,1) in ('0','1','2','3','4','5','6','7','8','9')   \n",
      "execute_sql_query  exec_time: 0.032364845275878906\n",
      "'157A','Fire Pump Replacement',0,'157B', null, sysdate, 'RWALDEN'\n",
      "insert into FTVAPPQ(FTVAPPQ_QUEUE_ID, FTVAPPQ_DESCRIPTION, FTVAPPQ_QUEUE_LIMIT, FTVAPPQ_NEXT_QUEUE_ID, FTVAPPQ_APPROVAL_REQ, FTVAPPQ_ACTIVITY_DATE, FTVAPPQ_USER_ID) values('157A','Fire Pump Replacement',0,'157B', null, sysdate, 'RWALDEN')\n",
      "execute_sql_insert  exec_time: 0.06756424903869629\n",
      "None\n",
      "'157A', 'AMUSIAL1', 10, 0, sysdate, null, null, sysdate, 'RWALDEN'\n",
      "insert into FORAQUS(FORAQUS_QUEUE_ID,FORAQUS_USER_ID_APPR,FORAQUS_QUEUE_LEVEL,FORAQUS_QUEUE_LIMIT,FORAQUS_EFF_DATE,FORAQUS_NCHG_DATE,FORAQUS_TERM_DATE,FORAQUS_ACTIVITY_DATE,FORAQUS_USER_ID) values('157A', 'AMUSIAL1', 10, 0, sysdate, null, null, sysdate, 'RWALDEN')\n",
      "execute_sql_insert  exec_time: 0.06801438331604004\n",
      "None\n",
      "'157A', 'EOBRIEN3', 10, 0, sysdate, null, null, sysdate, 'RWALDEN'\n",
      "insert into FORAQUS(FORAQUS_QUEUE_ID,FORAQUS_USER_ID_APPR,FORAQUS_QUEUE_LEVEL,FORAQUS_QUEUE_LIMIT,FORAQUS_EFF_DATE,FORAQUS_NCHG_DATE,FORAQUS_TERM_DATE,FORAQUS_ACTIVITY_DATE,FORAQUS_USER_ID) values('157A', 'EOBRIEN3', 10, 0, sysdate, null, null, sysdate, 'RWALDEN')\n",
      "execute_sql_insert  exec_time: 0.0682535171508789\n",
      "None\n",
      "'157A', 1, 'REQG', 'A', '', '', '23011', '', '', sysdate, 'RWALDEN', ''\n",
      "'157A', 2, 'CORG', 'A', '', '', '23011', '', '', sysdate, 'RWALDEN', ''\n",
      "insert into FORAQRC(FORAQRC_QUEUE_ID, FORAQRC_DOC_TYPE, FORAQRC_RULE_GROUP, FORAQRC_COAS_CODE, FORAQRC_FTYP_CODE, FORAQRC_FUND_CODE, FORAQRC_ORGN_CODE, FORAQRC_ATYP_CODE, FORAQRC_ACCT_CODE, FORAQRC_ACTIVITY_DATE, FORAQRC_USER_ID, FORAQRC_PROG_CODE)  values('157A', 1, 'REQG', 'A', '', '', '23011', '', '', sysdate, 'RWALDEN', '')\n",
      "execute_sql_insert  exec_time: 0.06632733345031738\n",
      "None\n",
      "insert into FORAQRC(FORAQRC_QUEUE_ID, FORAQRC_DOC_TYPE, FORAQRC_RULE_GROUP, FORAQRC_COAS_CODE, FORAQRC_FTYP_CODE, FORAQRC_FUND_CODE, FORAQRC_ORGN_CODE, FORAQRC_ATYP_CODE, FORAQRC_ACCT_CODE, FORAQRC_ACTIVITY_DATE, FORAQRC_USER_ID, FORAQRC_PROG_CODE)  values('157A', 2, 'CORG', 'A', '', '', '23011', '', '', sysdate, 'RWALDEN', '')\n",
      "execute_sql_insert  exec_time: 0.06801724433898926\n",
      "None\n",
      "'157B','Fire Pump Replacement',0.01,'157G', null, sysdate, 'RWALDEN'\n",
      "insert into FTVAPPQ(FTVAPPQ_QUEUE_ID, FTVAPPQ_DESCRIPTION, FTVAPPQ_QUEUE_LIMIT, FTVAPPQ_NEXT_QUEUE_ID, FTVAPPQ_APPROVAL_REQ, FTVAPPQ_ACTIVITY_DATE, FTVAPPQ_USER_ID) values('157B','Fire Pump Replacement',0.01,'157G', null, sysdate, 'RWALDEN')\n",
      "execute_sql_insert  exec_time: 0.06809163093566895\n",
      "None\n",
      "'157B', 'BJESTER1', 10, 0.01, sysdate, null, null, sysdate, 'RWALDEN'\n",
      "insert into FORAQUS(FORAQUS_QUEUE_ID,FORAQUS_USER_ID_APPR,FORAQUS_QUEUE_LEVEL,FORAQUS_QUEUE_LIMIT,FORAQUS_EFF_DATE,FORAQUS_NCHG_DATE,FORAQUS_TERM_DATE,FORAQUS_ACTIVITY_DATE,FORAQUS_USER_ID) values('157B', 'BJESTER1', 10, 0.01, sysdate, null, null, sysdate, 'RWALDEN')\n",
      "execute_sql_insert  exec_time: 0.06690335273742676\n",
      "None\n",
      "'157G','Fire Pump Replacement',4999.99,'VPAS', null, sysdate, 'RWALDEN'\n",
      "insert into FTVAPPQ(FTVAPPQ_QUEUE_ID, FTVAPPQ_DESCRIPTION, FTVAPPQ_QUEUE_LIMIT, FTVAPPQ_NEXT_QUEUE_ID, FTVAPPQ_APPROVAL_REQ, FTVAPPQ_ACTIVITY_DATE, FTVAPPQ_USER_ID) values('157G','Fire Pump Replacement',4999.99,'VPAS', null, sysdate, 'RWALDEN')\n",
      "execute_sql_insert  exec_time: 0.0669863224029541\n",
      "None\n",
      "'157G', 'SBRAR', 10, 4999.99, sysdate, null, null, sysdate, 'RWALDEN'\n",
      "insert into FORAQUS(FORAQUS_QUEUE_ID,FORAQUS_USER_ID_APPR,FORAQUS_QUEUE_LEVEL,FORAQUS_QUEUE_LIMIT,FORAQUS_EFF_DATE,FORAQUS_NCHG_DATE,FORAQUS_TERM_DATE,FORAQUS_ACTIVITY_DATE,FORAQUS_USER_ID) values('157G', 'SBRAR', 10, 4999.99, sysdate, null, null, sysdate, 'RWALDEN')\n",
      "execute_sql_insert  exec_time: 0.06799840927124023\n",
      "None\n",
      "'B157','Fire Pump Replacement',0,'157G', null, sysdate, 'RWALDEN'\n",
      "insert into FTVAPPQ(FTVAPPQ_QUEUE_ID, FTVAPPQ_DESCRIPTION, FTVAPPQ_QUEUE_LIMIT, FTVAPPQ_NEXT_QUEUE_ID, FTVAPPQ_APPROVAL_REQ, FTVAPPQ_ACTIVITY_DATE, FTVAPPQ_USER_ID) values('B157','Fire Pump Replacement',0,'157G', null, sysdate, 'RWALDEN')\n",
      "execute_sql_insert  exec_time: 0.06745648384094238\n",
      "None\n",
      "'B157', 20, 'DBRG', 'A', '', '', '23011', '', '', sysdate, 'RWALDEN', ''\n",
      "insert into FORAQRC(FORAQRC_QUEUE_ID, FORAQRC_DOC_TYPE, FORAQRC_RULE_GROUP, FORAQRC_COAS_CODE, FORAQRC_FTYP_CODE, FORAQRC_FUND_CODE, FORAQRC_ORGN_CODE, FORAQRC_ATYP_CODE, FORAQRC_ACCT_CODE, FORAQRC_ACTIVITY_DATE, FORAQRC_USER_ID, FORAQRC_PROG_CODE)  values('B157', 20, 'DBRG', 'A', '', '', '23011', '', '', sysdate, 'RWALDEN', '')\n",
      "execute_sql_insert  exec_time: 0.06695199012756348\n",
      "None\n"
     ]
    }
   ],
   "source": [
    "queue_chain_number = working_session.get_next_queue_number()\n",
    "queue_description = 'Fire Pump Replacement'\n",
    "queues_to_build = [('A','B',0,['AMUSIAL1','EOBRIEN3']),('B','G',.01,['BJESTER1']),('G','VPAS',4999.99,['SBRAR'])]\n",
    "orgns_to_route = ['23011']\n",
    "working_session.build_a_new_queue_chain(queue_chain_number, queue_description, queues_to_build, orgns_to_route)"
   ],
   "metadata": {
    "collapsed": false
   }
  },
  {
   "cell_type": "code",
   "execution_count": 11,
   "outputs": [
    {
     "name": "stdout",
     "output_type": "stream",
     "text": [
      "select  max(to_number(substr(FTVAPPQ_QUEUE_ID,0,3))) from FTVAPPQ where substr(FTVAPPQ_QUEUE_ID,0,1) in ('0','1','2','3','4','5','6','7','8','9')   \n",
      "execute_sql_query  exec_time: 0.03303384780883789\n",
      "'158A','Repair Replacement Roof Exhaust Fan',0,'158B', null, sysdate, 'RWALDEN'\n",
      "insert into FTVAPPQ(FTVAPPQ_QUEUE_ID, FTVAPPQ_DESCRIPTION, FTVAPPQ_QUEUE_LIMIT, FTVAPPQ_NEXT_QUEUE_ID, FTVAPPQ_APPROVAL_REQ, FTVAPPQ_ACTIVITY_DATE, FTVAPPQ_USER_ID) values('158A','Repair Replacement Roof Exhaust Fan',0,'158B', null, sysdate, 'RWALDEN')\n",
      "execute_sql_insert  exec_time: 0.07193827629089355\n",
      "None\n",
      "'158A', 'AMUSIAL1', 10, 0, sysdate, null, null, sysdate, 'RWALDEN'\n",
      "insert into FORAQUS(FORAQUS_QUEUE_ID,FORAQUS_USER_ID_APPR,FORAQUS_QUEUE_LEVEL,FORAQUS_QUEUE_LIMIT,FORAQUS_EFF_DATE,FORAQUS_NCHG_DATE,FORAQUS_TERM_DATE,FORAQUS_ACTIVITY_DATE,FORAQUS_USER_ID) values('158A', 'AMUSIAL1', 10, 0, sysdate, null, null, sysdate, 'RWALDEN')\n",
      "execute_sql_insert  exec_time: 0.07085895538330078\n",
      "None\n",
      "'158A', 'EOBRIEN3', 10, 0, sysdate, null, null, sysdate, 'RWALDEN'\n",
      "insert into FORAQUS(FORAQUS_QUEUE_ID,FORAQUS_USER_ID_APPR,FORAQUS_QUEUE_LEVEL,FORAQUS_QUEUE_LIMIT,FORAQUS_EFF_DATE,FORAQUS_NCHG_DATE,FORAQUS_TERM_DATE,FORAQUS_ACTIVITY_DATE,FORAQUS_USER_ID) values('158A', 'EOBRIEN3', 10, 0, sysdate, null, null, sysdate, 'RWALDEN')\n",
      "execute_sql_insert  exec_time: 0.06999444961547852\n",
      "None\n",
      "'158A', 1, 'REQG', 'A', '', '', '23012', '', '', sysdate, 'RWALDEN', ''\n",
      "'158A', 2, 'CORG', 'A', '', '', '23012', '', '', sysdate, 'RWALDEN', ''\n",
      "insert into FORAQRC(FORAQRC_QUEUE_ID, FORAQRC_DOC_TYPE, FORAQRC_RULE_GROUP, FORAQRC_COAS_CODE, FORAQRC_FTYP_CODE, FORAQRC_FUND_CODE, FORAQRC_ORGN_CODE, FORAQRC_ATYP_CODE, FORAQRC_ACCT_CODE, FORAQRC_ACTIVITY_DATE, FORAQRC_USER_ID, FORAQRC_PROG_CODE)  values('158A', 1, 'REQG', 'A', '', '', '23012', '', '', sysdate, 'RWALDEN', '')\n",
      "execute_sql_insert  exec_time: 0.06900310516357422\n",
      "None\n",
      "insert into FORAQRC(FORAQRC_QUEUE_ID, FORAQRC_DOC_TYPE, FORAQRC_RULE_GROUP, FORAQRC_COAS_CODE, FORAQRC_FTYP_CODE, FORAQRC_FUND_CODE, FORAQRC_ORGN_CODE, FORAQRC_ATYP_CODE, FORAQRC_ACCT_CODE, FORAQRC_ACTIVITY_DATE, FORAQRC_USER_ID, FORAQRC_PROG_CODE)  values('158A', 2, 'CORG', 'A', '', '', '23012', '', '', sysdate, 'RWALDEN', '')\n",
      "execute_sql_insert  exec_time: 0.06896281242370605\n",
      "None\n",
      "'158B','Repair Replacement Roof Exhaust Fan',0.01,'158G', null, sysdate, 'RWALDEN'\n",
      "insert into FTVAPPQ(FTVAPPQ_QUEUE_ID, FTVAPPQ_DESCRIPTION, FTVAPPQ_QUEUE_LIMIT, FTVAPPQ_NEXT_QUEUE_ID, FTVAPPQ_APPROVAL_REQ, FTVAPPQ_ACTIVITY_DATE, FTVAPPQ_USER_ID) values('158B','Repair Replacement Roof Exhaust Fan',0.01,'158G', null, sysdate, 'RWALDEN')\n",
      "execute_sql_insert  exec_time: 0.06830954551696777\n",
      "None\n",
      "'158B', 'BJESTER1', 10, 0.01, sysdate, null, null, sysdate, 'RWALDEN'\n",
      "insert into FORAQUS(FORAQUS_QUEUE_ID,FORAQUS_USER_ID_APPR,FORAQUS_QUEUE_LEVEL,FORAQUS_QUEUE_LIMIT,FORAQUS_EFF_DATE,FORAQUS_NCHG_DATE,FORAQUS_TERM_DATE,FORAQUS_ACTIVITY_DATE,FORAQUS_USER_ID) values('158B', 'BJESTER1', 10, 0.01, sysdate, null, null, sysdate, 'RWALDEN')\n",
      "execute_sql_insert  exec_time: 0.06864380836486816\n",
      "None\n",
      "'158G','Repair Replacement Roof Exhaust Fan',4999.99,'VPAS', null, sysdate, 'RWALDEN'\n",
      "insert into FTVAPPQ(FTVAPPQ_QUEUE_ID, FTVAPPQ_DESCRIPTION, FTVAPPQ_QUEUE_LIMIT, FTVAPPQ_NEXT_QUEUE_ID, FTVAPPQ_APPROVAL_REQ, FTVAPPQ_ACTIVITY_DATE, FTVAPPQ_USER_ID) values('158G','Repair Replacement Roof Exhaust Fan',4999.99,'VPAS', null, sysdate, 'RWALDEN')\n",
      "execute_sql_insert  exec_time: 0.0705411434173584\n",
      "None\n",
      "'158G', 'SBRAR', 10, 4999.99, sysdate, null, null, sysdate, 'RWALDEN'\n",
      "insert into FORAQUS(FORAQUS_QUEUE_ID,FORAQUS_USER_ID_APPR,FORAQUS_QUEUE_LEVEL,FORAQUS_QUEUE_LIMIT,FORAQUS_EFF_DATE,FORAQUS_NCHG_DATE,FORAQUS_TERM_DATE,FORAQUS_ACTIVITY_DATE,FORAQUS_USER_ID) values('158G', 'SBRAR', 10, 4999.99, sysdate, null, null, sysdate, 'RWALDEN')\n",
      "execute_sql_insert  exec_time: 0.06970930099487305\n",
      "None\n",
      "'B158','Repair Replacement Roof Exhaust Fan',0,'158G', null, sysdate, 'RWALDEN'\n",
      "insert into FTVAPPQ(FTVAPPQ_QUEUE_ID, FTVAPPQ_DESCRIPTION, FTVAPPQ_QUEUE_LIMIT, FTVAPPQ_NEXT_QUEUE_ID, FTVAPPQ_APPROVAL_REQ, FTVAPPQ_ACTIVITY_DATE, FTVAPPQ_USER_ID) values('B158','Repair Replacement Roof Exhaust Fan',0,'158G', null, sysdate, 'RWALDEN')\n",
      "execute_sql_insert  exec_time: 0.06746983528137207\n",
      "None\n",
      "'B158', 20, 'DBRG', 'A', '', '', '23012', '', '', sysdate, 'RWALDEN', ''\n",
      "insert into FORAQRC(FORAQRC_QUEUE_ID, FORAQRC_DOC_TYPE, FORAQRC_RULE_GROUP, FORAQRC_COAS_CODE, FORAQRC_FTYP_CODE, FORAQRC_FUND_CODE, FORAQRC_ORGN_CODE, FORAQRC_ATYP_CODE, FORAQRC_ACCT_CODE, FORAQRC_ACTIVITY_DATE, FORAQRC_USER_ID, FORAQRC_PROG_CODE)  values('B158', 20, 'DBRG', 'A', '', '', '23012', '', '', sysdate, 'RWALDEN', '')\n",
      "execute_sql_insert  exec_time: 0.06877517700195312\n",
      "None\n"
     ]
    }
   ],
   "source": [
    "queue_chain_number = working_session.get_next_queue_number()\n",
    "queue_description = 'Repair Replacement Roof Exhaust Fan'\n",
    "queues_to_build = [('A','B',0,['AMUSIAL1','EOBRIEN3']),('B','G',.01,['BJESTER1']),('G','VPAS',4999.99,['SBRAR'])]\n",
    "orgns_to_route = ['23012']\n",
    "working_session.build_a_new_queue_chain(queue_chain_number, queue_description, queues_to_build, orgns_to_route)"
   ],
   "metadata": {
    "collapsed": false
   }
  },
  {
   "cell_type": "code",
   "execution_count": 12,
   "outputs": [
    {
     "name": "stdout",
     "output_type": "stream",
     "text": [
      "select  max(to_number(substr(FTVAPPQ_QUEUE_ID,0,3))) from FTVAPPQ where substr(FTVAPPQ_QUEUE_ID,0,1) in ('0','1','2','3','4','5','6','7','8','9')   \n",
      "execute_sql_query  exec_time: 0.033031463623046875\n",
      "'159A','HVAC VFD Replacement',0,'159B', null, sysdate, 'RWALDEN'\n",
      "insert into FTVAPPQ(FTVAPPQ_QUEUE_ID, FTVAPPQ_DESCRIPTION, FTVAPPQ_QUEUE_LIMIT, FTVAPPQ_NEXT_QUEUE_ID, FTVAPPQ_APPROVAL_REQ, FTVAPPQ_ACTIVITY_DATE, FTVAPPQ_USER_ID) values('159A','HVAC VFD Replacement',0,'159B', null, sysdate, 'RWALDEN')\n",
      "execute_sql_insert  exec_time: 0.06721234321594238\n",
      "None\n",
      "'159A', 'AMUSIAL1', 10, 0, sysdate, null, null, sysdate, 'RWALDEN'\n",
      "insert into FORAQUS(FORAQUS_QUEUE_ID,FORAQUS_USER_ID_APPR,FORAQUS_QUEUE_LEVEL,FORAQUS_QUEUE_LIMIT,FORAQUS_EFF_DATE,FORAQUS_NCHG_DATE,FORAQUS_TERM_DATE,FORAQUS_ACTIVITY_DATE,FORAQUS_USER_ID) values('159A', 'AMUSIAL1', 10, 0, sysdate, null, null, sysdate, 'RWALDEN')\n",
      "execute_sql_insert  exec_time: 0.06857419013977051\n",
      "None\n",
      "'159A', 'EOBRIEN3', 10, 0, sysdate, null, null, sysdate, 'RWALDEN'\n",
      "insert into FORAQUS(FORAQUS_QUEUE_ID,FORAQUS_USER_ID_APPR,FORAQUS_QUEUE_LEVEL,FORAQUS_QUEUE_LIMIT,FORAQUS_EFF_DATE,FORAQUS_NCHG_DATE,FORAQUS_TERM_DATE,FORAQUS_ACTIVITY_DATE,FORAQUS_USER_ID) values('159A', 'EOBRIEN3', 10, 0, sysdate, null, null, sysdate, 'RWALDEN')\n",
      "execute_sql_insert  exec_time: 0.06904029846191406\n",
      "None\n",
      "'159A', 1, 'REQG', 'A', '', '', '23013', '', '', sysdate, 'RWALDEN', ''\n",
      "'159A', 2, 'CORG', 'A', '', '', '23013', '', '', sysdate, 'RWALDEN', ''\n",
      "insert into FORAQRC(FORAQRC_QUEUE_ID, FORAQRC_DOC_TYPE, FORAQRC_RULE_GROUP, FORAQRC_COAS_CODE, FORAQRC_FTYP_CODE, FORAQRC_FUND_CODE, FORAQRC_ORGN_CODE, FORAQRC_ATYP_CODE, FORAQRC_ACCT_CODE, FORAQRC_ACTIVITY_DATE, FORAQRC_USER_ID, FORAQRC_PROG_CODE)  values('159A', 1, 'REQG', 'A', '', '', '23013', '', '', sysdate, 'RWALDEN', '')\n",
      "execute_sql_insert  exec_time: 0.06879472732543945\n",
      "None\n",
      "insert into FORAQRC(FORAQRC_QUEUE_ID, FORAQRC_DOC_TYPE, FORAQRC_RULE_GROUP, FORAQRC_COAS_CODE, FORAQRC_FTYP_CODE, FORAQRC_FUND_CODE, FORAQRC_ORGN_CODE, FORAQRC_ATYP_CODE, FORAQRC_ACCT_CODE, FORAQRC_ACTIVITY_DATE, FORAQRC_USER_ID, FORAQRC_PROG_CODE)  values('159A', 2, 'CORG', 'A', '', '', '23013', '', '', sysdate, 'RWALDEN', '')\n",
      "execute_sql_insert  exec_time: 0.0680243968963623\n",
      "None\n",
      "'159B','HVAC VFD Replacement',0.01,'159G', null, sysdate, 'RWALDEN'\n",
      "insert into FTVAPPQ(FTVAPPQ_QUEUE_ID, FTVAPPQ_DESCRIPTION, FTVAPPQ_QUEUE_LIMIT, FTVAPPQ_NEXT_QUEUE_ID, FTVAPPQ_APPROVAL_REQ, FTVAPPQ_ACTIVITY_DATE, FTVAPPQ_USER_ID) values('159B','HVAC VFD Replacement',0.01,'159G', null, sysdate, 'RWALDEN')\n",
      "execute_sql_insert  exec_time: 0.06985878944396973\n",
      "None\n",
      "'159B', 'BJESTER1', 10, 0.01, sysdate, null, null, sysdate, 'RWALDEN'\n",
      "insert into FORAQUS(FORAQUS_QUEUE_ID,FORAQUS_USER_ID_APPR,FORAQUS_QUEUE_LEVEL,FORAQUS_QUEUE_LIMIT,FORAQUS_EFF_DATE,FORAQUS_NCHG_DATE,FORAQUS_TERM_DATE,FORAQUS_ACTIVITY_DATE,FORAQUS_USER_ID) values('159B', 'BJESTER1', 10, 0.01, sysdate, null, null, sysdate, 'RWALDEN')\n",
      "execute_sql_insert  exec_time: 0.06816744804382324\n",
      "None\n",
      "'159G','HVAC VFD Replacement',4999.99,'VPAS', null, sysdate, 'RWALDEN'\n",
      "insert into FTVAPPQ(FTVAPPQ_QUEUE_ID, FTVAPPQ_DESCRIPTION, FTVAPPQ_QUEUE_LIMIT, FTVAPPQ_NEXT_QUEUE_ID, FTVAPPQ_APPROVAL_REQ, FTVAPPQ_ACTIVITY_DATE, FTVAPPQ_USER_ID) values('159G','HVAC VFD Replacement',4999.99,'VPAS', null, sysdate, 'RWALDEN')\n",
      "execute_sql_insert  exec_time: 0.06802821159362793\n",
      "None\n",
      "'159G', 'SBRAR', 10, 4999.99, sysdate, null, null, sysdate, 'RWALDEN'\n",
      "insert into FORAQUS(FORAQUS_QUEUE_ID,FORAQUS_USER_ID_APPR,FORAQUS_QUEUE_LEVEL,FORAQUS_QUEUE_LIMIT,FORAQUS_EFF_DATE,FORAQUS_NCHG_DATE,FORAQUS_TERM_DATE,FORAQUS_ACTIVITY_DATE,FORAQUS_USER_ID) values('159G', 'SBRAR', 10, 4999.99, sysdate, null, null, sysdate, 'RWALDEN')\n",
      "execute_sql_insert  exec_time: 0.0666356086730957\n",
      "None\n",
      "'B159','HVAC VFD Replacement',0,'159G', null, sysdate, 'RWALDEN'\n",
      "insert into FTVAPPQ(FTVAPPQ_QUEUE_ID, FTVAPPQ_DESCRIPTION, FTVAPPQ_QUEUE_LIMIT, FTVAPPQ_NEXT_QUEUE_ID, FTVAPPQ_APPROVAL_REQ, FTVAPPQ_ACTIVITY_DATE, FTVAPPQ_USER_ID) values('B159','HVAC VFD Replacement',0,'159G', null, sysdate, 'RWALDEN')\n",
      "execute_sql_insert  exec_time: 0.06929278373718262\n",
      "None\n",
      "'B159', 20, 'DBRG', 'A', '', '', '23013', '', '', sysdate, 'RWALDEN', ''\n",
      "insert into FORAQRC(FORAQRC_QUEUE_ID, FORAQRC_DOC_TYPE, FORAQRC_RULE_GROUP, FORAQRC_COAS_CODE, FORAQRC_FTYP_CODE, FORAQRC_FUND_CODE, FORAQRC_ORGN_CODE, FORAQRC_ATYP_CODE, FORAQRC_ACCT_CODE, FORAQRC_ACTIVITY_DATE, FORAQRC_USER_ID, FORAQRC_PROG_CODE)  values('B159', 20, 'DBRG', 'A', '', '', '23013', '', '', sysdate, 'RWALDEN', '')\n",
      "execute_sql_insert  exec_time: 0.06844377517700195\n",
      "None\n"
     ]
    }
   ],
   "source": [
    "queue_chain_number = working_session.get_next_queue_number()\n",
    "queue_description = 'HVAC VFD Replacement'\n",
    "queues_to_build = [('A','B',0,['AMUSIAL1','EOBRIEN3']),('B','G',.01,['BJESTER1']),('G','VPAS',4999.99,['SBRAR'])]\n",
    "orgns_to_route = ['23013']\n",
    "working_session.build_a_new_queue_chain(queue_chain_number, queue_description, queues_to_build, orgns_to_route)"
   ],
   "metadata": {
    "collapsed": false
   }
  },
  {
   "cell_type": "code",
   "execution_count": 13,
   "outputs": [
    {
     "name": "stdout",
     "output_type": "stream",
     "text": [
      "select  max(to_number(substr(FTVAPPQ_QUEUE_ID,0,3))) from FTVAPPQ where substr(FTVAPPQ_QUEUE_ID,0,1) in ('0','1','2','3','4','5','6','7','8','9')   \n",
      "execute_sql_query  exec_time: 0.03290724754333496\n",
      "'160A','Lighting Control System Replacement',0,'160B', null, sysdate, 'RWALDEN'\n",
      "insert into FTVAPPQ(FTVAPPQ_QUEUE_ID, FTVAPPQ_DESCRIPTION, FTVAPPQ_QUEUE_LIMIT, FTVAPPQ_NEXT_QUEUE_ID, FTVAPPQ_APPROVAL_REQ, FTVAPPQ_ACTIVITY_DATE, FTVAPPQ_USER_ID) values('160A','Lighting Control System Replacement',0,'160B', null, sysdate, 'RWALDEN')\n",
      "execute_sql_insert  exec_time: 0.06733202934265137\n",
      "None\n",
      "'160A', 'AMUSIAL1', 10, 0, sysdate, null, null, sysdate, 'RWALDEN'\n",
      "insert into FORAQUS(FORAQUS_QUEUE_ID,FORAQUS_USER_ID_APPR,FORAQUS_QUEUE_LEVEL,FORAQUS_QUEUE_LIMIT,FORAQUS_EFF_DATE,FORAQUS_NCHG_DATE,FORAQUS_TERM_DATE,FORAQUS_ACTIVITY_DATE,FORAQUS_USER_ID) values('160A', 'AMUSIAL1', 10, 0, sysdate, null, null, sysdate, 'RWALDEN')\n",
      "execute_sql_insert  exec_time: 0.0690619945526123\n",
      "None\n",
      "'160A', 'EOBRIEN3', 10, 0, sysdate, null, null, sysdate, 'RWALDEN'\n",
      "insert into FORAQUS(FORAQUS_QUEUE_ID,FORAQUS_USER_ID_APPR,FORAQUS_QUEUE_LEVEL,FORAQUS_QUEUE_LIMIT,FORAQUS_EFF_DATE,FORAQUS_NCHG_DATE,FORAQUS_TERM_DATE,FORAQUS_ACTIVITY_DATE,FORAQUS_USER_ID) values('160A', 'EOBRIEN3', 10, 0, sysdate, null, null, sysdate, 'RWALDEN')\n",
      "execute_sql_insert  exec_time: 0.06644940376281738\n",
      "None\n",
      "'160A', 1, 'REQG', 'A', '', '', '23014', '', '', sysdate, 'RWALDEN', ''\n",
      "'160A', 2, 'CORG', 'A', '', '', '23014', '', '', sysdate, 'RWALDEN', ''\n",
      "insert into FORAQRC(FORAQRC_QUEUE_ID, FORAQRC_DOC_TYPE, FORAQRC_RULE_GROUP, FORAQRC_COAS_CODE, FORAQRC_FTYP_CODE, FORAQRC_FUND_CODE, FORAQRC_ORGN_CODE, FORAQRC_ATYP_CODE, FORAQRC_ACCT_CODE, FORAQRC_ACTIVITY_DATE, FORAQRC_USER_ID, FORAQRC_PROG_CODE)  values('160A', 1, 'REQG', 'A', '', '', '23014', '', '', sysdate, 'RWALDEN', '')\n",
      "execute_sql_insert  exec_time: 0.06614089012145996\n",
      "None\n",
      "insert into FORAQRC(FORAQRC_QUEUE_ID, FORAQRC_DOC_TYPE, FORAQRC_RULE_GROUP, FORAQRC_COAS_CODE, FORAQRC_FTYP_CODE, FORAQRC_FUND_CODE, FORAQRC_ORGN_CODE, FORAQRC_ATYP_CODE, FORAQRC_ACCT_CODE, FORAQRC_ACTIVITY_DATE, FORAQRC_USER_ID, FORAQRC_PROG_CODE)  values('160A', 2, 'CORG', 'A', '', '', '23014', '', '', sysdate, 'RWALDEN', '')\n",
      "execute_sql_insert  exec_time: 0.06659674644470215\n",
      "None\n",
      "'160B','Lighting Control System Replacement',0.01,'160G', null, sysdate, 'RWALDEN'\n",
      "insert into FTVAPPQ(FTVAPPQ_QUEUE_ID, FTVAPPQ_DESCRIPTION, FTVAPPQ_QUEUE_LIMIT, FTVAPPQ_NEXT_QUEUE_ID, FTVAPPQ_APPROVAL_REQ, FTVAPPQ_ACTIVITY_DATE, FTVAPPQ_USER_ID) values('160B','Lighting Control System Replacement',0.01,'160G', null, sysdate, 'RWALDEN')\n",
      "execute_sql_insert  exec_time: 0.06673812866210938\n",
      "None\n",
      "'160B', 'BJESTER1', 10, 0.01, sysdate, null, null, sysdate, 'RWALDEN'\n",
      "insert into FORAQUS(FORAQUS_QUEUE_ID,FORAQUS_USER_ID_APPR,FORAQUS_QUEUE_LEVEL,FORAQUS_QUEUE_LIMIT,FORAQUS_EFF_DATE,FORAQUS_NCHG_DATE,FORAQUS_TERM_DATE,FORAQUS_ACTIVITY_DATE,FORAQUS_USER_ID) values('160B', 'BJESTER1', 10, 0.01, sysdate, null, null, sysdate, 'RWALDEN')\n",
      "execute_sql_insert  exec_time: 0.0670480728149414\n",
      "None\n",
      "'160G','Lighting Control System Replacement',4999.99,'VPAS', null, sysdate, 'RWALDEN'\n",
      "insert into FTVAPPQ(FTVAPPQ_QUEUE_ID, FTVAPPQ_DESCRIPTION, FTVAPPQ_QUEUE_LIMIT, FTVAPPQ_NEXT_QUEUE_ID, FTVAPPQ_APPROVAL_REQ, FTVAPPQ_ACTIVITY_DATE, FTVAPPQ_USER_ID) values('160G','Lighting Control System Replacement',4999.99,'VPAS', null, sysdate, 'RWALDEN')\n",
      "execute_sql_insert  exec_time: 0.06898379325866699\n",
      "None\n",
      "'160G', 'SBRAR', 10, 4999.99, sysdate, null, null, sysdate, 'RWALDEN'\n",
      "insert into FORAQUS(FORAQUS_QUEUE_ID,FORAQUS_USER_ID_APPR,FORAQUS_QUEUE_LEVEL,FORAQUS_QUEUE_LIMIT,FORAQUS_EFF_DATE,FORAQUS_NCHG_DATE,FORAQUS_TERM_DATE,FORAQUS_ACTIVITY_DATE,FORAQUS_USER_ID) values('160G', 'SBRAR', 10, 4999.99, sysdate, null, null, sysdate, 'RWALDEN')\n",
      "execute_sql_insert  exec_time: 0.06699395179748535\n",
      "None\n",
      "'B160','Lighting Control System Replacement',0,'160G', null, sysdate, 'RWALDEN'\n",
      "insert into FTVAPPQ(FTVAPPQ_QUEUE_ID, FTVAPPQ_DESCRIPTION, FTVAPPQ_QUEUE_LIMIT, FTVAPPQ_NEXT_QUEUE_ID, FTVAPPQ_APPROVAL_REQ, FTVAPPQ_ACTIVITY_DATE, FTVAPPQ_USER_ID) values('B160','Lighting Control System Replacement',0,'160G', null, sysdate, 'RWALDEN')\n",
      "execute_sql_insert  exec_time: 0.06746125221252441\n",
      "None\n",
      "'B160', 20, 'DBRG', 'A', '', '', '23014', '', '', sysdate, 'RWALDEN', ''\n",
      "insert into FORAQRC(FORAQRC_QUEUE_ID, FORAQRC_DOC_TYPE, FORAQRC_RULE_GROUP, FORAQRC_COAS_CODE, FORAQRC_FTYP_CODE, FORAQRC_FUND_CODE, FORAQRC_ORGN_CODE, FORAQRC_ATYP_CODE, FORAQRC_ACCT_CODE, FORAQRC_ACTIVITY_DATE, FORAQRC_USER_ID, FORAQRC_PROG_CODE)  values('B160', 20, 'DBRG', 'A', '', '', '23014', '', '', sysdate, 'RWALDEN', '')\n",
      "execute_sql_insert  exec_time: 0.06895589828491211\n",
      "None\n"
     ]
    }
   ],
   "source": [
    "queue_chain_number = working_session.get_next_queue_number()\n",
    "queue_description = 'Lighting Control System Replacement'\n",
    "queues_to_build = [('A','B',0,['AMUSIAL1','EOBRIEN3']),('B','G',.01,['BJESTER1']),('G','VPAS',4999.99,['SBRAR'])]\n",
    "orgns_to_route = ['23014']\n",
    "working_session.build_a_new_queue_chain(queue_chain_number, queue_description, queues_to_build, orgns_to_route)"
   ],
   "metadata": {
    "collapsed": false
   }
  },
  {
   "cell_type": "code",
   "execution_count": 14,
   "outputs": [
    {
     "name": "stdout",
     "output_type": "stream",
     "text": [
      "select  max(to_number(substr(FTVAPPQ_QUEUE_ID,0,3))) from FTVAPPQ where substr(FTVAPPQ_QUEUE_ID,0,1) in ('0','1','2','3','4','5','6','7','8','9')   \n",
      "execute_sql_query  exec_time: 0.0324859619140625\n",
      "'161A','LandscapeAccessPointCampusPathway',0,'161B', null, sysdate, 'RWALDEN'\n",
      "insert into FTVAPPQ(FTVAPPQ_QUEUE_ID, FTVAPPQ_DESCRIPTION, FTVAPPQ_QUEUE_LIMIT, FTVAPPQ_NEXT_QUEUE_ID, FTVAPPQ_APPROVAL_REQ, FTVAPPQ_ACTIVITY_DATE, FTVAPPQ_USER_ID) values('161A','LandscapeAccessPointCampusPathway',0,'161B', null, sysdate, 'RWALDEN')\n",
      "execute_sql_insert  exec_time: 0.06648755073547363\n",
      "None\n",
      "'161A', 'AMUSIAL1', 10, 0, sysdate, null, null, sysdate, 'RWALDEN'\n",
      "insert into FORAQUS(FORAQUS_QUEUE_ID,FORAQUS_USER_ID_APPR,FORAQUS_QUEUE_LEVEL,FORAQUS_QUEUE_LIMIT,FORAQUS_EFF_DATE,FORAQUS_NCHG_DATE,FORAQUS_TERM_DATE,FORAQUS_ACTIVITY_DATE,FORAQUS_USER_ID) values('161A', 'AMUSIAL1', 10, 0, sysdate, null, null, sysdate, 'RWALDEN')\n",
      "execute_sql_insert  exec_time: 0.06601262092590332\n",
      "None\n",
      "'161A', 'EOBRIEN3', 10, 0, sysdate, null, null, sysdate, 'RWALDEN'\n",
      "insert into FORAQUS(FORAQUS_QUEUE_ID,FORAQUS_USER_ID_APPR,FORAQUS_QUEUE_LEVEL,FORAQUS_QUEUE_LIMIT,FORAQUS_EFF_DATE,FORAQUS_NCHG_DATE,FORAQUS_TERM_DATE,FORAQUS_ACTIVITY_DATE,FORAQUS_USER_ID) values('161A', 'EOBRIEN3', 10, 0, sysdate, null, null, sysdate, 'RWALDEN')\n",
      "execute_sql_insert  exec_time: 0.06798744201660156\n",
      "None\n",
      "'161A', 1, 'REQG', 'A', '', '', '23015', '', '', sysdate, 'RWALDEN', ''\n",
      "'161A', 2, 'CORG', 'A', '', '', '23015', '', '', sysdate, 'RWALDEN', ''\n",
      "insert into FORAQRC(FORAQRC_QUEUE_ID, FORAQRC_DOC_TYPE, FORAQRC_RULE_GROUP, FORAQRC_COAS_CODE, FORAQRC_FTYP_CODE, FORAQRC_FUND_CODE, FORAQRC_ORGN_CODE, FORAQRC_ATYP_CODE, FORAQRC_ACCT_CODE, FORAQRC_ACTIVITY_DATE, FORAQRC_USER_ID, FORAQRC_PROG_CODE)  values('161A', 1, 'REQG', 'A', '', '', '23015', '', '', sysdate, 'RWALDEN', '')\n",
      "execute_sql_insert  exec_time: 0.06749558448791504\n",
      "None\n",
      "insert into FORAQRC(FORAQRC_QUEUE_ID, FORAQRC_DOC_TYPE, FORAQRC_RULE_GROUP, FORAQRC_COAS_CODE, FORAQRC_FTYP_CODE, FORAQRC_FUND_CODE, FORAQRC_ORGN_CODE, FORAQRC_ATYP_CODE, FORAQRC_ACCT_CODE, FORAQRC_ACTIVITY_DATE, FORAQRC_USER_ID, FORAQRC_PROG_CODE)  values('161A', 2, 'CORG', 'A', '', '', '23015', '', '', sysdate, 'RWALDEN', '')\n",
      "execute_sql_insert  exec_time: 0.0681767463684082\n",
      "None\n",
      "'161B','LandscapeAccessPointCampusPathway',0.01,'161G', null, sysdate, 'RWALDEN'\n",
      "insert into FTVAPPQ(FTVAPPQ_QUEUE_ID, FTVAPPQ_DESCRIPTION, FTVAPPQ_QUEUE_LIMIT, FTVAPPQ_NEXT_QUEUE_ID, FTVAPPQ_APPROVAL_REQ, FTVAPPQ_ACTIVITY_DATE, FTVAPPQ_USER_ID) values('161B','LandscapeAccessPointCampusPathway',0.01,'161G', null, sysdate, 'RWALDEN')\n",
      "execute_sql_insert  exec_time: 0.06899213790893555\n",
      "None\n",
      "'161B', 'BJESTER1', 10, 0.01, sysdate, null, null, sysdate, 'RWALDEN'\n",
      "insert into FORAQUS(FORAQUS_QUEUE_ID,FORAQUS_USER_ID_APPR,FORAQUS_QUEUE_LEVEL,FORAQUS_QUEUE_LIMIT,FORAQUS_EFF_DATE,FORAQUS_NCHG_DATE,FORAQUS_TERM_DATE,FORAQUS_ACTIVITY_DATE,FORAQUS_USER_ID) values('161B', 'BJESTER1', 10, 0.01, sysdate, null, null, sysdate, 'RWALDEN')\n",
      "execute_sql_insert  exec_time: 0.06798815727233887\n",
      "None\n",
      "'161G','LandscapeAccessPointCampusPathway',4999.99,'VPAS', null, sysdate, 'RWALDEN'\n",
      "insert into FTVAPPQ(FTVAPPQ_QUEUE_ID, FTVAPPQ_DESCRIPTION, FTVAPPQ_QUEUE_LIMIT, FTVAPPQ_NEXT_QUEUE_ID, FTVAPPQ_APPROVAL_REQ, FTVAPPQ_ACTIVITY_DATE, FTVAPPQ_USER_ID) values('161G','LandscapeAccessPointCampusPathway',4999.99,'VPAS', null, sysdate, 'RWALDEN')\n",
      "execute_sql_insert  exec_time: 0.06899499893188477\n",
      "None\n",
      "'161G', 'SBRAR', 10, 4999.99, sysdate, null, null, sysdate, 'RWALDEN'\n",
      "insert into FORAQUS(FORAQUS_QUEUE_ID,FORAQUS_USER_ID_APPR,FORAQUS_QUEUE_LEVEL,FORAQUS_QUEUE_LIMIT,FORAQUS_EFF_DATE,FORAQUS_NCHG_DATE,FORAQUS_TERM_DATE,FORAQUS_ACTIVITY_DATE,FORAQUS_USER_ID) values('161G', 'SBRAR', 10, 4999.99, sysdate, null, null, sysdate, 'RWALDEN')\n",
      "execute_sql_insert  exec_time: 0.06869888305664062\n",
      "None\n",
      "'B161','LandscapeAccessPointCampusPathway',0,'161G', null, sysdate, 'RWALDEN'\n",
      "insert into FTVAPPQ(FTVAPPQ_QUEUE_ID, FTVAPPQ_DESCRIPTION, FTVAPPQ_QUEUE_LIMIT, FTVAPPQ_NEXT_QUEUE_ID, FTVAPPQ_APPROVAL_REQ, FTVAPPQ_ACTIVITY_DATE, FTVAPPQ_USER_ID) values('B161','LandscapeAccessPointCampusPathway',0,'161G', null, sysdate, 'RWALDEN')\n",
      "execute_sql_insert  exec_time: 0.06643462181091309\n",
      "None\n",
      "'B161', 20, 'DBRG', 'A', '', '', '23015', '', '', sysdate, 'RWALDEN', ''\n",
      "insert into FORAQRC(FORAQRC_QUEUE_ID, FORAQRC_DOC_TYPE, FORAQRC_RULE_GROUP, FORAQRC_COAS_CODE, FORAQRC_FTYP_CODE, FORAQRC_FUND_CODE, FORAQRC_ORGN_CODE, FORAQRC_ATYP_CODE, FORAQRC_ACCT_CODE, FORAQRC_ACTIVITY_DATE, FORAQRC_USER_ID, FORAQRC_PROG_CODE)  values('B161', 20, 'DBRG', 'A', '', '', '23015', '', '', sysdate, 'RWALDEN', '')\n",
      "execute_sql_insert  exec_time: 0.06710624694824219\n",
      "None\n"
     ]
    }
   ],
   "source": [
    "queue_chain_number = working_session.get_next_queue_number()\n",
    "queue_description = 'LandscapeAccessPointCampusPathway'\n",
    "queues_to_build = [('A','B',0,['AMUSIAL1','EOBRIEN3']),('B','G',.01,['BJESTER1']),('G','VPAS',4999.99,['SBRAR'])]\n",
    "orgns_to_route = ['23015']\n",
    "working_session.build_a_new_queue_chain(queue_chain_number, queue_description, queues_to_build, orgns_to_route)"
   ],
   "metadata": {
    "collapsed": false
   }
  },
  {
   "cell_type": "code",
   "execution_count": 15,
   "outputs": [
    {
     "name": "stdout",
     "output_type": "stream",
     "text": [
      "select  max(to_number(substr(FTVAPPQ_QUEUE_ID,0,3))) from FTVAPPQ where substr(FTVAPPQ_QUEUE_ID,0,1) in ('0','1','2','3','4','5','6','7','8','9')   \n",
      "execute_sql_query  exec_time: 0.032628536224365234\n",
      "'162A','HVAC Heating Units Upgrade Replacem',0,'162B', null, sysdate, 'RWALDEN'\n",
      "insert into FTVAPPQ(FTVAPPQ_QUEUE_ID, FTVAPPQ_DESCRIPTION, FTVAPPQ_QUEUE_LIMIT, FTVAPPQ_NEXT_QUEUE_ID, FTVAPPQ_APPROVAL_REQ, FTVAPPQ_ACTIVITY_DATE, FTVAPPQ_USER_ID) values('162A','HVAC Heating Units Upgrade Replacem',0,'162B', null, sysdate, 'RWALDEN')\n",
      "execute_sql_insert  exec_time: 0.06900548934936523\n",
      "None\n",
      "'162A', 'AMUSIAL1', 10, 0, sysdate, null, null, sysdate, 'RWALDEN'\n",
      "insert into FORAQUS(FORAQUS_QUEUE_ID,FORAQUS_USER_ID_APPR,FORAQUS_QUEUE_LEVEL,FORAQUS_QUEUE_LIMIT,FORAQUS_EFF_DATE,FORAQUS_NCHG_DATE,FORAQUS_TERM_DATE,FORAQUS_ACTIVITY_DATE,FORAQUS_USER_ID) values('162A', 'AMUSIAL1', 10, 0, sysdate, null, null, sysdate, 'RWALDEN')\n",
      "execute_sql_insert  exec_time: 0.0701138973236084\n",
      "None\n",
      "'162A', 'EOBRIEN3', 10, 0, sysdate, null, null, sysdate, 'RWALDEN'\n",
      "insert into FORAQUS(FORAQUS_QUEUE_ID,FORAQUS_USER_ID_APPR,FORAQUS_QUEUE_LEVEL,FORAQUS_QUEUE_LIMIT,FORAQUS_EFF_DATE,FORAQUS_NCHG_DATE,FORAQUS_TERM_DATE,FORAQUS_ACTIVITY_DATE,FORAQUS_USER_ID) values('162A', 'EOBRIEN3', 10, 0, sysdate, null, null, sysdate, 'RWALDEN')\n",
      "execute_sql_insert  exec_time: 0.06799554824829102\n",
      "None\n",
      "'162A', 1, 'REQG', 'A', '', '', '23016', '', '', sysdate, 'RWALDEN', ''\n",
      "'162A', 2, 'CORG', 'A', '', '', '23016', '', '', sysdate, 'RWALDEN', ''\n",
      "insert into FORAQRC(FORAQRC_QUEUE_ID, FORAQRC_DOC_TYPE, FORAQRC_RULE_GROUP, FORAQRC_COAS_CODE, FORAQRC_FTYP_CODE, FORAQRC_FUND_CODE, FORAQRC_ORGN_CODE, FORAQRC_ATYP_CODE, FORAQRC_ACCT_CODE, FORAQRC_ACTIVITY_DATE, FORAQRC_USER_ID, FORAQRC_PROG_CODE)  values('162A', 1, 'REQG', 'A', '', '', '23016', '', '', sysdate, 'RWALDEN', '')\n",
      "execute_sql_insert  exec_time: 0.06915879249572754\n",
      "None\n",
      "insert into FORAQRC(FORAQRC_QUEUE_ID, FORAQRC_DOC_TYPE, FORAQRC_RULE_GROUP, FORAQRC_COAS_CODE, FORAQRC_FTYP_CODE, FORAQRC_FUND_CODE, FORAQRC_ORGN_CODE, FORAQRC_ATYP_CODE, FORAQRC_ACCT_CODE, FORAQRC_ACTIVITY_DATE, FORAQRC_USER_ID, FORAQRC_PROG_CODE)  values('162A', 2, 'CORG', 'A', '', '', '23016', '', '', sysdate, 'RWALDEN', '')\n",
      "execute_sql_insert  exec_time: 0.06739330291748047\n",
      "None\n",
      "'162B','HVAC Heating Units Upgrade Replacem',0.01,'162G', null, sysdate, 'RWALDEN'\n",
      "insert into FTVAPPQ(FTVAPPQ_QUEUE_ID, FTVAPPQ_DESCRIPTION, FTVAPPQ_QUEUE_LIMIT, FTVAPPQ_NEXT_QUEUE_ID, FTVAPPQ_APPROVAL_REQ, FTVAPPQ_ACTIVITY_DATE, FTVAPPQ_USER_ID) values('162B','HVAC Heating Units Upgrade Replacem',0.01,'162G', null, sysdate, 'RWALDEN')\n",
      "execute_sql_insert  exec_time: 0.06812763214111328\n",
      "None\n",
      "'162B', 'BJESTER1', 10, 0.01, sysdate, null, null, sysdate, 'RWALDEN'\n",
      "insert into FORAQUS(FORAQUS_QUEUE_ID,FORAQUS_USER_ID_APPR,FORAQUS_QUEUE_LEVEL,FORAQUS_QUEUE_LIMIT,FORAQUS_EFF_DATE,FORAQUS_NCHG_DATE,FORAQUS_TERM_DATE,FORAQUS_ACTIVITY_DATE,FORAQUS_USER_ID) values('162B', 'BJESTER1', 10, 0.01, sysdate, null, null, sysdate, 'RWALDEN')\n",
      "execute_sql_insert  exec_time: 0.06870102882385254\n",
      "None\n",
      "'162G','HVAC Heating Units Upgrade Replacem',4999.99,'VPAS', null, sysdate, 'RWALDEN'\n",
      "insert into FTVAPPQ(FTVAPPQ_QUEUE_ID, FTVAPPQ_DESCRIPTION, FTVAPPQ_QUEUE_LIMIT, FTVAPPQ_NEXT_QUEUE_ID, FTVAPPQ_APPROVAL_REQ, FTVAPPQ_ACTIVITY_DATE, FTVAPPQ_USER_ID) values('162G','HVAC Heating Units Upgrade Replacem',4999.99,'VPAS', null, sysdate, 'RWALDEN')\n",
      "execute_sql_insert  exec_time: 0.06916260719299316\n",
      "None\n",
      "'162G', 'SBRAR', 10, 4999.99, sysdate, null, null, sysdate, 'RWALDEN'\n",
      "insert into FORAQUS(FORAQUS_QUEUE_ID,FORAQUS_USER_ID_APPR,FORAQUS_QUEUE_LEVEL,FORAQUS_QUEUE_LIMIT,FORAQUS_EFF_DATE,FORAQUS_NCHG_DATE,FORAQUS_TERM_DATE,FORAQUS_ACTIVITY_DATE,FORAQUS_USER_ID) values('162G', 'SBRAR', 10, 4999.99, sysdate, null, null, sysdate, 'RWALDEN')\n",
      "execute_sql_insert  exec_time: 0.0671994686126709\n",
      "None\n",
      "'B162','HVAC Heating Units Upgrade Replacem',0,'162G', null, sysdate, 'RWALDEN'\n",
      "insert into FTVAPPQ(FTVAPPQ_QUEUE_ID, FTVAPPQ_DESCRIPTION, FTVAPPQ_QUEUE_LIMIT, FTVAPPQ_NEXT_QUEUE_ID, FTVAPPQ_APPROVAL_REQ, FTVAPPQ_ACTIVITY_DATE, FTVAPPQ_USER_ID) values('B162','HVAC Heating Units Upgrade Replacem',0,'162G', null, sysdate, 'RWALDEN')\n",
      "execute_sql_insert  exec_time: 0.0673365592956543\n",
      "None\n",
      "'B162', 20, 'DBRG', 'A', '', '', '23016', '', '', sysdate, 'RWALDEN', ''\n",
      "insert into FORAQRC(FORAQRC_QUEUE_ID, FORAQRC_DOC_TYPE, FORAQRC_RULE_GROUP, FORAQRC_COAS_CODE, FORAQRC_FTYP_CODE, FORAQRC_FUND_CODE, FORAQRC_ORGN_CODE, FORAQRC_ATYP_CODE, FORAQRC_ACCT_CODE, FORAQRC_ACTIVITY_DATE, FORAQRC_USER_ID, FORAQRC_PROG_CODE)  values('B162', 20, 'DBRG', 'A', '', '', '23016', '', '', sysdate, 'RWALDEN', '')\n",
      "execute_sql_insert  exec_time: 0.06748127937316895\n",
      "None\n"
     ]
    }
   ],
   "source": [
    "queue_chain_number = working_session.get_next_queue_number()\n",
    "queue_description = 'HVAC Heating Units Upgrade Replacem'\n",
    "queues_to_build = [('A','B',0,['AMUSIAL1','EOBRIEN3']),('B','G',.01,['BJESTER1']),('G','VPAS',4999.99,['SBRAR'])]\n",
    "orgns_to_route = ['23016']\n",
    "working_session.build_a_new_queue_chain(queue_chain_number, queue_description, queues_to_build, orgns_to_route)"
   ],
   "metadata": {
    "collapsed": false
   }
  },
  {
   "cell_type": "code",
   "execution_count": 16,
   "outputs": [
    {
     "name": "stdout",
     "output_type": "stream",
     "text": [
      "select  max(to_number(substr(FTVAPPQ_QUEUE_ID,0,3))) from FTVAPPQ where substr(FTVAPPQ_QUEUE_ID,0,1) in ('0','1','2','3','4','5','6','7','8','9')   \n",
      "execute_sql_query  exec_time: 0.03232765197753906\n",
      "'163A','Foundation Grants',0,'163B', null, sysdate, 'RWALDEN'\n",
      "insert into FTVAPPQ(FTVAPPQ_QUEUE_ID, FTVAPPQ_DESCRIPTION, FTVAPPQ_QUEUE_LIMIT, FTVAPPQ_NEXT_QUEUE_ID, FTVAPPQ_APPROVAL_REQ, FTVAPPQ_ACTIVITY_DATE, FTVAPPQ_USER_ID) values('163A','Foundation Grants',0,'163B', null, sysdate, 'RWALDEN')\n",
      "execute_sql_insert  exec_time: 0.07051730155944824\n",
      "None\n",
      "'163A', 'AMUSIAL1', 10, 0, sysdate, null, null, sysdate, 'RWALDEN'\n",
      "insert into FORAQUS(FORAQUS_QUEUE_ID,FORAQUS_USER_ID_APPR,FORAQUS_QUEUE_LEVEL,FORAQUS_QUEUE_LIMIT,FORAQUS_EFF_DATE,FORAQUS_NCHG_DATE,FORAQUS_TERM_DATE,FORAQUS_ACTIVITY_DATE,FORAQUS_USER_ID) values('163A', 'AMUSIAL1', 10, 0, sysdate, null, null, sysdate, 'RWALDEN')\n",
      "execute_sql_insert  exec_time: 0.07005667686462402\n",
      "None\n",
      "'163A', 'EOBRIEN3', 10, 0, sysdate, null, null, sysdate, 'RWALDEN'\n",
      "insert into FORAQUS(FORAQUS_QUEUE_ID,FORAQUS_USER_ID_APPR,FORAQUS_QUEUE_LEVEL,FORAQUS_QUEUE_LIMIT,FORAQUS_EFF_DATE,FORAQUS_NCHG_DATE,FORAQUS_TERM_DATE,FORAQUS_ACTIVITY_DATE,FORAQUS_USER_ID) values('163A', 'EOBRIEN3', 10, 0, sysdate, null, null, sysdate, 'RWALDEN')\n",
      "execute_sql_insert  exec_time: 0.07028317451477051\n",
      "None\n",
      "'163A', 1, 'REQG', 'A', '', '', '62607', '', '', sysdate, 'RWALDEN', ''\n",
      "'163A', 2, 'CORG', 'A', '', '', '62607', '', '', sysdate, 'RWALDEN', ''\n",
      "insert into FORAQRC(FORAQRC_QUEUE_ID, FORAQRC_DOC_TYPE, FORAQRC_RULE_GROUP, FORAQRC_COAS_CODE, FORAQRC_FTYP_CODE, FORAQRC_FUND_CODE, FORAQRC_ORGN_CODE, FORAQRC_ATYP_CODE, FORAQRC_ACCT_CODE, FORAQRC_ACTIVITY_DATE, FORAQRC_USER_ID, FORAQRC_PROG_CODE)  values('163A', 1, 'REQG', 'A', '', '', '62607', '', '', sysdate, 'RWALDEN', '')\n",
      "execute_sql_insert  exec_time: 0.06821846961975098\n",
      "None\n",
      "insert into FORAQRC(FORAQRC_QUEUE_ID, FORAQRC_DOC_TYPE, FORAQRC_RULE_GROUP, FORAQRC_COAS_CODE, FORAQRC_FTYP_CODE, FORAQRC_FUND_CODE, FORAQRC_ORGN_CODE, FORAQRC_ATYP_CODE, FORAQRC_ACCT_CODE, FORAQRC_ACTIVITY_DATE, FORAQRC_USER_ID, FORAQRC_PROG_CODE)  values('163A', 2, 'CORG', 'A', '', '', '62607', '', '', sysdate, 'RWALDEN', '')\n",
      "execute_sql_insert  exec_time: 0.06857776641845703\n",
      "None\n",
      "'163B','Foundation Grants',0.01,'163E', null, sysdate, 'RWALDEN'\n",
      "insert into FTVAPPQ(FTVAPPQ_QUEUE_ID, FTVAPPQ_DESCRIPTION, FTVAPPQ_QUEUE_LIMIT, FTVAPPQ_NEXT_QUEUE_ID, FTVAPPQ_APPROVAL_REQ, FTVAPPQ_ACTIVITY_DATE, FTVAPPQ_USER_ID) values('163B','Foundation Grants',0.01,'163E', null, sysdate, 'RWALDEN')\n",
      "execute_sql_insert  exec_time: 0.06898260116577148\n",
      "None\n",
      "'163B', 'UGOFF', 10, 0.01, sysdate, null, null, sysdate, 'RWALDEN'\n",
      "insert into FORAQUS(FORAQUS_QUEUE_ID,FORAQUS_USER_ID_APPR,FORAQUS_QUEUE_LEVEL,FORAQUS_QUEUE_LIMIT,FORAQUS_EFF_DATE,FORAQUS_NCHG_DATE,FORAQUS_TERM_DATE,FORAQUS_ACTIVITY_DATE,FORAQUS_USER_ID) values('163B', 'UGOFF', 10, 0.01, sysdate, null, null, sysdate, 'RWALDEN')\n",
      "execute_sql_insert  exec_time: 0.07049965858459473\n",
      "None\n",
      "'163E','Foundation Grants',999.99,'163G', null, sysdate, 'RWALDEN'\n",
      "insert into FTVAPPQ(FTVAPPQ_QUEUE_ID, FTVAPPQ_DESCRIPTION, FTVAPPQ_QUEUE_LIMIT, FTVAPPQ_NEXT_QUEUE_ID, FTVAPPQ_APPROVAL_REQ, FTVAPPQ_ACTIVITY_DATE, FTVAPPQ_USER_ID) values('163E','Foundation Grants',999.99,'163G', null, sysdate, 'RWALDEN')\n",
      "execute_sql_insert  exec_time: 0.06857943534851074\n",
      "None\n",
      "'163E', 'nwilliams', 10, 999.99, sysdate, null, null, sysdate, 'RWALDEN'\n",
      "insert into FORAQUS(FORAQUS_QUEUE_ID,FORAQUS_USER_ID_APPR,FORAQUS_QUEUE_LEVEL,FORAQUS_QUEUE_LIMIT,FORAQUS_EFF_DATE,FORAQUS_NCHG_DATE,FORAQUS_TERM_DATE,FORAQUS_ACTIVITY_DATE,FORAQUS_USER_ID) values('163E', 'nwilliams', 10, 999.99, sysdate, null, null, sysdate, 'RWALDEN')\n",
      "execute_sql_insert  exec_time: 0.06777095794677734\n",
      "None\n",
      "'163G','Foundation Grants',4999.99,'VPAS', null, sysdate, 'RWALDEN'\n",
      "insert into FTVAPPQ(FTVAPPQ_QUEUE_ID, FTVAPPQ_DESCRIPTION, FTVAPPQ_QUEUE_LIMIT, FTVAPPQ_NEXT_QUEUE_ID, FTVAPPQ_APPROVAL_REQ, FTVAPPQ_ACTIVITY_DATE, FTVAPPQ_USER_ID) values('163G','Foundation Grants',4999.99,'VPAS', null, sysdate, 'RWALDEN')\n",
      "execute_sql_insert  exec_time: 0.06853032112121582\n",
      "None\n",
      "'163G', 'ltrimble', 10, 4999.99, sysdate, null, null, sysdate, 'RWALDEN'\n",
      "insert into FORAQUS(FORAQUS_QUEUE_ID,FORAQUS_USER_ID_APPR,FORAQUS_QUEUE_LEVEL,FORAQUS_QUEUE_LIMIT,FORAQUS_EFF_DATE,FORAQUS_NCHG_DATE,FORAQUS_TERM_DATE,FORAQUS_ACTIVITY_DATE,FORAQUS_USER_ID) values('163G', 'ltrimble', 10, 4999.99, sysdate, null, null, sysdate, 'RWALDEN')\n",
      "execute_sql_insert  exec_time: 0.06986141204833984\n",
      "None\n",
      "'B163','Foundation Grants',0,'163E', null, sysdate, 'RWALDEN'\n",
      "insert into FTVAPPQ(FTVAPPQ_QUEUE_ID, FTVAPPQ_DESCRIPTION, FTVAPPQ_QUEUE_LIMIT, FTVAPPQ_NEXT_QUEUE_ID, FTVAPPQ_APPROVAL_REQ, FTVAPPQ_ACTIVITY_DATE, FTVAPPQ_USER_ID) values('B163','Foundation Grants',0,'163E', null, sysdate, 'RWALDEN')\n",
      "execute_sql_insert  exec_time: 0.06813979148864746\n",
      "None\n",
      "'B163', 20, 'DBRG', 'A', '', '', '62607', '', '', sysdate, 'RWALDEN', ''\n",
      "insert into FORAQRC(FORAQRC_QUEUE_ID, FORAQRC_DOC_TYPE, FORAQRC_RULE_GROUP, FORAQRC_COAS_CODE, FORAQRC_FTYP_CODE, FORAQRC_FUND_CODE, FORAQRC_ORGN_CODE, FORAQRC_ATYP_CODE, FORAQRC_ACCT_CODE, FORAQRC_ACTIVITY_DATE, FORAQRC_USER_ID, FORAQRC_PROG_CODE)  values('B163', 20, 'DBRG', 'A', '', '', '62607', '', '', sysdate, 'RWALDEN', '')\n",
      "execute_sql_insert  exec_time: 0.06819462776184082\n",
      "None\n"
     ]
    }
   ],
   "source": [
    "queue_chain_number = working_session.get_next_queue_number()\n",
    "queue_description = 'Foundation Grants'\n",
    "queues_to_build = [('A','B',0,['AMUSIAL1','EOBRIEN3']),('B','E',.01,['UGOFF']),('E','G',999.99,['nwilliams']),('G','VPAS',4999.99,['ltrimble'])]\n",
    "orgns_to_route = ['62607']\n",
    "working_session.build_a_new_queue_chain(queue_chain_number, queue_description, queues_to_build, orgns_to_route)"
   ],
   "metadata": {
    "collapsed": false
   }
  },
  {
   "cell_type": "code",
   "execution_count": null,
   "outputs": [],
   "source": [],
   "metadata": {
    "collapsed": false
   }
  },
  {
   "cell_type": "code",
   "execution_count": 19,
   "outputs": [
    {
     "name": "stdout",
     "output_type": "stream",
     "text": [
      "none\n"
     ]
    }
   ],
   "source": [
    "x = None #[]\n",
    "if x is None:\n",
    "    print('none')"
   ],
   "metadata": {
    "collapsed": false
   }
  },
  {
   "cell_type": "code",
   "execution_count": null,
   "outputs": [],
   "source": [],
   "metadata": {
    "collapsed": false
   }
  },
  {
   "cell_type": "code",
   "execution_count": null,
   "outputs": [],
   "source": [
    "# List current approver queues\n",
    "x,y = working_session.get_approvers_queues('CHART8')\n",
    "print(x,y)"
   ],
   "metadata": {
    "collapsed": false
   }
  },
  {
   "cell_type": "code",
   "execution_count": null,
   "outputs": [],
   "source": [
    "# Replace Approver in Selected Queues to replace current approver with replacement. Pass no queues to replace in all queues.\n",
    "# Replace all Ex. : working_session.replace_approver('NVALSAMIDES', 'RWALDEN')\n",
    "#x = working_session.replace_approver('CHART8', 'HDAVIS18', ('CAQ', 'INVQ', 'JVQ', 'NSF')) #\n",
    "x = working_session.replace_approver('CHART8', 'HDAVIS18')\n"
   ],
   "metadata": {
    "collapsed": false
   }
  },
  {
   "cell_type": "code",
   "execution_count": null,
   "outputs": [],
   "source": [
    "# ReList current approver queues\n",
    "x,y = working_session.get_approvers_queues('CHART8')\n",
    "print(x,y)"
   ],
   "metadata": {
    "collapsed": false
   }
  },
  {
   "cell_type": "code",
   "execution_count": null,
   "outputs": [],
   "source": [],
   "metadata": {
    "collapsed": false
   }
  },
  {
   "cell_type": "code",
   "execution_count": 7,
   "outputs": [
    {
     "name": "stdout",
     "output_type": "stream",
     "text": [
      "select  distinct foraqus.FORAQUS_QUEUE_ID,\n",
      "        (select count(FORAQUS_USER_ID_APPR)\n",
      "        from foraqus fa\n",
      "        where fa.FORAQUS_QUEUE_ID = foraqus.FORAQUS_QUEUE_ID\n",
      "                                    and fa.FORAQUS_TERM_DATE is null\n",
      "                                    and fa.FORAQUS_NCHG_DATE is null) as OtherApprovers from foraqus  order by 2  \n",
      "execute_sql_query  exec_time: 0.29839253425598145\n",
      "[]\n"
     ]
    }
   ],
   "source": [
    "x = working_session.search_for_mt_queues()\n",
    "\n",
    "print(x)"
   ],
   "metadata": {
    "collapsed": false
   }
  },
  {
   "cell_type": "code",
   "execution_count": null,
   "outputs": [],
   "source": [
    "# List current approver queues\n",
    "x,y = working_session.get_approvers_queues('KJANISZEWSKI')\n",
    "print(x,y)"
   ],
   "metadata": {
    "collapsed": false
   }
  },
  {
   "cell_type": "code",
   "execution_count": null,
   "outputs": [],
   "source": [
    "x = working_session.term_approver('KJANISZEWSKI', '25-OCT-22', from_queues = ('000B', '001B', '002B', '003B', '004B', '005B', '006B', '007B', '008B', '013B', '014B', '015B', '016B', '017B', '018B', '019B', '020B', '024B', '025B', '071B', '072B', '073B', '074B', '075B', '076B', '077B', '078B', '079B', '080B', '081B', '083B', '084B', '085B', '096B', '097B', '115B', '117B', '124B', '125B', '139B', '140B', '141B', '143B', 'B001', 'B002', 'B003', 'B004', 'B006', 'B007', 'B008', 'B013', 'B014', 'B015', 'B016', 'B017', 'B018', 'B019', 'B020', 'B024', 'B053', 'B054', 'B055', 'B071', 'B076', 'B077', 'B078', 'B079', 'B080', 'B084', 'B085', 'B096', 'B097', 'B123', 'B131', 'B141', 'B143', 'B146', 'B147', 'B149') )\n"
   ],
   "metadata": {
    "collapsed": false,
    "pycharm": {
     "is_executing": true
    }
   }
  },
  {
   "cell_type": "code",
   "execution_count": null,
   "outputs": [],
   "source": [
    "#working_session.insert_into_foraqus(\"\"\"'B009', 'KJANISZEWSKI', 10, 0, sysdate, null, null, sysdate, 'RWALDEN' \"\"\")\n",
    "#working_session.insert_into_foraqus(\"\"\"'009B', 'KJANISZEWSKI', 10, 0, sysdate, null, null, sysdate, 'RWALDEN' \"\"\")\n",
    "working_session.insert_into_foraqus(\"\"\"'B020', 'KJANISZEWSKI', 10, 0, sysdate, null, null, sysdate, 'RWALDEN' \"\"\")\n",
    "working_session.insert_into_foraqus(\"\"\"'020B', 'KJANISZEWSKI', 10, 0, sysdate, null, null, sysdate, 'RWALDEN' \"\"\")\n",
    "#working_session.insert_into_foraqus(\"\"\"'B098', 'KJANISZEWSKI', 10, 0, sysdate, null, null, sysdate, 'RWALDEN' \"\"\")\n",
    "#working_session.insert_into_foraqus(\"\"\"'098B', 'KJANISZEWSKI', 10, 0, sysdate, null, null, sysdate, 'RWALDEN' \"\"\")\n",
    "#working_session.insert_into_foraqus(\"\"\"'B115', 'KJANISZEWSKI', 10, 0, sysdate, null, null, sysdate, 'RWALDEN' \"\"\")\n",
    "#working_session.insert_into_foraqus(\"\"\"'115B', 'KJANISZEWSKI', 10, 0, sysdate, null, null, sysdate, 'RWALDEN' \"\"\")"
   ],
   "metadata": {
    "collapsed": false,
    "pycharm": {
     "is_executing": true
    }
   }
  },
  {
   "cell_type": "code",
   "execution_count": null,
   "outputs": [],
   "source": [],
   "metadata": {
    "collapsed": false
   }
  },
  {
   "cell_type": "code",
   "execution_count": null,
   "outputs": [],
   "source": [],
   "metadata": {
    "collapsed": false
   }
  },
  {
   "cell_type": "code",
   "execution_count": null,
   "outputs": [],
   "source": [
    "# BJESTER1\n",
    "x = working_session.term_approver('BJESTER1', '26-OCT-22', from_queues = ('000B', '002B', '008B', '020B', '023B', '098B', '139B', '140B', '149B', 'B067', 'B140', 'B141', 'B147', 'B148', 'B149'))"
   ],
   "metadata": {
    "collapsed": false
   }
  },
  {
   "cell_type": "code",
   "execution_count": null,
   "outputs": [],
   "source": [
    "\n",
    "# Step 2 Place DCLARKHACKENBERG into new queue\n",
    "working_session.insert_into_foraqus(\"\"\"'B078', 'BJESTER1', 10, 0, sysdate, null, null, sysdate, 'RWALDEN' \"\"\")\n",
    "working_session.insert_into_foraqus(\"\"\"'078B', 'BJESTER1', 10, 0, sysdate, null, null, sysdate, 'RWALDEN' \"\"\")"
   ],
   "metadata": {
    "collapsed": false
   }
  },
  {
   "cell_type": "code",
   "execution_count": null,
   "outputs": [],
   "source": [
    "working_session.orgn_to_queue(\"'12250', '12360', '12305', '12255', '12155', '12055', '12165', '12355', '12105'\")"
   ],
   "metadata": {
    "collapsed": false
   }
  },
  {
   "cell_type": "code",
   "execution_count": null,
   "outputs": [],
   "source": [],
   "metadata": {
    "collapsed": false
   }
  },
  {
   "cell_type": "code",
   "execution_count": null,
   "outputs": [],
   "source": [
    "# List LNOWAK current approver queues\n",
    "x,y = working_session.get_approvers_queues('LNOWAK')\n",
    "print(x,y)"
   ],
   "metadata": {
    "collapsed": false
   }
  },
  {
   "cell_type": "code",
   "execution_count": null,
   "outputs": [],
   "source": [
    "\n",
    "x = working_session.term_approver('LNOWAK', '26-OCT-22', from_queues = ('001B', '003B', '006B', '008B', '009B', '010B', '011B', '012B', '013B', '014B', '015B', '016B', '017B', '018B', '019B', '021B', '022B', '023B', '024B', '025B', '026B', '027B', '028B', '029B', '030B', '031B', '032B', '033B', '034B', '035B', '036B', '037B', '038B', '039B', '041B', '042B', '043B', '044B', '045B', '046B', '047B', '048B', '049B', '050B', '051B', '052B', '053B', '054B', '055B', '056B', '057B', '058B', '059B', '060B', '061B', '062B', '063B', '064B', '065B', '066B', '067B', '068B', '069B', '070B', '077B', '078B', '079B', '080B', '081B', '082B', '083B', '084B', '085B', '086B', '087B', '088B', '089B', '090B', '091B', '092B', '093B', '094B', '095B', '096B', '097B', '098B', '099B', '100B', '101B', '102B', '103B', '105B', '106B', '107B', '108B', '109B', '110B', '111B', '112B', '113B', '114B', '116B', '117B', '118B', '120B', '121B', '122B', '123B', '124B', '125B', '127B', '128B', '129B', '139B', '140B', '141B', '143B', '144B', 'B003', 'B006', 'B007', 'B008', 'B009', 'B013', 'B015', 'B018', 'B019', 'B022', 'B023', 'B025', 'B031', 'B032', 'B034', 'B035', 'B036', 'B038', 'B040', 'B043', 'B048', 'B049', 'B050', 'B056', 'B058', 'B060', 'B061', 'B063', 'B064', 'B066', 'B068', 'B069', 'B070', 'B077', 'B078', 'B080', 'B084', 'B085', 'B086', 'B087', 'B088', 'B089', 'B091', 'B092', 'B093', 'B094', 'B096', 'B097', 'B100', 'B102', 'B103', 'B104', 'B105', 'B107', 'B108', 'B109', 'B112', 'B116', 'B120', 'B123', 'B131', 'B140', 'B141', 'B143', 'B144', 'B146', 'B147', 'B148', 'B149'))\n"
   ],
   "metadata": {
    "collapsed": false
   }
  },
  {
   "cell_type": "code",
   "execution_count": null,
   "outputs": [],
   "source": [
    "'62466', '11050', '11200', '11201', '11800', '12930'\n",
    "[('11201', '104'), ('62466', '135')][('1001', '000'), ('1002', '002'), ('3001', '076'), ('1400', '020')]"
   ],
   "metadata": {
    "collapsed": false
   }
  },
  {
   "cell_type": "code",
   "execution_count": null,
   "outputs": [],
   "source": [
    "\n",
    "working_session.insert_into_foraqus(\"\"\"'B002', 'LNOWAK', 10, 0, sysdate, null, null, sysdate, 'RWALDEN' \"\"\")\n",
    "working_session.insert_into_foraqus(\"\"\"'002B', 'LNOWAK', 10, 0, sysdate, null, null, sysdate, 'RWALDEN' \"\"\")\n",
    "working_session.insert_into_foraqus(\"\"\"'B000', 'LNOWAK', 10, 0, sysdate, null, null, sysdate, 'RWALDEN' \"\"\")\n",
    "working_session.insert_into_foraqus(\"\"\"'000B', 'LNOWAK', 10, 0, sysdate, null, null, sysdate, 'RWALDEN' \"\"\")\n",
    "working_session.insert_into_foraqus(\"\"\"'B135', 'LNOWAK', 10, 0, sysdate, null, null, sysdate, 'RWALDEN' \"\"\")\n",
    "working_session.insert_into_foraqus(\"\"\"'135B', 'LNOWAK', 10, 0, sysdate, null, null, sysdate, 'RWALDEN' \"\"\")\n",
    "working_session.insert_into_foraqus(\"\"\"'B104', 'LNOWAK', 10, 0, sysdate, null, null, sysdate, 'RWALDEN' \"\"\")\n",
    "working_session.insert_into_foraqus(\"\"\"'104B', 'LNOWAK', 10, 0, sysdate, null, null, sysdate, 'RWALDEN' \"\"\")"
   ],
   "metadata": {
    "collapsed": false
   }
  },
  {
   "cell_type": "code",
   "execution_count": null,
   "outputs": [],
   "source": [],
   "metadata": {
    "collapsed": false
   }
  },
  {
   "cell_type": "code",
   "execution_count": null,
   "outputs": [],
   "source": [
    "# List UGOFF current approver queues\n",
    "x,y = working_session.get_approvers_queues('UGOFF')\n",
    "print(x,y)"
   ],
   "metadata": {
    "collapsed": false
   }
  },
  {
   "cell_type": "code",
   "execution_count": null,
   "outputs": [],
   "source": [
    "\n",
    "x = working_session.term_approver('UGOFF', '26-OCT-22', from_queues = ('001B', '003B', '004B', '005B', '006B', '007B', '008B', '009B', '010B', '011B', '012B', '021B', '022B', '023B', '025B', '026B', '027B', '028B', '029B', '030B', '031B', '032B', '033B', '035B', '038B', '039B', '040B', '041B', '042B', '045B', '048B', '049B', '050B', '058B', '060B', '061B', '062B', '063B', '064B', '065B', '066B', '067B', '068B', '069B', '070B', '071B', '072B', '073B', '074B', '075B', '077B', '078B', '079B', '080B', '081B', '082B', '083B', '084B', '085B', '086B', '087B', '088B', '089B', '090B', '091B', '092B', '093B', '094B', '095B', '096B', '097B', '098B', '099B', '100B', '101B', '102B', '103B', '104B', '105B', '106B', '107B', '108B', '109B', '110B', '111B', '112B', '113B', '114B', '115B', '116B', '117B', '118B', '119B', '122B', '124B', '127B', '128B', '129B', '130B', '132B', '137B', '138B', '140B', '141B', '142B', '143B', '148B', 'B003', 'B004', 'B006', 'B007', 'B009', 'B022', 'B023', 'B031', 'B032', 'B035', 'B038', 'B048', 'B049', 'B050', 'B058', 'B060', 'B061', 'B063', 'B064', 'B066', 'B068', 'B071', 'B077', 'B078', 'B079', 'B080', 'B084', 'B085', 'B086', 'B087', 'B088', 'B089', 'B091', 'B092', 'B094', 'B096', 'B097', 'B100', 'B102', 'B103', 'B105', 'B107', 'B108', 'B109', 'B112', 'B116', 'B131', 'B137', 'B140', 'B141', 'B143', 'B146', 'B148', 'B149'))\n",
    "\n"
   ],
   "metadata": {
    "collapsed": false
   }
  },
  {
   "cell_type": "code",
   "execution_count": null,
   "outputs": [],
   "source": [
    "'13205', '13206,' '62452'\n",
    "[('1001', '000'), ('1002', '002'), ('3001', '076'), ('1400', '020')]"
   ],
   "metadata": {
    "collapsed": false
   }
  },
  {
   "cell_type": "code",
   "execution_count": null,
   "outputs": [],
   "source": [
    "working_session.insert_into_foraqus(\"\"\"'B000', 'UGOFF', 10, 0, sysdate, null, null, sysdate, 'RWALDEN' \"\"\")\n",
    "#working_session.insert_into_foraqus(\"\"\"'000B', 'UGOFF', 10, 0, sysdate, null, null, sysdate, 'RWALDEN' \"\"\")\n",
    "working_session.insert_into_foraqus(\"\"\"'B020', 'UGOFF', 10, 0, sysdate, null, null, sysdate, 'RWALDEN' \"\"\")\n",
    "working_session.insert_into_foraqus(\"\"\"'020B', 'UGOFF', 10, 0, sysdate, null, null, sysdate, 'RWALDEN' \"\"\")\n",
    "\n"
   ],
   "metadata": {
    "collapsed": false
   }
  },
  {
   "cell_type": "code",
   "execution_count": null,
   "outputs": [],
   "source": [],
   "metadata": {
    "collapsed": false
   }
  },
  {
   "cell_type": "code",
   "execution_count": null,
   "outputs": [],
   "source": [
    "x = [('008B', 0), ('013E', 0), ('022B', 0), ('023B', 0), ('028B', 0), ('029B', 0), ('031B', 0), ('032B', 0), ('033B', 0), ('035B', 0), ('035C', 0), ('038B', 0), ('039B', 0), ('048B', 0), ('049B', 0), ('049C', 0), ('050B', 0), ('060B', 0), ('061B', 0), ('062B', 0), ('062C', 0), ('063B', 0), ('064B', 0), ('065B', 0), ('066B', 0), ('066C', 0), ('067B', 0), ('068B', 0), ('069B', 0), ('070B', 0), ('081B', 0), ('082B', 0), ('085B', 0), ('086B', 0), ('087B', 0), ('087G', 0), ('088B', 0), ('088C', 0), ('089B', 0), ('090B', 0), ('091B', 0), ('092B', 0), ('093B', 0), ('094B', 0), ('095B', 0), ('097B', 0), ('100B', 0), ('102B', 0), ('103B', 0), ('103F', 0), ('105B', 0), ('106B', 0), ('107B', 0), ('108B', 0), ('108E', 0), ('108F', 0), ('110B', 0), ('111B', 0), ('112B', 0), ('116B', 0), ('118B', 0), ('119E', 0), ('122B', 0), ('123G', 0), ('126B', 0), ('127B', 0), ('130B', 0), ('131B', 0), ('133B', 0), ('138B', 0), ('140B', 0), ('144B', 0), ('148B', 0), ('149B', 0), ('B007', 0), ('B022', 0), ('B023', 0), ('B031', 0), ('B032', 0), ('B035', 0), ('B038', 0), ('B040', 0), ('B048', 0), ('B049', 0), ('B050', 0), ('B053', 0), ('B054', 0), ('B055', 0), ('B058', 0), ('B060', 0), ('B061', 0), ('B063', 0), ('B064', 0), ('B066', 0), ('B067', 0), ('B068', 0), ('B079', 0), ('B085', 0), ('B086', 0), ('B087', 0), ('B088', 0), ('B089', 0), ('B091', 0), ('B092', 0), ('B094', 0), ('B097', 0), ('B100', 0), ('B102', 0), ('B103', 0), ('B105', 0), ('B107', 0), ('B108', 0), ('B112', 0), ('B116', 0), ('B131', 0), ('B141', 0), ('B144', 0), ('B149', 0)]\n",
    "\n",
    "x = [('013E', 0), ('022B', 0), ('023B', 0), ('031B', 0), ('032B', 0), ('035B', 0), ('035C', 0), ('038B', 0), ('039B', 0), ('048B', 0), ('049B', 0), ('049C', 0), ('050B', 0), ('060B', 0), ('061B', 0), ('062B', 0), ('062C', 0), ('063B', 0), ('064B', 0), ('066B', 0), ('066C', 0), ('067B', 0), ('068B', 0), ('069B', 0), ('070B', 0), ('085B', 0), ('086B', 0), ('087B', 0), ('087G', 0), ('088B', 0), ('088C', 0), ('089B', 0), ('091B', 0), ('092B', 0), ('093B', 0), ('094B', 0), ('097B', 0), ('100B', 0), ('102B', 0), ('103B', 0), ('103F', 0), ('105B', 0), ('107B', 0), ('108B', 0), ('108E', 0), ('108F', 0), ('116B', 0), ('119E', 0), ('123G', 0), ('131B', 0), ('144B', 0), ('149B', 0), ('B022', 0), ('B023', 0), ('B031', 0), ('B032', 0), ('B035', 0), ('B038', 0), ('B040', 0), ('B048', 0), ('B049', 0), ('B050', 0), ('B053', 0), ('B054', 0), ('B055', 0), ('B058', 0), ('B060', 0), ('B061', 0), ('B063', 0), ('B064', 0), ('B066', 0), ('B067', 0), ('B068', 0), ('B079', 0), ('B085', 0), ('B086', 0), ('B087', 0), ('B088', 0), ('B089', 0), ('B091', 0), ('B092', 0), ('B094', 0), ('B097', 0), ('B100', 0), ('B102', 0), ('B103', 0), ('B105', 0), ('B107', 0), ('B108', 0), ('B116', 0), ('B131', 0), ('B141', 0), ('B144', 0), ('B149', 0)]\n",
    "\n",
    "new_list = []\n",
    "for y in x:\n",
    "    new_list.append(y[0])\n",
    "\n",
    "print(new_list)\n",
    "fix_it_list = []\n",
    "for w in new_list:\n",
    "    if w[0] == 'B':\n",
    "        a = working_session.queue_to_orgn(f\"'{w}'\")\n",
    "        pass\n",
    "    else:\n",
    "        #print(w[0:3])\n",
    "        a = working_session.queue_to_orgn(f\"'{w[0:3]}A'\")\n",
    "\n",
    "    fix_it_list.append(a)\n",
    "\n",
    "print(fix_it_list)\n"
   ],
   "metadata": {
    "collapsed": false
   }
  },
  {
   "cell_type": "code",
   "execution_count": null,
   "outputs": [],
   "source": [
    "'''a = [[('008A', '1301')], [('013A', '13300')], [('022A', '14905')], [('023A', '14910')], [('028A', '62010')], [('029A', '62020')], [('031A', '62040')], [('032A', '62041')], [('033A', '62055'), ('033A', '62426'), ('033A', '62060')], [('035A', '62080')], [('035A', '62080')], [('038A', '62410')], [('039A', '62411')], [('048A', '62431')], [('049A', '62432')], [('049A', '62432')], [('050A', '62433')], [('060A', '62471')], [('061A', '62472')], [('062A', '62491')], [('062A', '62491')], [('063A', '62701')], [('064A', '62702')], [('065A', '62486'), ('065A', '62703')], [('066A', '62704')], [('066A', '62704')], [('067A', '62438'), ('067A', '62705')], [('068A', '62706')], [('069A', '62707')], [('070A', '62708')], [('081A', '12260')], [('082A', '12805')], [('085A', '3007')], [('086A', '62418')], [('087A', '62474')], [('087A', '62474')], [('088A', '62419')], [('088A', '62419')], [('089A', '62473')], [('090A', '62077'), ('090A', '62075')], [('091A', '62434')], [('092A', '62421')], [('093A', '62601')], [('094A', '62475')], [('095A', '62476')], [('097A', '3009')], [('100A', '62710')], [('102A', '62479')], [('103A', '62485'), ('103A', '62489')], [('103A', '62485'), ('103A', '62489')], [('105A', '62481')], [('106A', '62482')], [('107A', '62484')], [('108A', '62712')], [('108A', '62712')], [('108A', '62712')], [('110A', '62483')], [('111A', '62424')], [('112A', '62486')], [('116A', '62423')], [('118A', '62043'), ('118A', '62044')], [('119A', '62446')], [('122A', '62487')], [('123A', '62045'), ('123A', '62036')], [('126A', '62412')], [('127A', '62437')], [('130A', '62498')], [('131A', '62459')], [('133A', '62499')], [('138A', '62469'), ('138A', '62490')], [('140A', '62404')], [('144A', '12807')], [('148A', '62401')], [('149A', '62501')], [('B007', '1300')], [('B022', '14905')], [('B023', '14910')], [('B031', '62040')], [('B032', '62041')], [('B035', '62080')], [('B038', '62410')], [('B040', '62414')], [('B048', '62431')], [('B049', '62432')], [('B050', '62433')], [('B053', '62450')], [('B054', '62451')], [('B055', '62453')], [('B058', '62462')], [('B060', '62471')], [('B061', '62472')], [('B063', '62701')], [('B064', '62702')], [('B066', '62704')], [('B067', '62705'), ('B067', '62438')], [('B068', '62706')], [('B079', '3004'), ('B079', '62444'), ('B079', '62445')], [('B085', '3007')], [('B086', '62418')], [('B087', '62474')], [('B088', '62419')], [('B089', '62473')], [('B091', '62434')], [('B092', '62421')], [('B094', '62475')], [('B097', '3009')], [('B100', '62710')], [('B102', '62479')], [('B103', '62485'), ('B103', '62489')], [('B105', '62481')], [], [('B108', '62712')], [('B112', '62486')], [('B116', '62423')], [('B131', '62459')], [('B141', '62719')], [('B144', '12807')], [('B149', '62501')]]'''\n",
    "\n",
    "a = [[('013A', '13300')], [('022A', '14905')], [('023A', '14910')], [('031A', '62040')], [('032A', '62041')], [('035A', '62080')], [('035A', '62080')], [('038A', '62410')], [('039A', '62411')], [('048A', '62431')], [('049A', '62432')], [('049A', '62432')], [('050A', '62433')], [('060A', '62471')], [('061A', '62472')], [('062A', '62491')], [('062A', '62491')], [('063A', '62701')], [('064A', '62702')], [('066A', '62704')], [('066A', '62704')], [('067A', '62438'), ('067A', '62705')], [('068A', '62706')], [('069A', '62707')], [('070A', '62708')], [('085A', '3007')], [('086A', '62418')], [('087A', '62474')], [('087A', '62474')], [('088A', '62419')], [('088A', '62419')], [('089A', '62473')], [('091A', '62434')], [('092A', '62421')], [('093A', '62601')], [('094A', '62475')], [('097A', '3009')], [('100A', '62710')], [('102A', '62479')], [('103A', '62485'), ('103A', '62489')], [('103A', '62485'), ('103A', '62489')], [('105A', '62481')], [('107A', '62484')], [('108A', '62712')], [('108A', '62712')], [('108A', '62712')], [('116A', '62423')], [('119A', '62446')], [('123A', '62045'), ('123A', '62036')], [('131A', '62459')], [('144A', '12807')], [('149A', '62501')], [('B022', '14905')], [('B023', '14910')], [('B031', '62040')], [('B032', '62041')], [('B035', '62080')], [('B038', '62410')], [('B040', '62414')], [('B048', '62431')], [('B049', '62432')], [('B050', '62433')], [('B053', '62450')], [('B054', '62451')], [('B055', '62453')], [('B058', '62462')], [('B060', '62471')], [('B061', '62472')], [('B063', '62701')], [('B064', '62702')], [('B066', '62704')], [('B067', '62705'), ('B067', '62438')], [('B068', '62706')], [('B079', '3004'), ('B079', '62444'), ('B079', '62445')], [('B085', '3007')], [('B086', '62418')], [('B087', '62474')], [('B088', '62419')], [('B089', '62473')], [('B091', '62434')], [('B092', '62421')], [('B094', '62475')], [('B097', '3009')], [('B100', '62710')], [('B102', '62479')], [('B103', '62485'), ('B103', '62489')], [('B105', '62481')], [], [('B108', '62712')], [('B116', '62423')], [('B131', '62459')], [('B141', '62719')], [('B144', '12807')], [('B149', '62501')]]\n",
    "\n",
    "for b in a:\n",
    "    print(b)"
   ],
   "metadata": {
    "collapsed": false
   }
  },
  {
   "cell_type": "code",
   "execution_count": null,
   "outputs": [],
   "source": [],
   "metadata": {
    "collapsed": false
   }
  },
  {
   "cell_type": "code",
   "execution_count": null,
   "outputs": [],
   "source": [
    "working_session.insert_into_foraqus(\"\"\"'B133', 'BJESTER1', 10, 0, sysdate, null, null, sysdate, 'RWALDEN' \"\"\")\n",
    "working_session.insert_into_foraqus(\"\"\"'133B', 'BJESTER1', 10, 0, sysdate, null, null, sysdate, 'RWALDEN' \"\"\")\n",
    "working_session.insert_into_foraqus(\"\"\"'B130', 'BJESTER1', 10, 0, sysdate, null, null, sysdate, 'RWALDEN' \"\"\")\n",
    "working_session.insert_into_foraqus(\"\"\"'130B', 'BJESTER1', 10, 0, sysdate, null, null, sysdate, 'RWALDEN' \"\"\")\n",
    "working_session.insert_into_foraqus(\"\"\"'B118', 'BJESTER1', 10, 0, sysdate, null, null, sysdate, 'RWALDEN' \"\"\")\n",
    "working_session.insert_into_foraqus(\"\"\"'118B', 'BJESTER1', 10, 0, sysdate, null, null, sysdate, 'RWALDEN' \"\"\")\n",
    "working_session.insert_into_foraqus(\"\"\"'B110', 'BJESTER1', 10, 0, sysdate, null, null, sysdate, 'RWALDEN' \"\"\")\n",
    "working_session.insert_into_foraqus(\"\"\"'110B', 'BJESTER1', 10, 0, sysdate, null, null, sysdate, 'RWALDEN' \"\"\")\n",
    "working_session.insert_into_foraqus(\"\"\"'B095', 'BJESTER1', 10, 0, sysdate, null, null, sysdate, 'RWALDEN' \"\"\")\n",
    "working_session.insert_into_foraqus(\"\"\"'095B', 'BJESTER1', 10, 0, sysdate, null, null, sysdate, 'RWALDEN' \"\"\")\n",
    "working_session.insert_into_foraqus(\"\"\"'B082', 'BJESTER1', 10, 0, sysdate, null, null, sysdate, 'RWALDEN' \"\"\")\n",
    "working_session.insert_into_foraqus(\"\"\"'082B', 'BJESTER1', 10, 0, sysdate, null, null, sysdate, 'RWALDEN' \"\"\")\n",
    "working_session.insert_into_foraqus(\"\"\"'B081', 'BJESTER1', 10, 0, sysdate, null, null, sysdate, 'RWALDEN' \"\"\")\n",
    "working_session.insert_into_foraqus(\"\"\"'081B', 'BJESTER1', 10, 0, sysdate, null, null, sysdate, 'RWALDEN' \"\"\")"
   ],
   "metadata": {
    "collapsed": false
   }
  },
  {
   "cell_type": "code",
   "execution_count": null,
   "outputs": [],
   "source": [
    "working_session.insert_into_foraqus(\"\"\"'B148', 'KJANISZEWSKI', 10, 0, sysdate, null, null, sysdate, 'RWALDEN' \"\"\")\n",
    "working_session.insert_into_foraqus(\"\"\"'148B', 'KJANISZEWSKI', 10, 0, sysdate, null, null, sysdate, 'RWALDEN' \"\"\")\n",
    "working_session.insert_into_foraqus(\"\"\"'B140', 'KJANISZEWSKI', 10, 0, sysdate, null, null, sysdate, 'RWALDEN' \"\"\")\n",
    "working_session.insert_into_foraqus(\"\"\"'140B', 'KJANISZEWSKI', 10, 0, sysdate, null, null, sysdate, 'RWALDEN' \"\"\")\n",
    "working_session.insert_into_foraqus(\"\"\"'B138', 'KJANISZEWSKI', 10, 0, sysdate, null, null, sysdate, 'RWALDEN' \"\"\")\n",
    "working_session.insert_into_foraqus(\"\"\"'138B', 'KJANISZEWSKI', 10, 0, sysdate, null, null, sysdate, 'RWALDEN' \"\"\")\n",
    "working_session.insert_into_foraqus(\"\"\"'B127', 'KJANISZEWSKI', 10, 0, sysdate, null, null, sysdate, 'RWALDEN' \"\"\")\n",
    "working_session.insert_into_foraqus(\"\"\"'127B', 'KJANISZEWSKI', 10, 0, sysdate, null, null, sysdate, 'RWALDEN' \"\"\")\n",
    "working_session.insert_into_foraqus(\"\"\"'B126', 'KJANISZEWSKI', 10, 0, sysdate, null, null, sysdate, 'RWALDEN' \"\"\")\n",
    "working_session.insert_into_foraqus(\"\"\"'126B', 'KJANISZEWSKI', 10, 0, sysdate, null, null, sysdate, 'RWALDEN' \"\"\")\n",
    "working_session.insert_into_foraqus(\"\"\"'B122', 'KJANISZEWSKI', 10, 0, sysdate, null, null, sysdate, 'RWALDEN' \"\"\")\n",
    "working_session.insert_into_foraqus(\"\"\"'122B', 'KJANISZEWSKI', 10, 0, sysdate, null, null, sysdate, 'RWALDEN' \"\"\")\n",
    "working_session.insert_into_foraqus(\"\"\"'B112', 'KJANISZEWSKI', 10, 0, sysdate, null, null, sysdate, 'RWALDEN' \"\"\")\n",
    "working_session.insert_into_foraqus(\"\"\"'112B', 'KJANISZEWSKI', 10, 0, sysdate, null, null, sysdate, 'RWALDEN' \"\"\")\n",
    "working_session.insert_into_foraqus(\"\"\"'B111', 'KJANISZEWSKI', 10, 0, sysdate, null, null, sysdate, 'RWALDEN' \"\"\")\n",
    "working_session.insert_into_foraqus(\"\"\"'111B', 'KJANISZEWSKI', 10, 0, sysdate, null, null, sysdate, 'RWALDEN' \"\"\")\n",
    "working_session.insert_into_foraqus(\"\"\"'B106', 'KJANISZEWSKI', 10, 0, sysdate, null, null, sysdate, 'RWALDEN' \"\"\")\n",
    "working_session.insert_into_foraqus(\"\"\"'106B', 'KJANISZEWSKI', 10, 0, sysdate, null, null, sysdate, 'RWALDEN' \"\"\")\n",
    "working_session.insert_into_foraqus(\"\"\"'B065', 'KJANISZEWSKI', 10, 0, sysdate, null, null, sysdate, 'RWALDEN' \"\"\")\n",
    "working_session.insert_into_foraqus(\"\"\"'065B', 'KJANISZEWSKI', 10, 0, sysdate, null, null, sysdate, 'RWALDEN' \"\"\")\n",
    "working_session.insert_into_foraqus(\"\"\"'B033', 'KJANISZEWSKI', 10, 0, sysdate, null, null, sysdate, 'RWALDEN' \"\"\")\n",
    "working_session.insert_into_foraqus(\"\"\"'033B', 'KJANISZEWSKI', 10, 0, sysdate, null, null, sysdate, 'RWALDEN' \"\"\")"
   ],
   "metadata": {
    "collapsed": false
   }
  },
  {
   "cell_type": "code",
   "execution_count": null,
   "outputs": [],
   "source": [
    "working_session.insert_into_foraqus(\"\"\"'B119', 'LNOWAK', 10, 0, sysdate, null, null, sysdate, 'RWALDEN' \"\"\")\n",
    "working_session.insert_into_foraqus(\"\"\"'119B', 'LNOWAK', 10, 0, sysdate, null, null, sysdate, 'RWALDEN' \"\"\")\n",
    "working_session.insert_into_foraqus(\"\"\"'B007', 'LNOWAK', 10, 0, sysdate, null, null, sysdate, 'RWALDEN' \"\"\")\n",
    "#working_session.insert_into_foraqus(\"\"\"'007B', 'LNOWAK', 10, 0, sysdate, null, null, sysdate, 'RWALDEN' \"\"\")"
   ],
   "metadata": {
    "collapsed": false
   }
  },
  {
   "cell_type": "code",
   "execution_count": null,
   "outputs": [],
   "source": [
    "working_session.insert_into_foraqus(\"\"\"'B008', 'UGOFF', 10, 0, sysdate, null, null, sysdate, 'RWALDEN' \"\"\")\n",
    "working_session.insert_into_foraqus(\"\"\"'008B', 'UGOFF', 10, 0, sysdate, null, null, sysdate, 'RWALDEN' \"\"\")\n",
    "working_session.insert_into_foraqus(\"\"\"'B013', 'UGOFF', 10, 0, sysdate, null, null, sysdate, 'RWALDEN' \"\"\")\n",
    "working_session.insert_into_foraqus(\"\"\"'013B', 'UGOFF', 10, 0, sysdate, null, null, sysdate, 'RWALDEN' \"\"\")\n",
    "working_session.insert_into_foraqus(\"\"\"'B028', 'UGOFF', 10, 0, sysdate, null, null, sysdate, 'RWALDEN' \"\"\")\n",
    "working_session.insert_into_foraqus(\"\"\"'028B', 'UGOFF', 10, 0, sysdate, null, null, sysdate, 'RWALDEN' \"\"\")\n",
    "working_session.insert_into_foraqus(\"\"\"'B029', 'UGOFF', 10, 0, sysdate, null, null, sysdate, 'RWALDEN' \"\"\")\n",
    "working_session.insert_into_foraqus(\"\"\"'029B', 'UGOFF', 10, 0, sysdate, null, null, sysdate, 'RWALDEN' \"\"\")\n",
    "working_session.insert_into_foraqus(\"\"\"'B090', 'UGOFF', 10, 0, sysdate, null, null, sysdate, 'RWALDEN' \"\"\")\n",
    "working_session.insert_into_foraqus(\"\"\"'090B', 'UGOFF', 10, 0, sysdate, null, null, sysdate, 'RWALDEN' \"\"\")\n",
    "working_session.insert_into_foraqus(\"\"\"'B123', 'UGOFF', 10, 0, sysdate, null, null, sysdate, 'RWALDEN' \"\"\")\n",
    "working_session.insert_into_foraqus(\"\"\"'123B', 'UGOFF', 10, 0, sysdate, null, null, sysdate, 'RWALDEN' \"\"\")"
   ],
   "metadata": {
    "collapsed": false
   }
  },
  {
   "cell_type": "code",
   "execution_count": null,
   "outputs": [],
   "source": [
    "working_session.insert_into_foraqus(\"\"\"'022B' , 'KJANISZEWSKI', 10, 0, sysdate, null, null, sysdate, 'RWALDEN' \"\"\")\n",
    "working_session.insert_into_foraqus(\"\"\"'023B' , 'KJANISZEWSKI', 10, 0, sysdate, null, null, sysdate, 'RWALDEN' \"\"\")\n",
    "working_session.insert_into_foraqus(\"\"\"'032B' , 'KJANISZEWSKI', 10, 0, sysdate, null, null, sysdate, 'RWALDEN' \"\"\")\n",
    "working_session.insert_into_foraqus(\"\"\"'035B' , 'KJANISZEWSKI', 10, 0, sysdate, null, null, sysdate, 'RWALDEN' \"\"\")\n",
    "working_session.insert_into_foraqus(\"\"\"'038B' , 'KJANISZEWSKI', 10, 0, sysdate, null, null, sysdate, 'RWALDEN' \"\"\")\n",
    "working_session.insert_into_foraqus(\"\"\"'049B' , 'KJANISZEWSKI', 10, 0, sysdate, null, null, sysdate, 'RWALDEN' \"\"\")\n",
    "working_session.insert_into_foraqus(\"\"\"'050B' , 'KJANISZEWSKI', 10, 0, sysdate, null, null, sysdate, 'RWALDEN' \"\"\")\n",
    "working_session.insert_into_foraqus(\"\"\"'060B' , 'KJANISZEWSKI', 10, 0, sysdate, null, null, sysdate, 'RWALDEN' \"\"\")\n",
    "working_session.insert_into_foraqus(\"\"\"'061B' , 'KJANISZEWSKI', 10, 0, sysdate, null, null, sysdate, 'RWALDEN' \"\"\")\n",
    "working_session.insert_into_foraqus(\"\"\"'062B' , 'KJANISZEWSKI', 10, 0, sysdate, null, null, sysdate, 'RWALDEN' \"\"\")\n",
    "working_session.insert_into_foraqus(\"\"\"'063B' , 'KJANISZEWSKI', 10, 0, sysdate, null, null, sysdate, 'RWALDEN' \"\"\")\n",
    "working_session.insert_into_foraqus(\"\"\"'064B' , 'KJANISZEWSKI', 10, 0, sysdate, null, null, sysdate, 'RWALDEN' \"\"\")\n",
    "working_session.insert_into_foraqus(\"\"\"'068B' , 'KJANISZEWSKI', 10, 0, sysdate, null, null, sysdate, 'RWALDEN' \"\"\")\n",
    "working_session.insert_into_foraqus(\"\"\"'086B' , 'KJANISZEWSKI', 10, 0, sysdate, null, null, sysdate, 'RWALDEN' \"\"\")\n",
    "working_session.insert_into_foraqus(\"\"\"'087B' , 'KJANISZEWSKI', 10, 0, sysdate, null, null, sysdate, 'RWALDEN' \"\"\")\n",
    "working_session.insert_into_foraqus(\"\"\"'089B' , 'KJANISZEWSKI', 10, 0, sysdate, null, null, sysdate, 'RWALDEN' \"\"\")\n",
    "working_session.insert_into_foraqus(\"\"\"'091B' , 'KJANISZEWSKI', 10, 0, sysdate, null, null, sysdate, 'RWALDEN' \"\"\")\n",
    "working_session.insert_into_foraqus(\"\"\"'092B' , 'KJANISZEWSKI', 10, 0, sysdate, null, null, sysdate, 'RWALDEN' \"\"\")\n",
    "working_session.insert_into_foraqus(\"\"\"'094B' , 'KJANISZEWSKI', 10, 0, sysdate, null, null, sysdate, 'RWALDEN' \"\"\")\n",
    "working_session.insert_into_foraqus(\"\"\"'100B' , 'KJANISZEWSKI', 10, 0, sysdate, null, null, sysdate, 'RWALDEN' \"\"\")\n",
    "working_session.insert_into_foraqus(\"\"\"'102B' , 'KJANISZEWSKI', 10, 0, sysdate, null, null, sysdate, 'RWALDEN' \"\"\")\n",
    "working_session.insert_into_foraqus(\"\"\"'103B' , 'KJANISZEWSKI', 10, 0, sysdate, null, null, sysdate, 'RWALDEN' \"\"\")\n",
    "working_session.insert_into_foraqus(\"\"\"'105B' , 'KJANISZEWSKI', 10, 0, sysdate, null, null, sysdate, 'RWALDEN' \"\"\")\n",
    "working_session.insert_into_foraqus(\"\"\"'107B' , 'KJANISZEWSKI', 10, 0, sysdate, null, null, sysdate, 'RWALDEN' \"\"\")\n",
    "working_session.insert_into_foraqus(\"\"\"'108B' , 'KJANISZEWSKI', 10, 0, sysdate, null, null, sysdate, 'RWALDEN' \"\"\")\n",
    "working_session.insert_into_foraqus(\"\"\"'116B' , 'KJANISZEWSKI', 10, 0, sysdate, null, null, sysdate, 'RWALDEN' \"\"\")\n",
    "working_session.insert_into_foraqus(\"\"\"'131B' , 'KJANISZEWSKI', 10, 0, sysdate, null, null, sysdate, 'RWALDEN' \"\"\")\n",
    "working_session.insert_into_foraqus(\"\"\"'144B' , 'KJANISZEWSKI', 10, 0, sysdate, null, null, sysdate, 'RWALDEN' \"\"\")\n",
    "working_session.insert_into_foraqus(\"\"\"'149B' , 'KJANISZEWSKI', 10, 0, sysdate, null, null, sysdate, 'RWALDEN' \"\"\")\n",
    "working_session.insert_into_foraqus(\"\"\"'B022' , 'KJANISZEWSKI', 10, 0, sysdate, null, null, sysdate, 'RWALDEN' \"\"\")\n",
    "working_session.insert_into_foraqus(\"\"\"'B023' , 'KJANISZEWSKI', 10, 0, sysdate, null, null, sysdate, 'RWALDEN' \"\"\")\n",
    "working_session.insert_into_foraqus(\"\"\"'B032' , 'KJANISZEWSKI', 10, 0, sysdate, null, null, sysdate, 'RWALDEN' \"\"\")\n",
    "working_session.insert_into_foraqus(\"\"\"'B035' , 'KJANISZEWSKI', 10, 0, sysdate, null, null, sysdate, 'RWALDEN' \"\"\")\n",
    "working_session.insert_into_foraqus(\"\"\"'B038' , 'KJANISZEWSKI', 10, 0, sysdate, null, null, sysdate, 'RWALDEN' \"\"\")\n",
    "working_session.insert_into_foraqus(\"\"\"'B040' , 'KJANISZEWSKI', 10, 0, sysdate, null, null, sysdate, 'RWALDEN' \"\"\")\n",
    "working_session.insert_into_foraqus(\"\"\"'B049' , 'KJANISZEWSKI', 10, 0, sysdate, null, null, sysdate, 'RWALDEN' \"\"\")\n",
    "working_session.insert_into_foraqus(\"\"\"'B050' , 'KJANISZEWSKI', 10, 0, sysdate, null, null, sysdate, 'RWALDEN' \"\"\")\n",
    "working_session.insert_into_foraqus(\"\"\"'B060' , 'KJANISZEWSKI', 10, 0, sysdate, null, null, sysdate, 'RWALDEN' \"\"\")\n",
    "working_session.insert_into_foraqus(\"\"\"'B061' , 'KJANISZEWSKI', 10, 0, sysdate, null, null, sysdate, 'RWALDEN' \"\"\")\n",
    "working_session.insert_into_foraqus(\"\"\"'B063' , 'KJANISZEWSKI', 10, 0, sysdate, null, null, sysdate, 'RWALDEN' \"\"\")\n",
    "working_session.insert_into_foraqus(\"\"\"'B064' , 'KJANISZEWSKI', 10, 0, sysdate, null, null, sysdate, 'RWALDEN' \"\"\")\n",
    "working_session.insert_into_foraqus(\"\"\"'B068' , 'KJANISZEWSKI', 10, 0, sysdate, null, null, sysdate, 'RWALDEN' \"\"\")\n",
    "working_session.insert_into_foraqus(\"\"\"'B086' , 'KJANISZEWSKI', 10, 0, sysdate, null, null, sysdate, 'RWALDEN' \"\"\")\n",
    "working_session.insert_into_foraqus(\"\"\"'B087' , 'KJANISZEWSKI', 10, 0, sysdate, null, null, sysdate, 'RWALDEN' \"\"\")\n",
    "working_session.insert_into_foraqus(\"\"\"'B089' , 'KJANISZEWSKI', 10, 0, sysdate, null, null, sysdate, 'RWALDEN' \"\"\")\n",
    "working_session.insert_into_foraqus(\"\"\"'B091' , 'KJANISZEWSKI', 10, 0, sysdate, null, null, sysdate, 'RWALDEN' \"\"\")\n",
    "working_session.insert_into_foraqus(\"\"\"'B092' , 'KJANISZEWSKI', 10, 0, sysdate, null, null, sysdate, 'RWALDEN' \"\"\")\n",
    "working_session.insert_into_foraqus(\"\"\"'B094' , 'KJANISZEWSKI', 10, 0, sysdate, null, null, sysdate, 'RWALDEN' \"\"\")\n",
    "working_session.insert_into_foraqus(\"\"\"'B100' , 'KJANISZEWSKI', 10, 0, sysdate, null, null, sysdate, 'RWALDEN' \"\"\")\n",
    "working_session.insert_into_foraqus(\"\"\"'B102' , 'KJANISZEWSKI', 10, 0, sysdate, null, null, sysdate, 'RWALDEN' \"\"\")\n",
    "working_session.insert_into_foraqus(\"\"\"'B103' , 'KJANISZEWSKI', 10, 0, sysdate, null, null, sysdate, 'RWALDEN' \"\"\")\n",
    "working_session.insert_into_foraqus(\"\"\"'B105' , 'KJANISZEWSKI', 10, 0, sysdate, null, null, sysdate, 'RWALDEN' \"\"\")\n",
    "working_session.insert_into_foraqus(\"\"\"'B107' , 'KJANISZEWSKI', 10, 0, sysdate, null, null, sysdate, 'RWALDEN' \"\"\")\n",
    "working_session.insert_into_foraqus(\"\"\"'B108' , 'KJANISZEWSKI', 10, 0, sysdate, null, null, sysdate, 'RWALDEN' \"\"\")\n",
    "working_session.insert_into_foraqus(\"\"\"'B116' , 'KJANISZEWSKI', 10, 0, sysdate, null, null, sysdate, 'RWALDEN' \"\"\")\n",
    "working_session.insert_into_foraqus(\"\"\"'B131' , 'KJANISZEWSKI', 10, 0, sysdate, null, null, sysdate, 'RWALDEN' \"\"\")\n",
    "working_session.insert_into_foraqus(\"\"\"'B144' , 'KJANISZEWSKI', 10, 0, sysdate, null, null, sysdate, 'RWALDEN' \"\"\")\n",
    "working_session.insert_into_foraqus(\"\"\"'B149' , 'KJANISZEWSKI', 10, 0, sysdate, null, null, sysdate, 'RWALDEN' \"\"\")\n",
    "\n",
    "working_session.insert_into_foraqus(\"\"\"'022B' , 'UGOFF', 10, 0, sysdate, null, null, sysdate, 'RWALDEN' \"\"\")\n",
    "working_session.insert_into_foraqus(\"\"\"'023B' , 'UGOFF', 10, 0, sysdate, null, null, sysdate, 'RWALDEN' \"\"\")\n",
    "working_session.insert_into_foraqus(\"\"\"'032B' , 'UGOFF', 10, 0, sysdate, null, null, sysdate, 'RWALDEN' \"\"\")\n",
    "working_session.insert_into_foraqus(\"\"\"'035B' , 'UGOFF', 10, 0, sysdate, null, null, sysdate, 'RWALDEN' \"\"\")\n",
    "working_session.insert_into_foraqus(\"\"\"'038B' , 'UGOFF', 10, 0, sysdate, null, null, sysdate, 'RWALDEN' \"\"\")\n",
    "working_session.insert_into_foraqus(\"\"\"'049B' , 'UGOFF', 10, 0, sysdate, null, null, sysdate, 'RWALDEN' \"\"\")\n",
    "working_session.insert_into_foraqus(\"\"\"'050B' , 'UGOFF', 10, 0, sysdate, null, null, sysdate, 'RWALDEN' \"\"\")\n",
    "working_session.insert_into_foraqus(\"\"\"'060B' , 'UGOFF', 10, 0, sysdate, null, null, sysdate, 'RWALDEN' \"\"\")\n",
    "working_session.insert_into_foraqus(\"\"\"'061B' , 'UGOFF', 10, 0, sysdate, null, null, sysdate, 'RWALDEN' \"\"\")\n",
    "working_session.insert_into_foraqus(\"\"\"'062B' , 'UGOFF', 10, 0, sysdate, null, null, sysdate, 'RWALDEN' \"\"\")\n",
    "working_session.insert_into_foraqus(\"\"\"'063B' , 'UGOFF', 10, 0, sysdate, null, null, sysdate, 'RWALDEN' \"\"\")\n",
    "working_session.insert_into_foraqus(\"\"\"'064B' , 'UGOFF', 10, 0, sysdate, null, null, sysdate, 'RWALDEN' \"\"\")\n",
    "working_session.insert_into_foraqus(\"\"\"'068B' , 'UGOFF', 10, 0, sysdate, null, null, sysdate, 'RWALDEN' \"\"\")\n",
    "working_session.insert_into_foraqus(\"\"\"'086B' , 'UGOFF', 10, 0, sysdate, null, null, sysdate, 'RWALDEN' \"\"\")\n",
    "working_session.insert_into_foraqus(\"\"\"'087B' , 'UGOFF', 10, 0, sysdate, null, null, sysdate, 'RWALDEN' \"\"\")\n",
    "working_session.insert_into_foraqus(\"\"\"'089B' , 'UGOFF', 10, 0, sysdate, null, null, sysdate, 'RWALDEN' \"\"\")\n",
    "working_session.insert_into_foraqus(\"\"\"'091B' , 'UGOFF', 10, 0, sysdate, null, null, sysdate, 'RWALDEN' \"\"\")\n",
    "working_session.insert_into_foraqus(\"\"\"'092B' , 'UGOFF', 10, 0, sysdate, null, null, sysdate, 'RWALDEN' \"\"\")\n",
    "working_session.insert_into_foraqus(\"\"\"'094B' , 'UGOFF', 10, 0, sysdate, null, null, sysdate, 'RWALDEN' \"\"\")\n",
    "working_session.insert_into_foraqus(\"\"\"'100B' , 'UGOFF', 10, 0, sysdate, null, null, sysdate, 'RWALDEN' \"\"\")\n",
    "working_session.insert_into_foraqus(\"\"\"'102B' , 'UGOFF', 10, 0, sysdate, null, null, sysdate, 'RWALDEN' \"\"\")\n",
    "working_session.insert_into_foraqus(\"\"\"'103B' , 'UGOFF', 10, 0, sysdate, null, null, sysdate, 'RWALDEN' \"\"\")\n",
    "working_session.insert_into_foraqus(\"\"\"'105B' , 'UGOFF', 10, 0, sysdate, null, null, sysdate, 'RWALDEN' \"\"\")\n",
    "working_session.insert_into_foraqus(\"\"\"'107B' , 'UGOFF', 10, 0, sysdate, null, null, sysdate, 'RWALDEN' \"\"\")\n",
    "working_session.insert_into_foraqus(\"\"\"'108B' , 'UGOFF', 10, 0, sysdate, null, null, sysdate, 'RWALDEN' \"\"\")\n",
    "working_session.insert_into_foraqus(\"\"\"'116B' , 'UGOFF', 10, 0, sysdate, null, null, sysdate, 'RWALDEN' \"\"\")\n",
    "working_session.insert_into_foraqus(\"\"\"'131B' , 'UGOFF', 10, 0, sysdate, null, null, sysdate, 'RWALDEN' \"\"\")\n",
    "working_session.insert_into_foraqus(\"\"\"'144B' , 'UGOFF', 10, 0, sysdate, null, null, sysdate, 'RWALDEN' \"\"\")\n",
    "working_session.insert_into_foraqus(\"\"\"'149B' , 'UGOFF', 10, 0, sysdate, null, null, sysdate, 'RWALDEN' \"\"\")\n",
    "working_session.insert_into_foraqus(\"\"\"'B022' , 'UGOFF', 10, 0, sysdate, null, null, sysdate, 'RWALDEN' \"\"\")\n",
    "working_session.insert_into_foraqus(\"\"\"'B023' , 'UGOFF', 10, 0, sysdate, null, null, sysdate, 'RWALDEN' \"\"\")\n",
    "working_session.insert_into_foraqus(\"\"\"'B032' , 'UGOFF', 10, 0, sysdate, null, null, sysdate, 'RWALDEN' \"\"\")\n",
    "working_session.insert_into_foraqus(\"\"\"'B035' , 'UGOFF', 10, 0, sysdate, null, null, sysdate, 'RWALDEN' \"\"\")\n",
    "working_session.insert_into_foraqus(\"\"\"'B038' , 'UGOFF', 10, 0, sysdate, null, null, sysdate, 'RWALDEN' \"\"\")\n",
    "working_session.insert_into_foraqus(\"\"\"'B040' , 'UGOFF', 10, 0, sysdate, null, null, sysdate, 'RWALDEN' \"\"\")\n",
    "working_session.insert_into_foraqus(\"\"\"'B049' , 'UGOFF', 10, 0, sysdate, null, null, sysdate, 'RWALDEN' \"\"\")\n",
    "working_session.insert_into_foraqus(\"\"\"'B050' , 'UGOFF', 10, 0, sysdate, null, null, sysdate, 'RWALDEN' \"\"\")\n",
    "working_session.insert_into_foraqus(\"\"\"'B060' , 'UGOFF', 10, 0, sysdate, null, null, sysdate, 'RWALDEN' \"\"\")\n",
    "working_session.insert_into_foraqus(\"\"\"'B061' , 'UGOFF', 10, 0, sysdate, null, null, sysdate, 'RWALDEN' \"\"\")\n",
    "working_session.insert_into_foraqus(\"\"\"'B063' , 'UGOFF', 10, 0, sysdate, null, null, sysdate, 'RWALDEN' \"\"\")\n",
    "working_session.insert_into_foraqus(\"\"\"'B064' , 'UGOFF', 10, 0, sysdate, null, null, sysdate, 'RWALDEN' \"\"\")\n",
    "working_session.insert_into_foraqus(\"\"\"'B068' , 'UGOFF', 10, 0, sysdate, null, null, sysdate, 'RWALDEN' \"\"\")\n",
    "working_session.insert_into_foraqus(\"\"\"'B086' , 'UGOFF', 10, 0, sysdate, null, null, sysdate, 'RWALDEN' \"\"\")\n",
    "working_session.insert_into_foraqus(\"\"\"'B087' , 'UGOFF', 10, 0, sysdate, null, null, sysdate, 'RWALDEN' \"\"\")\n",
    "working_session.insert_into_foraqus(\"\"\"'B089' , 'UGOFF', 10, 0, sysdate, null, null, sysdate, 'RWALDEN' \"\"\")\n",
    "working_session.insert_into_foraqus(\"\"\"'B091' , 'UGOFF', 10, 0, sysdate, null, null, sysdate, 'RWALDEN' \"\"\")\n",
    "working_session.insert_into_foraqus(\"\"\"'B092' , 'UGOFF', 10, 0, sysdate, null, null, sysdate, 'RWALDEN' \"\"\")\n",
    "working_session.insert_into_foraqus(\"\"\"'B094' , 'UGOFF', 10, 0, sysdate, null, null, sysdate, 'RWALDEN' \"\"\")\n",
    "working_session.insert_into_foraqus(\"\"\"'B100' , 'UGOFF', 10, 0, sysdate, null, null, sysdate, 'RWALDEN' \"\"\")\n",
    "working_session.insert_into_foraqus(\"\"\"'B102' , 'UGOFF', 10, 0, sysdate, null, null, sysdate, 'RWALDEN' \"\"\")\n",
    "working_session.insert_into_foraqus(\"\"\"'B103' , 'UGOFF', 10, 0, sysdate, null, null, sysdate, 'RWALDEN' \"\"\")\n",
    "working_session.insert_into_foraqus(\"\"\"'B105' , 'UGOFF', 10, 0, sysdate, null, null, sysdate, 'RWALDEN' \"\"\")\n",
    "working_session.insert_into_foraqus(\"\"\"'B107' , 'UGOFF', 10, 0, sysdate, null, null, sysdate, 'RWALDEN' \"\"\")\n",
    "working_session.insert_into_foraqus(\"\"\"'B108' , 'UGOFF', 10, 0, sysdate, null, null, sysdate, 'RWALDEN' \"\"\")\n",
    "working_session.insert_into_foraqus(\"\"\"'B116' , 'UGOFF', 10, 0, sysdate, null, null, sysdate, 'RWALDEN' \"\"\")\n",
    "working_session.insert_into_foraqus(\"\"\"'B131' , 'UGOFF', 10, 0, sysdate, null, null, sysdate, 'RWALDEN' \"\"\")\n",
    "working_session.insert_into_foraqus(\"\"\"'B144' , 'UGOFF', 10, 0, sysdate, null, null, sysdate, 'RWALDEN' \"\"\")\n",
    "working_session.insert_into_foraqus(\"\"\"'B149' , 'UGOFF', 10, 0, sysdate, null, null, sysdate, 'RWALDEN' \"\"\")\n",
    "\n",
    "working_session.insert_into_foraqus(\"\"\"'022B' , 'BJESTER1', 10, 0, sysdate, null, null, sysdate, 'RWALDEN' \"\"\")\n",
    "working_session.insert_into_foraqus(\"\"\"'023B' , 'BJESTER1', 10, 0, sysdate, null, null, sysdate, 'RWALDEN' \"\"\")\n",
    "working_session.insert_into_foraqus(\"\"\"'032B' , 'BJESTER1', 10, 0, sysdate, null, null, sysdate, 'RWALDEN' \"\"\")\n",
    "working_session.insert_into_foraqus(\"\"\"'035B' , 'BJESTER1', 10, 0, sysdate, null, null, sysdate, 'RWALDEN' \"\"\")\n",
    "working_session.insert_into_foraqus(\"\"\"'038B' , 'BJESTER1', 10, 0, sysdate, null, null, sysdate, 'RWALDEN' \"\"\")\n",
    "working_session.insert_into_foraqus(\"\"\"'049B' , 'BJESTER1', 10, 0, sysdate, null, null, sysdate, 'RWALDEN' \"\"\")\n",
    "working_session.insert_into_foraqus(\"\"\"'050B' , 'BJESTER1', 10, 0, sysdate, null, null, sysdate, 'RWALDEN' \"\"\")\n",
    "working_session.insert_into_foraqus(\"\"\"'060B' , 'BJESTER1', 10, 0, sysdate, null, null, sysdate, 'RWALDEN' \"\"\")\n",
    "working_session.insert_into_foraqus(\"\"\"'061B' , 'BJESTER1', 10, 0, sysdate, null, null, sysdate, 'RWALDEN' \"\"\")\n",
    "working_session.insert_into_foraqus(\"\"\"'062B' , 'BJESTER1', 10, 0, sysdate, null, null, sysdate, 'RWALDEN' \"\"\")\n",
    "working_session.insert_into_foraqus(\"\"\"'063B' , 'BJESTER1', 10, 0, sysdate, null, null, sysdate, 'RWALDEN' \"\"\")\n",
    "working_session.insert_into_foraqus(\"\"\"'064B' , 'BJESTER1', 10, 0, sysdate, null, null, sysdate, 'RWALDEN' \"\"\")\n",
    "working_session.insert_into_foraqus(\"\"\"'068B' , 'BJESTER1', 10, 0, sysdate, null, null, sysdate, 'RWALDEN' \"\"\")\n",
    "working_session.insert_into_foraqus(\"\"\"'086B' , 'BJESTER1', 10, 0, sysdate, null, null, sysdate, 'RWALDEN' \"\"\")\n",
    "working_session.insert_into_foraqus(\"\"\"'087B' , 'BJESTER1', 10, 0, sysdate, null, null, sysdate, 'RWALDEN' \"\"\")\n",
    "working_session.insert_into_foraqus(\"\"\"'089B' , 'BJESTER1', 10, 0, sysdate, null, null, sysdate, 'RWALDEN' \"\"\")\n",
    "working_session.insert_into_foraqus(\"\"\"'091B' , 'BJESTER1', 10, 0, sysdate, null, null, sysdate, 'RWALDEN' \"\"\")\n",
    "working_session.insert_into_foraqus(\"\"\"'092B' , 'BJESTER1', 10, 0, sysdate, null, null, sysdate, 'RWALDEN' \"\"\")\n",
    "working_session.insert_into_foraqus(\"\"\"'094B' , 'BJESTER1', 10, 0, sysdate, null, null, sysdate, 'RWALDEN' \"\"\")\n",
    "working_session.insert_into_foraqus(\"\"\"'100B' , 'BJESTER1', 10, 0, sysdate, null, null, sysdate, 'RWALDEN' \"\"\")\n",
    "working_session.insert_into_foraqus(\"\"\"'102B' , 'BJESTER1', 10, 0, sysdate, null, null, sysdate, 'RWALDEN' \"\"\")\n",
    "working_session.insert_into_foraqus(\"\"\"'103B' , 'BJESTER1', 10, 0, sysdate, null, null, sysdate, 'RWALDEN' \"\"\")\n",
    "working_session.insert_into_foraqus(\"\"\"'105B' , 'BJESTER1', 10, 0, sysdate, null, null, sysdate, 'RWALDEN' \"\"\")\n",
    "working_session.insert_into_foraqus(\"\"\"'107B' , 'BJESTER1', 10, 0, sysdate, null, null, sysdate, 'RWALDEN' \"\"\")\n",
    "working_session.insert_into_foraqus(\"\"\"'108B' , 'BJESTER1', 10, 0, sysdate, null, null, sysdate, 'RWALDEN' \"\"\")\n",
    "working_session.insert_into_foraqus(\"\"\"'116B' , 'BJESTER1', 10, 0, sysdate, null, null, sysdate, 'RWALDEN' \"\"\")\n",
    "working_session.insert_into_foraqus(\"\"\"'131B' , 'BJESTER1', 10, 0, sysdate, null, null, sysdate, 'RWALDEN' \"\"\")\n",
    "working_session.insert_into_foraqus(\"\"\"'144B' , 'BJESTER1', 10, 0, sysdate, null, null, sysdate, 'RWALDEN' \"\"\")\n",
    "working_session.insert_into_foraqus(\"\"\"'149B' , 'BJESTER1', 10, 0, sysdate, null, null, sysdate, 'RWALDEN' \"\"\")\n",
    "working_session.insert_into_foraqus(\"\"\"'B022' , 'BJESTER1', 10, 0, sysdate, null, null, sysdate, 'RWALDEN' \"\"\")\n",
    "working_session.insert_into_foraqus(\"\"\"'B023' , 'BJESTER1', 10, 0, sysdate, null, null, sysdate, 'RWALDEN' \"\"\")\n",
    "working_session.insert_into_foraqus(\"\"\"'B032' , 'BJESTER1', 10, 0, sysdate, null, null, sysdate, 'RWALDEN' \"\"\")\n",
    "working_session.insert_into_foraqus(\"\"\"'B035' , 'BJESTER1', 10, 0, sysdate, null, null, sysdate, 'RWALDEN' \"\"\")\n",
    "working_session.insert_into_foraqus(\"\"\"'B038' , 'BJESTER1', 10, 0, sysdate, null, null, sysdate, 'RWALDEN' \"\"\")\n",
    "working_session.insert_into_foraqus(\"\"\"'B040' , 'BJESTER1', 10, 0, sysdate, null, null, sysdate, 'RWALDEN' \"\"\")\n",
    "working_session.insert_into_foraqus(\"\"\"'B049' , 'BJESTER1', 10, 0, sysdate, null, null, sysdate, 'RWALDEN' \"\"\")\n",
    "working_session.insert_into_foraqus(\"\"\"'B050' , 'BJESTER1', 10, 0, sysdate, null, null, sysdate, 'RWALDEN' \"\"\")\n",
    "working_session.insert_into_foraqus(\"\"\"'B060' , 'BJESTER1', 10, 0, sysdate, null, null, sysdate, 'RWALDEN' \"\"\")\n",
    "working_session.insert_into_foraqus(\"\"\"'B061' , 'BJESTER1', 10, 0, sysdate, null, null, sysdate, 'RWALDEN' \"\"\")\n",
    "working_session.insert_into_foraqus(\"\"\"'B063' , 'BJESTER1', 10, 0, sysdate, null, null, sysdate, 'RWALDEN' \"\"\")\n",
    "working_session.insert_into_foraqus(\"\"\"'B064' , 'BJESTER1', 10, 0, sysdate, null, null, sysdate, 'RWALDEN' \"\"\")\n",
    "working_session.insert_into_foraqus(\"\"\"'B068' , 'BJESTER1', 10, 0, sysdate, null, null, sysdate, 'RWALDEN' \"\"\")\n",
    "working_session.insert_into_foraqus(\"\"\"'B086' , 'BJESTER1', 10, 0, sysdate, null, null, sysdate, 'RWALDEN' \"\"\")\n",
    "working_session.insert_into_foraqus(\"\"\"'B087' , 'BJESTER1', 10, 0, sysdate, null, null, sysdate, 'RWALDEN' \"\"\")\n",
    "working_session.insert_into_foraqus(\"\"\"'B089' , 'BJESTER1', 10, 0, sysdate, null, null, sysdate, 'RWALDEN' \"\"\")\n",
    "working_session.insert_into_foraqus(\"\"\"'B091' , 'BJESTER1', 10, 0, sysdate, null, null, sysdate, 'RWALDEN' \"\"\")\n",
    "working_session.insert_into_foraqus(\"\"\"'B092' , 'BJESTER1', 10, 0, sysdate, null, null, sysdate, 'RWALDEN' \"\"\")\n",
    "working_session.insert_into_foraqus(\"\"\"'B094' , 'BJESTER1', 10, 0, sysdate, null, null, sysdate, 'RWALDEN' \"\"\")\n",
    "working_session.insert_into_foraqus(\"\"\"'B100' , 'BJESTER1', 10, 0, sysdate, null, null, sysdate, 'RWALDEN' \"\"\")\n",
    "working_session.insert_into_foraqus(\"\"\"'B102' , 'BJESTER1', 10, 0, sysdate, null, null, sysdate, 'RWALDEN' \"\"\")\n",
    "working_session.insert_into_foraqus(\"\"\"'B103' , 'BJESTER1', 10, 0, sysdate, null, null, sysdate, 'RWALDEN' \"\"\")\n",
    "working_session.insert_into_foraqus(\"\"\"'B105' , 'BJESTER1', 10, 0, sysdate, null, null, sysdate, 'RWALDEN' \"\"\")\n",
    "working_session.insert_into_foraqus(\"\"\"'B107' , 'BJESTER1', 10, 0, sysdate, null, null, sysdate, 'RWALDEN' \"\"\")\n",
    "working_session.insert_into_foraqus(\"\"\"'B108' , 'BJESTER1', 10, 0, sysdate, null, null, sysdate, 'RWALDEN' \"\"\")\n",
    "working_session.insert_into_foraqus(\"\"\"'B116' , 'BJESTER1', 10, 0, sysdate, null, null, sysdate, 'RWALDEN' \"\"\")\n",
    "working_session.insert_into_foraqus(\"\"\"'B131' , 'BJESTER1', 10, 0, sysdate, null, null, sysdate, 'RWALDEN' \"\"\")\n",
    "working_session.insert_into_foraqus(\"\"\"'B144' , 'BJESTER1', 10, 0, sysdate, null, null, sysdate, 'RWALDEN' \"\"\")\n",
    "working_session.insert_into_foraqus(\"\"\"'B149' , 'BJESTER1', 10, 0, sysdate, null, null, sysdate, 'RWALDEN' \"\"\")\n",
    "\n",
    "working_session.insert_into_foraqus(\"\"\"'022B' , 'LNOWAK', 10, 0, sysdate, null, null, sysdate, 'RWALDEN' \"\"\")\n",
    "working_session.insert_into_foraqus(\"\"\"'023B' , 'LNOWAK', 10, 0, sysdate, null, null, sysdate, 'RWALDEN' \"\"\")\n",
    "working_session.insert_into_foraqus(\"\"\"'032B' , 'LNOWAK', 10, 0, sysdate, null, null, sysdate, 'RWALDEN' \"\"\")\n",
    "working_session.insert_into_foraqus(\"\"\"'035B' , 'LNOWAK', 10, 0, sysdate, null, null, sysdate, 'RWALDEN' \"\"\")\n",
    "working_session.insert_into_foraqus(\"\"\"'038B' , 'LNOWAK', 10, 0, sysdate, null, null, sysdate, 'RWALDEN' \"\"\")\n",
    "working_session.insert_into_foraqus(\"\"\"'049B' , 'LNOWAK', 10, 0, sysdate, null, null, sysdate, 'RWALDEN' \"\"\")\n",
    "working_session.insert_into_foraqus(\"\"\"'050B' , 'LNOWAK', 10, 0, sysdate, null, null, sysdate, 'RWALDEN' \"\"\")\n",
    "working_session.insert_into_foraqus(\"\"\"'060B' , 'LNOWAK', 10, 0, sysdate, null, null, sysdate, 'RWALDEN' \"\"\")\n",
    "working_session.insert_into_foraqus(\"\"\"'061B' , 'LNOWAK', 10, 0, sysdate, null, null, sysdate, 'RWALDEN' \"\"\")\n",
    "working_session.insert_into_foraqus(\"\"\"'062B' , 'LNOWAK', 10, 0, sysdate, null, null, sysdate, 'RWALDEN' \"\"\")\n",
    "working_session.insert_into_foraqus(\"\"\"'063B' , 'LNOWAK', 10, 0, sysdate, null, null, sysdate, 'RWALDEN' \"\"\")\n",
    "working_session.insert_into_foraqus(\"\"\"'064B' , 'LNOWAK', 10, 0, sysdate, null, null, sysdate, 'RWALDEN' \"\"\")\n",
    "working_session.insert_into_foraqus(\"\"\"'068B' , 'LNOWAK', 10, 0, sysdate, null, null, sysdate, 'RWALDEN' \"\"\")\n",
    "working_session.insert_into_foraqus(\"\"\"'086B' , 'LNOWAK', 10, 0, sysdate, null, null, sysdate, 'RWALDEN' \"\"\")\n",
    "working_session.insert_into_foraqus(\"\"\"'087B' , 'LNOWAK', 10, 0, sysdate, null, null, sysdate, 'RWALDEN' \"\"\")\n",
    "working_session.insert_into_foraqus(\"\"\"'089B' , 'LNOWAK', 10, 0, sysdate, null, null, sysdate, 'RWALDEN' \"\"\")\n",
    "working_session.insert_into_foraqus(\"\"\"'091B' , 'LNOWAK', 10, 0, sysdate, null, null, sysdate, 'RWALDEN' \"\"\")\n",
    "working_session.insert_into_foraqus(\"\"\"'092B' , 'LNOWAK', 10, 0, sysdate, null, null, sysdate, 'RWALDEN' \"\"\")\n",
    "working_session.insert_into_foraqus(\"\"\"'094B' , 'LNOWAK', 10, 0, sysdate, null, null, sysdate, 'RWALDEN' \"\"\")\n",
    "working_session.insert_into_foraqus(\"\"\"'100B' , 'LNOWAK', 10, 0, sysdate, null, null, sysdate, 'RWALDEN' \"\"\")\n",
    "working_session.insert_into_foraqus(\"\"\"'102B' , 'LNOWAK', 10, 0, sysdate, null, null, sysdate, 'RWALDEN' \"\"\")\n",
    "working_session.insert_into_foraqus(\"\"\"'103B' , 'LNOWAK', 10, 0, sysdate, null, null, sysdate, 'RWALDEN' \"\"\")\n",
    "working_session.insert_into_foraqus(\"\"\"'105B' , 'LNOWAK', 10, 0, sysdate, null, null, sysdate, 'RWALDEN' \"\"\")\n",
    "working_session.insert_into_foraqus(\"\"\"'107B' , 'LNOWAK', 10, 0, sysdate, null, null, sysdate, 'RWALDEN' \"\"\")\n",
    "working_session.insert_into_foraqus(\"\"\"'108B' , 'LNOWAK', 10, 0, sysdate, null, null, sysdate, 'RWALDEN' \"\"\")\n",
    "working_session.insert_into_foraqus(\"\"\"'116B' , 'LNOWAK', 10, 0, sysdate, null, null, sysdate, 'RWALDEN' \"\"\")\n",
    "working_session.insert_into_foraqus(\"\"\"'131B' , 'LNOWAK', 10, 0, sysdate, null, null, sysdate, 'RWALDEN' \"\"\")\n",
    "working_session.insert_into_foraqus(\"\"\"'144B' , 'LNOWAK', 10, 0, sysdate, null, null, sysdate, 'RWALDEN' \"\"\")\n",
    "working_session.insert_into_foraqus(\"\"\"'149B' , 'LNOWAK', 10, 0, sysdate, null, null, sysdate, 'RWALDEN' \"\"\")\n",
    "working_session.insert_into_foraqus(\"\"\"'B022' , 'LNOWAK', 10, 0, sysdate, null, null, sysdate, 'RWALDEN' \"\"\")\n",
    "working_session.insert_into_foraqus(\"\"\"'B023' , 'LNOWAK', 10, 0, sysdate, null, null, sysdate, 'RWALDEN' \"\"\")\n",
    "working_session.insert_into_foraqus(\"\"\"'B032' , 'LNOWAK', 10, 0, sysdate, null, null, sysdate, 'RWALDEN' \"\"\")\n",
    "working_session.insert_into_foraqus(\"\"\"'B035' , 'LNOWAK', 10, 0, sysdate, null, null, sysdate, 'RWALDEN' \"\"\")\n",
    "working_session.insert_into_foraqus(\"\"\"'B038' , 'LNOWAK', 10, 0, sysdate, null, null, sysdate, 'RWALDEN' \"\"\")\n",
    "working_session.insert_into_foraqus(\"\"\"'B040' , 'LNOWAK', 10, 0, sysdate, null, null, sysdate, 'RWALDEN' \"\"\")\n",
    "working_session.insert_into_foraqus(\"\"\"'B049' , 'LNOWAK', 10, 0, sysdate, null, null, sysdate, 'RWALDEN' \"\"\")\n",
    "working_session.insert_into_foraqus(\"\"\"'B050' , 'LNOWAK', 10, 0, sysdate, null, null, sysdate, 'RWALDEN' \"\"\")\n",
    "working_session.insert_into_foraqus(\"\"\"'B060' , 'LNOWAK', 10, 0, sysdate, null, null, sysdate, 'RWALDEN' \"\"\")\n",
    "working_session.insert_into_foraqus(\"\"\"'B061' , 'LNOWAK', 10, 0, sysdate, null, null, sysdate, 'RWALDEN' \"\"\")\n",
    "working_session.insert_into_foraqus(\"\"\"'B063' , 'LNOWAK', 10, 0, sysdate, null, null, sysdate, 'RWALDEN' \"\"\")\n",
    "working_session.insert_into_foraqus(\"\"\"'B064' , 'LNOWAK', 10, 0, sysdate, null, null, sysdate, 'RWALDEN' \"\"\")\n",
    "working_session.insert_into_foraqus(\"\"\"'B068' , 'LNOWAK', 10, 0, sysdate, null, null, sysdate, 'RWALDEN' \"\"\")\n",
    "working_session.insert_into_foraqus(\"\"\"'B086' , 'LNOWAK', 10, 0, sysdate, null, null, sysdate, 'RWALDEN' \"\"\")\n",
    "working_session.insert_into_foraqus(\"\"\"'B087' , 'LNOWAK', 10, 0, sysdate, null, null, sysdate, 'RWALDEN' \"\"\")\n",
    "working_session.insert_into_foraqus(\"\"\"'B089' , 'LNOWAK', 10, 0, sysdate, null, null, sysdate, 'RWALDEN' \"\"\")\n",
    "working_session.insert_into_foraqus(\"\"\"'B091' , 'LNOWAK', 10, 0, sysdate, null, null, sysdate, 'RWALDEN' \"\"\")\n",
    "working_session.insert_into_foraqus(\"\"\"'B092' , 'LNOWAK', 10, 0, sysdate, null, null, sysdate, 'RWALDEN' \"\"\")\n",
    "working_session.insert_into_foraqus(\"\"\"'B094' , 'LNOWAK', 10, 0, sysdate, null, null, sysdate, 'RWALDEN' \"\"\")\n",
    "working_session.insert_into_foraqus(\"\"\"'B100' , 'LNOWAK', 10, 0, sysdate, null, null, sysdate, 'RWALDEN' \"\"\")\n",
    "working_session.insert_into_foraqus(\"\"\"'B102' , 'LNOWAK', 10, 0, sysdate, null, null, sysdate, 'RWALDEN' \"\"\")\n",
    "working_session.insert_into_foraqus(\"\"\"'B103' , 'LNOWAK', 10, 0, sysdate, null, null, sysdate, 'RWALDEN' \"\"\")\n",
    "working_session.insert_into_foraqus(\"\"\"'B105' , 'LNOWAK', 10, 0, sysdate, null, null, sysdate, 'RWALDEN' \"\"\")\n",
    "working_session.insert_into_foraqus(\"\"\"'B107' , 'LNOWAK', 10, 0, sysdate, null, null, sysdate, 'RWALDEN' \"\"\")\n",
    "working_session.insert_into_foraqus(\"\"\"'B108' , 'LNOWAK', 10, 0, sysdate, null, null, sysdate, 'RWALDEN' \"\"\")\n",
    "working_session.insert_into_foraqus(\"\"\"'B116' , 'LNOWAK', 10, 0, sysdate, null, null, sysdate, 'RWALDEN' \"\"\")\n",
    "working_session.insert_into_foraqus(\"\"\"'B131' , 'LNOWAK', 10, 0, sysdate, null, null, sysdate, 'RWALDEN' \"\"\")\n",
    "working_session.insert_into_foraqus(\"\"\"'B144' , 'LNOWAK', 10, 0, sysdate, null, null, sysdate, 'RWALDEN' \"\"\")\n",
    "working_session.insert_into_foraqus(\"\"\"'B149' , 'LNOWAK', 10, 0, sysdate, null, null, sysdate, 'RWALDEN' \"\"\")"
   ],
   "metadata": {
    "collapsed": false,
    "pycharm": {
     "is_executing": true
    }
   }
  },
  {
   "cell_type": "markdown",
   "source": [
    "## Dawn"
   ],
   "metadata": {
    "collapsed": false
   }
  },
  {
   "cell_type": "code",
   "execution_count": 21,
   "outputs": [
    {
     "name": "stdout",
     "output_type": "stream",
     "text": [
      "select  FORAQUS_QUEUE_ID,FORAQUS_USER_ID_APPR,FORAQUS_QUEUE_LEVEL,FORAQUS_QUEUE_LIMIT,FORAQUS_EFF_DATE,\n",
      "        FORAQUS_NCHG_DATE,FORAQUS_TERM_DATE from FORAQUS where FORAQUS_USER_ID_APPR = 'DMCINTOSH1' and FORAQUS_NCHG_DATE is null and FORAQUS_TERM_DATE is null order by FORAQUS_QUEUE_ID  \n",
      "execute_sql_query  exec_time: 0.034125328063964844\n",
      "DMCINTOSH1 []\n"
     ]
    }
   ],
   "source": [
    "# List current approver queues\n",
    "x,y = working_session.get_approvers_queues('DMCINTOSH1')\n",
    "print(x,y)\n",
    "# results DMCINTOSH1 ['022E', '023E', '024G', '025G', '027G', '089C', '134G', '145G']\n"
   ],
   "metadata": {
    "collapsed": false
   }
  },
  {
   "cell_type": "code",
   "execution_count": 8,
   "outputs": [
    {
     "name": "stdout",
     "output_type": "stream",
     "text": [
      "select  FORAQUS_QUEUE_ID,FORAQUS_USER_ID_APPR,FORAQUS_QUEUE_LEVEL,FORAQUS_QUEUE_LIMIT,FORAQUS_EFF_DATE,\n",
      "        FORAQUS_NCHG_DATE,FORAQUS_TERM_DATE from FORAQUS where FORAQUS_USER_ID_APPR = 'DMCINTOSH1' and FORAQUS_NCHG_DATE is null and FORAQUS_TERM_DATE is null   \n",
      "execute_sql_query  exec_time: 0.06800317764282227\n",
      "022E DMCINTOSH1 10 0.04 1999-07-01 00:00:00 None None\n",
      "update FORAQUS set FORAQUS_NCHG_DATE = sysdate where FORAQUS_USER_ID_APPR = 'DMCINTOSH1' and FORAQUS_NCHG_DATE is null and FORAQUS_TERM_DATE is null and FORAQUS_QUEUE_ID = '022E'\n",
      "execute_sql_update  exec_time: 0.07934379577636719\n",
      "insert into FORAQUS(FORAQUS_QUEUE_ID,FORAQUS_USER_ID_APPR,FORAQUS_QUEUE_LEVEL,FORAQUS_QUEUE_LIMIT,FORAQUS_EFF_DATE,FORAQUS_NCHG_DATE,FORAQUS_TERM_DATE,FORAQUS_ACTIVITY_DATE,FORAQUS_USER_ID) values('022E', 'DMCINTOSH1', 10, 0.04, sysdate, null, sysdate, sysdate, 'RWALDEN' )\n",
      "execute_sql_insert  exec_time: 0.07231593132019043\n",
      "None\n",
      "insert into FORAQUS(FORAQUS_QUEUE_ID,FORAQUS_USER_ID_APPR,FORAQUS_QUEUE_LEVEL,FORAQUS_QUEUE_LIMIT,FORAQUS_EFF_DATE,FORAQUS_NCHG_DATE,FORAQUS_TERM_DATE,FORAQUS_ACTIVITY_DATE,FORAQUS_USER_ID) values('022E', 'SBRAR', 10, 0.04, sysdate, null, null, sysdate, 'RWALDEN' )\n",
      "execute_sql_insert  exec_time: 0.06842565536499023\n",
      "None\n",
      "023E DMCINTOSH1 10 0.04 1999-07-01 00:00:00 None None\n",
      "update FORAQUS set FORAQUS_NCHG_DATE = sysdate where FORAQUS_USER_ID_APPR = 'DMCINTOSH1' and FORAQUS_NCHG_DATE is null and FORAQUS_TERM_DATE is null and FORAQUS_QUEUE_ID = '023E'\n",
      "execute_sql_update  exec_time: 0.06930756568908691\n",
      "insert into FORAQUS(FORAQUS_QUEUE_ID,FORAQUS_USER_ID_APPR,FORAQUS_QUEUE_LEVEL,FORAQUS_QUEUE_LIMIT,FORAQUS_EFF_DATE,FORAQUS_NCHG_DATE,FORAQUS_TERM_DATE,FORAQUS_ACTIVITY_DATE,FORAQUS_USER_ID) values('023E', 'DMCINTOSH1', 10, 0.04, sysdate, null, sysdate, sysdate, 'RWALDEN' )\n",
      "execute_sql_insert  exec_time: 0.06860780715942383\n",
      "None\n",
      "insert into FORAQUS(FORAQUS_QUEUE_ID,FORAQUS_USER_ID_APPR,FORAQUS_QUEUE_LEVEL,FORAQUS_QUEUE_LIMIT,FORAQUS_EFF_DATE,FORAQUS_NCHG_DATE,FORAQUS_TERM_DATE,FORAQUS_ACTIVITY_DATE,FORAQUS_USER_ID) values('023E', 'SBRAR', 10, 0.04, sysdate, null, null, sysdate, 'RWALDEN' )\n",
      "execute_sql_insert  exec_time: 0.06861066818237305\n",
      "None\n",
      "025G DMCINTOSH1 10 0.05 2022-07-13 15:20:18 None None\n",
      "update FORAQUS set FORAQUS_NCHG_DATE = sysdate where FORAQUS_USER_ID_APPR = 'DMCINTOSH1' and FORAQUS_NCHG_DATE is null and FORAQUS_TERM_DATE is null and FORAQUS_QUEUE_ID = '025G'\n",
      "execute_sql_update  exec_time: 0.06837606430053711\n",
      "insert into FORAQUS(FORAQUS_QUEUE_ID,FORAQUS_USER_ID_APPR,FORAQUS_QUEUE_LEVEL,FORAQUS_QUEUE_LIMIT,FORAQUS_EFF_DATE,FORAQUS_NCHG_DATE,FORAQUS_TERM_DATE,FORAQUS_ACTIVITY_DATE,FORAQUS_USER_ID) values('025G', 'DMCINTOSH1', 10, 0.05, sysdate, null, sysdate, sysdate, 'RWALDEN' )\n",
      "execute_sql_insert  exec_time: 0.06783151626586914\n",
      "None\n",
      "insert into FORAQUS(FORAQUS_QUEUE_ID,FORAQUS_USER_ID_APPR,FORAQUS_QUEUE_LEVEL,FORAQUS_QUEUE_LIMIT,FORAQUS_EFF_DATE,FORAQUS_NCHG_DATE,FORAQUS_TERM_DATE,FORAQUS_ACTIVITY_DATE,FORAQUS_USER_ID) values('025G', 'SBRAR', 10, 0.05, sysdate, null, null, sysdate, 'RWALDEN' )\n",
      "execute_sql_insert  exec_time: 0.0681755542755127\n",
      "None\n",
      "027G DMCINTOSH1 10 0.05 2022-06-30 09:35:05 None None\n",
      "update FORAQUS set FORAQUS_NCHG_DATE = sysdate where FORAQUS_USER_ID_APPR = 'DMCINTOSH1' and FORAQUS_NCHG_DATE is null and FORAQUS_TERM_DATE is null and FORAQUS_QUEUE_ID = '027G'\n",
      "execute_sql_update  exec_time: 0.07013869285583496\n",
      "insert into FORAQUS(FORAQUS_QUEUE_ID,FORAQUS_USER_ID_APPR,FORAQUS_QUEUE_LEVEL,FORAQUS_QUEUE_LIMIT,FORAQUS_EFF_DATE,FORAQUS_NCHG_DATE,FORAQUS_TERM_DATE,FORAQUS_ACTIVITY_DATE,FORAQUS_USER_ID) values('027G', 'DMCINTOSH1', 10, 0.05, sysdate, null, sysdate, sysdate, 'RWALDEN' )\n",
      "execute_sql_insert  exec_time: 0.06899881362915039\n",
      "None\n",
      "insert into FORAQUS(FORAQUS_QUEUE_ID,FORAQUS_USER_ID_APPR,FORAQUS_QUEUE_LEVEL,FORAQUS_QUEUE_LIMIT,FORAQUS_EFF_DATE,FORAQUS_NCHG_DATE,FORAQUS_TERM_DATE,FORAQUS_ACTIVITY_DATE,FORAQUS_USER_ID) values('027G', 'SBRAR', 10, 0.05, sysdate, null, null, sysdate, 'RWALDEN' )\n",
      "execute_sql_insert  exec_time: 0.06859779357910156\n",
      "None\n",
      "024G DMCINTOSH1 9 0.05 2022-06-30 09:52:43 None None\n",
      "update FORAQUS set FORAQUS_NCHG_DATE = sysdate where FORAQUS_USER_ID_APPR = 'DMCINTOSH1' and FORAQUS_NCHG_DATE is null and FORAQUS_TERM_DATE is null and FORAQUS_QUEUE_ID = '024G'\n",
      "execute_sql_update  exec_time: 0.06936430931091309\n",
      "insert into FORAQUS(FORAQUS_QUEUE_ID,FORAQUS_USER_ID_APPR,FORAQUS_QUEUE_LEVEL,FORAQUS_QUEUE_LIMIT,FORAQUS_EFF_DATE,FORAQUS_NCHG_DATE,FORAQUS_TERM_DATE,FORAQUS_ACTIVITY_DATE,FORAQUS_USER_ID) values('024G', 'DMCINTOSH1', 9, 0.05, sysdate, null, sysdate, sysdate, 'RWALDEN' )\n",
      "execute_sql_insert  exec_time: 0.06793594360351562\n",
      "None\n",
      "insert into FORAQUS(FORAQUS_QUEUE_ID,FORAQUS_USER_ID_APPR,FORAQUS_QUEUE_LEVEL,FORAQUS_QUEUE_LIMIT,FORAQUS_EFF_DATE,FORAQUS_NCHG_DATE,FORAQUS_TERM_DATE,FORAQUS_ACTIVITY_DATE,FORAQUS_USER_ID) values('024G', 'SBRAR', 9, 0.05, sysdate, null, null, sysdate, 'RWALDEN' )\n",
      "execute_sql_insert  exec_time: 0.06466412544250488\n",
      "None\n",
      "089C DMCINTOSH1 10 0.05 2022-06-30 09:56:05 None None\n",
      "update FORAQUS set FORAQUS_NCHG_DATE = sysdate where FORAQUS_USER_ID_APPR = 'DMCINTOSH1' and FORAQUS_NCHG_DATE is null and FORAQUS_TERM_DATE is null and FORAQUS_QUEUE_ID = '089C'\n",
      "execute_sql_update  exec_time: 0.07543754577636719\n",
      "insert into FORAQUS(FORAQUS_QUEUE_ID,FORAQUS_USER_ID_APPR,FORAQUS_QUEUE_LEVEL,FORAQUS_QUEUE_LIMIT,FORAQUS_EFF_DATE,FORAQUS_NCHG_DATE,FORAQUS_TERM_DATE,FORAQUS_ACTIVITY_DATE,FORAQUS_USER_ID) values('089C', 'DMCINTOSH1', 10, 0.05, sysdate, null, sysdate, sysdate, 'RWALDEN' )\n",
      "execute_sql_insert  exec_time: 0.07147026062011719\n",
      "None\n",
      "insert into FORAQUS(FORAQUS_QUEUE_ID,FORAQUS_USER_ID_APPR,FORAQUS_QUEUE_LEVEL,FORAQUS_QUEUE_LIMIT,FORAQUS_EFF_DATE,FORAQUS_NCHG_DATE,FORAQUS_TERM_DATE,FORAQUS_ACTIVITY_DATE,FORAQUS_USER_ID) values('089C', 'SBRAR', 10, 0.05, sysdate, null, null, sysdate, 'RWALDEN' )\n",
      "execute_sql_insert  exec_time: 0.06918907165527344\n",
      "None\n",
      "134G DMCINTOSH1 10 0.05 2022-06-30 09:56:33 None None\n",
      "update FORAQUS set FORAQUS_NCHG_DATE = sysdate where FORAQUS_USER_ID_APPR = 'DMCINTOSH1' and FORAQUS_NCHG_DATE is null and FORAQUS_TERM_DATE is null and FORAQUS_QUEUE_ID = '134G'\n",
      "execute_sql_update  exec_time: 0.06989741325378418\n",
      "insert into FORAQUS(FORAQUS_QUEUE_ID,FORAQUS_USER_ID_APPR,FORAQUS_QUEUE_LEVEL,FORAQUS_QUEUE_LIMIT,FORAQUS_EFF_DATE,FORAQUS_NCHG_DATE,FORAQUS_TERM_DATE,FORAQUS_ACTIVITY_DATE,FORAQUS_USER_ID) values('134G', 'DMCINTOSH1', 10, 0.05, sysdate, null, sysdate, sysdate, 'RWALDEN' )\n",
      "execute_sql_insert  exec_time: 0.06840038299560547\n",
      "None\n",
      "insert into FORAQUS(FORAQUS_QUEUE_ID,FORAQUS_USER_ID_APPR,FORAQUS_QUEUE_LEVEL,FORAQUS_QUEUE_LIMIT,FORAQUS_EFF_DATE,FORAQUS_NCHG_DATE,FORAQUS_TERM_DATE,FORAQUS_ACTIVITY_DATE,FORAQUS_USER_ID) values('134G', 'SBRAR', 10, 0.05, sysdate, null, null, sysdate, 'RWALDEN' )\n",
      "execute_sql_insert  exec_time: 0.06858968734741211\n",
      "None\n",
      "145G DMCINTOSH1 10 0.05 2022-09-22 16:45:58 None None\n",
      "update FORAQUS set FORAQUS_NCHG_DATE = sysdate where FORAQUS_USER_ID_APPR = 'DMCINTOSH1' and FORAQUS_NCHG_DATE is null and FORAQUS_TERM_DATE is null and FORAQUS_QUEUE_ID = '145G'\n",
      "execute_sql_update  exec_time: 0.0684199333190918\n",
      "insert into FORAQUS(FORAQUS_QUEUE_ID,FORAQUS_USER_ID_APPR,FORAQUS_QUEUE_LEVEL,FORAQUS_QUEUE_LIMIT,FORAQUS_EFF_DATE,FORAQUS_NCHG_DATE,FORAQUS_TERM_DATE,FORAQUS_ACTIVITY_DATE,FORAQUS_USER_ID) values('145G', 'DMCINTOSH1', 10, 0.05, sysdate, null, sysdate, sysdate, 'RWALDEN' )\n",
      "execute_sql_insert  exec_time: 0.06925177574157715\n",
      "None\n",
      "insert into FORAQUS(FORAQUS_QUEUE_ID,FORAQUS_USER_ID_APPR,FORAQUS_QUEUE_LEVEL,FORAQUS_QUEUE_LIMIT,FORAQUS_EFF_DATE,FORAQUS_NCHG_DATE,FORAQUS_TERM_DATE,FORAQUS_ACTIVITY_DATE,FORAQUS_USER_ID) values('145G', 'SBRAR', 10, 0.05, sysdate, null, null, sysdate, 'RWALDEN' )\n",
      "execute_sql_insert  exec_time: 0.06885194778442383\n",
      "None\n"
     ]
    }
   ],
   "source": [
    "# Replace Approver in Selected Queues to replace current approver with replacement. Pass no queues to replace in all queues.\n",
    "# Replace all Ex. : working_session.replace_approver('NVALSAMIDES', 'RWALDEN')\n",
    "#x = working_session.replace_approver('NVALSAMIDES', 'RWALDEN', ('CAQ', 'INVQ', 'JVQ', 'NSF')) # Only in the listed queues\n",
    "x = working_session.replace_approver('DMCINTOSH1', 'SBRAR') # All queues user is in"
   ],
   "metadata": {
    "collapsed": false
   }
  },
  {
   "cell_type": "code",
   "execution_count": 20,
   "outputs": [
    {
     "name": "stdout",
     "output_type": "stream",
     "text": [
      "select  FORAQUS_QUEUE_ID,FORAQUS_USER_ID_APPR,FORAQUS_QUEUE_LEVEL,FORAQUS_QUEUE_LIMIT,FORAQUS_EFF_DATE,\n",
      "        FORAQUS_NCHG_DATE,FORAQUS_TERM_DATE from FORAQUS where FORAQUS_USER_ID_APPR = 'DMCINTOSH1' and FORAQUS_NCHG_DATE is null and FORAQUS_TERM_DATE is null order by FORAQUS_QUEUE_ID  \n",
      "execute_sql_query  exec_time: 0.03609037399291992\n",
      "DMCINTOSH1 []\n"
     ]
    }
   ],
   "source": [
    "# List current approver queues\n",
    "x,y = working_session.get_approvers_queues('DMCINTOSH1')\n",
    "print(x,y)"
   ],
   "metadata": {
    "collapsed": false
   }
  },
  {
   "cell_type": "code",
   "execution_count": null,
   "outputs": [],
   "source": [],
   "metadata": {
    "collapsed": false
   }
  }
 ],
 "metadata": {
  "kernelspec": {
   "display_name": "Python 3",
   "language": "python",
   "name": "python3"
  },
  "language_info": {
   "codemirror_mode": {
    "name": "ipython",
    "version": 2
   },
   "file_extension": ".py",
   "mimetype": "text/x-python",
   "name": "python",
   "nbconvert_exporter": "python",
   "pygments_lexer": "ipython2",
   "version": "2.7.6"
  }
 },
 "nbformat": 4,
 "nbformat_minor": 0
}
