{
 "cells": [
  {
   "cell_type": "code",
   "execution_count": null,
   "metadata": {
    "collapsed": true,
    "pycharm": {
     "name": "#%%\n"
    }
   },
   "outputs": [],
   "source": [
    "%load_ext autoreload\n",
    "%autoreload 2"
   ]
  },
  {
   "cell_type": "code",
   "execution_count": null,
   "outputs": [],
   "source": [
    "import approval_que_app as aqa"
   ],
   "metadata": {
    "collapsed": false,
    "pycharm": {
     "name": "#%%\n"
    }
   }
  },
  {
   "cell_type": "code",
   "execution_count": null,
   "outputs": [],
   "source": [
    "working_session = aqa.OracleConnect()"
   ],
   "metadata": {
    "collapsed": false,
    "pycharm": {
     "name": "#%%\n"
    }
   }
  },
  {
   "cell_type": "code",
   "execution_count": null,
   "outputs": [],
   "source": [
    "working_session_backup = aqa.TableBackUp(working_session)"
   ],
   "metadata": {
    "collapsed": false,
    "pycharm": {
     "name": "#%%\n"
    }
   }
  },
  {
   "cell_type": "code",
   "execution_count": null,
   "outputs": [],
   "source": [
    "# Create session backups\n",
    "_result = working_session_backup.perform_session_backup()\n",
    "print(_result)\n",
    "# Display created file names\n",
    "print(working_session_backup.session_bk_FORAQUS_file_name)\n",
    "print(working_session_backup.session_bk_FORAQRC_file_name)\n",
    "print(working_session_backup.session_bk_FTVAPPQ_file_name)"
   ],
   "metadata": {
    "collapsed": false,
    "pycharm": {
     "name": "#%%\n"
    }
   }
  },
  {
   "cell_type": "code",
   "execution_count": null,
   "outputs": [],
   "source": [
    "working_session.engine_connection.close()"
   ],
   "metadata": {
    "collapsed": false,
    "pycharm": {
     "name": "#%%\n"
    }
   }
  },
  {
   "cell_type": "code",
   "execution_count": null,
   "outputs": [],
   "source": [
    "print(working_session)\n",
    "print(dir(working_session))\n",
    "print(vars(working_session))"
   ],
   "metadata": {
    "collapsed": false,
    "pycharm": {
     "name": "#%%\n"
    }
   }
  },
  {
   "cell_type": "code",
   "execution_count": null,
   "outputs": [],
   "source": [
    "_select = 'distinct FORAQUS_USER_ID_APPR'\n",
    "_from = 'FORAQUS'\n",
    "_where = ''\n",
    "_order_by = 'FORAQUS_USER_ID_APPR'\n",
    "_group_by = ''\n",
    "_max_records_returned = ''"
   ],
   "metadata": {
    "collapsed": false,
    "pycharm": {
     "name": "#%%\n"
    }
   }
  },
  {
   "cell_type": "code",
   "execution_count": null,
   "outputs": [],
   "source": [
    "x = working_session.db_query(_select, _from, _where, _order_by, _group_by, _max_records_returned)\n",
    "print(x)"
   ],
   "metadata": {
    "collapsed": false,
    "pycharm": {
     "name": "#%%\n"
    }
   }
  },
  {
   "cell_type": "code",
   "execution_count": null,
   "outputs": [],
   "source": [
    "queue_chain_number = working_session.get_next_queue_number()\n",
    "queue_description = 'Workforce Development Community Engagement'\n",
    "queues_to_build = [('A','B',0,['AMUSIAL1','EOBRIEN3']),('B','E',.01,['LNOWAK']),('E','G',999.99,['BJESTER1']),('G','EXBS',4999.99,['HDAVIS18'])]\n",
    "orgns_to_route = ['12807']\n",
    "working_session.build_a_new_queue_chain(queue_chain_number, queue_description, queues_to_build, orgns_to_route)"
   ],
   "metadata": {
    "collapsed": false,
    "pycharm": {
     "name": "#%%\n"
    }
   }
  },
  {
   "cell_type": "code",
   "execution_count": null,
   "outputs": [],
   "source": [
    "queue_chain_number = working_session.get_next_queue_number()\n",
    "queue_description = 'Cell Towers'\n",
    "queues_to_build = [('A','B',0,['AMUSIAL1','EOBRIEN3']),('B','G',.01,['BJESTER1']),('G','VPAS',.05,['DMCINTOSH1'])]\n",
    "orgns_to_route = ['23003', '23004']\n",
    "working_session.build_a_new_queue_chain(queue_chain_number, queue_description, queues_to_build, orgns_to_route)"
   ],
   "metadata": {
    "collapsed": false,
    "pycharm": {
     "name": "#%%\n"
    }
   }
  },
  {
   "cell_type": "code",
   "execution_count": null,
   "outputs": [],
   "source": [],
   "metadata": {
    "collapsed": false,
    "pycharm": {
     "name": "#%%\n"
    }
   }
  },
  {
   "cell_type": "code",
   "execution_count": null,
   "outputs": [],
   "source": [
    "queue_chain_number = working_session.get_next_queue_number()\n",
    "queue_description = '23006 Emergency Phone'\n",
    "queues_to_build = [('A','B',0,['AMUSIAL1','EOBRIEN3']),('B','C',.01,['BJESTER1']),('C','E',.02,['SMILLER66']),('E','G',0.03,['MDIOQUINO']),('G','VPAS',0.04,['RSHAW'])]\n",
    "orgns_to_route = ['23006']\n",
    "working_session.build_a_new_queue_chain(queue_chain_number, queue_description, queues_to_build, orgns_to_route)"
   ],
   "metadata": {
    "collapsed": false,
    "pycharm": {
     "name": "#%%\n"
    }
   }
  },
  {
   "cell_type": "code",
   "execution_count": null,
   "outputs": [],
   "source": [],
   "metadata": {
    "collapsed": false,
    "pycharm": {
     "name": "#%%\n"
    }
   }
  },
  {
   "cell_type": "code",
   "execution_count": null,
   "outputs": [],
   "source": [
    "queue_chain_number = working_session.get_next_queue_number()\n",
    "queue_description = 'COVID-19 Recovery Block Grant'\n",
    "queues_to_build = [('A','B',0,['AMUSIAL1','EOBRIEN3']),('B','E',.01,['UGOFF']),('E','G',0.03,['SMILLER66']),('G','VPAS',0.04,['SMILLER66'])]\n",
    "orgns_to_route = ['62402']\n",
    "working_session.build_a_new_queue_chain(queue_chain_number, queue_description, queues_to_build, orgns_to_route)"
   ],
   "metadata": {
    "collapsed": false,
    "pycharm": {
     "name": "#%%\n"
    }
   }
  },
  {
   "cell_type": "code",
   "execution_count": null,
   "outputs": [],
   "source": [],
   "metadata": {
    "collapsed": false,
    "pycharm": {
     "name": "#%%\n"
    }
   }
  },
  {
   "cell_type": "code",
   "execution_count": null,
   "outputs": [],
   "source": [
    "queue_chain_number = working_session.get_next_queue_number()\n",
    "queue_description = 'Student Housing Planning Grant'\n",
    "queues_to_build = [('A','B',0,['AMUSIAL1','EOBRIEN3']),('B','E',.01,['UGOFF']),('E','G',0.03,['SBRAR']),('G','VPAS',0.04,['SMILLER66'])]\n",
    "orgns_to_route = ['62401']\n",
    "working_session.build_a_new_queue_chain(queue_chain_number, queue_description, queues_to_build, orgns_to_route)"
   ],
   "metadata": {
    "collapsed": false,
    "pycharm": {
     "name": "#%%\n"
    }
   }
  },
  {
   "cell_type": "code",
   "execution_count": null,
   "outputs": [],
   "source": [],
   "metadata": {
    "collapsed": false,
    "pycharm": {
     "name": "#%%\n"
    }
   }
  },
  {
   "cell_type": "code",
   "execution_count": null,
   "outputs": [],
   "source": [
    "queue_chain_number = working_session.get_next_queue_number()\n",
    "queue_description = 'Zero Textbook Cost Prog'\n",
    "queues_to_build = [('A','B',0,['AMUSIAL1','EOBRIEN3']),('B','E',.01,['BJESTER1']),('E','G',0.03,['KMITCHELL18']),('G','VPAS',0.04,['SMILLER66'])]\n",
    "orgns_to_route = ['62401']\n",
    "working_session.build_a_new_queue_chain(queue_chain_number, queue_description, queues_to_build, orgns_to_route)"
   ],
   "metadata": {
    "collapsed": false,
    "pycharm": {
     "name": "#%%\n"
    }
   }
  },
  {
   "cell_type": "code",
   "execution_count": null,
   "outputs": [],
   "source": [],
   "metadata": {
    "collapsed": false,
    "pycharm": {
     "name": "#%%\n"
    }
   }
  },
  {
   "cell_type": "code",
   "execution_count": null,
   "outputs": [],
   "source": [],
   "metadata": {
    "collapsed": false,
    "pycharm": {
     "name": "#%%\n"
    }
   }
  },
  {
   "cell_type": "code",
   "execution_count": null,
   "outputs": [],
   "source": [
    "# List current approver queues\n",
    "x,y = working_session.get_approvers_queues('CHART8')\n",
    "print(x,y)"
   ],
   "metadata": {
    "collapsed": false,
    "pycharm": {
     "name": "#%%\n"
    }
   }
  },
  {
   "cell_type": "code",
   "execution_count": null,
   "outputs": [],
   "source": [
    "# Replace Approver in Selected Queues to replace current approver with replacement. Pass no queues to replace in all queues.\n",
    "# Replace all Ex. : working_session.replace_approver('NVALSAMIDES', 'RWALDEN')\n",
    "#x = working_session.replace_approver('CHART8', 'HDAVIS18', ('CAQ', 'INVQ', 'JVQ', 'NSF')) #\n",
    "x = working_session.replace_approver('CHART8', 'HDAVIS18')\n"
   ],
   "metadata": {
    "collapsed": false,
    "pycharm": {
     "name": "#%%\n"
    }
   }
  },
  {
   "cell_type": "code",
   "execution_count": null,
   "outputs": [],
   "source": [
    "# ReList current approver queues\n",
    "x,y = working_session.get_approvers_queues('CHART8')\n",
    "print(x,y)"
   ],
   "metadata": {
    "collapsed": false,
    "pycharm": {
     "name": "#%%\n"
    }
   }
  },
  {
   "cell_type": "code",
   "execution_count": null,
   "outputs": [],
   "source": [],
   "metadata": {
    "collapsed": false,
    "pycharm": {
     "name": "#%%\n"
    }
   }
  },
  {
   "cell_type": "code",
   "execution_count": null,
   "outputs": [],
   "source": [
    "x = working_session.term_approver('KJANISZEWSKI', '25-OCT-22', from_queues = ('000B', ' 001B', ' 002B', ' 003B', ' 004B', ' 005B', ' 006B', ' 007B', ' 008B', ' 013B', ' 014B', ' 015B', ' 016B', ' 017B', ' 018B', ' 019B', ' 020B', ' 024B', ' 025B', ' 071B', ' 072B', ' 073B', ' 074B', ' 075B', ' 076B', ' 077B', ' 078B', ' 079B', ' 080B', ' 081B', ' 083B', ' 084B', ' 085B', ' 096B', ' 097B', ' 115B', ' 117B', ' 124B', ' 125B', ' 139B', ' 140B', ' 141B', ' 143B', ' B001', ' B002', ' B003', ' B004', ' B006', ' B007', ' B008', ' B013', ' B014', ' B015', ' B016', ' B017', ' B018', ' B019', ' B020', ' B024', ' B053', ' B054', ' B055', ' B071', ' B076', ' B077', ' B078', ' B079', ' B080', ' B084', ' B085', ' B096', ' B097', ' B123', ' B131', ' B141', ' B143', ' B146', ' B147', ' B149') )\n"
   ],
   "metadata": {
    "collapsed": false,
    "pycharm": {
     "name": "#%%\n"
    }
   }
  },
  {
   "cell_type": "code",
   "execution_count": null,
   "outputs": [],
   "source": [
    "\n",
    "x = working_session.term_approver('BJESTER1', '25-OCT-22', from_queues = ('000B', '002B', '008B', '020B', '023B', '098B', '139B', '140B', '149B', 'B067', 'B140', 'B141', 'B147', 'B148', 'B149'))\n",
    "\n",
    "\n",
    "x = working_session.term_approver('LNOWAK', '25-OCT-22', from_queues = ('001B', '003B', '006B', '008B', '009B', '010B', '011B', '012B', '013B', '014B', '015B', '016B', '017B', '018B', '019B', '020B', '021B', '022B', '023B', '024B', '025B', '026B', '027B', '028B', '029B', '030B', '031B', '032B', '033B', '034B', '035B', '036B', '037B', '038B', '039B', '041B', '042B', '043B', '044B', '045B', '046B', '047B', '048B', '049B', '050B', '051B', '052B', '053B', '054B', '055B', '056B', '057B', '058B', '059B', '060B', '061B', '062B', '063B', '064B', '065B', '066B', '067B', '068B', '069B', '070B', '076B', '077B', '078B', '079B', '080B', '081B', '082B', '083B', '084B', '085B', '086B', '087B', '088B', '089B', '090B', '091B', '092B', '093B', '094B', '095B', '096B', '097B', '098B', '099B', '100B', '101B', '102B', '103B', '105B', '106B', '107B', '108B', '109B', '110B', '111B', '112B', '113B', '114B', '116B', '117B', '118B', '120B', '121B', '122B', '123B', '124B', '125B', '127B', '128B', '129B', '139B', '140B', '141B', '143B', '144B', 'B003', 'B006', 'B007', 'B008', 'B009', 'B013', 'B015', 'B018', 'B019', 'B020', 'B022', 'B023', 'B025', 'B031', 'B032', 'B034', 'B035', 'B036', 'B038', 'B040', 'B043', 'B048', 'B049', 'B050', 'B056', 'B058', 'B060', 'B061', 'B063', 'B064', 'B066', 'B068', 'B069', 'B070', 'B076', 'B077', 'B078', 'B080', 'B084', 'B085', 'B086', 'B087', 'B088', 'B089', 'B091', 'B092', 'B093', 'B094', 'B096', 'B097', 'B100', 'B102', 'B103', 'B104', 'B105', 'B107', 'B108', 'B109', 'B112', 'B116', 'B120', 'B123', 'B131', 'B140', 'B141', 'B143', 'B144', 'B146', 'B147', 'B148', 'B149'))\n",
    "\n",
    "\n",
    "x = working_session.term_approver('UGOFF', '25-OCT-22', from_queues = ('000B', '001B', '002B', '003B', '004B', '005B', '006B', '007B', '008B', '009B', '010B', '011B', '012B', '021B', '022B', '023B', '025B', '026B', '027B', '028B', '029B', '030B', '031B', '032B', '033B', '035B', '038B', '039B', '040B', '041B', '042B', '045B', '048B', '049B', '050B', '058B', '060B', '061B', '062B', '063B', '064B', '065B', '066B', '067B', '068B', '069B', '070B', '071B', '072B', '073B', '074B', '075B', '076B', '077B', '078B', '079B', '080B', '081B', '082B', '083B', '084B', '085B', '086B', '087B', '088B', '089B', '090B', '091B', '092B', '093B', '094B', '095B', '096B', '097B', '098B', '099B', '100B', '101B', '102B', '103B', '104B', '105B', '106B', '107B', '108B', '109B', '110B', '111B', '112B', '113B', '114B', '115B', '116B', '117B', '118B', '119B', '122B', '124B', '127B', '128B', '129B', '130B', '132B', '137B', '138B', '140B', '141B', '142B', '143B', '148B', 'B002', 'B003', 'B004', 'B006', 'B007', 'B009', 'B022', 'B023', 'B031', 'B032', 'B035', 'B038', 'B048', 'B049', 'B050', 'B058', 'B060', 'B061', 'B063', 'B064', 'B066', 'B068', 'B071', 'B076', 'B077', 'B078', 'B079', 'B080', 'B084', 'B085', 'B086', 'B087', 'B088', 'B089', 'B091', 'B092', 'B094', 'B096', 'B097', 'B100', 'B102', 'B103', 'B105', 'B107', 'B108', 'B109', 'B112', 'B116', 'B131', 'B137', 'B140', 'B141', 'B143', 'B146', 'B148', 'B149'))\n",
    "\n"
   ],
   "metadata": {
    "collapsed": false,
    "pycharm": {
     "name": "#%%\n"
    }
   }
  }
 ],
 "metadata": {
  "kernelspec": {
   "display_name": "Python 3",
   "language": "python",
   "name": "python3"
  },
  "language_info": {
   "codemirror_mode": {
    "name": "ipython",
    "version": 2
   },
   "file_extension": ".py",
   "mimetype": "text/x-python",
   "name": "python",
   "nbconvert_exporter": "python",
   "pygments_lexer": "ipython2",
   "version": "2.7.6"
  }
 },
 "nbformat": 4,
 "nbformat_minor": 0
}