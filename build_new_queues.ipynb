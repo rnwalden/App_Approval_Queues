{
 "cells": [
  {
   "cell_type": "code",
   "execution_count": 1,
   "metadata": {
    "collapsed": true,
    "pycharm": {
     "name": "#%%\n"
    }
   },
   "outputs": [],
   "source": [
    "%load_ext autoreload\n",
    "%autoreload 2"
   ]
  },
  {
   "cell_type": "code",
   "execution_count": 2,
   "outputs": [],
   "source": [
    "import approval_que_app as aqa"
   ],
   "metadata": {
    "collapsed": false,
    "pycharm": {
     "name": "#%%\n"
    }
   }
  },
  {
   "cell_type": "code",
   "execution_count": 3,
   "outputs": [
    {
     "name": "stdout",
     "output_type": "stream",
     "text": [
      "logs file exists in project_root\n"
     ]
    }
   ],
   "source": [
    "working_session = aqa.OracleConnect()"
   ],
   "metadata": {
    "collapsed": false,
    "pycharm": {
     "name": "#%%\n"
    }
   }
  },
  {
   "cell_type": "code",
   "execution_count": 4,
   "outputs": [
    {
     "name": "stdout",
     "output_type": "stream",
     "text": [
      "back_ups file exists in project_root\n",
      "session_back_ups file exists in back_ups\n",
      "user_back_ups file exists in back_ups\n"
     ]
    }
   ],
   "source": [
    "working_session_backup = aqa.TableBackUp(working_session)"
   ],
   "metadata": {
    "collapsed": false,
    "pycharm": {
     "name": "#%%\n"
    }
   }
  },
  {
   "cell_type": "code",
   "execution_count": 5,
   "outputs": [
    {
     "name": "stdout",
     "output_type": "stream",
     "text": [
      "back_ups/session_back_ups/FORAQUS_2022-10-31\n",
      "select  FORAQUS_QUEUE_ID, FORAQUS_USER_ID_APPR, FORAQUS_QUEUE_LEVEL, FORAQUS_QUEUE_LIMIT, FORAQUS_EFF_DATE, FORAQUS_NCHG_DATE, FORAQUS_TERM_DATE, FORAQUS_ACTIVITY_DATE, FORAQUS_USER_ID, FORAQUS_SURROGATE_ID, FORAQUS_VERSION, FORAQUS_DATA_ORIGIN, FORAQUS_VPDI_CODE from FORAQUS    \n",
      "execute_sql_query  exec_time: 2.4881439208984375\n",
      "select  FORAQRC_QUEUE_ID, FORAQRC_DOC_TYPE, FORAQRC_RULE_GROUP, FORAQRC_COAS_CODE, FORAQRC_FTYP_CODE, FORAQRC_FUND_CODE, FORAQRC_ORGN_CODE, FORAQRC_ATYP_CODE, FORAQRC_ACCT_CODE, FORAQRC_ACTIVITY_DATE, FORAQRC_USER_ID, FORAQRC_PROG_CODE, FORAQRC_SURROGATE_ID, FORAQRC_VERSION, FORAQRC_DATA_ORIGIN, FORAQRC_VPDI_CODE from FORAQRC    \n",
      "execute_sql_query  exec_time: 0.2599964141845703\n",
      "select  FTVAPPQ_QUEUE_ID, FTVAPPQ_DESCRIPTION, FTVAPPQ_QUEUE_LIMIT, FTVAPPQ_NEXT_QUEUE_ID, FTVAPPQ_APPROVAL_REQ, FTVAPPQ_ACTIVITY_DATE, FTVAPPQ_USER_ID, FTVAPPQ_SURROGATE_ID, FTVAPPQ_DATA_ORIGIN, FTVAPPQ_VERSION, FTVAPPQ_VPDI_CODE from FTVAPPQ    \n",
      "execute_sql_query  exec_time: 0.3047459125518799\n",
      "None\n",
      "FORAQUS_2022-10-31\n",
      "FORAQRC_2022-10-31\n",
      "FTVAPPQ_2022-10-31\n"
     ]
    }
   ],
   "source": [
    "# Create session backups\n",
    "_result = working_session_backup.perform_session_backup()\n",
    "print(_result)\n",
    "# Display created file names\n",
    "print(working_session_backup.session_bk_FORAQUS_file_name)\n",
    "print(working_session_backup.session_bk_FORAQRC_file_name)\n",
    "print(working_session_backup.session_bk_FTVAPPQ_file_name)"
   ],
   "metadata": {
    "collapsed": false,
    "pycharm": {
     "name": "#%%\n"
    }
   }
  },
  {
   "cell_type": "code",
   "execution_count": 10,
   "outputs": [],
   "source": [
    "working_session.engine_connection.close()"
   ],
   "metadata": {
    "collapsed": false,
    "pycharm": {
     "name": "#%%\n"
    }
   }
  },
  {
   "cell_type": "code",
   "execution_count": null,
   "outputs": [],
   "source": [
    "print(working_session)\n",
    "print(dir(working_session))\n",
    "print(vars(working_session))"
   ],
   "metadata": {
    "collapsed": false,
    "pycharm": {
     "name": "#%%\n"
    }
   }
  },
  {
   "cell_type": "code",
   "execution_count": null,
   "outputs": [],
   "source": [
    "_select = 'distinct FORAQUS_USER_ID_APPR'\n",
    "_from = 'FORAQUS'\n",
    "_where = ''\n",
    "_order_by = 'FORAQUS_USER_ID_APPR'\n",
    "_group_by = ''\n",
    "_max_records_returned = ''"
   ],
   "metadata": {
    "collapsed": false,
    "pycharm": {
     "name": "#%%\n"
    }
   }
  },
  {
   "cell_type": "code",
   "execution_count": null,
   "outputs": [],
   "source": [
    "x = working_session.db_query(_select, _from, _where, _order_by, _group_by, _max_records_returned)\n",
    "print(x)"
   ],
   "metadata": {
    "collapsed": false,
    "pycharm": {
     "name": "#%%\n"
    }
   }
  },
  {
   "cell_type": "code",
   "execution_count": null,
   "outputs": [],
   "source": [
    "queue_chain_number = working_session.get_next_queue_number()\n",
    "queue_description = 'Workforce Development Community Engagement'\n",
    "queues_to_build = [('A','B',0,['AMUSIAL1','EOBRIEN3']),('B','E',.01,['LNOWAK']),('E','G',999.99,['BJESTER1']),('G','EXBS',4999.99,['HDAVIS18'])]\n",
    "orgns_to_route = ['12807']\n",
    "working_session.build_a_new_queue_chain(queue_chain_number, queue_description, queues_to_build, orgns_to_route)"
   ],
   "metadata": {
    "collapsed": false,
    "pycharm": {
     "name": "#%%\n"
    }
   }
  },
  {
   "cell_type": "code",
   "execution_count": null,
   "outputs": [],
   "source": [
    "queue_chain_number = working_session.get_next_queue_number()\n",
    "queue_description = 'Cell Towers'\n",
    "queues_to_build = [('A','B',0,['AMUSIAL1','EOBRIEN3']),('B','G',.01,['BJESTER1']),('G','VPAS',.05,['DMCINTOSH1'])]\n",
    "orgns_to_route = ['23003', '23004']\n",
    "working_session.build_a_new_queue_chain(queue_chain_number, queue_description, queues_to_build, orgns_to_route)"
   ],
   "metadata": {
    "collapsed": false,
    "pycharm": {
     "name": "#%%\n"
    }
   }
  },
  {
   "cell_type": "code",
   "execution_count": null,
   "outputs": [],
   "source": [],
   "metadata": {
    "collapsed": false,
    "pycharm": {
     "name": "#%%\n"
    }
   }
  },
  {
   "cell_type": "code",
   "execution_count": null,
   "outputs": [],
   "source": [
    "queue_chain_number = working_session.get_next_queue_number()\n",
    "queue_description = '23006 Emergency Phone'\n",
    "queues_to_build = [('A','B',0,['AMUSIAL1','EOBRIEN3']),('B','C',.01,['BJESTER1']),('C','E',.02,['SMILLER66']),('E','G',0.03,['MDIOQUINO']),('G','VPAS',0.04,['RSHAW'])]\n",
    "orgns_to_route = ['23006']\n",
    "working_session.build_a_new_queue_chain(queue_chain_number, queue_description, queues_to_build, orgns_to_route)"
   ],
   "metadata": {
    "collapsed": false,
    "pycharm": {
     "name": "#%%\n"
    }
   }
  },
  {
   "cell_type": "code",
   "execution_count": null,
   "outputs": [],
   "source": [],
   "metadata": {
    "collapsed": false,
    "pycharm": {
     "name": "#%%\n"
    }
   }
  },
  {
   "cell_type": "code",
   "execution_count": null,
   "outputs": [],
   "source": [
    "queue_chain_number = working_session.get_next_queue_number()\n",
    "queue_description = 'COVID-19 Recovery Block Grant'\n",
    "queues_to_build = [('A','B',0,['AMUSIAL1','EOBRIEN3']),('B','E',.01,['UGOFF']),('E','G',0.03,['SMILLER66']),('G','VPAS',0.04,['SMILLER66'])]\n",
    "orgns_to_route = ['62402']\n",
    "working_session.build_a_new_queue_chain(queue_chain_number, queue_description, queues_to_build, orgns_to_route)"
   ],
   "metadata": {
    "collapsed": false,
    "pycharm": {
     "name": "#%%\n"
    }
   }
  },
  {
   "cell_type": "code",
   "execution_count": null,
   "outputs": [],
   "source": [],
   "metadata": {
    "collapsed": false,
    "pycharm": {
     "name": "#%%\n"
    }
   }
  },
  {
   "cell_type": "code",
   "execution_count": null,
   "outputs": [],
   "source": [
    "queue_chain_number = working_session.get_next_queue_number()\n",
    "queue_description = 'Student Housing Planning Grant'\n",
    "queues_to_build = [('A','B',0,['AMUSIAL1','EOBRIEN3']),('B','E',.01,['UGOFF']),('E','G',0.03,['SBRAR']),('G','VPAS',0.04,['SMILLER66'])]\n",
    "orgns_to_route = ['62401']\n",
    "working_session.build_a_new_queue_chain(queue_chain_number, queue_description, queues_to_build, orgns_to_route)"
   ],
   "metadata": {
    "collapsed": false,
    "pycharm": {
     "name": "#%%\n"
    }
   }
  },
  {
   "cell_type": "code",
   "execution_count": null,
   "outputs": [],
   "source": [],
   "metadata": {
    "collapsed": false,
    "pycharm": {
     "name": "#%%\n"
    }
   }
  },
  {
   "cell_type": "code",
   "execution_count": null,
   "outputs": [],
   "source": [
    "queue_chain_number = working_session.get_next_queue_number()\n",
    "queue_description = 'Zero Textbook Cost Prog'\n",
    "queues_to_build = [('A','B',0,['AMUSIAL1','EOBRIEN3']),('B','E',.01,['BJESTER1']),('E','G',0.03,['KMITCHELL18']),('G','VPAS',0.04,['SMILLER66'])]\n",
    "orgns_to_route = ['62401']\n",
    "working_session.build_a_new_queue_chain(queue_chain_number, queue_description, queues_to_build, orgns_to_route)"
   ],
   "metadata": {
    "collapsed": false,
    "pycharm": {
     "name": "#%%\n"
    }
   }
  },
  {
   "cell_type": "code",
   "execution_count": null,
   "outputs": [],
   "source": [],
   "metadata": {
    "collapsed": false,
    "pycharm": {
     "name": "#%%\n"
    }
   }
  },
  {
   "cell_type": "code",
   "execution_count": null,
   "outputs": [],
   "source": [],
   "metadata": {
    "collapsed": false,
    "pycharm": {
     "name": "#%%\n"
    }
   }
  },
  {
   "cell_type": "code",
   "execution_count": null,
   "outputs": [],
   "source": [
    "# List current approver queues\n",
    "x,y = working_session.get_approvers_queues('CHART8')\n",
    "print(x,y)"
   ],
   "metadata": {
    "collapsed": false,
    "pycharm": {
     "name": "#%%\n"
    }
   }
  },
  {
   "cell_type": "code",
   "execution_count": null,
   "outputs": [],
   "source": [
    "# Replace Approver in Selected Queues to replace current approver with replacement. Pass no queues to replace in all queues.\n",
    "# Replace all Ex. : working_session.replace_approver('NVALSAMIDES', 'RWALDEN')\n",
    "#x = working_session.replace_approver('CHART8', 'HDAVIS18', ('CAQ', 'INVQ', 'JVQ', 'NSF')) #\n",
    "x = working_session.replace_approver('CHART8', 'HDAVIS18')\n"
   ],
   "metadata": {
    "collapsed": false,
    "pycharm": {
     "name": "#%%\n"
    }
   }
  },
  {
   "cell_type": "code",
   "execution_count": null,
   "outputs": [],
   "source": [
    "# ReList current approver queues\n",
    "x,y = working_session.get_approvers_queues('CHART8')\n",
    "print(x,y)"
   ],
   "metadata": {
    "collapsed": false,
    "pycharm": {
     "name": "#%%\n"
    }
   }
  },
  {
   "cell_type": "code",
   "execution_count": null,
   "outputs": [],
   "source": [],
   "metadata": {
    "collapsed": false,
    "pycharm": {
     "name": "#%%\n"
    }
   }
  },
  {
   "cell_type": "code",
   "execution_count": 7,
   "outputs": [
    {
     "name": "stdout",
     "output_type": "stream",
     "text": [
      "select  distinct foraqus.FORAQUS_QUEUE_ID,\n",
      "        (select count(FORAQUS_USER_ID_APPR)\n",
      "        from foraqus fa\n",
      "        where fa.FORAQUS_QUEUE_ID = foraqus.FORAQUS_QUEUE_ID\n",
      "                                    and fa.FORAQUS_TERM_DATE is null\n",
      "                                    and fa.FORAQUS_NCHG_DATE is null) as OtherApprovers from foraqus  order by 2  \n",
      "execute_sql_query  exec_time: 0.29839253425598145\n",
      "[]\n"
     ]
    }
   ],
   "source": [
    "x = working_session.search_for_mt_queues()\n",
    "\n",
    "print(x)"
   ],
   "metadata": {
    "collapsed": false,
    "pycharm": {
     "name": "#%%\n"
    }
   }
  },
  {
   "cell_type": "code",
   "execution_count": null,
   "outputs": [],
   "source": [
    "# List current approver queues\n",
    "x,y = working_session.get_approvers_queues('KJANISZEWSKI')\n",
    "print(x,y)"
   ],
   "metadata": {
    "collapsed": false,
    "pycharm": {
     "name": "#%%\n"
    }
   }
  },
  {
   "cell_type": "code",
   "execution_count": null,
   "outputs": [],
   "source": [
    "x = working_session.term_approver('KJANISZEWSKI', '25-OCT-22', from_queues = ('000B', '001B', '002B', '003B', '004B', '005B', '006B', '007B', '008B', '013B', '014B', '015B', '016B', '017B', '018B', '019B', '020B', '024B', '025B', '071B', '072B', '073B', '074B', '075B', '076B', '077B', '078B', '079B', '080B', '081B', '083B', '084B', '085B', '096B', '097B', '115B', '117B', '124B', '125B', '139B', '140B', '141B', '143B', 'B001', 'B002', 'B003', 'B004', 'B006', 'B007', 'B008', 'B013', 'B014', 'B015', 'B016', 'B017', 'B018', 'B019', 'B020', 'B024', 'B053', 'B054', 'B055', 'B071', 'B076', 'B077', 'B078', 'B079', 'B080', 'B084', 'B085', 'B096', 'B097', 'B123', 'B131', 'B141', 'B143', 'B146', 'B147', 'B149') )\n"
   ],
   "metadata": {
    "collapsed": false,
    "pycharm": {
     "name": "#%%\n",
     "is_executing": true
    }
   }
  },
  {
   "cell_type": "code",
   "execution_count": null,
   "outputs": [],
   "source": [
    "#working_session.insert_into_foraqus(\"\"\"'B009', 'KJANISZEWSKI', 10, 0, sysdate, null, null, sysdate, 'RWALDEN' \"\"\")\n",
    "#working_session.insert_into_foraqus(\"\"\"'009B', 'KJANISZEWSKI', 10, 0, sysdate, null, null, sysdate, 'RWALDEN' \"\"\")\n",
    "working_session.insert_into_foraqus(\"\"\"'B020', 'KJANISZEWSKI', 10, 0, sysdate, null, null, sysdate, 'RWALDEN' \"\"\")\n",
    "working_session.insert_into_foraqus(\"\"\"'020B', 'KJANISZEWSKI', 10, 0, sysdate, null, null, sysdate, 'RWALDEN' \"\"\")\n",
    "#working_session.insert_into_foraqus(\"\"\"'B098', 'KJANISZEWSKI', 10, 0, sysdate, null, null, sysdate, 'RWALDEN' \"\"\")\n",
    "#working_session.insert_into_foraqus(\"\"\"'098B', 'KJANISZEWSKI', 10, 0, sysdate, null, null, sysdate, 'RWALDEN' \"\"\")\n",
    "#working_session.insert_into_foraqus(\"\"\"'B115', 'KJANISZEWSKI', 10, 0, sysdate, null, null, sysdate, 'RWALDEN' \"\"\")\n",
    "#working_session.insert_into_foraqus(\"\"\"'115B', 'KJANISZEWSKI', 10, 0, sysdate, null, null, sysdate, 'RWALDEN' \"\"\")"
   ],
   "metadata": {
    "collapsed": false,
    "pycharm": {
     "name": "#%%\n",
     "is_executing": true
    }
   }
  },
  {
   "cell_type": "code",
   "execution_count": null,
   "outputs": [],
   "source": [],
   "metadata": {
    "collapsed": false,
    "pycharm": {
     "name": "#%%\n"
    }
   }
  },
  {
   "cell_type": "code",
   "execution_count": null,
   "outputs": [],
   "source": [],
   "metadata": {
    "collapsed": false,
    "pycharm": {
     "name": "#%%\n"
    }
   }
  },
  {
   "cell_type": "code",
   "execution_count": null,
   "outputs": [],
   "source": [
    "# BJESTER1\n",
    "x = working_session.term_approver('BJESTER1', '26-OCT-22', from_queues = ('000B', '002B', '008B', '020B', '023B', '098B', '139B', '140B', '149B', 'B067', 'B140', 'B141', 'B147', 'B148', 'B149'))"
   ],
   "metadata": {
    "collapsed": false,
    "pycharm": {
     "name": "#%%\n"
    }
   }
  },
  {
   "cell_type": "code",
   "execution_count": null,
   "outputs": [],
   "source": [
    "\n",
    "# Step 2 Place DCLARKHACKENBERG into new queue\n",
    "working_session.insert_into_foraqus(\"\"\"'B078', 'BJESTER1', 10, 0, sysdate, null, null, sysdate, 'RWALDEN' \"\"\")\n",
    "working_session.insert_into_foraqus(\"\"\"'078B', 'BJESTER1', 10, 0, sysdate, null, null, sysdate, 'RWALDEN' \"\"\")"
   ],
   "metadata": {
    "collapsed": false,
    "pycharm": {
     "name": "#%%\n"
    }
   }
  },
  {
   "cell_type": "code",
   "execution_count": null,
   "outputs": [],
   "source": [
    "working_session.orgn_to_queue(\"'12250', '12360', '12305', '12255', '12155', '12055', '12165', '12355', '12105'\")"
   ],
   "metadata": {
    "collapsed": false,
    "pycharm": {
     "name": "#%%\n"
    }
   }
  },
  {
   "cell_type": "code",
   "execution_count": null,
   "outputs": [],
   "source": [],
   "metadata": {
    "collapsed": false,
    "pycharm": {
     "name": "#%%\n"
    }
   }
  },
  {
   "cell_type": "code",
   "execution_count": null,
   "outputs": [],
   "source": [
    "# List LNOWAK current approver queues\n",
    "x,y = working_session.get_approvers_queues('LNOWAK')\n",
    "print(x,y)"
   ],
   "metadata": {
    "collapsed": false,
    "pycharm": {
     "name": "#%%\n"
    }
   }
  },
  {
   "cell_type": "code",
   "execution_count": null,
   "outputs": [],
   "source": [
    "\n",
    "x = working_session.term_approver('LNOWAK', '26-OCT-22', from_queues = ('001B', '003B', '006B', '008B', '009B', '010B', '011B', '012B', '013B', '014B', '015B', '016B', '017B', '018B', '019B', '021B', '022B', '023B', '024B', '025B', '026B', '027B', '028B', '029B', '030B', '031B', '032B', '033B', '034B', '035B', '036B', '037B', '038B', '039B', '041B', '042B', '043B', '044B', '045B', '046B', '047B', '048B', '049B', '050B', '051B', '052B', '053B', '054B', '055B', '056B', '057B', '058B', '059B', '060B', '061B', '062B', '063B', '064B', '065B', '066B', '067B', '068B', '069B', '070B', '077B', '078B', '079B', '080B', '081B', '082B', '083B', '084B', '085B', '086B', '087B', '088B', '089B', '090B', '091B', '092B', '093B', '094B', '095B', '096B', '097B', '098B', '099B', '100B', '101B', '102B', '103B', '105B', '106B', '107B', '108B', '109B', '110B', '111B', '112B', '113B', '114B', '116B', '117B', '118B', '120B', '121B', '122B', '123B', '124B', '125B', '127B', '128B', '129B', '139B', '140B', '141B', '143B', '144B', 'B003', 'B006', 'B007', 'B008', 'B009', 'B013', 'B015', 'B018', 'B019', 'B022', 'B023', 'B025', 'B031', 'B032', 'B034', 'B035', 'B036', 'B038', 'B040', 'B043', 'B048', 'B049', 'B050', 'B056', 'B058', 'B060', 'B061', 'B063', 'B064', 'B066', 'B068', 'B069', 'B070', 'B077', 'B078', 'B080', 'B084', 'B085', 'B086', 'B087', 'B088', 'B089', 'B091', 'B092', 'B093', 'B094', 'B096', 'B097', 'B100', 'B102', 'B103', 'B104', 'B105', 'B107', 'B108', 'B109', 'B112', 'B116', 'B120', 'B123', 'B131', 'B140', 'B141', 'B143', 'B144', 'B146', 'B147', 'B148', 'B149'))\n"
   ],
   "metadata": {
    "collapsed": false,
    "pycharm": {
     "name": "#%%\n"
    }
   }
  },
  {
   "cell_type": "code",
   "execution_count": null,
   "outputs": [],
   "source": [
    "'62466', '11050', '11200', '11201', '11800', '12930'\n",
    "[('11201', '104'), ('62466', '135')][('1001', '000'), ('1002', '002'), ('3001', '076'), ('1400', '020')]"
   ],
   "metadata": {
    "collapsed": false,
    "pycharm": {
     "name": "#%%\n"
    }
   }
  },
  {
   "cell_type": "code",
   "execution_count": null,
   "outputs": [],
   "source": [
    "\n",
    "working_session.insert_into_foraqus(\"\"\"'B002', 'LNOWAK', 10, 0, sysdate, null, null, sysdate, 'RWALDEN' \"\"\")\n",
    "working_session.insert_into_foraqus(\"\"\"'002B', 'LNOWAK', 10, 0, sysdate, null, null, sysdate, 'RWALDEN' \"\"\")\n",
    "working_session.insert_into_foraqus(\"\"\"'B000', 'LNOWAK', 10, 0, sysdate, null, null, sysdate, 'RWALDEN' \"\"\")\n",
    "working_session.insert_into_foraqus(\"\"\"'000B', 'LNOWAK', 10, 0, sysdate, null, null, sysdate, 'RWALDEN' \"\"\")\n",
    "working_session.insert_into_foraqus(\"\"\"'B135', 'LNOWAK', 10, 0, sysdate, null, null, sysdate, 'RWALDEN' \"\"\")\n",
    "working_session.insert_into_foraqus(\"\"\"'135B', 'LNOWAK', 10, 0, sysdate, null, null, sysdate, 'RWALDEN' \"\"\")\n",
    "working_session.insert_into_foraqus(\"\"\"'B104', 'LNOWAK', 10, 0, sysdate, null, null, sysdate, 'RWALDEN' \"\"\")\n",
    "working_session.insert_into_foraqus(\"\"\"'104B', 'LNOWAK', 10, 0, sysdate, null, null, sysdate, 'RWALDEN' \"\"\")"
   ],
   "metadata": {
    "collapsed": false,
    "pycharm": {
     "name": "#%%\n"
    }
   }
  },
  {
   "cell_type": "code",
   "execution_count": null,
   "outputs": [],
   "source": [],
   "metadata": {
    "collapsed": false,
    "pycharm": {
     "name": "#%%\n"
    }
   }
  },
  {
   "cell_type": "code",
   "execution_count": null,
   "outputs": [],
   "source": [
    "# List UGOFF current approver queues\n",
    "x,y = working_session.get_approvers_queues('UGOFF')\n",
    "print(x,y)"
   ],
   "metadata": {
    "collapsed": false,
    "pycharm": {
     "name": "#%%\n"
    }
   }
  },
  {
   "cell_type": "code",
   "execution_count": null,
   "outputs": [],
   "source": [
    "\n",
    "x = working_session.term_approver('UGOFF', '26-OCT-22', from_queues = ('001B', '003B', '004B', '005B', '006B', '007B', '008B', '009B', '010B', '011B', '012B', '021B', '022B', '023B', '025B', '026B', '027B', '028B', '029B', '030B', '031B', '032B', '033B', '035B', '038B', '039B', '040B', '041B', '042B', '045B', '048B', '049B', '050B', '058B', '060B', '061B', '062B', '063B', '064B', '065B', '066B', '067B', '068B', '069B', '070B', '071B', '072B', '073B', '074B', '075B', '077B', '078B', '079B', '080B', '081B', '082B', '083B', '084B', '085B', '086B', '087B', '088B', '089B', '090B', '091B', '092B', '093B', '094B', '095B', '096B', '097B', '098B', '099B', '100B', '101B', '102B', '103B', '104B', '105B', '106B', '107B', '108B', '109B', '110B', '111B', '112B', '113B', '114B', '115B', '116B', '117B', '118B', '119B', '122B', '124B', '127B', '128B', '129B', '130B', '132B', '137B', '138B', '140B', '141B', '142B', '143B', '148B', 'B003', 'B004', 'B006', 'B007', 'B009', 'B022', 'B023', 'B031', 'B032', 'B035', 'B038', 'B048', 'B049', 'B050', 'B058', 'B060', 'B061', 'B063', 'B064', 'B066', 'B068', 'B071', 'B077', 'B078', 'B079', 'B080', 'B084', 'B085', 'B086', 'B087', 'B088', 'B089', 'B091', 'B092', 'B094', 'B096', 'B097', 'B100', 'B102', 'B103', 'B105', 'B107', 'B108', 'B109', 'B112', 'B116', 'B131', 'B137', 'B140', 'B141', 'B143', 'B146', 'B148', 'B149'))\n",
    "\n"
   ],
   "metadata": {
    "collapsed": false,
    "pycharm": {
     "name": "#%%\n"
    }
   }
  },
  {
   "cell_type": "code",
   "execution_count": null,
   "outputs": [],
   "source": [
    "'13205', '13206,' '62452'\n",
    "[('1001', '000'), ('1002', '002'), ('3001', '076'), ('1400', '020')]"
   ],
   "metadata": {
    "collapsed": false,
    "pycharm": {
     "name": "#%%\n"
    }
   }
  },
  {
   "cell_type": "code",
   "execution_count": null,
   "outputs": [],
   "source": [
    "working_session.insert_into_foraqus(\"\"\"'B000', 'UGOFF', 10, 0, sysdate, null, null, sysdate, 'RWALDEN' \"\"\")\n",
    "#working_session.insert_into_foraqus(\"\"\"'000B', 'UGOFF', 10, 0, sysdate, null, null, sysdate, 'RWALDEN' \"\"\")\n",
    "working_session.insert_into_foraqus(\"\"\"'B020', 'UGOFF', 10, 0, sysdate, null, null, sysdate, 'RWALDEN' \"\"\")\n",
    "working_session.insert_into_foraqus(\"\"\"'020B', 'UGOFF', 10, 0, sysdate, null, null, sysdate, 'RWALDEN' \"\"\")\n",
    "\n"
   ],
   "metadata": {
    "collapsed": false,
    "pycharm": {
     "name": "#%%\n"
    }
   }
  },
  {
   "cell_type": "code",
   "execution_count": null,
   "outputs": [],
   "source": [],
   "metadata": {
    "collapsed": false,
    "pycharm": {
     "name": "#%%\n"
    }
   }
  },
  {
   "cell_type": "code",
   "execution_count": null,
   "outputs": [],
   "source": [
    "x = [('008B', 0), ('013E', 0), ('022B', 0), ('023B', 0), ('028B', 0), ('029B', 0), ('031B', 0), ('032B', 0), ('033B', 0), ('035B', 0), ('035C', 0), ('038B', 0), ('039B', 0), ('048B', 0), ('049B', 0), ('049C', 0), ('050B', 0), ('060B', 0), ('061B', 0), ('062B', 0), ('062C', 0), ('063B', 0), ('064B', 0), ('065B', 0), ('066B', 0), ('066C', 0), ('067B', 0), ('068B', 0), ('069B', 0), ('070B', 0), ('081B', 0), ('082B', 0), ('085B', 0), ('086B', 0), ('087B', 0), ('087G', 0), ('088B', 0), ('088C', 0), ('089B', 0), ('090B', 0), ('091B', 0), ('092B', 0), ('093B', 0), ('094B', 0), ('095B', 0), ('097B', 0), ('100B', 0), ('102B', 0), ('103B', 0), ('103F', 0), ('105B', 0), ('106B', 0), ('107B', 0), ('108B', 0), ('108E', 0), ('108F', 0), ('110B', 0), ('111B', 0), ('112B', 0), ('116B', 0), ('118B', 0), ('119E', 0), ('122B', 0), ('123G', 0), ('126B', 0), ('127B', 0), ('130B', 0), ('131B', 0), ('133B', 0), ('138B', 0), ('140B', 0), ('144B', 0), ('148B', 0), ('149B', 0), ('B007', 0), ('B022', 0), ('B023', 0), ('B031', 0), ('B032', 0), ('B035', 0), ('B038', 0), ('B040', 0), ('B048', 0), ('B049', 0), ('B050', 0), ('B053', 0), ('B054', 0), ('B055', 0), ('B058', 0), ('B060', 0), ('B061', 0), ('B063', 0), ('B064', 0), ('B066', 0), ('B067', 0), ('B068', 0), ('B079', 0), ('B085', 0), ('B086', 0), ('B087', 0), ('B088', 0), ('B089', 0), ('B091', 0), ('B092', 0), ('B094', 0), ('B097', 0), ('B100', 0), ('B102', 0), ('B103', 0), ('B105', 0), ('B107', 0), ('B108', 0), ('B112', 0), ('B116', 0), ('B131', 0), ('B141', 0), ('B144', 0), ('B149', 0)]\n",
    "\n",
    "x = [('013E', 0), ('022B', 0), ('023B', 0), ('031B', 0), ('032B', 0), ('035B', 0), ('035C', 0), ('038B', 0), ('039B', 0), ('048B', 0), ('049B', 0), ('049C', 0), ('050B', 0), ('060B', 0), ('061B', 0), ('062B', 0), ('062C', 0), ('063B', 0), ('064B', 0), ('066B', 0), ('066C', 0), ('067B', 0), ('068B', 0), ('069B', 0), ('070B', 0), ('085B', 0), ('086B', 0), ('087B', 0), ('087G', 0), ('088B', 0), ('088C', 0), ('089B', 0), ('091B', 0), ('092B', 0), ('093B', 0), ('094B', 0), ('097B', 0), ('100B', 0), ('102B', 0), ('103B', 0), ('103F', 0), ('105B', 0), ('107B', 0), ('108B', 0), ('108E', 0), ('108F', 0), ('116B', 0), ('119E', 0), ('123G', 0), ('131B', 0), ('144B', 0), ('149B', 0), ('B022', 0), ('B023', 0), ('B031', 0), ('B032', 0), ('B035', 0), ('B038', 0), ('B040', 0), ('B048', 0), ('B049', 0), ('B050', 0), ('B053', 0), ('B054', 0), ('B055', 0), ('B058', 0), ('B060', 0), ('B061', 0), ('B063', 0), ('B064', 0), ('B066', 0), ('B067', 0), ('B068', 0), ('B079', 0), ('B085', 0), ('B086', 0), ('B087', 0), ('B088', 0), ('B089', 0), ('B091', 0), ('B092', 0), ('B094', 0), ('B097', 0), ('B100', 0), ('B102', 0), ('B103', 0), ('B105', 0), ('B107', 0), ('B108', 0), ('B116', 0), ('B131', 0), ('B141', 0), ('B144', 0), ('B149', 0)]\n",
    "\n",
    "new_list = []\n",
    "for y in x:\n",
    "    new_list.append(y[0])\n",
    "\n",
    "print(new_list)\n",
    "fix_it_list = []\n",
    "for w in new_list:\n",
    "    if w[0] == 'B':\n",
    "        a = working_session.queue_to_orgn(f\"'{w}'\")\n",
    "        pass\n",
    "    else:\n",
    "        #print(w[0:3])\n",
    "        a = working_session.queue_to_orgn(f\"'{w[0:3]}A'\")\n",
    "\n",
    "    fix_it_list.append(a)\n",
    "\n",
    "print(fix_it_list)\n"
   ],
   "metadata": {
    "collapsed": false,
    "pycharm": {
     "name": "#%%\n"
    }
   }
  },
  {
   "cell_type": "code",
   "execution_count": null,
   "outputs": [],
   "source": [
    "'''a = [[('008A', '1301')], [('013A', '13300')], [('022A', '14905')], [('023A', '14910')], [('028A', '62010')], [('029A', '62020')], [('031A', '62040')], [('032A', '62041')], [('033A', '62055'), ('033A', '62426'), ('033A', '62060')], [('035A', '62080')], [('035A', '62080')], [('038A', '62410')], [('039A', '62411')], [('048A', '62431')], [('049A', '62432')], [('049A', '62432')], [('050A', '62433')], [('060A', '62471')], [('061A', '62472')], [('062A', '62491')], [('062A', '62491')], [('063A', '62701')], [('064A', '62702')], [('065A', '62486'), ('065A', '62703')], [('066A', '62704')], [('066A', '62704')], [('067A', '62438'), ('067A', '62705')], [('068A', '62706')], [('069A', '62707')], [('070A', '62708')], [('081A', '12260')], [('082A', '12805')], [('085A', '3007')], [('086A', '62418')], [('087A', '62474')], [('087A', '62474')], [('088A', '62419')], [('088A', '62419')], [('089A', '62473')], [('090A', '62077'), ('090A', '62075')], [('091A', '62434')], [('092A', '62421')], [('093A', '62601')], [('094A', '62475')], [('095A', '62476')], [('097A', '3009')], [('100A', '62710')], [('102A', '62479')], [('103A', '62485'), ('103A', '62489')], [('103A', '62485'), ('103A', '62489')], [('105A', '62481')], [('106A', '62482')], [('107A', '62484')], [('108A', '62712')], [('108A', '62712')], [('108A', '62712')], [('110A', '62483')], [('111A', '62424')], [('112A', '62486')], [('116A', '62423')], [('118A', '62043'), ('118A', '62044')], [('119A', '62446')], [('122A', '62487')], [('123A', '62045'), ('123A', '62036')], [('126A', '62412')], [('127A', '62437')], [('130A', '62498')], [('131A', '62459')], [('133A', '62499')], [('138A', '62469'), ('138A', '62490')], [('140A', '62404')], [('144A', '12807')], [('148A', '62401')], [('149A', '62501')], [('B007', '1300')], [('B022', '14905')], [('B023', '14910')], [('B031', '62040')], [('B032', '62041')], [('B035', '62080')], [('B038', '62410')], [('B040', '62414')], [('B048', '62431')], [('B049', '62432')], [('B050', '62433')], [('B053', '62450')], [('B054', '62451')], [('B055', '62453')], [('B058', '62462')], [('B060', '62471')], [('B061', '62472')], [('B063', '62701')], [('B064', '62702')], [('B066', '62704')], [('B067', '62705'), ('B067', '62438')], [('B068', '62706')], [('B079', '3004'), ('B079', '62444'), ('B079', '62445')], [('B085', '3007')], [('B086', '62418')], [('B087', '62474')], [('B088', '62419')], [('B089', '62473')], [('B091', '62434')], [('B092', '62421')], [('B094', '62475')], [('B097', '3009')], [('B100', '62710')], [('B102', '62479')], [('B103', '62485'), ('B103', '62489')], [('B105', '62481')], [], [('B108', '62712')], [('B112', '62486')], [('B116', '62423')], [('B131', '62459')], [('B141', '62719')], [('B144', '12807')], [('B149', '62501')]]'''\n",
    "\n",
    "a = [[('013A', '13300')], [('022A', '14905')], [('023A', '14910')], [('031A', '62040')], [('032A', '62041')], [('035A', '62080')], [('035A', '62080')], [('038A', '62410')], [('039A', '62411')], [('048A', '62431')], [('049A', '62432')], [('049A', '62432')], [('050A', '62433')], [('060A', '62471')], [('061A', '62472')], [('062A', '62491')], [('062A', '62491')], [('063A', '62701')], [('064A', '62702')], [('066A', '62704')], [('066A', '62704')], [('067A', '62438'), ('067A', '62705')], [('068A', '62706')], [('069A', '62707')], [('070A', '62708')], [('085A', '3007')], [('086A', '62418')], [('087A', '62474')], [('087A', '62474')], [('088A', '62419')], [('088A', '62419')], [('089A', '62473')], [('091A', '62434')], [('092A', '62421')], [('093A', '62601')], [('094A', '62475')], [('097A', '3009')], [('100A', '62710')], [('102A', '62479')], [('103A', '62485'), ('103A', '62489')], [('103A', '62485'), ('103A', '62489')], [('105A', '62481')], [('107A', '62484')], [('108A', '62712')], [('108A', '62712')], [('108A', '62712')], [('116A', '62423')], [('119A', '62446')], [('123A', '62045'), ('123A', '62036')], [('131A', '62459')], [('144A', '12807')], [('149A', '62501')], [('B022', '14905')], [('B023', '14910')], [('B031', '62040')], [('B032', '62041')], [('B035', '62080')], [('B038', '62410')], [('B040', '62414')], [('B048', '62431')], [('B049', '62432')], [('B050', '62433')], [('B053', '62450')], [('B054', '62451')], [('B055', '62453')], [('B058', '62462')], [('B060', '62471')], [('B061', '62472')], [('B063', '62701')], [('B064', '62702')], [('B066', '62704')], [('B067', '62705'), ('B067', '62438')], [('B068', '62706')], [('B079', '3004'), ('B079', '62444'), ('B079', '62445')], [('B085', '3007')], [('B086', '62418')], [('B087', '62474')], [('B088', '62419')], [('B089', '62473')], [('B091', '62434')], [('B092', '62421')], [('B094', '62475')], [('B097', '3009')], [('B100', '62710')], [('B102', '62479')], [('B103', '62485'), ('B103', '62489')], [('B105', '62481')], [], [('B108', '62712')], [('B116', '62423')], [('B131', '62459')], [('B141', '62719')], [('B144', '12807')], [('B149', '62501')]]\n",
    "\n",
    "for b in a:\n",
    "    print(b)"
   ],
   "metadata": {
    "collapsed": false,
    "pycharm": {
     "name": "#%%\n"
    }
   }
  },
  {
   "cell_type": "code",
   "execution_count": null,
   "outputs": [],
   "source": [],
   "metadata": {
    "collapsed": false,
    "pycharm": {
     "name": "#%%\n"
    }
   }
  },
  {
   "cell_type": "code",
   "execution_count": null,
   "outputs": [],
   "source": [
    "working_session.insert_into_foraqus(\"\"\"'B133', 'BJESTER1', 10, 0, sysdate, null, null, sysdate, 'RWALDEN' \"\"\")\n",
    "working_session.insert_into_foraqus(\"\"\"'133B', 'BJESTER1', 10, 0, sysdate, null, null, sysdate, 'RWALDEN' \"\"\")\n",
    "working_session.insert_into_foraqus(\"\"\"'B130', 'BJESTER1', 10, 0, sysdate, null, null, sysdate, 'RWALDEN' \"\"\")\n",
    "working_session.insert_into_foraqus(\"\"\"'130B', 'BJESTER1', 10, 0, sysdate, null, null, sysdate, 'RWALDEN' \"\"\")\n",
    "working_session.insert_into_foraqus(\"\"\"'B118', 'BJESTER1', 10, 0, sysdate, null, null, sysdate, 'RWALDEN' \"\"\")\n",
    "working_session.insert_into_foraqus(\"\"\"'118B', 'BJESTER1', 10, 0, sysdate, null, null, sysdate, 'RWALDEN' \"\"\")\n",
    "working_session.insert_into_foraqus(\"\"\"'B110', 'BJESTER1', 10, 0, sysdate, null, null, sysdate, 'RWALDEN' \"\"\")\n",
    "working_session.insert_into_foraqus(\"\"\"'110B', 'BJESTER1', 10, 0, sysdate, null, null, sysdate, 'RWALDEN' \"\"\")\n",
    "working_session.insert_into_foraqus(\"\"\"'B095', 'BJESTER1', 10, 0, sysdate, null, null, sysdate, 'RWALDEN' \"\"\")\n",
    "working_session.insert_into_foraqus(\"\"\"'095B', 'BJESTER1', 10, 0, sysdate, null, null, sysdate, 'RWALDEN' \"\"\")\n",
    "working_session.insert_into_foraqus(\"\"\"'B082', 'BJESTER1', 10, 0, sysdate, null, null, sysdate, 'RWALDEN' \"\"\")\n",
    "working_session.insert_into_foraqus(\"\"\"'082B', 'BJESTER1', 10, 0, sysdate, null, null, sysdate, 'RWALDEN' \"\"\")\n",
    "working_session.insert_into_foraqus(\"\"\"'B081', 'BJESTER1', 10, 0, sysdate, null, null, sysdate, 'RWALDEN' \"\"\")\n",
    "working_session.insert_into_foraqus(\"\"\"'081B', 'BJESTER1', 10, 0, sysdate, null, null, sysdate, 'RWALDEN' \"\"\")"
   ],
   "metadata": {
    "collapsed": false,
    "pycharm": {
     "name": "#%%\n"
    }
   }
  },
  {
   "cell_type": "code",
   "execution_count": null,
   "outputs": [],
   "source": [
    "working_session.insert_into_foraqus(\"\"\"'B148', 'KJANISZEWSKI', 10, 0, sysdate, null, null, sysdate, 'RWALDEN' \"\"\")\n",
    "working_session.insert_into_foraqus(\"\"\"'148B', 'KJANISZEWSKI', 10, 0, sysdate, null, null, sysdate, 'RWALDEN' \"\"\")\n",
    "working_session.insert_into_foraqus(\"\"\"'B140', 'KJANISZEWSKI', 10, 0, sysdate, null, null, sysdate, 'RWALDEN' \"\"\")\n",
    "working_session.insert_into_foraqus(\"\"\"'140B', 'KJANISZEWSKI', 10, 0, sysdate, null, null, sysdate, 'RWALDEN' \"\"\")\n",
    "working_session.insert_into_foraqus(\"\"\"'B138', 'KJANISZEWSKI', 10, 0, sysdate, null, null, sysdate, 'RWALDEN' \"\"\")\n",
    "working_session.insert_into_foraqus(\"\"\"'138B', 'KJANISZEWSKI', 10, 0, sysdate, null, null, sysdate, 'RWALDEN' \"\"\")\n",
    "working_session.insert_into_foraqus(\"\"\"'B127', 'KJANISZEWSKI', 10, 0, sysdate, null, null, sysdate, 'RWALDEN' \"\"\")\n",
    "working_session.insert_into_foraqus(\"\"\"'127B', 'KJANISZEWSKI', 10, 0, sysdate, null, null, sysdate, 'RWALDEN' \"\"\")\n",
    "working_session.insert_into_foraqus(\"\"\"'B126', 'KJANISZEWSKI', 10, 0, sysdate, null, null, sysdate, 'RWALDEN' \"\"\")\n",
    "working_session.insert_into_foraqus(\"\"\"'126B', 'KJANISZEWSKI', 10, 0, sysdate, null, null, sysdate, 'RWALDEN' \"\"\")\n",
    "working_session.insert_into_foraqus(\"\"\"'B122', 'KJANISZEWSKI', 10, 0, sysdate, null, null, sysdate, 'RWALDEN' \"\"\")\n",
    "working_session.insert_into_foraqus(\"\"\"'122B', 'KJANISZEWSKI', 10, 0, sysdate, null, null, sysdate, 'RWALDEN' \"\"\")\n",
    "working_session.insert_into_foraqus(\"\"\"'B112', 'KJANISZEWSKI', 10, 0, sysdate, null, null, sysdate, 'RWALDEN' \"\"\")\n",
    "working_session.insert_into_foraqus(\"\"\"'112B', 'KJANISZEWSKI', 10, 0, sysdate, null, null, sysdate, 'RWALDEN' \"\"\")\n",
    "working_session.insert_into_foraqus(\"\"\"'B111', 'KJANISZEWSKI', 10, 0, sysdate, null, null, sysdate, 'RWALDEN' \"\"\")\n",
    "working_session.insert_into_foraqus(\"\"\"'111B', 'KJANISZEWSKI', 10, 0, sysdate, null, null, sysdate, 'RWALDEN' \"\"\")\n",
    "working_session.insert_into_foraqus(\"\"\"'B106', 'KJANISZEWSKI', 10, 0, sysdate, null, null, sysdate, 'RWALDEN' \"\"\")\n",
    "working_session.insert_into_foraqus(\"\"\"'106B', 'KJANISZEWSKI', 10, 0, sysdate, null, null, sysdate, 'RWALDEN' \"\"\")\n",
    "working_session.insert_into_foraqus(\"\"\"'B065', 'KJANISZEWSKI', 10, 0, sysdate, null, null, sysdate, 'RWALDEN' \"\"\")\n",
    "working_session.insert_into_foraqus(\"\"\"'065B', 'KJANISZEWSKI', 10, 0, sysdate, null, null, sysdate, 'RWALDEN' \"\"\")\n",
    "working_session.insert_into_foraqus(\"\"\"'B033', 'KJANISZEWSKI', 10, 0, sysdate, null, null, sysdate, 'RWALDEN' \"\"\")\n",
    "working_session.insert_into_foraqus(\"\"\"'033B', 'KJANISZEWSKI', 10, 0, sysdate, null, null, sysdate, 'RWALDEN' \"\"\")"
   ],
   "metadata": {
    "collapsed": false,
    "pycharm": {
     "name": "#%%\n"
    }
   }
  },
  {
   "cell_type": "code",
   "execution_count": null,
   "outputs": [],
   "source": [
    "working_session.insert_into_foraqus(\"\"\"'B119', 'LNOWAK', 10, 0, sysdate, null, null, sysdate, 'RWALDEN' \"\"\")\n",
    "working_session.insert_into_foraqus(\"\"\"'119B', 'LNOWAK', 10, 0, sysdate, null, null, sysdate, 'RWALDEN' \"\"\")\n",
    "working_session.insert_into_foraqus(\"\"\"'B007', 'LNOWAK', 10, 0, sysdate, null, null, sysdate, 'RWALDEN' \"\"\")\n",
    "#working_session.insert_into_foraqus(\"\"\"'007B', 'LNOWAK', 10, 0, sysdate, null, null, sysdate, 'RWALDEN' \"\"\")"
   ],
   "metadata": {
    "collapsed": false,
    "pycharm": {
     "name": "#%%\n"
    }
   }
  },
  {
   "cell_type": "code",
   "execution_count": null,
   "outputs": [],
   "source": [
    "working_session.insert_into_foraqus(\"\"\"'B008', 'UGOFF', 10, 0, sysdate, null, null, sysdate, 'RWALDEN' \"\"\")\n",
    "working_session.insert_into_foraqus(\"\"\"'008B', 'UGOFF', 10, 0, sysdate, null, null, sysdate, 'RWALDEN' \"\"\")\n",
    "working_session.insert_into_foraqus(\"\"\"'B013', 'UGOFF', 10, 0, sysdate, null, null, sysdate, 'RWALDEN' \"\"\")\n",
    "working_session.insert_into_foraqus(\"\"\"'013B', 'UGOFF', 10, 0, sysdate, null, null, sysdate, 'RWALDEN' \"\"\")\n",
    "working_session.insert_into_foraqus(\"\"\"'B028', 'UGOFF', 10, 0, sysdate, null, null, sysdate, 'RWALDEN' \"\"\")\n",
    "working_session.insert_into_foraqus(\"\"\"'028B', 'UGOFF', 10, 0, sysdate, null, null, sysdate, 'RWALDEN' \"\"\")\n",
    "working_session.insert_into_foraqus(\"\"\"'B029', 'UGOFF', 10, 0, sysdate, null, null, sysdate, 'RWALDEN' \"\"\")\n",
    "working_session.insert_into_foraqus(\"\"\"'029B', 'UGOFF', 10, 0, sysdate, null, null, sysdate, 'RWALDEN' \"\"\")\n",
    "working_session.insert_into_foraqus(\"\"\"'B090', 'UGOFF', 10, 0, sysdate, null, null, sysdate, 'RWALDEN' \"\"\")\n",
    "working_session.insert_into_foraqus(\"\"\"'090B', 'UGOFF', 10, 0, sysdate, null, null, sysdate, 'RWALDEN' \"\"\")\n",
    "working_session.insert_into_foraqus(\"\"\"'B123', 'UGOFF', 10, 0, sysdate, null, null, sysdate, 'RWALDEN' \"\"\")\n",
    "working_session.insert_into_foraqus(\"\"\"'123B', 'UGOFF', 10, 0, sysdate, null, null, sysdate, 'RWALDEN' \"\"\")"
   ],
   "metadata": {
    "collapsed": false,
    "pycharm": {
     "name": "#%%\n"
    }
   }
  },
  {
   "cell_type": "code",
   "execution_count": null,
   "outputs": [],
   "source": [
    "working_session.insert_into_foraqus(\"\"\"'022B' , 'KJANISZEWSKI', 10, 0, sysdate, null, null, sysdate, 'RWALDEN' \"\"\")\n",
    "working_session.insert_into_foraqus(\"\"\"'023B' , 'KJANISZEWSKI', 10, 0, sysdate, null, null, sysdate, 'RWALDEN' \"\"\")\n",
    "working_session.insert_into_foraqus(\"\"\"'032B' , 'KJANISZEWSKI', 10, 0, sysdate, null, null, sysdate, 'RWALDEN' \"\"\")\n",
    "working_session.insert_into_foraqus(\"\"\"'035B' , 'KJANISZEWSKI', 10, 0, sysdate, null, null, sysdate, 'RWALDEN' \"\"\")\n",
    "working_session.insert_into_foraqus(\"\"\"'038B' , 'KJANISZEWSKI', 10, 0, sysdate, null, null, sysdate, 'RWALDEN' \"\"\")\n",
    "working_session.insert_into_foraqus(\"\"\"'049B' , 'KJANISZEWSKI', 10, 0, sysdate, null, null, sysdate, 'RWALDEN' \"\"\")\n",
    "working_session.insert_into_foraqus(\"\"\"'050B' , 'KJANISZEWSKI', 10, 0, sysdate, null, null, sysdate, 'RWALDEN' \"\"\")\n",
    "working_session.insert_into_foraqus(\"\"\"'060B' , 'KJANISZEWSKI', 10, 0, sysdate, null, null, sysdate, 'RWALDEN' \"\"\")\n",
    "working_session.insert_into_foraqus(\"\"\"'061B' , 'KJANISZEWSKI', 10, 0, sysdate, null, null, sysdate, 'RWALDEN' \"\"\")\n",
    "working_session.insert_into_foraqus(\"\"\"'062B' , 'KJANISZEWSKI', 10, 0, sysdate, null, null, sysdate, 'RWALDEN' \"\"\")\n",
    "working_session.insert_into_foraqus(\"\"\"'063B' , 'KJANISZEWSKI', 10, 0, sysdate, null, null, sysdate, 'RWALDEN' \"\"\")\n",
    "working_session.insert_into_foraqus(\"\"\"'064B' , 'KJANISZEWSKI', 10, 0, sysdate, null, null, sysdate, 'RWALDEN' \"\"\")\n",
    "working_session.insert_into_foraqus(\"\"\"'068B' , 'KJANISZEWSKI', 10, 0, sysdate, null, null, sysdate, 'RWALDEN' \"\"\")\n",
    "working_session.insert_into_foraqus(\"\"\"'086B' , 'KJANISZEWSKI', 10, 0, sysdate, null, null, sysdate, 'RWALDEN' \"\"\")\n",
    "working_session.insert_into_foraqus(\"\"\"'087B' , 'KJANISZEWSKI', 10, 0, sysdate, null, null, sysdate, 'RWALDEN' \"\"\")\n",
    "working_session.insert_into_foraqus(\"\"\"'089B' , 'KJANISZEWSKI', 10, 0, sysdate, null, null, sysdate, 'RWALDEN' \"\"\")\n",
    "working_session.insert_into_foraqus(\"\"\"'091B' , 'KJANISZEWSKI', 10, 0, sysdate, null, null, sysdate, 'RWALDEN' \"\"\")\n",
    "working_session.insert_into_foraqus(\"\"\"'092B' , 'KJANISZEWSKI', 10, 0, sysdate, null, null, sysdate, 'RWALDEN' \"\"\")\n",
    "working_session.insert_into_foraqus(\"\"\"'094B' , 'KJANISZEWSKI', 10, 0, sysdate, null, null, sysdate, 'RWALDEN' \"\"\")\n",
    "working_session.insert_into_foraqus(\"\"\"'100B' , 'KJANISZEWSKI', 10, 0, sysdate, null, null, sysdate, 'RWALDEN' \"\"\")\n",
    "working_session.insert_into_foraqus(\"\"\"'102B' , 'KJANISZEWSKI', 10, 0, sysdate, null, null, sysdate, 'RWALDEN' \"\"\")\n",
    "working_session.insert_into_foraqus(\"\"\"'103B' , 'KJANISZEWSKI', 10, 0, sysdate, null, null, sysdate, 'RWALDEN' \"\"\")\n",
    "working_session.insert_into_foraqus(\"\"\"'105B' , 'KJANISZEWSKI', 10, 0, sysdate, null, null, sysdate, 'RWALDEN' \"\"\")\n",
    "working_session.insert_into_foraqus(\"\"\"'107B' , 'KJANISZEWSKI', 10, 0, sysdate, null, null, sysdate, 'RWALDEN' \"\"\")\n",
    "working_session.insert_into_foraqus(\"\"\"'108B' , 'KJANISZEWSKI', 10, 0, sysdate, null, null, sysdate, 'RWALDEN' \"\"\")\n",
    "working_session.insert_into_foraqus(\"\"\"'116B' , 'KJANISZEWSKI', 10, 0, sysdate, null, null, sysdate, 'RWALDEN' \"\"\")\n",
    "working_session.insert_into_foraqus(\"\"\"'131B' , 'KJANISZEWSKI', 10, 0, sysdate, null, null, sysdate, 'RWALDEN' \"\"\")\n",
    "working_session.insert_into_foraqus(\"\"\"'144B' , 'KJANISZEWSKI', 10, 0, sysdate, null, null, sysdate, 'RWALDEN' \"\"\")\n",
    "working_session.insert_into_foraqus(\"\"\"'149B' , 'KJANISZEWSKI', 10, 0, sysdate, null, null, sysdate, 'RWALDEN' \"\"\")\n",
    "working_session.insert_into_foraqus(\"\"\"'B022' , 'KJANISZEWSKI', 10, 0, sysdate, null, null, sysdate, 'RWALDEN' \"\"\")\n",
    "working_session.insert_into_foraqus(\"\"\"'B023' , 'KJANISZEWSKI', 10, 0, sysdate, null, null, sysdate, 'RWALDEN' \"\"\")\n",
    "working_session.insert_into_foraqus(\"\"\"'B032' , 'KJANISZEWSKI', 10, 0, sysdate, null, null, sysdate, 'RWALDEN' \"\"\")\n",
    "working_session.insert_into_foraqus(\"\"\"'B035' , 'KJANISZEWSKI', 10, 0, sysdate, null, null, sysdate, 'RWALDEN' \"\"\")\n",
    "working_session.insert_into_foraqus(\"\"\"'B038' , 'KJANISZEWSKI', 10, 0, sysdate, null, null, sysdate, 'RWALDEN' \"\"\")\n",
    "working_session.insert_into_foraqus(\"\"\"'B040' , 'KJANISZEWSKI', 10, 0, sysdate, null, null, sysdate, 'RWALDEN' \"\"\")\n",
    "working_session.insert_into_foraqus(\"\"\"'B049' , 'KJANISZEWSKI', 10, 0, sysdate, null, null, sysdate, 'RWALDEN' \"\"\")\n",
    "working_session.insert_into_foraqus(\"\"\"'B050' , 'KJANISZEWSKI', 10, 0, sysdate, null, null, sysdate, 'RWALDEN' \"\"\")\n",
    "working_session.insert_into_foraqus(\"\"\"'B060' , 'KJANISZEWSKI', 10, 0, sysdate, null, null, sysdate, 'RWALDEN' \"\"\")\n",
    "working_session.insert_into_foraqus(\"\"\"'B061' , 'KJANISZEWSKI', 10, 0, sysdate, null, null, sysdate, 'RWALDEN' \"\"\")\n",
    "working_session.insert_into_foraqus(\"\"\"'B063' , 'KJANISZEWSKI', 10, 0, sysdate, null, null, sysdate, 'RWALDEN' \"\"\")\n",
    "working_session.insert_into_foraqus(\"\"\"'B064' , 'KJANISZEWSKI', 10, 0, sysdate, null, null, sysdate, 'RWALDEN' \"\"\")\n",
    "working_session.insert_into_foraqus(\"\"\"'B068' , 'KJANISZEWSKI', 10, 0, sysdate, null, null, sysdate, 'RWALDEN' \"\"\")\n",
    "working_session.insert_into_foraqus(\"\"\"'B086' , 'KJANISZEWSKI', 10, 0, sysdate, null, null, sysdate, 'RWALDEN' \"\"\")\n",
    "working_session.insert_into_foraqus(\"\"\"'B087' , 'KJANISZEWSKI', 10, 0, sysdate, null, null, sysdate, 'RWALDEN' \"\"\")\n",
    "working_session.insert_into_foraqus(\"\"\"'B089' , 'KJANISZEWSKI', 10, 0, sysdate, null, null, sysdate, 'RWALDEN' \"\"\")\n",
    "working_session.insert_into_foraqus(\"\"\"'B091' , 'KJANISZEWSKI', 10, 0, sysdate, null, null, sysdate, 'RWALDEN' \"\"\")\n",
    "working_session.insert_into_foraqus(\"\"\"'B092' , 'KJANISZEWSKI', 10, 0, sysdate, null, null, sysdate, 'RWALDEN' \"\"\")\n",
    "working_session.insert_into_foraqus(\"\"\"'B094' , 'KJANISZEWSKI', 10, 0, sysdate, null, null, sysdate, 'RWALDEN' \"\"\")\n",
    "working_session.insert_into_foraqus(\"\"\"'B100' , 'KJANISZEWSKI', 10, 0, sysdate, null, null, sysdate, 'RWALDEN' \"\"\")\n",
    "working_session.insert_into_foraqus(\"\"\"'B102' , 'KJANISZEWSKI', 10, 0, sysdate, null, null, sysdate, 'RWALDEN' \"\"\")\n",
    "working_session.insert_into_foraqus(\"\"\"'B103' , 'KJANISZEWSKI', 10, 0, sysdate, null, null, sysdate, 'RWALDEN' \"\"\")\n",
    "working_session.insert_into_foraqus(\"\"\"'B105' , 'KJANISZEWSKI', 10, 0, sysdate, null, null, sysdate, 'RWALDEN' \"\"\")\n",
    "working_session.insert_into_foraqus(\"\"\"'B107' , 'KJANISZEWSKI', 10, 0, sysdate, null, null, sysdate, 'RWALDEN' \"\"\")\n",
    "working_session.insert_into_foraqus(\"\"\"'B108' , 'KJANISZEWSKI', 10, 0, sysdate, null, null, sysdate, 'RWALDEN' \"\"\")\n",
    "working_session.insert_into_foraqus(\"\"\"'B116' , 'KJANISZEWSKI', 10, 0, sysdate, null, null, sysdate, 'RWALDEN' \"\"\")\n",
    "working_session.insert_into_foraqus(\"\"\"'B131' , 'KJANISZEWSKI', 10, 0, sysdate, null, null, sysdate, 'RWALDEN' \"\"\")\n",
    "working_session.insert_into_foraqus(\"\"\"'B144' , 'KJANISZEWSKI', 10, 0, sysdate, null, null, sysdate, 'RWALDEN' \"\"\")\n",
    "working_session.insert_into_foraqus(\"\"\"'B149' , 'KJANISZEWSKI', 10, 0, sysdate, null, null, sysdate, 'RWALDEN' \"\"\")\n",
    "\n",
    "working_session.insert_into_foraqus(\"\"\"'022B' , 'UGOFF', 10, 0, sysdate, null, null, sysdate, 'RWALDEN' \"\"\")\n",
    "working_session.insert_into_foraqus(\"\"\"'023B' , 'UGOFF', 10, 0, sysdate, null, null, sysdate, 'RWALDEN' \"\"\")\n",
    "working_session.insert_into_foraqus(\"\"\"'032B' , 'UGOFF', 10, 0, sysdate, null, null, sysdate, 'RWALDEN' \"\"\")\n",
    "working_session.insert_into_foraqus(\"\"\"'035B' , 'UGOFF', 10, 0, sysdate, null, null, sysdate, 'RWALDEN' \"\"\")\n",
    "working_session.insert_into_foraqus(\"\"\"'038B' , 'UGOFF', 10, 0, sysdate, null, null, sysdate, 'RWALDEN' \"\"\")\n",
    "working_session.insert_into_foraqus(\"\"\"'049B' , 'UGOFF', 10, 0, sysdate, null, null, sysdate, 'RWALDEN' \"\"\")\n",
    "working_session.insert_into_foraqus(\"\"\"'050B' , 'UGOFF', 10, 0, sysdate, null, null, sysdate, 'RWALDEN' \"\"\")\n",
    "working_session.insert_into_foraqus(\"\"\"'060B' , 'UGOFF', 10, 0, sysdate, null, null, sysdate, 'RWALDEN' \"\"\")\n",
    "working_session.insert_into_foraqus(\"\"\"'061B' , 'UGOFF', 10, 0, sysdate, null, null, sysdate, 'RWALDEN' \"\"\")\n",
    "working_session.insert_into_foraqus(\"\"\"'062B' , 'UGOFF', 10, 0, sysdate, null, null, sysdate, 'RWALDEN' \"\"\")\n",
    "working_session.insert_into_foraqus(\"\"\"'063B' , 'UGOFF', 10, 0, sysdate, null, null, sysdate, 'RWALDEN' \"\"\")\n",
    "working_session.insert_into_foraqus(\"\"\"'064B' , 'UGOFF', 10, 0, sysdate, null, null, sysdate, 'RWALDEN' \"\"\")\n",
    "working_session.insert_into_foraqus(\"\"\"'068B' , 'UGOFF', 10, 0, sysdate, null, null, sysdate, 'RWALDEN' \"\"\")\n",
    "working_session.insert_into_foraqus(\"\"\"'086B' , 'UGOFF', 10, 0, sysdate, null, null, sysdate, 'RWALDEN' \"\"\")\n",
    "working_session.insert_into_foraqus(\"\"\"'087B' , 'UGOFF', 10, 0, sysdate, null, null, sysdate, 'RWALDEN' \"\"\")\n",
    "working_session.insert_into_foraqus(\"\"\"'089B' , 'UGOFF', 10, 0, sysdate, null, null, sysdate, 'RWALDEN' \"\"\")\n",
    "working_session.insert_into_foraqus(\"\"\"'091B' , 'UGOFF', 10, 0, sysdate, null, null, sysdate, 'RWALDEN' \"\"\")\n",
    "working_session.insert_into_foraqus(\"\"\"'092B' , 'UGOFF', 10, 0, sysdate, null, null, sysdate, 'RWALDEN' \"\"\")\n",
    "working_session.insert_into_foraqus(\"\"\"'094B' , 'UGOFF', 10, 0, sysdate, null, null, sysdate, 'RWALDEN' \"\"\")\n",
    "working_session.insert_into_foraqus(\"\"\"'100B' , 'UGOFF', 10, 0, sysdate, null, null, sysdate, 'RWALDEN' \"\"\")\n",
    "working_session.insert_into_foraqus(\"\"\"'102B' , 'UGOFF', 10, 0, sysdate, null, null, sysdate, 'RWALDEN' \"\"\")\n",
    "working_session.insert_into_foraqus(\"\"\"'103B' , 'UGOFF', 10, 0, sysdate, null, null, sysdate, 'RWALDEN' \"\"\")\n",
    "working_session.insert_into_foraqus(\"\"\"'105B' , 'UGOFF', 10, 0, sysdate, null, null, sysdate, 'RWALDEN' \"\"\")\n",
    "working_session.insert_into_foraqus(\"\"\"'107B' , 'UGOFF', 10, 0, sysdate, null, null, sysdate, 'RWALDEN' \"\"\")\n",
    "working_session.insert_into_foraqus(\"\"\"'108B' , 'UGOFF', 10, 0, sysdate, null, null, sysdate, 'RWALDEN' \"\"\")\n",
    "working_session.insert_into_foraqus(\"\"\"'116B' , 'UGOFF', 10, 0, sysdate, null, null, sysdate, 'RWALDEN' \"\"\")\n",
    "working_session.insert_into_foraqus(\"\"\"'131B' , 'UGOFF', 10, 0, sysdate, null, null, sysdate, 'RWALDEN' \"\"\")\n",
    "working_session.insert_into_foraqus(\"\"\"'144B' , 'UGOFF', 10, 0, sysdate, null, null, sysdate, 'RWALDEN' \"\"\")\n",
    "working_session.insert_into_foraqus(\"\"\"'149B' , 'UGOFF', 10, 0, sysdate, null, null, sysdate, 'RWALDEN' \"\"\")\n",
    "working_session.insert_into_foraqus(\"\"\"'B022' , 'UGOFF', 10, 0, sysdate, null, null, sysdate, 'RWALDEN' \"\"\")\n",
    "working_session.insert_into_foraqus(\"\"\"'B023' , 'UGOFF', 10, 0, sysdate, null, null, sysdate, 'RWALDEN' \"\"\")\n",
    "working_session.insert_into_foraqus(\"\"\"'B032' , 'UGOFF', 10, 0, sysdate, null, null, sysdate, 'RWALDEN' \"\"\")\n",
    "working_session.insert_into_foraqus(\"\"\"'B035' , 'UGOFF', 10, 0, sysdate, null, null, sysdate, 'RWALDEN' \"\"\")\n",
    "working_session.insert_into_foraqus(\"\"\"'B038' , 'UGOFF', 10, 0, sysdate, null, null, sysdate, 'RWALDEN' \"\"\")\n",
    "working_session.insert_into_foraqus(\"\"\"'B040' , 'UGOFF', 10, 0, sysdate, null, null, sysdate, 'RWALDEN' \"\"\")\n",
    "working_session.insert_into_foraqus(\"\"\"'B049' , 'UGOFF', 10, 0, sysdate, null, null, sysdate, 'RWALDEN' \"\"\")\n",
    "working_session.insert_into_foraqus(\"\"\"'B050' , 'UGOFF', 10, 0, sysdate, null, null, sysdate, 'RWALDEN' \"\"\")\n",
    "working_session.insert_into_foraqus(\"\"\"'B060' , 'UGOFF', 10, 0, sysdate, null, null, sysdate, 'RWALDEN' \"\"\")\n",
    "working_session.insert_into_foraqus(\"\"\"'B061' , 'UGOFF', 10, 0, sysdate, null, null, sysdate, 'RWALDEN' \"\"\")\n",
    "working_session.insert_into_foraqus(\"\"\"'B063' , 'UGOFF', 10, 0, sysdate, null, null, sysdate, 'RWALDEN' \"\"\")\n",
    "working_session.insert_into_foraqus(\"\"\"'B064' , 'UGOFF', 10, 0, sysdate, null, null, sysdate, 'RWALDEN' \"\"\")\n",
    "working_session.insert_into_foraqus(\"\"\"'B068' , 'UGOFF', 10, 0, sysdate, null, null, sysdate, 'RWALDEN' \"\"\")\n",
    "working_session.insert_into_foraqus(\"\"\"'B086' , 'UGOFF', 10, 0, sysdate, null, null, sysdate, 'RWALDEN' \"\"\")\n",
    "working_session.insert_into_foraqus(\"\"\"'B087' , 'UGOFF', 10, 0, sysdate, null, null, sysdate, 'RWALDEN' \"\"\")\n",
    "working_session.insert_into_foraqus(\"\"\"'B089' , 'UGOFF', 10, 0, sysdate, null, null, sysdate, 'RWALDEN' \"\"\")\n",
    "working_session.insert_into_foraqus(\"\"\"'B091' , 'UGOFF', 10, 0, sysdate, null, null, sysdate, 'RWALDEN' \"\"\")\n",
    "working_session.insert_into_foraqus(\"\"\"'B092' , 'UGOFF', 10, 0, sysdate, null, null, sysdate, 'RWALDEN' \"\"\")\n",
    "working_session.insert_into_foraqus(\"\"\"'B094' , 'UGOFF', 10, 0, sysdate, null, null, sysdate, 'RWALDEN' \"\"\")\n",
    "working_session.insert_into_foraqus(\"\"\"'B100' , 'UGOFF', 10, 0, sysdate, null, null, sysdate, 'RWALDEN' \"\"\")\n",
    "working_session.insert_into_foraqus(\"\"\"'B102' , 'UGOFF', 10, 0, sysdate, null, null, sysdate, 'RWALDEN' \"\"\")\n",
    "working_session.insert_into_foraqus(\"\"\"'B103' , 'UGOFF', 10, 0, sysdate, null, null, sysdate, 'RWALDEN' \"\"\")\n",
    "working_session.insert_into_foraqus(\"\"\"'B105' , 'UGOFF', 10, 0, sysdate, null, null, sysdate, 'RWALDEN' \"\"\")\n",
    "working_session.insert_into_foraqus(\"\"\"'B107' , 'UGOFF', 10, 0, sysdate, null, null, sysdate, 'RWALDEN' \"\"\")\n",
    "working_session.insert_into_foraqus(\"\"\"'B108' , 'UGOFF', 10, 0, sysdate, null, null, sysdate, 'RWALDEN' \"\"\")\n",
    "working_session.insert_into_foraqus(\"\"\"'B116' , 'UGOFF', 10, 0, sysdate, null, null, sysdate, 'RWALDEN' \"\"\")\n",
    "working_session.insert_into_foraqus(\"\"\"'B131' , 'UGOFF', 10, 0, sysdate, null, null, sysdate, 'RWALDEN' \"\"\")\n",
    "working_session.insert_into_foraqus(\"\"\"'B144' , 'UGOFF', 10, 0, sysdate, null, null, sysdate, 'RWALDEN' \"\"\")\n",
    "working_session.insert_into_foraqus(\"\"\"'B149' , 'UGOFF', 10, 0, sysdate, null, null, sysdate, 'RWALDEN' \"\"\")\n",
    "\n",
    "working_session.insert_into_foraqus(\"\"\"'022B' , 'BJESTER1', 10, 0, sysdate, null, null, sysdate, 'RWALDEN' \"\"\")\n",
    "working_session.insert_into_foraqus(\"\"\"'023B' , 'BJESTER1', 10, 0, sysdate, null, null, sysdate, 'RWALDEN' \"\"\")\n",
    "working_session.insert_into_foraqus(\"\"\"'032B' , 'BJESTER1', 10, 0, sysdate, null, null, sysdate, 'RWALDEN' \"\"\")\n",
    "working_session.insert_into_foraqus(\"\"\"'035B' , 'BJESTER1', 10, 0, sysdate, null, null, sysdate, 'RWALDEN' \"\"\")\n",
    "working_session.insert_into_foraqus(\"\"\"'038B' , 'BJESTER1', 10, 0, sysdate, null, null, sysdate, 'RWALDEN' \"\"\")\n",
    "working_session.insert_into_foraqus(\"\"\"'049B' , 'BJESTER1', 10, 0, sysdate, null, null, sysdate, 'RWALDEN' \"\"\")\n",
    "working_session.insert_into_foraqus(\"\"\"'050B' , 'BJESTER1', 10, 0, sysdate, null, null, sysdate, 'RWALDEN' \"\"\")\n",
    "working_session.insert_into_foraqus(\"\"\"'060B' , 'BJESTER1', 10, 0, sysdate, null, null, sysdate, 'RWALDEN' \"\"\")\n",
    "working_session.insert_into_foraqus(\"\"\"'061B' , 'BJESTER1', 10, 0, sysdate, null, null, sysdate, 'RWALDEN' \"\"\")\n",
    "working_session.insert_into_foraqus(\"\"\"'062B' , 'BJESTER1', 10, 0, sysdate, null, null, sysdate, 'RWALDEN' \"\"\")\n",
    "working_session.insert_into_foraqus(\"\"\"'063B' , 'BJESTER1', 10, 0, sysdate, null, null, sysdate, 'RWALDEN' \"\"\")\n",
    "working_session.insert_into_foraqus(\"\"\"'064B' , 'BJESTER1', 10, 0, sysdate, null, null, sysdate, 'RWALDEN' \"\"\")\n",
    "working_session.insert_into_foraqus(\"\"\"'068B' , 'BJESTER1', 10, 0, sysdate, null, null, sysdate, 'RWALDEN' \"\"\")\n",
    "working_session.insert_into_foraqus(\"\"\"'086B' , 'BJESTER1', 10, 0, sysdate, null, null, sysdate, 'RWALDEN' \"\"\")\n",
    "working_session.insert_into_foraqus(\"\"\"'087B' , 'BJESTER1', 10, 0, sysdate, null, null, sysdate, 'RWALDEN' \"\"\")\n",
    "working_session.insert_into_foraqus(\"\"\"'089B' , 'BJESTER1', 10, 0, sysdate, null, null, sysdate, 'RWALDEN' \"\"\")\n",
    "working_session.insert_into_foraqus(\"\"\"'091B' , 'BJESTER1', 10, 0, sysdate, null, null, sysdate, 'RWALDEN' \"\"\")\n",
    "working_session.insert_into_foraqus(\"\"\"'092B' , 'BJESTER1', 10, 0, sysdate, null, null, sysdate, 'RWALDEN' \"\"\")\n",
    "working_session.insert_into_foraqus(\"\"\"'094B' , 'BJESTER1', 10, 0, sysdate, null, null, sysdate, 'RWALDEN' \"\"\")\n",
    "working_session.insert_into_foraqus(\"\"\"'100B' , 'BJESTER1', 10, 0, sysdate, null, null, sysdate, 'RWALDEN' \"\"\")\n",
    "working_session.insert_into_foraqus(\"\"\"'102B' , 'BJESTER1', 10, 0, sysdate, null, null, sysdate, 'RWALDEN' \"\"\")\n",
    "working_session.insert_into_foraqus(\"\"\"'103B' , 'BJESTER1', 10, 0, sysdate, null, null, sysdate, 'RWALDEN' \"\"\")\n",
    "working_session.insert_into_foraqus(\"\"\"'105B' , 'BJESTER1', 10, 0, sysdate, null, null, sysdate, 'RWALDEN' \"\"\")\n",
    "working_session.insert_into_foraqus(\"\"\"'107B' , 'BJESTER1', 10, 0, sysdate, null, null, sysdate, 'RWALDEN' \"\"\")\n",
    "working_session.insert_into_foraqus(\"\"\"'108B' , 'BJESTER1', 10, 0, sysdate, null, null, sysdate, 'RWALDEN' \"\"\")\n",
    "working_session.insert_into_foraqus(\"\"\"'116B' , 'BJESTER1', 10, 0, sysdate, null, null, sysdate, 'RWALDEN' \"\"\")\n",
    "working_session.insert_into_foraqus(\"\"\"'131B' , 'BJESTER1', 10, 0, sysdate, null, null, sysdate, 'RWALDEN' \"\"\")\n",
    "working_session.insert_into_foraqus(\"\"\"'144B' , 'BJESTER1', 10, 0, sysdate, null, null, sysdate, 'RWALDEN' \"\"\")\n",
    "working_session.insert_into_foraqus(\"\"\"'149B' , 'BJESTER1', 10, 0, sysdate, null, null, sysdate, 'RWALDEN' \"\"\")\n",
    "working_session.insert_into_foraqus(\"\"\"'B022' , 'BJESTER1', 10, 0, sysdate, null, null, sysdate, 'RWALDEN' \"\"\")\n",
    "working_session.insert_into_foraqus(\"\"\"'B023' , 'BJESTER1', 10, 0, sysdate, null, null, sysdate, 'RWALDEN' \"\"\")\n",
    "working_session.insert_into_foraqus(\"\"\"'B032' , 'BJESTER1', 10, 0, sysdate, null, null, sysdate, 'RWALDEN' \"\"\")\n",
    "working_session.insert_into_foraqus(\"\"\"'B035' , 'BJESTER1', 10, 0, sysdate, null, null, sysdate, 'RWALDEN' \"\"\")\n",
    "working_session.insert_into_foraqus(\"\"\"'B038' , 'BJESTER1', 10, 0, sysdate, null, null, sysdate, 'RWALDEN' \"\"\")\n",
    "working_session.insert_into_foraqus(\"\"\"'B040' , 'BJESTER1', 10, 0, sysdate, null, null, sysdate, 'RWALDEN' \"\"\")\n",
    "working_session.insert_into_foraqus(\"\"\"'B049' , 'BJESTER1', 10, 0, sysdate, null, null, sysdate, 'RWALDEN' \"\"\")\n",
    "working_session.insert_into_foraqus(\"\"\"'B050' , 'BJESTER1', 10, 0, sysdate, null, null, sysdate, 'RWALDEN' \"\"\")\n",
    "working_session.insert_into_foraqus(\"\"\"'B060' , 'BJESTER1', 10, 0, sysdate, null, null, sysdate, 'RWALDEN' \"\"\")\n",
    "working_session.insert_into_foraqus(\"\"\"'B061' , 'BJESTER1', 10, 0, sysdate, null, null, sysdate, 'RWALDEN' \"\"\")\n",
    "working_session.insert_into_foraqus(\"\"\"'B063' , 'BJESTER1', 10, 0, sysdate, null, null, sysdate, 'RWALDEN' \"\"\")\n",
    "working_session.insert_into_foraqus(\"\"\"'B064' , 'BJESTER1', 10, 0, sysdate, null, null, sysdate, 'RWALDEN' \"\"\")\n",
    "working_session.insert_into_foraqus(\"\"\"'B068' , 'BJESTER1', 10, 0, sysdate, null, null, sysdate, 'RWALDEN' \"\"\")\n",
    "working_session.insert_into_foraqus(\"\"\"'B086' , 'BJESTER1', 10, 0, sysdate, null, null, sysdate, 'RWALDEN' \"\"\")\n",
    "working_session.insert_into_foraqus(\"\"\"'B087' , 'BJESTER1', 10, 0, sysdate, null, null, sysdate, 'RWALDEN' \"\"\")\n",
    "working_session.insert_into_foraqus(\"\"\"'B089' , 'BJESTER1', 10, 0, sysdate, null, null, sysdate, 'RWALDEN' \"\"\")\n",
    "working_session.insert_into_foraqus(\"\"\"'B091' , 'BJESTER1', 10, 0, sysdate, null, null, sysdate, 'RWALDEN' \"\"\")\n",
    "working_session.insert_into_foraqus(\"\"\"'B092' , 'BJESTER1', 10, 0, sysdate, null, null, sysdate, 'RWALDEN' \"\"\")\n",
    "working_session.insert_into_foraqus(\"\"\"'B094' , 'BJESTER1', 10, 0, sysdate, null, null, sysdate, 'RWALDEN' \"\"\")\n",
    "working_session.insert_into_foraqus(\"\"\"'B100' , 'BJESTER1', 10, 0, sysdate, null, null, sysdate, 'RWALDEN' \"\"\")\n",
    "working_session.insert_into_foraqus(\"\"\"'B102' , 'BJESTER1', 10, 0, sysdate, null, null, sysdate, 'RWALDEN' \"\"\")\n",
    "working_session.insert_into_foraqus(\"\"\"'B103' , 'BJESTER1', 10, 0, sysdate, null, null, sysdate, 'RWALDEN' \"\"\")\n",
    "working_session.insert_into_foraqus(\"\"\"'B105' , 'BJESTER1', 10, 0, sysdate, null, null, sysdate, 'RWALDEN' \"\"\")\n",
    "working_session.insert_into_foraqus(\"\"\"'B107' , 'BJESTER1', 10, 0, sysdate, null, null, sysdate, 'RWALDEN' \"\"\")\n",
    "working_session.insert_into_foraqus(\"\"\"'B108' , 'BJESTER1', 10, 0, sysdate, null, null, sysdate, 'RWALDEN' \"\"\")\n",
    "working_session.insert_into_foraqus(\"\"\"'B116' , 'BJESTER1', 10, 0, sysdate, null, null, sysdate, 'RWALDEN' \"\"\")\n",
    "working_session.insert_into_foraqus(\"\"\"'B131' , 'BJESTER1', 10, 0, sysdate, null, null, sysdate, 'RWALDEN' \"\"\")\n",
    "working_session.insert_into_foraqus(\"\"\"'B144' , 'BJESTER1', 10, 0, sysdate, null, null, sysdate, 'RWALDEN' \"\"\")\n",
    "working_session.insert_into_foraqus(\"\"\"'B149' , 'BJESTER1', 10, 0, sysdate, null, null, sysdate, 'RWALDEN' \"\"\")\n",
    "\n",
    "working_session.insert_into_foraqus(\"\"\"'022B' , 'LNOWAK', 10, 0, sysdate, null, null, sysdate, 'RWALDEN' \"\"\")\n",
    "working_session.insert_into_foraqus(\"\"\"'023B' , 'LNOWAK', 10, 0, sysdate, null, null, sysdate, 'RWALDEN' \"\"\")\n",
    "working_session.insert_into_foraqus(\"\"\"'032B' , 'LNOWAK', 10, 0, sysdate, null, null, sysdate, 'RWALDEN' \"\"\")\n",
    "working_session.insert_into_foraqus(\"\"\"'035B' , 'LNOWAK', 10, 0, sysdate, null, null, sysdate, 'RWALDEN' \"\"\")\n",
    "working_session.insert_into_foraqus(\"\"\"'038B' , 'LNOWAK', 10, 0, sysdate, null, null, sysdate, 'RWALDEN' \"\"\")\n",
    "working_session.insert_into_foraqus(\"\"\"'049B' , 'LNOWAK', 10, 0, sysdate, null, null, sysdate, 'RWALDEN' \"\"\")\n",
    "working_session.insert_into_foraqus(\"\"\"'050B' , 'LNOWAK', 10, 0, sysdate, null, null, sysdate, 'RWALDEN' \"\"\")\n",
    "working_session.insert_into_foraqus(\"\"\"'060B' , 'LNOWAK', 10, 0, sysdate, null, null, sysdate, 'RWALDEN' \"\"\")\n",
    "working_session.insert_into_foraqus(\"\"\"'061B' , 'LNOWAK', 10, 0, sysdate, null, null, sysdate, 'RWALDEN' \"\"\")\n",
    "working_session.insert_into_foraqus(\"\"\"'062B' , 'LNOWAK', 10, 0, sysdate, null, null, sysdate, 'RWALDEN' \"\"\")\n",
    "working_session.insert_into_foraqus(\"\"\"'063B' , 'LNOWAK', 10, 0, sysdate, null, null, sysdate, 'RWALDEN' \"\"\")\n",
    "working_session.insert_into_foraqus(\"\"\"'064B' , 'LNOWAK', 10, 0, sysdate, null, null, sysdate, 'RWALDEN' \"\"\")\n",
    "working_session.insert_into_foraqus(\"\"\"'068B' , 'LNOWAK', 10, 0, sysdate, null, null, sysdate, 'RWALDEN' \"\"\")\n",
    "working_session.insert_into_foraqus(\"\"\"'086B' , 'LNOWAK', 10, 0, sysdate, null, null, sysdate, 'RWALDEN' \"\"\")\n",
    "working_session.insert_into_foraqus(\"\"\"'087B' , 'LNOWAK', 10, 0, sysdate, null, null, sysdate, 'RWALDEN' \"\"\")\n",
    "working_session.insert_into_foraqus(\"\"\"'089B' , 'LNOWAK', 10, 0, sysdate, null, null, sysdate, 'RWALDEN' \"\"\")\n",
    "working_session.insert_into_foraqus(\"\"\"'091B' , 'LNOWAK', 10, 0, sysdate, null, null, sysdate, 'RWALDEN' \"\"\")\n",
    "working_session.insert_into_foraqus(\"\"\"'092B' , 'LNOWAK', 10, 0, sysdate, null, null, sysdate, 'RWALDEN' \"\"\")\n",
    "working_session.insert_into_foraqus(\"\"\"'094B' , 'LNOWAK', 10, 0, sysdate, null, null, sysdate, 'RWALDEN' \"\"\")\n",
    "working_session.insert_into_foraqus(\"\"\"'100B' , 'LNOWAK', 10, 0, sysdate, null, null, sysdate, 'RWALDEN' \"\"\")\n",
    "working_session.insert_into_foraqus(\"\"\"'102B' , 'LNOWAK', 10, 0, sysdate, null, null, sysdate, 'RWALDEN' \"\"\")\n",
    "working_session.insert_into_foraqus(\"\"\"'103B' , 'LNOWAK', 10, 0, sysdate, null, null, sysdate, 'RWALDEN' \"\"\")\n",
    "working_session.insert_into_foraqus(\"\"\"'105B' , 'LNOWAK', 10, 0, sysdate, null, null, sysdate, 'RWALDEN' \"\"\")\n",
    "working_session.insert_into_foraqus(\"\"\"'107B' , 'LNOWAK', 10, 0, sysdate, null, null, sysdate, 'RWALDEN' \"\"\")\n",
    "working_session.insert_into_foraqus(\"\"\"'108B' , 'LNOWAK', 10, 0, sysdate, null, null, sysdate, 'RWALDEN' \"\"\")\n",
    "working_session.insert_into_foraqus(\"\"\"'116B' , 'LNOWAK', 10, 0, sysdate, null, null, sysdate, 'RWALDEN' \"\"\")\n",
    "working_session.insert_into_foraqus(\"\"\"'131B' , 'LNOWAK', 10, 0, sysdate, null, null, sysdate, 'RWALDEN' \"\"\")\n",
    "working_session.insert_into_foraqus(\"\"\"'144B' , 'LNOWAK', 10, 0, sysdate, null, null, sysdate, 'RWALDEN' \"\"\")\n",
    "working_session.insert_into_foraqus(\"\"\"'149B' , 'LNOWAK', 10, 0, sysdate, null, null, sysdate, 'RWALDEN' \"\"\")\n",
    "working_session.insert_into_foraqus(\"\"\"'B022' , 'LNOWAK', 10, 0, sysdate, null, null, sysdate, 'RWALDEN' \"\"\")\n",
    "working_session.insert_into_foraqus(\"\"\"'B023' , 'LNOWAK', 10, 0, sysdate, null, null, sysdate, 'RWALDEN' \"\"\")\n",
    "working_session.insert_into_foraqus(\"\"\"'B032' , 'LNOWAK', 10, 0, sysdate, null, null, sysdate, 'RWALDEN' \"\"\")\n",
    "working_session.insert_into_foraqus(\"\"\"'B035' , 'LNOWAK', 10, 0, sysdate, null, null, sysdate, 'RWALDEN' \"\"\")\n",
    "working_session.insert_into_foraqus(\"\"\"'B038' , 'LNOWAK', 10, 0, sysdate, null, null, sysdate, 'RWALDEN' \"\"\")\n",
    "working_session.insert_into_foraqus(\"\"\"'B040' , 'LNOWAK', 10, 0, sysdate, null, null, sysdate, 'RWALDEN' \"\"\")\n",
    "working_session.insert_into_foraqus(\"\"\"'B049' , 'LNOWAK', 10, 0, sysdate, null, null, sysdate, 'RWALDEN' \"\"\")\n",
    "working_session.insert_into_foraqus(\"\"\"'B050' , 'LNOWAK', 10, 0, sysdate, null, null, sysdate, 'RWALDEN' \"\"\")\n",
    "working_session.insert_into_foraqus(\"\"\"'B060' , 'LNOWAK', 10, 0, sysdate, null, null, sysdate, 'RWALDEN' \"\"\")\n",
    "working_session.insert_into_foraqus(\"\"\"'B061' , 'LNOWAK', 10, 0, sysdate, null, null, sysdate, 'RWALDEN' \"\"\")\n",
    "working_session.insert_into_foraqus(\"\"\"'B063' , 'LNOWAK', 10, 0, sysdate, null, null, sysdate, 'RWALDEN' \"\"\")\n",
    "working_session.insert_into_foraqus(\"\"\"'B064' , 'LNOWAK', 10, 0, sysdate, null, null, sysdate, 'RWALDEN' \"\"\")\n",
    "working_session.insert_into_foraqus(\"\"\"'B068' , 'LNOWAK', 10, 0, sysdate, null, null, sysdate, 'RWALDEN' \"\"\")\n",
    "working_session.insert_into_foraqus(\"\"\"'B086' , 'LNOWAK', 10, 0, sysdate, null, null, sysdate, 'RWALDEN' \"\"\")\n",
    "working_session.insert_into_foraqus(\"\"\"'B087' , 'LNOWAK', 10, 0, sysdate, null, null, sysdate, 'RWALDEN' \"\"\")\n",
    "working_session.insert_into_foraqus(\"\"\"'B089' , 'LNOWAK', 10, 0, sysdate, null, null, sysdate, 'RWALDEN' \"\"\")\n",
    "working_session.insert_into_foraqus(\"\"\"'B091' , 'LNOWAK', 10, 0, sysdate, null, null, sysdate, 'RWALDEN' \"\"\")\n",
    "working_session.insert_into_foraqus(\"\"\"'B092' , 'LNOWAK', 10, 0, sysdate, null, null, sysdate, 'RWALDEN' \"\"\")\n",
    "working_session.insert_into_foraqus(\"\"\"'B094' , 'LNOWAK', 10, 0, sysdate, null, null, sysdate, 'RWALDEN' \"\"\")\n",
    "working_session.insert_into_foraqus(\"\"\"'B100' , 'LNOWAK', 10, 0, sysdate, null, null, sysdate, 'RWALDEN' \"\"\")\n",
    "working_session.insert_into_foraqus(\"\"\"'B102' , 'LNOWAK', 10, 0, sysdate, null, null, sysdate, 'RWALDEN' \"\"\")\n",
    "working_session.insert_into_foraqus(\"\"\"'B103' , 'LNOWAK', 10, 0, sysdate, null, null, sysdate, 'RWALDEN' \"\"\")\n",
    "working_session.insert_into_foraqus(\"\"\"'B105' , 'LNOWAK', 10, 0, sysdate, null, null, sysdate, 'RWALDEN' \"\"\")\n",
    "working_session.insert_into_foraqus(\"\"\"'B107' , 'LNOWAK', 10, 0, sysdate, null, null, sysdate, 'RWALDEN' \"\"\")\n",
    "working_session.insert_into_foraqus(\"\"\"'B108' , 'LNOWAK', 10, 0, sysdate, null, null, sysdate, 'RWALDEN' \"\"\")\n",
    "working_session.insert_into_foraqus(\"\"\"'B116' , 'LNOWAK', 10, 0, sysdate, null, null, sysdate, 'RWALDEN' \"\"\")\n",
    "working_session.insert_into_foraqus(\"\"\"'B131' , 'LNOWAK', 10, 0, sysdate, null, null, sysdate, 'RWALDEN' \"\"\")\n",
    "working_session.insert_into_foraqus(\"\"\"'B144' , 'LNOWAK', 10, 0, sysdate, null, null, sysdate, 'RWALDEN' \"\"\")\n",
    "working_session.insert_into_foraqus(\"\"\"'B149' , 'LNOWAK', 10, 0, sysdate, null, null, sysdate, 'RWALDEN' \"\"\")"
   ],
   "metadata": {
    "collapsed": false,
    "pycharm": {
     "name": "#%%\n",
     "is_executing": true
    }
   }
  },
  {
   "cell_type": "markdown",
   "source": [
    "## Dawn"
   ],
   "metadata": {
    "collapsed": false,
    "pycharm": {
     "name": "#%% md\n"
    }
   }
  },
  {
   "cell_type": "code",
   "execution_count": 7,
   "outputs": [
    {
     "name": "stdout",
     "output_type": "stream",
     "text": [
      "select  FORAQUS_QUEUE_ID,FORAQUS_USER_ID_APPR,FORAQUS_QUEUE_LEVEL,FORAQUS_QUEUE_LIMIT,FORAQUS_EFF_DATE,\n",
      "        FORAQUS_NCHG_DATE,FORAQUS_TERM_DATE from FORAQUS where FORAQUS_USER_ID_APPR = 'DMCINTOSH1' and FORAQUS_NCHG_DATE is null and FORAQUS_TERM_DATE is null order by FORAQUS_QUEUE_ID  \n",
      "execute_sql_query  exec_time: 0.09425735473632812\n",
      "DMCINTOSH1 ['022E', '023E', '024G', '025G', '027G', '089C', '134G', '145G']\n"
     ]
    }
   ],
   "source": [
    "# List current approver queues\n",
    "x,y = working_session.get_approvers_queues('DMCINTOSH1')\n",
    "print(x,y)\n",
    "# results DMCINTOSH1 ['022E', '023E', '024G', '025G', '027G', '089C', '134G', '145G']\n"
   ],
   "metadata": {
    "collapsed": false,
    "pycharm": {
     "name": "#%%\n"
    }
   }
  },
  {
   "cell_type": "code",
   "execution_count": 8,
   "outputs": [
    {
     "name": "stdout",
     "output_type": "stream",
     "text": [
      "select  FORAQUS_QUEUE_ID,FORAQUS_USER_ID_APPR,FORAQUS_QUEUE_LEVEL,FORAQUS_QUEUE_LIMIT,FORAQUS_EFF_DATE,\n",
      "        FORAQUS_NCHG_DATE,FORAQUS_TERM_DATE from FORAQUS where FORAQUS_USER_ID_APPR = 'DMCINTOSH1' and FORAQUS_NCHG_DATE is null and FORAQUS_TERM_DATE is null   \n",
      "execute_sql_query  exec_time: 0.06800317764282227\n",
      "022E DMCINTOSH1 10 0.04 1999-07-01 00:00:00 None None\n",
      "update FORAQUS set FORAQUS_NCHG_DATE = sysdate where FORAQUS_USER_ID_APPR = 'DMCINTOSH1' and FORAQUS_NCHG_DATE is null and FORAQUS_TERM_DATE is null and FORAQUS_QUEUE_ID = '022E'\n",
      "execute_sql_update  exec_time: 0.07934379577636719\n",
      "insert into FORAQUS(FORAQUS_QUEUE_ID,FORAQUS_USER_ID_APPR,FORAQUS_QUEUE_LEVEL,FORAQUS_QUEUE_LIMIT,FORAQUS_EFF_DATE,FORAQUS_NCHG_DATE,FORAQUS_TERM_DATE,FORAQUS_ACTIVITY_DATE,FORAQUS_USER_ID) values('022E', 'DMCINTOSH1', 10, 0.04, sysdate, null, sysdate, sysdate, 'RWALDEN' )\n",
      "execute_sql_insert  exec_time: 0.07231593132019043\n",
      "None\n",
      "insert into FORAQUS(FORAQUS_QUEUE_ID,FORAQUS_USER_ID_APPR,FORAQUS_QUEUE_LEVEL,FORAQUS_QUEUE_LIMIT,FORAQUS_EFF_DATE,FORAQUS_NCHG_DATE,FORAQUS_TERM_DATE,FORAQUS_ACTIVITY_DATE,FORAQUS_USER_ID) values('022E', 'SBRAR', 10, 0.04, sysdate, null, null, sysdate, 'RWALDEN' )\n",
      "execute_sql_insert  exec_time: 0.06842565536499023\n",
      "None\n",
      "023E DMCINTOSH1 10 0.04 1999-07-01 00:00:00 None None\n",
      "update FORAQUS set FORAQUS_NCHG_DATE = sysdate where FORAQUS_USER_ID_APPR = 'DMCINTOSH1' and FORAQUS_NCHG_DATE is null and FORAQUS_TERM_DATE is null and FORAQUS_QUEUE_ID = '023E'\n",
      "execute_sql_update  exec_time: 0.06930756568908691\n",
      "insert into FORAQUS(FORAQUS_QUEUE_ID,FORAQUS_USER_ID_APPR,FORAQUS_QUEUE_LEVEL,FORAQUS_QUEUE_LIMIT,FORAQUS_EFF_DATE,FORAQUS_NCHG_DATE,FORAQUS_TERM_DATE,FORAQUS_ACTIVITY_DATE,FORAQUS_USER_ID) values('023E', 'DMCINTOSH1', 10, 0.04, sysdate, null, sysdate, sysdate, 'RWALDEN' )\n",
      "execute_sql_insert  exec_time: 0.06860780715942383\n",
      "None\n",
      "insert into FORAQUS(FORAQUS_QUEUE_ID,FORAQUS_USER_ID_APPR,FORAQUS_QUEUE_LEVEL,FORAQUS_QUEUE_LIMIT,FORAQUS_EFF_DATE,FORAQUS_NCHG_DATE,FORAQUS_TERM_DATE,FORAQUS_ACTIVITY_DATE,FORAQUS_USER_ID) values('023E', 'SBRAR', 10, 0.04, sysdate, null, null, sysdate, 'RWALDEN' )\n",
      "execute_sql_insert  exec_time: 0.06861066818237305\n",
      "None\n",
      "025G DMCINTOSH1 10 0.05 2022-07-13 15:20:18 None None\n",
      "update FORAQUS set FORAQUS_NCHG_DATE = sysdate where FORAQUS_USER_ID_APPR = 'DMCINTOSH1' and FORAQUS_NCHG_DATE is null and FORAQUS_TERM_DATE is null and FORAQUS_QUEUE_ID = '025G'\n",
      "execute_sql_update  exec_time: 0.06837606430053711\n",
      "insert into FORAQUS(FORAQUS_QUEUE_ID,FORAQUS_USER_ID_APPR,FORAQUS_QUEUE_LEVEL,FORAQUS_QUEUE_LIMIT,FORAQUS_EFF_DATE,FORAQUS_NCHG_DATE,FORAQUS_TERM_DATE,FORAQUS_ACTIVITY_DATE,FORAQUS_USER_ID) values('025G', 'DMCINTOSH1', 10, 0.05, sysdate, null, sysdate, sysdate, 'RWALDEN' )\n",
      "execute_sql_insert  exec_time: 0.06783151626586914\n",
      "None\n",
      "insert into FORAQUS(FORAQUS_QUEUE_ID,FORAQUS_USER_ID_APPR,FORAQUS_QUEUE_LEVEL,FORAQUS_QUEUE_LIMIT,FORAQUS_EFF_DATE,FORAQUS_NCHG_DATE,FORAQUS_TERM_DATE,FORAQUS_ACTIVITY_DATE,FORAQUS_USER_ID) values('025G', 'SBRAR', 10, 0.05, sysdate, null, null, sysdate, 'RWALDEN' )\n",
      "execute_sql_insert  exec_time: 0.0681755542755127\n",
      "None\n",
      "027G DMCINTOSH1 10 0.05 2022-06-30 09:35:05 None None\n",
      "update FORAQUS set FORAQUS_NCHG_DATE = sysdate where FORAQUS_USER_ID_APPR = 'DMCINTOSH1' and FORAQUS_NCHG_DATE is null and FORAQUS_TERM_DATE is null and FORAQUS_QUEUE_ID = '027G'\n",
      "execute_sql_update  exec_time: 0.07013869285583496\n",
      "insert into FORAQUS(FORAQUS_QUEUE_ID,FORAQUS_USER_ID_APPR,FORAQUS_QUEUE_LEVEL,FORAQUS_QUEUE_LIMIT,FORAQUS_EFF_DATE,FORAQUS_NCHG_DATE,FORAQUS_TERM_DATE,FORAQUS_ACTIVITY_DATE,FORAQUS_USER_ID) values('027G', 'DMCINTOSH1', 10, 0.05, sysdate, null, sysdate, sysdate, 'RWALDEN' )\n",
      "execute_sql_insert  exec_time: 0.06899881362915039\n",
      "None\n",
      "insert into FORAQUS(FORAQUS_QUEUE_ID,FORAQUS_USER_ID_APPR,FORAQUS_QUEUE_LEVEL,FORAQUS_QUEUE_LIMIT,FORAQUS_EFF_DATE,FORAQUS_NCHG_DATE,FORAQUS_TERM_DATE,FORAQUS_ACTIVITY_DATE,FORAQUS_USER_ID) values('027G', 'SBRAR', 10, 0.05, sysdate, null, null, sysdate, 'RWALDEN' )\n",
      "execute_sql_insert  exec_time: 0.06859779357910156\n",
      "None\n",
      "024G DMCINTOSH1 9 0.05 2022-06-30 09:52:43 None None\n",
      "update FORAQUS set FORAQUS_NCHG_DATE = sysdate where FORAQUS_USER_ID_APPR = 'DMCINTOSH1' and FORAQUS_NCHG_DATE is null and FORAQUS_TERM_DATE is null and FORAQUS_QUEUE_ID = '024G'\n",
      "execute_sql_update  exec_time: 0.06936430931091309\n",
      "insert into FORAQUS(FORAQUS_QUEUE_ID,FORAQUS_USER_ID_APPR,FORAQUS_QUEUE_LEVEL,FORAQUS_QUEUE_LIMIT,FORAQUS_EFF_DATE,FORAQUS_NCHG_DATE,FORAQUS_TERM_DATE,FORAQUS_ACTIVITY_DATE,FORAQUS_USER_ID) values('024G', 'DMCINTOSH1', 9, 0.05, sysdate, null, sysdate, sysdate, 'RWALDEN' )\n",
      "execute_sql_insert  exec_time: 0.06793594360351562\n",
      "None\n",
      "insert into FORAQUS(FORAQUS_QUEUE_ID,FORAQUS_USER_ID_APPR,FORAQUS_QUEUE_LEVEL,FORAQUS_QUEUE_LIMIT,FORAQUS_EFF_DATE,FORAQUS_NCHG_DATE,FORAQUS_TERM_DATE,FORAQUS_ACTIVITY_DATE,FORAQUS_USER_ID) values('024G', 'SBRAR', 9, 0.05, sysdate, null, null, sysdate, 'RWALDEN' )\n",
      "execute_sql_insert  exec_time: 0.06466412544250488\n",
      "None\n",
      "089C DMCINTOSH1 10 0.05 2022-06-30 09:56:05 None None\n",
      "update FORAQUS set FORAQUS_NCHG_DATE = sysdate where FORAQUS_USER_ID_APPR = 'DMCINTOSH1' and FORAQUS_NCHG_DATE is null and FORAQUS_TERM_DATE is null and FORAQUS_QUEUE_ID = '089C'\n",
      "execute_sql_update  exec_time: 0.07543754577636719\n",
      "insert into FORAQUS(FORAQUS_QUEUE_ID,FORAQUS_USER_ID_APPR,FORAQUS_QUEUE_LEVEL,FORAQUS_QUEUE_LIMIT,FORAQUS_EFF_DATE,FORAQUS_NCHG_DATE,FORAQUS_TERM_DATE,FORAQUS_ACTIVITY_DATE,FORAQUS_USER_ID) values('089C', 'DMCINTOSH1', 10, 0.05, sysdate, null, sysdate, sysdate, 'RWALDEN' )\n",
      "execute_sql_insert  exec_time: 0.07147026062011719\n",
      "None\n",
      "insert into FORAQUS(FORAQUS_QUEUE_ID,FORAQUS_USER_ID_APPR,FORAQUS_QUEUE_LEVEL,FORAQUS_QUEUE_LIMIT,FORAQUS_EFF_DATE,FORAQUS_NCHG_DATE,FORAQUS_TERM_DATE,FORAQUS_ACTIVITY_DATE,FORAQUS_USER_ID) values('089C', 'SBRAR', 10, 0.05, sysdate, null, null, sysdate, 'RWALDEN' )\n",
      "execute_sql_insert  exec_time: 0.06918907165527344\n",
      "None\n",
      "134G DMCINTOSH1 10 0.05 2022-06-30 09:56:33 None None\n",
      "update FORAQUS set FORAQUS_NCHG_DATE = sysdate where FORAQUS_USER_ID_APPR = 'DMCINTOSH1' and FORAQUS_NCHG_DATE is null and FORAQUS_TERM_DATE is null and FORAQUS_QUEUE_ID = '134G'\n",
      "execute_sql_update  exec_time: 0.06989741325378418\n",
      "insert into FORAQUS(FORAQUS_QUEUE_ID,FORAQUS_USER_ID_APPR,FORAQUS_QUEUE_LEVEL,FORAQUS_QUEUE_LIMIT,FORAQUS_EFF_DATE,FORAQUS_NCHG_DATE,FORAQUS_TERM_DATE,FORAQUS_ACTIVITY_DATE,FORAQUS_USER_ID) values('134G', 'DMCINTOSH1', 10, 0.05, sysdate, null, sysdate, sysdate, 'RWALDEN' )\n",
      "execute_sql_insert  exec_time: 0.06840038299560547\n",
      "None\n",
      "insert into FORAQUS(FORAQUS_QUEUE_ID,FORAQUS_USER_ID_APPR,FORAQUS_QUEUE_LEVEL,FORAQUS_QUEUE_LIMIT,FORAQUS_EFF_DATE,FORAQUS_NCHG_DATE,FORAQUS_TERM_DATE,FORAQUS_ACTIVITY_DATE,FORAQUS_USER_ID) values('134G', 'SBRAR', 10, 0.05, sysdate, null, null, sysdate, 'RWALDEN' )\n",
      "execute_sql_insert  exec_time: 0.06858968734741211\n",
      "None\n",
      "145G DMCINTOSH1 10 0.05 2022-09-22 16:45:58 None None\n",
      "update FORAQUS set FORAQUS_NCHG_DATE = sysdate where FORAQUS_USER_ID_APPR = 'DMCINTOSH1' and FORAQUS_NCHG_DATE is null and FORAQUS_TERM_DATE is null and FORAQUS_QUEUE_ID = '145G'\n",
      "execute_sql_update  exec_time: 0.0684199333190918\n",
      "insert into FORAQUS(FORAQUS_QUEUE_ID,FORAQUS_USER_ID_APPR,FORAQUS_QUEUE_LEVEL,FORAQUS_QUEUE_LIMIT,FORAQUS_EFF_DATE,FORAQUS_NCHG_DATE,FORAQUS_TERM_DATE,FORAQUS_ACTIVITY_DATE,FORAQUS_USER_ID) values('145G', 'DMCINTOSH1', 10, 0.05, sysdate, null, sysdate, sysdate, 'RWALDEN' )\n",
      "execute_sql_insert  exec_time: 0.06925177574157715\n",
      "None\n",
      "insert into FORAQUS(FORAQUS_QUEUE_ID,FORAQUS_USER_ID_APPR,FORAQUS_QUEUE_LEVEL,FORAQUS_QUEUE_LIMIT,FORAQUS_EFF_DATE,FORAQUS_NCHG_DATE,FORAQUS_TERM_DATE,FORAQUS_ACTIVITY_DATE,FORAQUS_USER_ID) values('145G', 'SBRAR', 10, 0.05, sysdate, null, null, sysdate, 'RWALDEN' )\n",
      "execute_sql_insert  exec_time: 0.06885194778442383\n",
      "None\n"
     ]
    }
   ],
   "source": [
    "# Replace Approver in Selected Queues to replace current approver with replacement. Pass no queues to replace in all queues.\n",
    "# Replace all Ex. : working_session.replace_approver('NVALSAMIDES', 'RWALDEN')\n",
    "#x = working_session.replace_approver('NVALSAMIDES', 'RWALDEN', ('CAQ', 'INVQ', 'JVQ', 'NSF')) # Only in the listed queues\n",
    "x = working_session.replace_approver('DMCINTOSH1', 'SBRAR') # All queues user is in"
   ],
   "metadata": {
    "collapsed": false,
    "pycharm": {
     "name": "#%%\n"
    }
   }
  },
  {
   "cell_type": "code",
   "execution_count": 9,
   "outputs": [
    {
     "name": "stdout",
     "output_type": "stream",
     "text": [
      "select  FORAQUS_QUEUE_ID,FORAQUS_USER_ID_APPR,FORAQUS_QUEUE_LEVEL,FORAQUS_QUEUE_LIMIT,FORAQUS_EFF_DATE,\n",
      "        FORAQUS_NCHG_DATE,FORAQUS_TERM_DATE from FORAQUS where FORAQUS_USER_ID_APPR = 'DMCINTOSH1' and FORAQUS_NCHG_DATE is null and FORAQUS_TERM_DATE is null order by FORAQUS_QUEUE_ID  \n",
      "execute_sql_query  exec_time: 0.034587860107421875\n",
      "DMCINTOSH1 []\n"
     ]
    }
   ],
   "source": [
    "# List current approver queues\n",
    "x,y = working_session.get_approvers_queues('DMCINTOSH1')\n",
    "print(x,y)"
   ],
   "metadata": {
    "collapsed": false,
    "pycharm": {
     "name": "#%%\n"
    }
   }
  },
  {
   "cell_type": "code",
   "execution_count": null,
   "outputs": [],
   "source": [],
   "metadata": {
    "collapsed": false,
    "pycharm": {
     "name": "#%%\n"
    }
   }
  }
 ],
 "metadata": {
  "kernelspec": {
   "display_name": "Python 3",
   "language": "python",
   "name": "python3"
  },
  "language_info": {
   "codemirror_mode": {
    "name": "ipython",
    "version": 2
   },
   "file_extension": ".py",
   "mimetype": "text/x-python",
   "name": "python",
   "nbconvert_exporter": "python",
   "pygments_lexer": "ipython2",
   "version": "2.7.6"
  }
 },
 "nbformat": 4,
 "nbformat_minor": 0
}