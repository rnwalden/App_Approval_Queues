{
 "cells": [
  {
   "cell_type": "raw",
   "source": [
    "https://learncodeshare.net/2015/06/02/basic-crud-operations-using-cx_oracle/\n",
    "\n",
    "\n",
    "\n"
   ],
   "metadata": {
    "collapsed": false,
    "pycharm": {
     "name": "#%% raw\n"
    }
   }
  },
  {
   "cell_type": "code",
   "execution_count": 1,
   "outputs": [],
   "source": [
    "import time\n",
    "def timeit(method):\n",
    "    def timed(*args, **kw):\n",
    "        ts = time.time()\n",
    "        result = method(*args, **kw)\n",
    "        te = time.time()\n",
    "        exec_time = (te - ts) #int((te - ts) * 1000)\n",
    "        print(method.__name__,' exec_time:',exec_time)\n",
    "        return result\n",
    "    return timed\n",
    "\n",
    "import logging\n",
    "\n",
    "my_logger = logging.getLogger('execution_logger')\n",
    "my_logger.setLevel(logging.INFO)\n",
    "my_logger_format = logging.Formatter('%(asctime)s - %(name)s - %(levelname)s - %(message)s')\n",
    "my_logger_handler = logging.FileHandler('execution_logger.log')\n",
    "\n",
    "\n",
    "my_logger_handler.setFormatter(my_logger_format)\n",
    "my_logger.addHandler(my_logger_handler)\n",
    "\n",
    "#my_logger.info(f\"\"\" my_logger test \"\"\")\n",
    "#my_logger.warning('This is a warning')\n",
    "#my_logger.error('This is an error')"
   ],
   "metadata": {
    "collapsed": false,
    "pycharm": {
     "name": "#%%\n"
    }
   }
  },
  {
   "cell_type": "code",
   "execution_count": 2,
   "outputs": [],
   "source": [
    "import datetime\n",
    "import cx_Oracle\n",
    "import getpass\n",
    "\n",
    "\n",
    "class OracleConnect:\n",
    "    def __init__(self):\n",
    "        my_logger.info(f\"\"\"###OracleConnect :: __init__###' \"\"\")\n",
    "        self.debug = False\n",
    "        self.user = ''\n",
    "        self.password = ''\n",
    "        self.get_credentials()\n",
    "        self.dsn_tns = self.select_database()\n",
    "        self.engine_connection = self.connection()\n",
    "\n",
    "        # defaults\n",
    "        # xxxA\n",
    "        self.foap_approvers = ['AMUSIAL1','EOBRIEN3']\n",
    "        # xxxB\n",
    "        self.acct_approvers = ['KJANISZEWSKI','UGOFF', 'BJESTER1', 'LNOWAK']\n",
    "        # Bxxx\n",
    "        self.budget_approvers = ['KJANISZEWSKI','UGOFF', 'BJESTER1', 'LNOWAK']\n",
    "\n",
    "\n",
    "\n",
    "\n",
    "    def connection(self):\n",
    "        try:\n",
    "            _connection = cx_Oracle.connect(self.user, self.password,\n",
    "                                            dsn=self.dsn_tns, #dsn_tns_prep, #'AVCPROD', #dsn_tns, #'AVCPREP',\n",
    "                                            encoding=\"UTF-8\")\n",
    "            my_logger.info(f\"\"\" '###OracleConnect :: Connection Established ###', 'self.user:', {self.user}, 'self.dsn_tns:', {self.dsn_tns} \"\"\")\n",
    "            return _connection\n",
    "        except Exception as e:\n",
    "            print(e)\n",
    "            self.get_credentials()\n",
    "\n",
    "        if self.debug == True:\n",
    "            print('### ##### connection #######')\n",
    "            print('## DB Connection as:', self.user, 'TNS string:',self.dsn_tns)\n",
    "            print('## DB Connection object:', _connection)\n",
    "            print('## if error:', (e if e else 'no error'))\n",
    "\n",
    "\n",
    "    def get_credentials(self):\n",
    "        self.user = getpass.getpass(\"Username: \")\n",
    "        self.password = getpass.getpass(\"Password: \")\n",
    "\n",
    "        if self.debug == True:\n",
    "            print('### ##### get_credentials #######')\n",
    "            print('## DB Connection as:', self.user, 'password:',self.password)\n",
    "\n",
    "\n",
    "    def select_database(self):\n",
    "        _db = input('which database to use (PROD,PREP):')\n",
    "        if _db.upper() == 'PREP':\n",
    "            _dsn_tns = cx_Oracle.makedsn('bandb-at1.test.avc.edu', '1521', 'avcprep')\n",
    "        elif _db.upper() == 'PROD':\n",
    "            print('not available yet')\n",
    "            #_dsn_tns = cx_Oracle.makedsn('bandb-at1.test.avc.edu', '1521', 'avcprep')\n",
    "        else:\n",
    "            print(\"Ex. 'bandb-at1.test.avc.edu', '1521', 'avcprep'\")\n",
    "            _dsn_tns = cx_Oracle.makedsn(input('enter dns_tns string:') )\n",
    "\n",
    "        if self.debug == True:\n",
    "            print('### ##### select_database #######')\n",
    "            print('## DB TNS String:', _dsn_tns)\n",
    "\n",
    "        return _dsn_tns\n",
    "\n",
    "    # Generic DB Query\n",
    "    def db_query(self,_select,_from,_where,_order_by,_group_by,_max_records_returned):\n",
    "        _select = f\"\"\"select  {_select}\"\"\"\n",
    "        _from = f\"\"\"from {_from}\"\"\"\n",
    "        _where = (f\"\"\"where {_where}\"\"\" if _where else '')\n",
    "        _order_by = (f\"\"\"order by {_order_by}\"\"\" if _order_by else '')\n",
    "        _group_by = (f\"\"\"group by {_group_by}\"\"\"  if _group_by else '')\n",
    "        _max_records_returned = (f\"\"\"fetch next {_max_records_returned} rows only\"\"\" if _group_by else '')\n",
    "        _query = f\"\"\"{_select} {_from} {_where} {_order_by} {_group_by} {_max_records_returned}\"\"\"\n",
    "        #print(_query)\n",
    "        app_data = self.execute_sql_query(_query)\n",
    "\n",
    "        if self.debug == True:\n",
    "            print('### ##### db_query #######')\n",
    "\n",
    "\n",
    "        return app_data\n",
    "\n",
    "\n",
    "    @timeit\n",
    "    def execute_sql_query(self,_query):\n",
    "        print(_query)\n",
    "        with self.engine_connection.cursor() as _cur:\n",
    "            _cur.execute(_query)\n",
    "            app_data = _cur.fetchall()\n",
    "\n",
    "        if self.debug == True:\n",
    "            print('### ##### execute_sql_query #######')\n",
    "\n",
    "        my_logger.info(f\"\"\"'execute_sql_query', '_query:', {_query}, 'app_data:', {app_data}\"\"\")\n",
    "\n",
    "        return app_data\n",
    "\n",
    "\n",
    "    def db_update(self, my_update, my_set, my_where):\n",
    "        _update = f\"\"\"update {my_update}\"\"\"\n",
    "        _set = f\"\"\"set {my_set}\"\"\"\n",
    "        _where = f\"\"\"where {my_where}\"\"\"\n",
    "        update_statement = f\"\"\"{_update} {_set} {_where}\"\"\"\n",
    "        _result = self.execute_sql_update(update_statement)\n",
    "\n",
    "        if self.debug == True:\n",
    "            print('### ##### db_update #######')\n",
    "\n",
    "        return _result\n",
    "\n",
    "\n",
    "    @timeit\n",
    "    def execute_sql_update(self,update_statement):\n",
    "        print(update_statement)\n",
    "        with self.engine_connection.cursor() as _cur:\n",
    "            try:\n",
    "                _cur.execute(update_statement)\n",
    "                _result = self.engine_connection.commit()\n",
    "            except Exception as e:\n",
    "                self.engine_connection.rollback()\n",
    "                return e\n",
    "\n",
    "        if self.debug == True:\n",
    "            print('### ##### execute_sql_update #######')\n",
    "\n",
    "        my_logger.info(f\"\"\"'###OracleConnect :: execute_sql_update', 'update_statement:', {update_statement}, '_result:', {_result}\"\"\")\n",
    "\n",
    "        return _result\n",
    "\n",
    "\n",
    "    def db_insert(self, my_insert, my_values):\n",
    "        _insert = f\"\"\"into {my_insert}\"\"\"\n",
    "        _value = f\"\"\"values({my_values})\"\"\"\n",
    "        insert_statement = f\"\"\"insert {_insert} {_value}\"\"\"\n",
    "        _result = self.execute_sql_insert(insert_statement)\n",
    "\n",
    "        if self.debug == True:\n",
    "            print('### ##### db_insert #######')\n",
    "\n",
    "        return _result\n",
    "\n",
    "\n",
    "    @timeit\n",
    "    def execute_sql_insert(self,insert_statement):\n",
    "        print(insert_statement)\n",
    "        with self.engine_connection.cursor() as _cur:\n",
    "            try:\n",
    "                _cur.execute(insert_statement)\n",
    "                _result = self.engine_connection.commit()\n",
    "            except Exception as e:\n",
    "                self.engine_connection.rollback()\n",
    "                return e\n",
    "\n",
    "        if self.debug == True:\n",
    "            print('### ##### execute_sql_insert #######')\n",
    "\n",
    "        my_logger.info(f\"\"\"'execute_sql_insert', 'insert_statement:', {insert_statement}, '_result:', {_result}\"\"\")\n",
    "\n",
    "        return _result\n",
    "\n",
    "\n",
    "    def db_delete(self, my_from, my_where):\n",
    "        _from = f\"\"\"from {my_from}\"\"\"\n",
    "        _where = f\"\"\"where {my_where}\"\"\"\n",
    "        delete_statement = f\"\"\"delete {_from} {_where}\"\"\"\n",
    "        print('delete_statement',delete_statement)\n",
    "        _result = self.execute_sql_delete(delete_statement)\n",
    "\n",
    "        if self.debug == True:\n",
    "            print('### ##### db_delete #######')\n",
    "\n",
    "\n",
    "    @timeit\n",
    "    def execute_sql_delete(self,delete_statement):\n",
    "        print(delete_statement)\n",
    "        with self.engine_connection.cursor() as _cur:\n",
    "            try:\n",
    "                _cur.execute(delete_statement)\n",
    "                _result = self.engine_connection.commit()\n",
    "            except Exception as e:\n",
    "                self.engine_connection.rollback()\n",
    "                return e\n",
    "\n",
    "        if self.debug == True:\n",
    "            print('### ##### execute_sql_delete #######')\n",
    "\n",
    "        my_logger.info(f\"\"\"'execute_sql_delete', 'delete_statement:', {delete_statement}, '_result:', {_result}\"\"\")\n",
    "\n",
    "        return _result\n",
    "\n",
    "    # Use specific methods\n",
    "    ## Approval Queue Methods\n",
    "    def query_foraqus(self, my_where='',my_order_by='',my_group_by='',my_max_records_returned = ''):\n",
    "        select = f\"\"\"FORAQUS_QUEUE_ID,FORAQUS_USER_ID_APPR,FORAQUS_QUEUE_LEVEL,FORAQUS_QUEUE_LIMIT,FORAQUS_EFF_DATE,\n",
    "        FORAQUS_NCHG_DATE,FORAQUS_TERM_DATE\"\"\"\n",
    "        from_ = f\"\"\"FORAQUS\"\"\"\n",
    "        x =  self.db_query(select,from_,my_where,my_order_by,my_group_by,my_max_records_returned)\n",
    "\n",
    "        if self.debug == True:\n",
    "            print('### ##### query_foraqus #######')\n",
    "\n",
    "        return x\n",
    "\n",
    "\n",
    "    def query_ftvappq(self, my_where='',my_order_by='',my_group_by='',my_max_records_returned = ''):\n",
    "        select = f\"\"\"FTVAPPQ_QUEUE_ID, FTVAPPQ_DESCRIPTION, FTVAPPQ_QUEUE_LIMIT, FTVAPPQ_NEXT_QUEUE_ID, FTVAPPQ_APPROVAL_REQ, FTVAPPQ_ACTIVITY_DATE, FTVAPPQ_USER_ID\"\"\"\n",
    "        from_ = f\"\"\"FTVAPPQ\"\"\"\n",
    "        x =  self.db_query(select,from_,my_where,my_order_by,my_group_by,my_max_records_returned)\n",
    "\n",
    "        if self.debug == True:\n",
    "            print('### ##### query_ftvappq #######')\n",
    "\n",
    "        return x\n",
    "\n",
    "\n",
    "    def query_foraqrc(self, my_where='',my_order_by='',my_group_by='',my_max_records_returned = ''):\n",
    "        select = f\"\"\"FORAQRC_QUEUE_ID, FORAQRC_DOC_TYPE, FORAQRC_RULE_GROUP, FORAQRC_COAS_CODE, FORAQRC_FTYP_CODE, FORAQRC_FUND_CODE, FORAQRC_ORGN_CODE, FORAQRC_ATYP_CODE, FORAQRC_ACCT_CODE, FORAQRC_ACTIVITY_DATE, FORAQRC_USER_ID, FORAQRC_PROG_CODE\"\"\"\n",
    "        from_ = f\"\"\"FORAQRC\"\"\"\n",
    "        x =  self.db_query(select,from_,my_where,my_order_by,my_group_by,my_max_records_returned)\n",
    "\n",
    "        if self.debug == True:\n",
    "            print('### ##### query_foraqrc #######')\n",
    "\n",
    "        return x\n",
    "\n",
    "\n",
    "    def insert_into_ftvappq(self, _my_value):\n",
    "        my_insert = \"\"\"FTVAPPQ(FTVAPPQ_QUEUE_ID, FTVAPPQ_DESCRIPTION, FTVAPPQ_QUEUE_LIMIT, FTVAPPQ_NEXT_QUEUE_ID, FTVAPPQ_APPROVAL_REQ, FTVAPPQ_ACTIVITY_DATE, FTVAPPQ_USER_ID)\"\"\"\n",
    "        x = self.db_insert(my_insert, _my_value)\n",
    "        print(x)\n",
    "\n",
    "        if self.debug == True:\n",
    "            print('### ##### insert_into_ftvappq #######')\n",
    "\n",
    "\n",
    "    def insert_into_foraqus(self, _my_value):\n",
    "        my_insert = \"\"\"FORAQUS(FORAQUS_QUEUE_ID,FORAQUS_USER_ID_APPR,FORAQUS_QUEUE_LEVEL,FORAQUS_QUEUE_LIMIT,FORAQUS_EFF_DATE,FORAQUS_NCHG_DATE,FORAQUS_TERM_DATE,FORAQUS_ACTIVITY_DATE,FORAQUS_USER_ID)\"\"\"\n",
    "        x = self.db_insert(my_insert, _my_value)\n",
    "        print(x)\n",
    "\n",
    "        if self.debug == True:\n",
    "            print('### ##### insert_into_foraqus #######')\n",
    "\n",
    "\n",
    "    def insert_into_foraqrc(self, _my_value):\n",
    "        my_insert = \"\"\"FORAQRC(FORAQRC_QUEUE_ID, FORAQRC_DOC_TYPE, FORAQRC_RULE_GROUP, FORAQRC_COAS_CODE, FORAQRC_FTYP_CODE, FORAQRC_FUND_CODE, FORAQRC_ORGN_CODE, FORAQRC_ATYP_CODE, FORAQRC_ACCT_CODE, FORAQRC_ACTIVITY_DATE, FORAQRC_USER_ID, FORAQRC_PROG_CODE) \"\"\"\n",
    "        x = self.db_insert(my_insert, _my_value)\n",
    "        print(x)\n",
    "\n",
    "        if self.debug == True:\n",
    "            print('### ##### insert_into_foraqrc #######')\n",
    "\n",
    "\n",
    "    def get_next_queue_number(self):\n",
    "        _select = \"max(to_number(substr(FTVAPPQ_QUEUE_ID,0,3)))\"\n",
    "        _from = \"FTVAPPQ\"\n",
    "        _where = \"substr(FTVAPPQ_QUEUE_ID,0,1) in ('0','1','2','3','4','5','6','7','8','9')\"\n",
    "        x = zxc.db_query(_select,_from,_where,_order_by = '',_group_by = '',_max_records_returned = '')\n",
    "\n",
    "        if self.debug == True:\n",
    "            print('### ##### get_next_queue_number #######')\n",
    "            print('current max queue num:',x[0][0], 'next queue to use:', (x[0][0]+1))\n",
    "\n",
    "        my_logger.info(f\"\"\"'get_next_queue_number', 'current max queue num:',{x[0][0]}, 'next queue to use:', {x[0][0] + 1}\"\"\")\n",
    "\n",
    "        return (x[0][0]+1)\n",
    "\n",
    "\n",
    "    def get_approvers_queues(self,approver_current_queue_list):\n",
    "        x = zxc.query_foraqus(my_where=f\"FORAQUS_USER_ID_APPR = '{approver_current_queue_list}' and FORAQUS_NCHG_DATE is null and FORAQUS_TERM_DATE is null\")\n",
    "        current_approver_queues = [y[0] for y in x]\n",
    "\n",
    "        if self.debug == True:\n",
    "            print('### ##### get_approvers_queues #######')\n",
    "\n",
    "        return approver_current_queue_list, current_approver_queues\n",
    "\n",
    "\n",
    "    # Procedures\n",
    "\n",
    "    ## Build Queue Chain\n",
    "    def build_a_new_queue_chain(self,queue_chain_number,queue_description,queues_to_build,orgns_to_route):\n",
    "        # add budget queue Bxxx to queues_to_build for processing\n",
    "        budget_queue = ('budget', str(queue_chain_number)+queues_to_build[2][0], 0, self.budget_approvers)\n",
    "        queues_to_build.append(budget_queue)\n",
    "\n",
    "        # build each queue in queue chain\n",
    "        for que in queues_to_build:\n",
    "            # build the queue\n",
    "            the_que = str(queue_chain_number)+que[0] if  que[0] != 'budget' else 'B'+str(queue_chain_number)\n",
    "            exit_que = (que[1] if que[1] in ['VPAS','EXBS','PRES'] else str(queue_chain_number)+que[1])\n",
    "            build_queue = f\"\"\"'{the_que}','{queue_description}',{que[2]},'{exit_que}', null, sysdate, 'RWALDEN'\"\"\"\n",
    "            print(build_queue)\n",
    "            self.insert_into_ftvappq(build_queue)\n",
    "\n",
    "\n",
    "            # add approvers\n",
    "            for approver in que[3]:\n",
    "                insert_approvers = f\"\"\"'{the_que}', '{approver}', 10, {que[2]}, sysdate, null, null, sysdate, 'RWALDEN'\"\"\"\n",
    "                print(insert_approvers)\n",
    "                self.insert_into_foraqus(insert_approvers)\n",
    "\n",
    "\n",
    "            # route orgns to Accounting queue in queue chain\n",
    "            if que[0] == 'A':\n",
    "                for orgn in orgns_to_route:\n",
    "                    req_route_orgn = f\"\"\"'{the_que}', 1, 'REQG', 'A', '', '', '{orgn}', '', '', sysdate, 'RWALDEN', ''\"\"\"\n",
    "                    po_route_orgn = f\"\"\"'{the_que}', 2, 'CORG', 'A', '', '', '{orgn}', '', '', sysdate, 'RWALDEN', ''\"\"\"\n",
    "                    print(req_route_orgn)\n",
    "                    print(po_route_orgn)\n",
    "                    self.insert_into_foraqrc(req_route_orgn)\n",
    "                    self.insert_into_foraqrc(po_route_orgn)\n",
    "\n",
    "\n",
    "            # route orgns to Budget queue in queue chain\n",
    "            if que[0] == 'budget':\n",
    "                for orgn in orgns_to_route:\n",
    "                    jv_route_orgn = f\"\"\"'{the_que}', 20, 'DBRG', 'A', '', '', '{orgn}', '', '', sysdate, 'RWALDEN', ''\"\"\"\n",
    "                    print(jv_route_orgn)\n",
    "                    self.insert_into_foraqrc(jv_route_orgn)\n",
    "\n",
    "        if self.debug == True:\n",
    "            print('### ##### build_a_new_queue_chain #######')\n",
    "    ### EX: Build new queue chain start\n",
    "    ### EX: queue_chain_number = 998\n",
    "    ### EX: queue_description = 'Test Queue Desc'\n",
    "    ### EX: queues_to_build = [('A','B',0,['AMUSIAL1','EOBRIEN3']),('B','G',.01,['KJANISZEWSKI','UGOFF', 'BJESTER1', 'LNOWAK']),('G','EXBS',4999.99,['SMILLER66'])]\n",
    "    ### EX: orgns_to_route = ['12345','67890','19283']\n",
    "    ### EX: build_a_new_queue_chain(queue_chain_number, queue_description, queues_to_build, orgns_to_route)\n",
    "    ### EX: Build new queue chain end\n",
    "\n",
    "    ## Insert Proxy\n",
    "    ### Set Proxy date format '28-JUL-22' == July 28 2022\n",
    "\n",
    "\n",
    "    ## Set Proxy Approver\n",
    "    def set_proxy_approver(approver_to_proxy,proxy_approver,date_from,date_to):\n",
    "        x = zxc.query_foraqus(my_where=f\"FORAQUS_USER_ID_APPR = '{approver_to_proxy}' and FORAQUS_NCHG_DATE is null and FORAQUS_TERM_DATE is null\")\n",
    "        #print(x)\n",
    "        for y in x:\n",
    "            insert_term_record = f\"\"\"'{y[0]}', '{proxy_approver}', {y[2]}, {y[3]}, '{date_from}', null, '{date_to}', sysdate, 'RWALDEN' \"\"\"\n",
    "            zxc.insert_into_foraqus(insert_term_record)\n",
    "\n",
    "        if self.debug == True:\n",
    "            print('### ##### set_proxy_approver #######')\n",
    "    #### EX: set_proxy_approver(approver_to_proxy = 'EKNUDSON',proxy_approver = 'RWALDEN',date_from = '22-JUL-22',date_to = '28-JUL-22')\n",
    "\n",
    "    ## Replace Approver in Queues\n",
    "\n",
    "    # Replace Approver\n",
    "    def replace_approver(self,approver_to_place, new_approver, from_queues = ()):\n",
    "        if (len(from_queues) < 1) or (from_queues == ''):\n",
    "            x = self.query_foraqus(my_where=f\"FORAQUS_USER_ID_APPR = '{approver_to_place}' and FORAQUS_NCHG_DATE is null and FORAQUS_TERM_DATE is null\")\n",
    "        elif type(from_queues) == str:\n",
    "            x = self.query_foraqus(my_where=f\"FORAQUS_USER_ID_APPR = '{approver_to_place}' and FORAQUS_NCHG_DATE is null and FORAQUS_TERM_DATE is null and FORAQUS_QUEUE_ID in ('{from_queues}')\")\n",
    "        else:\n",
    "            x = self.query_foraqus(my_where=f\"FORAQUS_USER_ID_APPR = '{approver_to_place}' and FORAQUS_NCHG_DATE is null and FORAQUS_TERM_DATE is null and FORAQUS_QUEUE_ID in {from_queues}\")\n",
    "        #x = zxc.query_foraqus(my_where=f\"FORAQUS_USER_ID_APPR = '{approver_to_place}' and FORAQUS_NCHG_DATE is null and FORAQUS_TERM_DATE is null\")\n",
    "        for y in x:\n",
    "            print(y[0], y[1], y[2], y[3], y[4], y[5], y[6])\n",
    "            my_update = 'FORAQUS'\n",
    "            my_set = 'FORAQUS_NCHG_DATE = sysdate'\n",
    "            my_where = f\"FORAQUS_USER_ID_APPR = '{approver_to_place}' and FORAQUS_NCHG_DATE is null and FORAQUS_TERM_DATE is null and FORAQUS_QUEUE_ID = '{y[0]}'\"\n",
    "            zxc.db_update(my_update, my_set, my_where)\n",
    "            # insert term record\n",
    "            insert_term_record = f\"\"\"'{y[0]}', '{y[1]}', {y[2]}, {y[3]}, sysdate, null, sysdate, sysdate, 'RWALDEN' \"\"\"\n",
    "            zxc.insert_into_foraqus(insert_term_record)\n",
    "            # insert new approver\n",
    "            insert_term_record = f\"\"\"'{y[0]}', '{new_approver}', {y[2]}, {y[3]}, sysdate, null, null, sysdate, 'RWALDEN' \"\"\"\n",
    "            zxc.insert_into_foraqus(insert_term_record)\n",
    "\n",
    "        if self.debug == True:\n",
    "            print('### ##### replace_approver #######')\n",
    "    ### EX: replace_approver(approver_to_place = 'BJESTER1', new_approver = 'RWALDEN')\n",
    "\n",
    "\n",
    "    ## Term from queues\n",
    "    ### Term Approver date format '28-JUL-22' == July 28 2022\n",
    "    ### EX: from_queues = () or '000A' or ('000A') or ('000A','B000','000B') ; all queues , one queue, multiple queues\n",
    "    def term_approver(self,approver_to_term, term_date, from_queues = ()):\n",
    "        if (len(from_queues) < 1) or (from_queues == ''):\n",
    "            x = self.query_foraqus(my_where=f\"FORAQUS_USER_ID_APPR = '{approver_to_term}' and FORAQUS_NCHG_DATE is null and FORAQUS_TERM_DATE is null\")\n",
    "        elif type(from_queues) == str:\n",
    "            x = self.query_foraqus(my_where=f\"FORAQUS_USER_ID_APPR = '{approver_to_term}' and FORAQUS_NCHG_DATE is null and FORAQUS_TERM_DATE is null and FORAQUS_QUEUE_ID in ('{from_queues}')\")\n",
    "        else:\n",
    "            x = self.query_foraqus(my_where=f\"FORAQUS_USER_ID_APPR = '{approver_to_term}' and FORAQUS_NCHG_DATE is null and FORAQUS_TERM_DATE is null and FORAQUS_QUEUE_ID in {from_queues}\")\n",
    "\n",
    "        for y in x:\n",
    "            # update next change date in current active record\n",
    "            my_update = 'FORAQUS'\n",
    "            my_set = f\"FORAQUS_NCHG_DATE = '{term_date}\"\n",
    "            my_where = f\"FORAQUS_USER_ID_APPR = '{approver_to_term}' and FORAQUS_NCHG_DATE is null and FORAQUS_TERM_DATE is null and FORAQUS_QUEUE_ID = '{y[0]}'\"\n",
    "            self.db_update(my_update, my_set, my_where)\n",
    "            # insert term record\n",
    "            insert_term_record = f\"\"\"'{y[0]}', '{y[1]}', {y[2]}, {y[3]}, sysdate, null, sysdate, sysdate, 'RWALDEN' \"\"\"\n",
    "            self.insert_into_foraqus(insert_term_record)\n",
    "\n",
    "        if self.debug == True:\n",
    "            print('### ##### term_approver #######')\n",
    "    ### EX: term_approver('AMUSIAL1', '28-JUL-22')\n",
    "    ### EX: term_approver('AMUSIAL1', '28-JUL-22', from_queues = ('005A'))\n",
    "    ### EX: term_approver('AMUSIAL1', '28-JUL-22', from_queues = ('005A','006A'))\n"
   ],
   "metadata": {
    "collapsed": false,
    "pycharm": {
     "name": "#%%\n"
    }
   }
  },
  {
   "cell_type": "code",
   "execution_count": 3,
   "outputs": [
    {
     "name": "stdout",
     "output_type": "stream",
     "text": [
      "ORA-01035: ORACLE only available to users with RESTRICTED SESSION privilege\n"
     ]
    }
   ],
   "source": [
    "zxc = OracleConnect()\n",
    "conn = zxc.engine_connection"
   ],
   "metadata": {
    "collapsed": false,
    "pycharm": {
     "name": "#%%\n"
    }
   }
  },
  {
   "cell_type": "code",
   "execution_count": 4,
   "outputs": [
    {
     "ename": "ZeroDivisionError",
     "evalue": "division by zero",
     "output_type": "error",
     "traceback": [
      "\u001B[1;31m---------------------------------------------------------------------------\u001B[0m",
      "\u001B[1;31mZeroDivisionError\u001B[0m                         Traceback (most recent call last)",
      "Input \u001B[1;32mIn [4]\u001B[0m, in \u001B[0;36m<cell line: 1>\u001B[1;34m()\u001B[0m\n\u001B[1;32m----> 1\u001B[0m x \u001B[38;5;241m=\u001B[39m\u001B[38;5;241;43m1\u001B[39;49m\u001B[38;5;241;43m/\u001B[39;49m\u001B[38;5;241;43m0\u001B[39;49m\n",
      "\u001B[1;31mZeroDivisionError\u001B[0m: division by zero"
     ]
    }
   ],
   "source": [
    "x =1/0"
   ],
   "metadata": {
    "collapsed": false,
    "pycharm": {
     "name": "#%%\n"
    }
   }
  },
  {
   "cell_type": "code",
   "execution_count": null,
   "outputs": [],
   "source": [
    "conn.close()"
   ],
   "metadata": {
    "collapsed": false,
    "pycharm": {
     "name": "#%%\n"
    }
   }
  },
  {
   "cell_type": "code",
   "execution_count": 6,
   "outputs": [
    {
     "name": "stdout",
     "output_type": "stream",
     "text": [
      "select  max(to_number(substr(FTVAPPQ_QUEUE_ID,0,3))) from FTVAPPQ where substr(FTVAPPQ_QUEUE_ID,0,1) in ('0','1','2','3','4','5','6','7','8','9')   \n",
      "execute_sql_query  exec_time: 0.06592631340026855\n",
      "'135A','Kaiser Sim Collaboration',0,'135B', null, sysdate, 'RWALDEN'\n",
      "insert into FTVAPPQ(FTVAPPQ_QUEUE_ID, FTVAPPQ_DESCRIPTION, FTVAPPQ_QUEUE_LIMIT, FTVAPPQ_NEXT_QUEUE_ID, FTVAPPQ_APPROVAL_REQ, FTVAPPQ_ACTIVITY_DATE, FTVAPPQ_USER_ID) values('135A','Kaiser Sim Collaboration',0,'135B', null, sysdate, 'RWALDEN')\n",
      "execute_sql_insert  exec_time: 0.08616018295288086\n",
      "None\n",
      "'135A', 'AMUSIAL1', 10, 0, sysdate, null, null, sysdate, 'RWALDEN'\n",
      "insert into FORAQUS(FORAQUS_QUEUE_ID,FORAQUS_USER_ID_APPR,FORAQUS_QUEUE_LEVEL,FORAQUS_QUEUE_LIMIT,FORAQUS_EFF_DATE,FORAQUS_NCHG_DATE,FORAQUS_TERM_DATE,FORAQUS_ACTIVITY_DATE,FORAQUS_USER_ID) values('135A', 'AMUSIAL1', 10, 0, sysdate, null, null, sysdate, 'RWALDEN')\n",
      "execute_sql_insert  exec_time: 0.0686643123626709\n",
      "None\n",
      "'135A', 'EOBRIEN3', 10, 0, sysdate, null, null, sysdate, 'RWALDEN'\n",
      "insert into FORAQUS(FORAQUS_QUEUE_ID,FORAQUS_USER_ID_APPR,FORAQUS_QUEUE_LEVEL,FORAQUS_QUEUE_LIMIT,FORAQUS_EFF_DATE,FORAQUS_NCHG_DATE,FORAQUS_TERM_DATE,FORAQUS_ACTIVITY_DATE,FORAQUS_USER_ID) values('135A', 'EOBRIEN3', 10, 0, sysdate, null, null, sysdate, 'RWALDEN')\n",
      "execute_sql_insert  exec_time: 0.06783080101013184\n",
      "None\n",
      "'135A', 1, 'REQG', 'A', '', '', '62404', '', '', sysdate, 'RWALDEN', ''\n",
      "'135A', 2, 'CORG', 'A', '', '', '62404', '', '', sysdate, 'RWALDEN', ''\n",
      "insert into FORAQRC(FORAQRC_QUEUE_ID, FORAQRC_DOC_TYPE, FORAQRC_RULE_GROUP, FORAQRC_COAS_CODE, FORAQRC_FTYP_CODE, FORAQRC_FUND_CODE, FORAQRC_ORGN_CODE, FORAQRC_ATYP_CODE, FORAQRC_ACCT_CODE, FORAQRC_ACTIVITY_DATE, FORAQRC_USER_ID, FORAQRC_PROG_CODE)  values('135A', 1, 'REQG', 'A', '', '', '62404', '', '', sysdate, 'RWALDEN', '')\n",
      "execute_sql_insert  exec_time: 0.06745028495788574\n",
      "None\n",
      "insert into FORAQRC(FORAQRC_QUEUE_ID, FORAQRC_DOC_TYPE, FORAQRC_RULE_GROUP, FORAQRC_COAS_CODE, FORAQRC_FTYP_CODE, FORAQRC_FUND_CODE, FORAQRC_ORGN_CODE, FORAQRC_ATYP_CODE, FORAQRC_ACCT_CODE, FORAQRC_ACTIVITY_DATE, FORAQRC_USER_ID, FORAQRC_PROG_CODE)  values('135A', 2, 'CORG', 'A', '', '', '62404', '', '', sysdate, 'RWALDEN', '')\n",
      "execute_sql_insert  exec_time: 0.06682252883911133\n",
      "None\n",
      "'135B','Kaiser Sim Collaboration',0.01,'135G', null, sysdate, 'RWALDEN'\n",
      "insert into FTVAPPQ(FTVAPPQ_QUEUE_ID, FTVAPPQ_DESCRIPTION, FTVAPPQ_QUEUE_LIMIT, FTVAPPQ_NEXT_QUEUE_ID, FTVAPPQ_APPROVAL_REQ, FTVAPPQ_ACTIVITY_DATE, FTVAPPQ_USER_ID) values('135B','Kaiser Sim Collaboration',0.01,'135G', null, sysdate, 'RWALDEN')\n",
      "execute_sql_insert  exec_time: 0.06686234474182129\n",
      "None\n",
      "'135B', 'KJANISZEWSKI', 10, 0.01, sysdate, null, null, sysdate, 'RWALDEN'\n",
      "insert into FORAQUS(FORAQUS_QUEUE_ID,FORAQUS_USER_ID_APPR,FORAQUS_QUEUE_LEVEL,FORAQUS_QUEUE_LIMIT,FORAQUS_EFF_DATE,FORAQUS_NCHG_DATE,FORAQUS_TERM_DATE,FORAQUS_ACTIVITY_DATE,FORAQUS_USER_ID) values('135B', 'KJANISZEWSKI', 10, 0.01, sysdate, null, null, sysdate, 'RWALDEN')\n",
      "execute_sql_insert  exec_time: 0.06679058074951172\n",
      "None\n",
      "'135B', 'UGOFF', 10, 0.01, sysdate, null, null, sysdate, 'RWALDEN'\n",
      "insert into FORAQUS(FORAQUS_QUEUE_ID,FORAQUS_USER_ID_APPR,FORAQUS_QUEUE_LEVEL,FORAQUS_QUEUE_LIMIT,FORAQUS_EFF_DATE,FORAQUS_NCHG_DATE,FORAQUS_TERM_DATE,FORAQUS_ACTIVITY_DATE,FORAQUS_USER_ID) values('135B', 'UGOFF', 10, 0.01, sysdate, null, null, sysdate, 'RWALDEN')\n",
      "execute_sql_insert  exec_time: 0.06681990623474121\n",
      "None\n",
      "'135B', 'BJESTER1', 10, 0.01, sysdate, null, null, sysdate, 'RWALDEN'\n",
      "insert into FORAQUS(FORAQUS_QUEUE_ID,FORAQUS_USER_ID_APPR,FORAQUS_QUEUE_LEVEL,FORAQUS_QUEUE_LIMIT,FORAQUS_EFF_DATE,FORAQUS_NCHG_DATE,FORAQUS_TERM_DATE,FORAQUS_ACTIVITY_DATE,FORAQUS_USER_ID) values('135B', 'BJESTER1', 10, 0.01, sysdate, null, null, sysdate, 'RWALDEN')\n",
      "execute_sql_insert  exec_time: 0.06781005859375\n",
      "None\n",
      "'135B', 'LNOWAK', 10, 0.01, sysdate, null, null, sysdate, 'RWALDEN'\n",
      "insert into FORAQUS(FORAQUS_QUEUE_ID,FORAQUS_USER_ID_APPR,FORAQUS_QUEUE_LEVEL,FORAQUS_QUEUE_LIMIT,FORAQUS_EFF_DATE,FORAQUS_NCHG_DATE,FORAQUS_TERM_DATE,FORAQUS_ACTIVITY_DATE,FORAQUS_USER_ID) values('135B', 'LNOWAK', 10, 0.01, sysdate, null, null, sysdate, 'RWALDEN')\n",
      "execute_sql_insert  exec_time: 0.06682181358337402\n",
      "None\n",
      "'135G','Kaiser Sim Collaboration',0.05,'VPAS', null, sysdate, 'RWALDEN'\n",
      "insert into FTVAPPQ(FTVAPPQ_QUEUE_ID, FTVAPPQ_DESCRIPTION, FTVAPPQ_QUEUE_LIMIT, FTVAPPQ_NEXT_QUEUE_ID, FTVAPPQ_APPROVAL_REQ, FTVAPPQ_ACTIVITY_DATE, FTVAPPQ_USER_ID) values('135G','Kaiser Sim Collaboration',0.05,'VPAS', null, sysdate, 'RWALDEN')\n",
      "execute_sql_insert  exec_time: 0.06782054901123047\n",
      "None\n",
      "'135G', 'SMILLER66', 10, 0.05, sysdate, null, null, sysdate, 'RWALDEN'\n",
      "insert into FORAQUS(FORAQUS_QUEUE_ID,FORAQUS_USER_ID_APPR,FORAQUS_QUEUE_LEVEL,FORAQUS_QUEUE_LIMIT,FORAQUS_EFF_DATE,FORAQUS_NCHG_DATE,FORAQUS_TERM_DATE,FORAQUS_ACTIVITY_DATE,FORAQUS_USER_ID) values('135G', 'SMILLER66', 10, 0.05, sysdate, null, null, sysdate, 'RWALDEN')\n",
      "execute_sql_insert  exec_time: 0.06781840324401855\n",
      "None\n",
      "'B135','Kaiser Sim Collaboration',0,'135135G', null, sysdate, 'RWALDEN'\n",
      "insert into FTVAPPQ(FTVAPPQ_QUEUE_ID, FTVAPPQ_DESCRIPTION, FTVAPPQ_QUEUE_LIMIT, FTVAPPQ_NEXT_QUEUE_ID, FTVAPPQ_APPROVAL_REQ, FTVAPPQ_ACTIVITY_DATE, FTVAPPQ_USER_ID) values('B135','Kaiser Sim Collaboration',0,'135135G', null, sysdate, 'RWALDEN')\n",
      "execute_sql_insert  exec_time: 0.10275840759277344\n",
      "ORA-12899: value too large for column \"FIMSMGR\".\"FTVAPPQ\".\"FTVAPPQ_NEXT_QUEUE_ID\" (actual: 7, maximum: 4)\n",
      "'B135', 'KJANISZEWSKI', 10, 0, sysdate, null, null, sysdate, 'RWALDEN'\n",
      "insert into FORAQUS(FORAQUS_QUEUE_ID,FORAQUS_USER_ID_APPR,FORAQUS_QUEUE_LEVEL,FORAQUS_QUEUE_LIMIT,FORAQUS_EFF_DATE,FORAQUS_NCHG_DATE,FORAQUS_TERM_DATE,FORAQUS_ACTIVITY_DATE,FORAQUS_USER_ID) values('B135', 'KJANISZEWSKI', 10, 0, sysdate, null, null, sysdate, 'RWALDEN')\n",
      "execute_sql_insert  exec_time: 0.06682300567626953\n",
      "None\n",
      "'B135', 'UGOFF', 10, 0, sysdate, null, null, sysdate, 'RWALDEN'\n",
      "insert into FORAQUS(FORAQUS_QUEUE_ID,FORAQUS_USER_ID_APPR,FORAQUS_QUEUE_LEVEL,FORAQUS_QUEUE_LIMIT,FORAQUS_EFF_DATE,FORAQUS_NCHG_DATE,FORAQUS_TERM_DATE,FORAQUS_ACTIVITY_DATE,FORAQUS_USER_ID) values('B135', 'UGOFF', 10, 0, sysdate, null, null, sysdate, 'RWALDEN')\n",
      "execute_sql_insert  exec_time: 0.06779360771179199\n",
      "None\n",
      "'B135', 'BJESTER1', 10, 0, sysdate, null, null, sysdate, 'RWALDEN'\n",
      "insert into FORAQUS(FORAQUS_QUEUE_ID,FORAQUS_USER_ID_APPR,FORAQUS_QUEUE_LEVEL,FORAQUS_QUEUE_LIMIT,FORAQUS_EFF_DATE,FORAQUS_NCHG_DATE,FORAQUS_TERM_DATE,FORAQUS_ACTIVITY_DATE,FORAQUS_USER_ID) values('B135', 'BJESTER1', 10, 0, sysdate, null, null, sysdate, 'RWALDEN')\n",
      "execute_sql_insert  exec_time: 0.06681966781616211\n",
      "None\n",
      "'B135', 'LNOWAK', 10, 0, sysdate, null, null, sysdate, 'RWALDEN'\n",
      "insert into FORAQUS(FORAQUS_QUEUE_ID,FORAQUS_USER_ID_APPR,FORAQUS_QUEUE_LEVEL,FORAQUS_QUEUE_LIMIT,FORAQUS_EFF_DATE,FORAQUS_NCHG_DATE,FORAQUS_TERM_DATE,FORAQUS_ACTIVITY_DATE,FORAQUS_USER_ID) values('B135', 'LNOWAK', 10, 0, sysdate, null, null, sysdate, 'RWALDEN')\n",
      "execute_sql_insert  exec_time: 0.06582450866699219\n",
      "None\n",
      "'B135', 20, 'DBRG', 'A', '', '', '62404', '', '', sysdate, 'RWALDEN', ''\n",
      "insert into FORAQRC(FORAQRC_QUEUE_ID, FORAQRC_DOC_TYPE, FORAQRC_RULE_GROUP, FORAQRC_COAS_CODE, FORAQRC_FTYP_CODE, FORAQRC_FUND_CODE, FORAQRC_ORGN_CODE, FORAQRC_ATYP_CODE, FORAQRC_ACCT_CODE, FORAQRC_ACTIVITY_DATE, FORAQRC_USER_ID, FORAQRC_PROG_CODE)  values('B135', 20, 'DBRG', 'A', '', '', '62404', '', '', sysdate, 'RWALDEN', '')\n",
      "execute_sql_insert  exec_time: 0.06682181358337402\n",
      "None\n",
      "select  max(to_number(substr(FTVAPPQ_QUEUE_ID,0,3))) from FTVAPPQ where substr(FTVAPPQ_QUEUE_ID,0,1) in ('0','1','2','3','4','5','6','7','8','9')   \n",
      "execute_sql_query  exec_time: 0.03490614891052246\n",
      "'136A','LACOE AB130 Outreach Support',0,'136B', null, sysdate, 'RWALDEN'\n",
      "insert into FTVAPPQ(FTVAPPQ_QUEUE_ID, FTVAPPQ_DESCRIPTION, FTVAPPQ_QUEUE_LIMIT, FTVAPPQ_NEXT_QUEUE_ID, FTVAPPQ_APPROVAL_REQ, FTVAPPQ_ACTIVITY_DATE, FTVAPPQ_USER_ID) values('136A','LACOE AB130 Outreach Support',0,'136B', null, sysdate, 'RWALDEN')\n",
      "execute_sql_insert  exec_time: 0.0658254623413086\n",
      "None\n",
      "'136A', 'AMUSIAL1', 10, 0, sysdate, null, null, sysdate, 'RWALDEN'\n",
      "insert into FORAQUS(FORAQUS_QUEUE_ID,FORAQUS_USER_ID_APPR,FORAQUS_QUEUE_LEVEL,FORAQUS_QUEUE_LIMIT,FORAQUS_EFF_DATE,FORAQUS_NCHG_DATE,FORAQUS_TERM_DATE,FORAQUS_ACTIVITY_DATE,FORAQUS_USER_ID) values('136A', 'AMUSIAL1', 10, 0, sysdate, null, null, sysdate, 'RWALDEN')\n",
      "execute_sql_insert  exec_time: 0.06781983375549316\n",
      "None\n",
      "'136A', 'EOBRIEN3', 10, 0, sysdate, null, null, sysdate, 'RWALDEN'\n",
      "insert into FORAQUS(FORAQUS_QUEUE_ID,FORAQUS_USER_ID_APPR,FORAQUS_QUEUE_LEVEL,FORAQUS_QUEUE_LIMIT,FORAQUS_EFF_DATE,FORAQUS_NCHG_DATE,FORAQUS_TERM_DATE,FORAQUS_ACTIVITY_DATE,FORAQUS_USER_ID) values('136A', 'EOBRIEN3', 10, 0, sysdate, null, null, sysdate, 'RWALDEN')\n",
      "execute_sql_insert  exec_time: 0.06582260131835938\n",
      "None\n",
      "'136A', 1, 'REQG', 'A', '', '', '62719', '', '', sysdate, 'RWALDEN', ''\n",
      "'136A', 2, 'CORG', 'A', '', '', '62719', '', '', sysdate, 'RWALDEN', ''\n",
      "insert into FORAQRC(FORAQRC_QUEUE_ID, FORAQRC_DOC_TYPE, FORAQRC_RULE_GROUP, FORAQRC_COAS_CODE, FORAQRC_FTYP_CODE, FORAQRC_FUND_CODE, FORAQRC_ORGN_CODE, FORAQRC_ATYP_CODE, FORAQRC_ACCT_CODE, FORAQRC_ACTIVITY_DATE, FORAQRC_USER_ID, FORAQRC_PROG_CODE)  values('136A', 1, 'REQG', 'A', '', '', '62719', '', '', sysdate, 'RWALDEN', '')\n",
      "execute_sql_insert  exec_time: 0.06582427024841309\n",
      "None\n",
      "insert into FORAQRC(FORAQRC_QUEUE_ID, FORAQRC_DOC_TYPE, FORAQRC_RULE_GROUP, FORAQRC_COAS_CODE, FORAQRC_FTYP_CODE, FORAQRC_FUND_CODE, FORAQRC_ORGN_CODE, FORAQRC_ATYP_CODE, FORAQRC_ACCT_CODE, FORAQRC_ACTIVITY_DATE, FORAQRC_USER_ID, FORAQRC_PROG_CODE)  values('136A', 2, 'CORG', 'A', '', '', '62719', '', '', sysdate, 'RWALDEN', '')\n",
      "execute_sql_insert  exec_time: 0.06682300567626953\n",
      "None\n",
      "'136B','LACOE AB130 Outreach Support',0.01,'136G', null, sysdate, 'RWALDEN'\n",
      "insert into FTVAPPQ(FTVAPPQ_QUEUE_ID, FTVAPPQ_DESCRIPTION, FTVAPPQ_QUEUE_LIMIT, FTVAPPQ_NEXT_QUEUE_ID, FTVAPPQ_APPROVAL_REQ, FTVAPPQ_ACTIVITY_DATE, FTVAPPQ_USER_ID) values('136B','LACOE AB130 Outreach Support',0.01,'136G', null, sysdate, 'RWALDEN')\n",
      "execute_sql_insert  exec_time: 0.06685209274291992\n",
      "None\n",
      "'136B', 'KJANISZEWSKI', 10, 0.01, sysdate, null, null, sysdate, 'RWALDEN'\n",
      "insert into FORAQUS(FORAQUS_QUEUE_ID,FORAQUS_USER_ID_APPR,FORAQUS_QUEUE_LEVEL,FORAQUS_QUEUE_LIMIT,FORAQUS_EFF_DATE,FORAQUS_NCHG_DATE,FORAQUS_TERM_DATE,FORAQUS_ACTIVITY_DATE,FORAQUS_USER_ID) values('136B', 'KJANISZEWSKI', 10, 0.01, sysdate, null, null, sysdate, 'RWALDEN')\n",
      "execute_sql_insert  exec_time: 0.06681966781616211\n",
      "None\n",
      "'136B', 'UGOFF', 10, 0.01, sysdate, null, null, sysdate, 'RWALDEN'\n",
      "insert into FORAQUS(FORAQUS_QUEUE_ID,FORAQUS_USER_ID_APPR,FORAQUS_QUEUE_LEVEL,FORAQUS_QUEUE_LIMIT,FORAQUS_EFF_DATE,FORAQUS_NCHG_DATE,FORAQUS_TERM_DATE,FORAQUS_ACTIVITY_DATE,FORAQUS_USER_ID) values('136B', 'UGOFF', 10, 0.01, sysdate, null, null, sysdate, 'RWALDEN')\n",
      "execute_sql_insert  exec_time: 0.06679177284240723\n",
      "None\n",
      "'136B', 'BJESTER1', 10, 0.01, sysdate, null, null, sysdate, 'RWALDEN'\n",
      "insert into FORAQUS(FORAQUS_QUEUE_ID,FORAQUS_USER_ID_APPR,FORAQUS_QUEUE_LEVEL,FORAQUS_QUEUE_LIMIT,FORAQUS_EFF_DATE,FORAQUS_NCHG_DATE,FORAQUS_TERM_DATE,FORAQUS_ACTIVITY_DATE,FORAQUS_USER_ID) values('136B', 'BJESTER1', 10, 0.01, sysdate, null, null, sysdate, 'RWALDEN')\n",
      "execute_sql_insert  exec_time: 0.06683874130249023\n",
      "None\n",
      "'136B', 'LNOWAK', 10, 0.01, sysdate, null, null, sysdate, 'RWALDEN'\n",
      "insert into FORAQUS(FORAQUS_QUEUE_ID,FORAQUS_USER_ID_APPR,FORAQUS_QUEUE_LEVEL,FORAQUS_QUEUE_LIMIT,FORAQUS_EFF_DATE,FORAQUS_NCHG_DATE,FORAQUS_TERM_DATE,FORAQUS_ACTIVITY_DATE,FORAQUS_USER_ID) values('136B', 'LNOWAK', 10, 0.01, sysdate, null, null, sysdate, 'RWALDEN')\n",
      "execute_sql_insert  exec_time: 0.06680870056152344\n",
      "None\n",
      "'136G','LACOE AB130 Outreach Support',4999.99,'EXBS', null, sysdate, 'RWALDEN'\n",
      "insert into FTVAPPQ(FTVAPPQ_QUEUE_ID, FTVAPPQ_DESCRIPTION, FTVAPPQ_QUEUE_LIMIT, FTVAPPQ_NEXT_QUEUE_ID, FTVAPPQ_APPROVAL_REQ, FTVAPPQ_ACTIVITY_DATE, FTVAPPQ_USER_ID) values('136G','LACOE AB130 Outreach Support',4999.99,'EXBS', null, sysdate, 'RWALDEN')\n",
      "execute_sql_insert  exec_time: 0.06781673431396484\n",
      "None\n",
      "'136G', 'CVALIOTIS', 10, 4999.99, sysdate, null, null, sysdate, 'RWALDEN'\n",
      "insert into FORAQUS(FORAQUS_QUEUE_ID,FORAQUS_USER_ID_APPR,FORAQUS_QUEUE_LEVEL,FORAQUS_QUEUE_LIMIT,FORAQUS_EFF_DATE,FORAQUS_NCHG_DATE,FORAQUS_TERM_DATE,FORAQUS_ACTIVITY_DATE,FORAQUS_USER_ID) values('136G', 'CVALIOTIS', 10, 4999.99, sysdate, null, null, sysdate, 'RWALDEN')\n",
      "execute_sql_insert  exec_time: 0.0658271312713623\n",
      "None\n",
      "'B136','LACOE AB130 Outreach Support',0,'136136G', null, sysdate, 'RWALDEN'\n",
      "insert into FTVAPPQ(FTVAPPQ_QUEUE_ID, FTVAPPQ_DESCRIPTION, FTVAPPQ_QUEUE_LIMIT, FTVAPPQ_NEXT_QUEUE_ID, FTVAPPQ_APPROVAL_REQ, FTVAPPQ_ACTIVITY_DATE, FTVAPPQ_USER_ID) values('B136','LACOE AB130 Outreach Support',0,'136136G', null, sysdate, 'RWALDEN')\n",
      "execute_sql_insert  exec_time: 0.09674620628356934\n",
      "ORA-12899: value too large for column \"FIMSMGR\".\"FTVAPPQ\".\"FTVAPPQ_NEXT_QUEUE_ID\" (actual: 7, maximum: 4)\n",
      "'B136', 'KJANISZEWSKI', 10, 0, sysdate, null, null, sysdate, 'RWALDEN'\n",
      "insert into FORAQUS(FORAQUS_QUEUE_ID,FORAQUS_USER_ID_APPR,FORAQUS_QUEUE_LEVEL,FORAQUS_QUEUE_LIMIT,FORAQUS_EFF_DATE,FORAQUS_NCHG_DATE,FORAQUS_TERM_DATE,FORAQUS_ACTIVITY_DATE,FORAQUS_USER_ID) values('B136', 'KJANISZEWSKI', 10, 0, sysdate, null, null, sysdate, 'RWALDEN')\n",
      "execute_sql_insert  exec_time: 0.06880855560302734\n",
      "None\n",
      "'B136', 'UGOFF', 10, 0, sysdate, null, null, sysdate, 'RWALDEN'\n",
      "insert into FORAQUS(FORAQUS_QUEUE_ID,FORAQUS_USER_ID_APPR,FORAQUS_QUEUE_LEVEL,FORAQUS_QUEUE_LIMIT,FORAQUS_EFF_DATE,FORAQUS_NCHG_DATE,FORAQUS_TERM_DATE,FORAQUS_ACTIVITY_DATE,FORAQUS_USER_ID) values('B136', 'UGOFF', 10, 0, sysdate, null, null, sysdate, 'RWALDEN')\n",
      "execute_sql_insert  exec_time: 0.06682372093200684\n",
      "None\n",
      "'B136', 'BJESTER1', 10, 0, sysdate, null, null, sysdate, 'RWALDEN'\n",
      "insert into FORAQUS(FORAQUS_QUEUE_ID,FORAQUS_USER_ID_APPR,FORAQUS_QUEUE_LEVEL,FORAQUS_QUEUE_LIMIT,FORAQUS_EFF_DATE,FORAQUS_NCHG_DATE,FORAQUS_TERM_DATE,FORAQUS_ACTIVITY_DATE,FORAQUS_USER_ID) values('B136', 'BJESTER1', 10, 0, sysdate, null, null, sysdate, 'RWALDEN')\n",
      "execute_sql_insert  exec_time: 0.06681990623474121\n",
      "None\n",
      "'B136', 'LNOWAK', 10, 0, sysdate, null, null, sysdate, 'RWALDEN'\n",
      "insert into FORAQUS(FORAQUS_QUEUE_ID,FORAQUS_USER_ID_APPR,FORAQUS_QUEUE_LEVEL,FORAQUS_QUEUE_LIMIT,FORAQUS_EFF_DATE,FORAQUS_NCHG_DATE,FORAQUS_TERM_DATE,FORAQUS_ACTIVITY_DATE,FORAQUS_USER_ID) values('B136', 'LNOWAK', 10, 0, sysdate, null, null, sysdate, 'RWALDEN')\n",
      "execute_sql_insert  exec_time: 0.06685066223144531\n",
      "None\n",
      "'B136', 20, 'DBRG', 'A', '', '', '62719', '', '', sysdate, 'RWALDEN', ''\n",
      "insert into FORAQRC(FORAQRC_QUEUE_ID, FORAQRC_DOC_TYPE, FORAQRC_RULE_GROUP, FORAQRC_COAS_CODE, FORAQRC_FTYP_CODE, FORAQRC_FUND_CODE, FORAQRC_ORGN_CODE, FORAQRC_ATYP_CODE, FORAQRC_ACCT_CODE, FORAQRC_ACTIVITY_DATE, FORAQRC_USER_ID, FORAQRC_PROG_CODE)  values('B136', 20, 'DBRG', 'A', '', '', '62719', '', '', sysdate, 'RWALDEN', '')\n",
      "execute_sql_insert  exec_time: 0.06679272651672363\n",
      "None\n",
      "select  max(to_number(substr(FTVAPPQ_QUEUE_ID,0,3))) from FTVAPPQ where substr(FTVAPPQ_QUEUE_ID,0,1) in ('0','1','2','3','4','5','6','7','8','9')   \n",
      "execute_sql_query  exec_time: 0.03191423416137695\n",
      "'137A','Economic Workforce Development',0,'137B', null, sysdate, 'RWALDEN'\n",
      "insert into FTVAPPQ(FTVAPPQ_QUEUE_ID, FTVAPPQ_DESCRIPTION, FTVAPPQ_QUEUE_LIMIT, FTVAPPQ_NEXT_QUEUE_ID, FTVAPPQ_APPROVAL_REQ, FTVAPPQ_ACTIVITY_DATE, FTVAPPQ_USER_ID) values('137A','Economic Workforce Development',0,'137B', null, sysdate, 'RWALDEN')\n",
      "execute_sql_insert  exec_time: 0.06782007217407227\n",
      "None\n",
      "'137A', 'AMUSIAL1', 10, 0, sysdate, null, null, sysdate, 'RWALDEN'\n",
      "insert into FORAQUS(FORAQUS_QUEUE_ID,FORAQUS_USER_ID_APPR,FORAQUS_QUEUE_LEVEL,FORAQUS_QUEUE_LIMIT,FORAQUS_EFF_DATE,FORAQUS_NCHG_DATE,FORAQUS_TERM_DATE,FORAQUS_ACTIVITY_DATE,FORAQUS_USER_ID) values('137A', 'AMUSIAL1', 10, 0, sysdate, null, null, sysdate, 'RWALDEN')\n",
      "execute_sql_insert  exec_time: 0.06684541702270508\n",
      "None\n",
      "'137A', 'EOBRIEN3', 10, 0, sysdate, null, null, sysdate, 'RWALDEN'\n",
      "insert into FORAQUS(FORAQUS_QUEUE_ID,FORAQUS_USER_ID_APPR,FORAQUS_QUEUE_LEVEL,FORAQUS_QUEUE_LIMIT,FORAQUS_EFF_DATE,FORAQUS_NCHG_DATE,FORAQUS_TERM_DATE,FORAQUS_ACTIVITY_DATE,FORAQUS_USER_ID) values('137A', 'EOBRIEN3', 10, 0, sysdate, null, null, sysdate, 'RWALDEN')\n",
      "execute_sql_insert  exec_time: 0.06579923629760742\n",
      "None\n",
      "'137A', 1, 'REQG', 'A', '', '', '62408', '', '', sysdate, 'RWALDEN', ''\n",
      "'137A', 2, 'CORG', 'A', '', '', '62408', '', '', sysdate, 'RWALDEN', ''\n",
      "insert into FORAQRC(FORAQRC_QUEUE_ID, FORAQRC_DOC_TYPE, FORAQRC_RULE_GROUP, FORAQRC_COAS_CODE, FORAQRC_FTYP_CODE, FORAQRC_FUND_CODE, FORAQRC_ORGN_CODE, FORAQRC_ATYP_CODE, FORAQRC_ACCT_CODE, FORAQRC_ACTIVITY_DATE, FORAQRC_USER_ID, FORAQRC_PROG_CODE)  values('137A', 1, 'REQG', 'A', '', '', '62408', '', '', sysdate, 'RWALDEN', '')\n",
      "execute_sql_insert  exec_time: 0.0678262710571289\n",
      "None\n",
      "insert into FORAQRC(FORAQRC_QUEUE_ID, FORAQRC_DOC_TYPE, FORAQRC_RULE_GROUP, FORAQRC_COAS_CODE, FORAQRC_FTYP_CODE, FORAQRC_FUND_CODE, FORAQRC_ORGN_CODE, FORAQRC_ATYP_CODE, FORAQRC_ACCT_CODE, FORAQRC_ACTIVITY_DATE, FORAQRC_USER_ID, FORAQRC_PROG_CODE)  values('137A', 2, 'CORG', 'A', '', '', '62408', '', '', sysdate, 'RWALDEN', '')\n",
      "execute_sql_insert  exec_time: 0.06584858894348145\n",
      "None\n",
      "'137B','Economic Workforce Development',0.01,'137G', null, sysdate, 'RWALDEN'\n",
      "insert into FTVAPPQ(FTVAPPQ_QUEUE_ID, FTVAPPQ_DESCRIPTION, FTVAPPQ_QUEUE_LIMIT, FTVAPPQ_NEXT_QUEUE_ID, FTVAPPQ_APPROVAL_REQ, FTVAPPQ_ACTIVITY_DATE, FTVAPPQ_USER_ID) values('137B','Economic Workforce Development',0.01,'137G', null, sysdate, 'RWALDEN')\n",
      "execute_sql_insert  exec_time: 0.06682491302490234\n",
      "None\n",
      "'137B', 'KJANISZEWSKI', 10, 0.01, sysdate, null, null, sysdate, 'RWALDEN'\n",
      "insert into FORAQUS(FORAQUS_QUEUE_ID,FORAQUS_USER_ID_APPR,FORAQUS_QUEUE_LEVEL,FORAQUS_QUEUE_LIMIT,FORAQUS_EFF_DATE,FORAQUS_NCHG_DATE,FORAQUS_TERM_DATE,FORAQUS_ACTIVITY_DATE,FORAQUS_USER_ID) values('137B', 'KJANISZEWSKI', 10, 0.01, sysdate, null, null, sysdate, 'RWALDEN')\n",
      "execute_sql_insert  exec_time: 0.06679701805114746\n",
      "None\n",
      "'137B', 'UGOFF', 10, 0.01, sysdate, null, null, sysdate, 'RWALDEN'\n",
      "insert into FORAQUS(FORAQUS_QUEUE_ID,FORAQUS_USER_ID_APPR,FORAQUS_QUEUE_LEVEL,FORAQUS_QUEUE_LIMIT,FORAQUS_EFF_DATE,FORAQUS_NCHG_DATE,FORAQUS_TERM_DATE,FORAQUS_ACTIVITY_DATE,FORAQUS_USER_ID) values('137B', 'UGOFF', 10, 0.01, sysdate, null, null, sysdate, 'RWALDEN')\n",
      "execute_sql_insert  exec_time: 0.06781673431396484\n",
      "None\n",
      "'137B', 'BJESTER1', 10, 0.01, sysdate, null, null, sysdate, 'RWALDEN'\n",
      "insert into FORAQUS(FORAQUS_QUEUE_ID,FORAQUS_USER_ID_APPR,FORAQUS_QUEUE_LEVEL,FORAQUS_QUEUE_LIMIT,FORAQUS_EFF_DATE,FORAQUS_NCHG_DATE,FORAQUS_TERM_DATE,FORAQUS_ACTIVITY_DATE,FORAQUS_USER_ID) values('137B', 'BJESTER1', 10, 0.01, sysdate, null, null, sysdate, 'RWALDEN')\n",
      "execute_sql_insert  exec_time: 0.0688164234161377\n",
      "None\n",
      "'137B', 'LNOWAK', 10, 0.01, sysdate, null, null, sysdate, 'RWALDEN'\n",
      "insert into FORAQUS(FORAQUS_QUEUE_ID,FORAQUS_USER_ID_APPR,FORAQUS_QUEUE_LEVEL,FORAQUS_QUEUE_LIMIT,FORAQUS_EFF_DATE,FORAQUS_NCHG_DATE,FORAQUS_TERM_DATE,FORAQUS_ACTIVITY_DATE,FORAQUS_USER_ID) values('137B', 'LNOWAK', 10, 0.01, sysdate, null, null, sysdate, 'RWALDEN')\n",
      "execute_sql_insert  exec_time: 0.06685948371887207\n",
      "None\n",
      "'137G','Economic Workforce Development',4999.99,'EXBS', null, sysdate, 'RWALDEN'\n",
      "insert into FTVAPPQ(FTVAPPQ_QUEUE_ID, FTVAPPQ_DESCRIPTION, FTVAPPQ_QUEUE_LIMIT, FTVAPPQ_NEXT_QUEUE_ID, FTVAPPQ_APPROVAL_REQ, FTVAPPQ_ACTIVITY_DATE, FTVAPPQ_USER_ID) values('137G','Economic Workforce Development',4999.99,'EXBS', null, sysdate, 'RWALDEN')\n",
      "execute_sql_insert  exec_time: 0.06781744956970215\n",
      "None\n",
      "'137G', 'CHART8', 10, 4999.99, sysdate, null, null, sysdate, 'RWALDEN'\n",
      "insert into FORAQUS(FORAQUS_QUEUE_ID,FORAQUS_USER_ID_APPR,FORAQUS_QUEUE_LEVEL,FORAQUS_QUEUE_LIMIT,FORAQUS_EFF_DATE,FORAQUS_NCHG_DATE,FORAQUS_TERM_DATE,FORAQUS_ACTIVITY_DATE,FORAQUS_USER_ID) values('137G', 'CHART8', 10, 4999.99, sysdate, null, null, sysdate, 'RWALDEN')\n",
      "execute_sql_insert  exec_time: 0.06678199768066406\n",
      "None\n",
      "'B137','Economic Workforce Development',0,'137137G', null, sysdate, 'RWALDEN'\n",
      "insert into FTVAPPQ(FTVAPPQ_QUEUE_ID, FTVAPPQ_DESCRIPTION, FTVAPPQ_QUEUE_LIMIT, FTVAPPQ_NEXT_QUEUE_ID, FTVAPPQ_APPROVAL_REQ, FTVAPPQ_ACTIVITY_DATE, FTVAPPQ_USER_ID) values('B137','Economic Workforce Development',0,'137137G', null, sysdate, 'RWALDEN')\n",
      "execute_sql_insert  exec_time: 0.09577512741088867\n",
      "ORA-12899: value too large for column \"FIMSMGR\".\"FTVAPPQ\".\"FTVAPPQ_NEXT_QUEUE_ID\" (actual: 7, maximum: 4)\n",
      "'B137', 'KJANISZEWSKI', 10, 0, sysdate, null, null, sysdate, 'RWALDEN'\n",
      "insert into FORAQUS(FORAQUS_QUEUE_ID,FORAQUS_USER_ID_APPR,FORAQUS_QUEUE_LEVEL,FORAQUS_QUEUE_LIMIT,FORAQUS_EFF_DATE,FORAQUS_NCHG_DATE,FORAQUS_TERM_DATE,FORAQUS_ACTIVITY_DATE,FORAQUS_USER_ID) values('B137', 'KJANISZEWSKI', 10, 0, sysdate, null, null, sysdate, 'RWALDEN')\n",
      "execute_sql_insert  exec_time: 0.06879067420959473\n",
      "None\n",
      "'B137', 'UGOFF', 10, 0, sysdate, null, null, sysdate, 'RWALDEN'\n",
      "insert into FORAQUS(FORAQUS_QUEUE_ID,FORAQUS_USER_ID_APPR,FORAQUS_QUEUE_LEVEL,FORAQUS_QUEUE_LIMIT,FORAQUS_EFF_DATE,FORAQUS_NCHG_DATE,FORAQUS_TERM_DATE,FORAQUS_ACTIVITY_DATE,FORAQUS_USER_ID) values('B137', 'UGOFF', 10, 0, sysdate, null, null, sysdate, 'RWALDEN')\n",
      "execute_sql_insert  exec_time: 0.06781506538391113\n",
      "None\n",
      "'B137', 'BJESTER1', 10, 0, sysdate, null, null, sysdate, 'RWALDEN'\n",
      "insert into FORAQUS(FORAQUS_QUEUE_ID,FORAQUS_USER_ID_APPR,FORAQUS_QUEUE_LEVEL,FORAQUS_QUEUE_LIMIT,FORAQUS_EFF_DATE,FORAQUS_NCHG_DATE,FORAQUS_TERM_DATE,FORAQUS_ACTIVITY_DATE,FORAQUS_USER_ID) values('B137', 'BJESTER1', 10, 0, sysdate, null, null, sysdate, 'RWALDEN')\n",
      "execute_sql_insert  exec_time: 0.06685733795166016\n",
      "None\n",
      "'B137', 'LNOWAK', 10, 0, sysdate, null, null, sysdate, 'RWALDEN'\n",
      "insert into FORAQUS(FORAQUS_QUEUE_ID,FORAQUS_USER_ID_APPR,FORAQUS_QUEUE_LEVEL,FORAQUS_QUEUE_LIMIT,FORAQUS_EFF_DATE,FORAQUS_NCHG_DATE,FORAQUS_TERM_DATE,FORAQUS_ACTIVITY_DATE,FORAQUS_USER_ID) values('B137', 'LNOWAK', 10, 0, sysdate, null, null, sysdate, 'RWALDEN')\n",
      "execute_sql_insert  exec_time: 0.06681585311889648\n",
      "None\n",
      "'B137', 20, 'DBRG', 'A', '', '', '62408', '', '', sysdate, 'RWALDEN', ''\n",
      "insert into FORAQRC(FORAQRC_QUEUE_ID, FORAQRC_DOC_TYPE, FORAQRC_RULE_GROUP, FORAQRC_COAS_CODE, FORAQRC_FTYP_CODE, FORAQRC_FUND_CODE, FORAQRC_ORGN_CODE, FORAQRC_ATYP_CODE, FORAQRC_ACCT_CODE, FORAQRC_ACTIVITY_DATE, FORAQRC_USER_ID, FORAQRC_PROG_CODE)  values('B137', 20, 'DBRG', 'A', '', '', '62408', '', '', sysdate, 'RWALDEN', '')\n",
      "execute_sql_insert  exec_time: 0.0687859058380127\n",
      "None\n",
      "select  FORAQUS_QUEUE_ID,FORAQUS_USER_ID_APPR,FORAQUS_QUEUE_LEVEL,FORAQUS_QUEUE_LIMIT,FORAQUS_EFF_DATE,\n",
      "        FORAQUS_NCHG_DATE,FORAQUS_TERM_DATE from FORAQUS where FORAQUS_USER_ID_APPR = 'NVALSAMIDES' and FORAQUS_NCHG_DATE is null and FORAQUS_TERM_DATE is null   \n",
      "execute_sql_query  exec_time: 0.03390979766845703\n",
      "NVALSAMIDES []\n",
      "select  FORAQUS_QUEUE_ID,FORAQUS_USER_ID_APPR,FORAQUS_QUEUE_LEVEL,FORAQUS_QUEUE_LIMIT,FORAQUS_EFF_DATE,\n",
      "        FORAQUS_NCHG_DATE,FORAQUS_TERM_DATE from FORAQUS where FORAQUS_USER_ID_APPR = 'NVALSAMIDES' and FORAQUS_NCHG_DATE is null and FORAQUS_TERM_DATE is null   \n",
      "execute_sql_query  exec_time: 0.032903194427490234\n",
      "select  FORAQUS_QUEUE_ID,FORAQUS_USER_ID_APPR,FORAQUS_QUEUE_LEVEL,FORAQUS_QUEUE_LIMIT,FORAQUS_EFF_DATE,\n",
      "        FORAQUS_NCHG_DATE,FORAQUS_TERM_DATE from FORAQUS where FORAQUS_USER_ID_APPR = 'NVALSAMIDES' and FORAQUS_NCHG_DATE is null and FORAQUS_TERM_DATE is null   \n",
      "execute_sql_query  exec_time: 0.03291440010070801\n",
      "NVALSAMIDES []\n"
     ]
    },
    {
     "ename": "NameError",
     "evalue": "name 'replace_approver' is not defined",
     "output_type": "error",
     "traceback": [
      "\u001B[1;31m---------------------------------------------------------------------------\u001B[0m",
      "\u001B[1;31mNameError\u001B[0m                                 Traceback (most recent call last)",
      "Input \u001B[1;32mIn [6]\u001B[0m, in \u001B[0;36m<cell line: 35>\u001B[1;34m()\u001B[0m\n\u001B[0;32m     27\u001B[0m \u001B[38;5;28mprint\u001B[39m(x,y)\n\u001B[0;32m     29\u001B[0m \u001B[38;5;66;03m# revise our approvers for Human Resources org 11030\u001B[39;00m\n\u001B[0;32m     30\u001B[0m \u001B[38;5;66;03m# Harmony will remain on all of the above.\u001B[39;00m\n\u001B[0;32m     31\u001B[0m \u001B[38;5;66;03m# Add James Firth (jfirth@avc.edu) to org 11030 as an approver\u001B[39;00m\n\u001B[0;32m     32\u001B[0m \u001B[38;5;66;03m# Remove Debby Hackenberg (dclarkhackenberg@avc.edu) from org 11030\u001B[39;00m\n\u001B[0;32m     33\u001B[0m \u001B[38;5;66;03m# Debby Hackenberg will need to be assigned and the approver for her org 11035\u001B[39;00m\n\u001B[1;32m---> 35\u001B[0m \u001B[43mreplace_approver\u001B[49m(\u001B[38;5;124m'\u001B[39m\u001B[38;5;124mDCLARKHACKENBERG\u001B[39m\u001B[38;5;124m'\u001B[39m, \u001B[38;5;124m'\u001B[39m\u001B[38;5;124mJFIRTH\u001B[39m\u001B[38;5;124m'\u001B[39m)\n\u001B[0;32m     38\u001B[0m insert_into_foraqus(\u001B[38;5;124m\"\"\"\u001B[39m\u001B[38;5;124m'\u001B[39m\u001B[38;5;124m137E\u001B[39m\u001B[38;5;124m'\u001B[39m\u001B[38;5;124m, \u001B[39m\u001B[38;5;124m'\u001B[39m\u001B[38;5;124mDCLARKHACKENBERG\u001B[39m\u001B[38;5;124m'\u001B[39m\u001B[38;5;124m, 10, 999.99, sysdate, null, null, sysdate, \u001B[39m\u001B[38;5;124m'\u001B[39m\u001B[38;5;124mRWALDEN\u001B[39m\u001B[38;5;124m'\u001B[39m\u001B[38;5;124m \u001B[39m\u001B[38;5;124m\"\"\"\u001B[39m)\n",
      "\u001B[1;31mNameError\u001B[0m: name 'replace_approver' is not defined"
     ]
    }
   ],
   "source": [
    "# Current work to do\n",
    "queue_chain_number = zxc.get_next_queue_number()\n",
    "queue_description = 'Kaiser Sim Collaboration'\n",
    "queues_to_build = [('A','B',0,['AMUSIAL1','EOBRIEN3']),('B','G',.01,['KJANISZEWSKI','UGOFF', 'BJESTER1', 'LNOWAK']),('G','VPAS',.05,['SMILLER66'])]\n",
    "orgns_to_route = ['62404']\n",
    "zxc.build_a_new_queue_chain(queue_chain_number, queue_description, queues_to_build, orgns_to_route)\n",
    "\n",
    "queue_chain_number = zxc.get_next_queue_number()\n",
    "queue_description = 'LACOE AB130 Outreach Support'\n",
    "queues_to_build = [('A','B',0,['AMUSIAL1','EOBRIEN3']),('B','G',.01,['KJANISZEWSKI','UGOFF', 'BJESTER1', 'LNOWAK']),('G','EXBS',4999.99,['CVALIOTIS'])]\n",
    "orgns_to_route = ['62719']\n",
    "zxc.build_a_new_queue_chain(queue_chain_number, queue_description, queues_to_build, orgns_to_route)\n",
    "\n",
    "queue_chain_number = zxc.get_next_queue_number()\n",
    "queue_description = 'Economic Workforce Development'\n",
    "queues_to_build = [('A','B',0,['AMUSIAL1','EOBRIEN3']),('B','G',.01,['KJANISZEWSKI','UGOFF', 'BJESTER1', 'LNOWAK']),('G','EXBS',4999.99,['CHART8'])]\n",
    "orgns_to_route = ['62408']\n",
    "zxc.build_a_new_queue_chain(queue_chain_number, queue_description, queues_to_build, orgns_to_route)\n",
    "\n",
    "# term nick\n",
    "x,y = zxc.get_approvers_queues('NVALSAMIDES')\n",
    "print(x,y)\n",
    "\n",
    "zxc.term_approver('NVALSAMIDES', '28-JUL-22', from_queues = ())\n",
    "\n",
    "x,y = zxc.get_approvers_queues('NVALSAMIDES')\n",
    "print(x,y)\n",
    "\n",
    "# revise our approvers for Human Resources org 11030\n",
    "# Harmony will remain on all of the above.\n",
    "# Add James Firth (jfirth@avc.edu) to org 11030 as an approver\n",
    "# Remove Debby Hackenberg (dclarkhackenberg@avc.edu) from org 11030\n",
    "# Debby Hackenberg will need to be assigned and the approver for her org 11035\n",
    "\n",
    "replace_approver('DCLARKHACKENBERG', 'JFIRTH')\n",
    "\n",
    "\n",
    "insert_into_foraqus(\"\"\"'137E', 'DCLARKHACKENBERG', 10, 999.99, sysdate, null, null, sysdate, 'RWALDEN' \"\"\")\n"
   ],
   "metadata": {
    "collapsed": false,
    "pycharm": {
     "name": "#%%\n"
    }
   }
  },
  {
   "cell_type": "code",
   "execution_count": null,
   "outputs": [],
   "source": [
    "zxc.replace_approver('DCLARKHACKENBERG', 'JFIRTH')"
   ],
   "metadata": {
    "collapsed": false,
    "pycharm": {
     "name": "#%%\n"
    }
   }
  },
  {
   "cell_type": "code",
   "execution_count": null,
   "outputs": [],
   "source": [
    "zxc.replace_approver('JFIRTH','DCLARKHACKENBERG', '040C')"
   ],
   "metadata": {
    "collapsed": false,
    "pycharm": {
     "name": "#%%\n"
    }
   }
  },
  {
   "cell_type": "code",
   "execution_count": null,
   "outputs": [],
   "source": [
    "zxc.get_next_queue_number()\n",
    "x,y = zxc.get_approvers_queues('DCLARKHACKENBERG') #('NVALSAMIDES')\n",
    "print(x,y)"
   ],
   "metadata": {
    "collapsed": false,
    "pycharm": {
     "name": "#%%\n"
    }
   }
  },
  {
   "cell_type": "code",
   "execution_count": null,
   "outputs": [],
   "source": [
    "# Term Approver date format '28-JUL-22' == July 28 2022\n",
    "# EX: from_queues = ('000A','B000','000B')\n",
    "def term_approver(approver_to_term, term_date, from_queues = ()):\n",
    "    if len(from_queues) < 1:\n",
    "        x = zxc.query_foraqus(my_where=f\"FORAQUS_USER_ID_APPR = '{approver_to_term}' and FORAQUS_NCHG_DATE is null and FORAQUS_TERM_DATE is null\")\n",
    "    elif type(from_queues) == str:\n",
    "        x = zxc.query_foraqus(my_where=f\"FORAQUS_USER_ID_APPR = '{approver_to_term}' and FORAQUS_NCHG_DATE is null and FORAQUS_TERM_DATE is null and FORAQUS_QUEUE_ID in ('{from_queues}')\")\n",
    "    else:\n",
    "        x = zxc.query_foraqus(my_where=f\"FORAQUS_USER_ID_APPR = '{approver_to_term}' and FORAQUS_NCHG_DATE is null and FORAQUS_TERM_DATE is null and FORAQUS_QUEUE_ID in {from_queues}\")\n",
    "    #print(x)\n",
    "    for y in x:\n",
    "        print(y[0], y[1], y[2], y[3], y[4], y[5], y[6])\n",
    "        # update next change date in current active record\n",
    "        my_update = 'FORAQUS'\n",
    "        my_set = f\"FORAQUS_NCHG_DATE = '{term_date}\"\n",
    "        my_where = f\"FORAQUS_USER_ID_APPR = '{approver_to_term}' and FORAQUS_NCHG_DATE is null and FORAQUS_TERM_DATE is null and FORAQUS_QUEUE_ID = '{y[0]}'\"\n",
    "        zxc.db_update(my_update, my_set, my_where)\n",
    "        # insert term record\n",
    "        insert_term_record = f\"\"\"'{y[0]}', '{y[1]}', {y[2]}, {y[3]}, sysdate, null, sysdate, sysdate, 'RWALDEN' \"\"\"\n",
    "        zxc.insert_into_foraqus(insert_term_record)"
   ],
   "metadata": {
    "collapsed": false,
    "pycharm": {
     "name": "#%%\n"
    }
   }
  },
  {
   "cell_type": "code",
   "execution_count": null,
   "outputs": [],
   "source": [
    "#zxc.term_approver('AMUSIAL1', '28-JUL-22')\n",
    "#zxc.term_approver('WDUMAS1', '28-JUL-22', '')\n",
    "zxc.term_approver('AMUSIAL1', '28-JUL-22', from_queues = ('009A'))\n",
    "#zxc.term_approver('AMUSIAL1', '28-JUL-22', from_queues = ('007A','008A'))"
   ],
   "metadata": {
    "collapsed": false,
    "pycharm": {
     "name": "#%%\n"
    }
   }
  },
  {
   "cell_type": "code",
   "execution_count": null,
   "outputs": [],
   "source": [
    "def get_next_queue_number():\n",
    "    _select = \"max(to_number(substr(FTVAPPQ_QUEUE_ID,0,3)))\"\n",
    "    _from = \"FTVAPPQ\"\n",
    "    _where = \"substr(FTVAPPQ_QUEUE_ID,0,1) in ('0','1','2','3','4','5','6','7','8','9')\"\n",
    "    x = zxc.db_query(_select,_from,_where,_order_by = '',_group_by = '',_max_records_returned = '')\n",
    "    print('current max queue num:',x[0][0], 'next queue to use:', (x[0][0]+1))\n",
    "    return (x[0][0]+1)\n",
    "\n",
    "get_next_queue_number()"
   ],
   "metadata": {
    "collapsed": false,
    "pycharm": {
     "name": "#%%\n"
    }
   }
  },
  {
   "cell_type": "code",
   "execution_count": null,
   "outputs": [],
   "source": [
    "def get_approvers_queues(approver_current_queue_list):\n",
    "    x = zxc.query_foraqus(my_where=f\"FORAQUS_USER_ID_APPR = '{approver_current_queue_list}' and FORAQUS_NCHG_DATE is null and FORAQUS_TERM_DATE is null\")\n",
    "    current_approver_queues = [y[0] for y in x]\n",
    "    return approver_current_queue_list, current_approver_queues\n",
    "\n",
    "x,y = get_approvers_queues('RWALDEN') #('NVALSAMIDES')\n",
    "print(x,y)"
   ],
   "metadata": {
    "collapsed": false,
    "pycharm": {
     "name": "#%%\n"
    }
   }
  },
  {
   "cell_type": "code",
   "execution_count": null,
   "outputs": [],
   "source": [
    "# Set Proxy date format '28-JUL-22' == July 28 2022\n",
    "def set_proxy_approver(approver_to_proxy,proxy_approver,date_from,date_to):\n",
    "    x = zxc.query_foraqus(my_where=f\"FORAQUS_USER_ID_APPR = '{approver_to_proxy}' and FORAQUS_NCHG_DATE is null and FORAQUS_TERM_DATE is null\")\n",
    "    #print(x)\n",
    "    for y in x:\n",
    "        insert_term_record = f\"\"\"'{y[0]}', '{proxy_approver}', {y[2]}, {y[3]}, '{date_from}', null, '{date_to}', sysdate, 'RWALDEN' \"\"\"\n",
    "        zxc.insert_into_foraqus(insert_term_record)\n",
    "\n",
    "set_proxy_approver(approver_to_proxy = 'EKNUDSON',proxy_approver = 'RWALDEN',date_from = '22-JUL-22',date_to = '28-JUL-22')"
   ],
   "metadata": {
    "collapsed": false,
    "pycharm": {
     "name": "#%%\n"
    }
   }
  },
  {
   "cell_type": "code",
   "execution_count": null,
   "outputs": [],
   "source": [
    "# Replace Approver in Queues\n",
    "def replace_approver(approver_to_place, new_approver):\n",
    "    x = zxc.query_foraqus(my_where=f\"FORAQUS_USER_ID_APPR = '{approver_to_place}' and FORAQUS_NCHG_DATE is null and FORAQUS_TERM_DATE is null\")\n",
    "    #print(x)\n",
    "    for y in x:\n",
    "        print(y[0], y[1], y[2], y[3], y[4], y[5], y[6])\n",
    "        my_update = 'FORAQUS'\n",
    "        my_set = 'FORAQUS_NCHG_DATE = sysdate'\n",
    "        my_where = f\"FORAQUS_USER_ID_APPR = '{approver_to_place}' and FORAQUS_NCHG_DATE is null and FORAQUS_TERM_DATE is null and FORAQUS_QUEUE_ID = '{y[0]}'\"\n",
    "        zxc.db_update(my_update, my_set, my_where)\n",
    "        # insert term record\n",
    "        insert_term_record = f\"\"\"'{y[0]}', '{y[1]}', {y[2]}, {y[3]}, sysdate, null, sysdate, sysdate, 'RWALDEN' \"\"\"\n",
    "        zxc.insert_into_foraqus(insert_term_record)\n",
    "        # insert new approver\n",
    "        insert_term_record = f\"\"\"'{y[0]}', '{new_approver}', {y[2]}, {y[3]}, sysdate, null, null, sysdate, 'RWALDEN' \"\"\"\n",
    "        zxc.insert_into_foraqus(insert_term_record)\n",
    "        break\n",
    "\n",
    "replace_approver(approver_to_place = 'BJESTER1', new_approver = 'RWALDEN')"
   ],
   "metadata": {
    "collapsed": false,
    "pycharm": {
     "name": "#%%\n"
    }
   }
  },
  {
   "cell_type": "code",
   "execution_count": null,
   "outputs": [],
   "source": [
    "x = zxc.query_foraqus(my_where=\"FORAQUS_USER_ID_APPR = 'DCLARKHACKENBERG' and FORAQUS_NCHG_DATE is null and FORAQUS_TERM_DATE is null\", my_order_by=\"FORAQUS_QUEUE_ID\")\n",
    "#print(x)\n",
    "for y in x:\n",
    "    print(y[0], y[1], y[2], y[3], y[4], y[5], y[6])"
   ],
   "metadata": {
    "collapsed": false,
    "pycharm": {
     "name": "#%%\n"
    }
   }
  },
  {
   "cell_type": "code",
   "execution_count": null,
   "outputs": [],
   "source": [
    "x = zxc.query_foraqus(my_where=\"FORAQUS_USER_ID_APPR = 'BJESTER1'\", my_order_by=\"FORAQUS_QUEUE_ID\") # and FORAQUS_NCHG_DATE is null and FORAQUS_TERM_DATE is null\")\n",
    "#print(x)\n",
    "for y in x:\n",
    "    print(y[0], y[1], y[2], y[3], y[4], y[5], y[6])"
   ],
   "metadata": {
    "collapsed": false,
    "pycharm": {
     "name": "#%%\n"
    }
   }
  },
  {
   "cell_type": "code",
   "execution_count": null,
   "outputs": [],
   "source": [
    "print(sysdate)"
   ],
   "metadata": {
    "collapsed": false,
    "pycharm": {
     "name": "#%%\n"
    }
   }
  },
  {
   "cell_type": "markdown",
   "source": [
    "# Build a Queue"
   ],
   "metadata": {
    "collapsed": false,
    "pycharm": {
     "name": "#%% md\n"
    }
   }
  },
  {
   "cell_type": "code",
   "execution_count": null,
   "outputs": [],
   "source": [
    "\n",
    "# ################################\n",
    "queue_chain_number = 998\n",
    "queue_description = 'Test Queue Desc'\n",
    "queues_to_build = [('A','B',0,['AMUSIAL1','EOBRIEN3']),('B','G',.01,['KJANISZEWSKI','UGOFF', 'BJESTER1', 'LNOWAK']),('G','EXBS',4999.99,['SMILLER66'])]\n",
    "orgns_to_route = ['12345','67890','19283']\n",
    "zxc.build_a_new_queue_chain(queue_chain_number, queue_description, queues_to_build, orgns_to_route)"
   ],
   "metadata": {
    "collapsed": false,
    "pycharm": {
     "name": "#%%\n"
    }
   }
  },
  {
   "cell_type": "code",
   "execution_count": null,
   "outputs": [],
   "source": [
    "print(zxc.query_ftvappq(\"FTVAPPQ_QUEUE_ID in ('998A','998B','998G','B998')\"))\n",
    "print(zxc.query_foraqus(\"FORAQUS_QUEUE_ID in ('998A','998B','998G','B998')\"))\n",
    "print(zxc.query_foraqrc(\"FORAQRC_QUEUE_ID in ('998A','998B','998G','B998')\"))"
   ],
   "metadata": {
    "collapsed": false,
    "pycharm": {
     "name": "#%%\n"
    }
   }
  },
  {
   "cell_type": "code",
   "execution_count": null,
   "outputs": [],
   "source": [
    "print(zxc.db_delete('FTVAPPQ', \"FTVAPPQ_QUEUE_ID in ('998A','998B','998G','B998')\"))\n",
    "print(zxc.db_delete('FORAQUS', \"FORAQUS_QUEUE_ID in ('998A','998B','998G','B998')\"))\n",
    "print(zxc.db_delete('FORAQRC', \"FORAQRC_QUEUE_ID in ('998A','998B','998G','B998')\"))"
   ],
   "metadata": {
    "collapsed": false,
    "pycharm": {
     "name": "#%%\n"
    }
   }
  },
  {
   "cell_type": "code",
   "execution_count": null,
   "outputs": [],
   "source": [],
   "metadata": {
    "collapsed": false,
    "pycharm": {
     "name": "#%%\n"
    }
   }
  },
  {
   "cell_type": "code",
   "execution_count": null,
   "outputs": [],
   "source": [],
   "metadata": {
    "collapsed": false,
    "pycharm": {
     "name": "#%%\n"
    }
   }
  },
  {
   "cell_type": "markdown",
   "source": [
    "# Build Test Queue 999"
   ],
   "metadata": {
    "collapsed": false,
    "pycharm": {
     "name": "#%% md\n"
    }
   }
  },
  {
   "cell_type": "code",
   "execution_count": null,
   "outputs": [],
   "source": [
    "def build_a_new_queue_chain(queue_chain_number,queue_description,queues_to_build,orgns_to_route):\n",
    "    # add budget queue Bxxx to queues_to_build for processing\n",
    "    budget_queue = ('budget', str(queue_chain_number)+queues_to_build[2][0], 0, ['KJANISZEWSKI','UGOFF', 'BJESTER1', 'LNOWAK'])\n",
    "    queues_to_build.append(budget_queue)\n",
    "\n",
    "    # build each queue in queue chain\n",
    "    for que in queues_to_build:\n",
    "        # build the queue\n",
    "        the_que = str(queue_chain_number)+que[0] if  que[0] != 'budget' else 'B'+str(queue_chain_number)\n",
    "        exit_que = (que[1] if que[1] in ['VPAS','EXBS','PRES'] else str(queue_chain_number)+que[1])\n",
    "        build_queue = f\"\"\"'{the_que}','{queue_description}',{que[2]},'{exit_que}', null, sysdate, 'RWALDEN'\"\"\"\n",
    "        print(build_queue)\n",
    "        zxc.insert_into_ftvappq(build_queue)\n",
    "\n",
    "\n",
    "        # add approvers\n",
    "        for approver in que[3]:\n",
    "            insert_approvers = f\"\"\"'{the_que}', '{approver}', 10, {que[2]}, sysdate, null, null, sysdate, 'RWALDEN'\"\"\"\n",
    "            print(insert_approvers)\n",
    "            zxc.insert_into_foraqus(insert_approvers)\n",
    "\n",
    "\n",
    "        # route orgns to Accounting queue in queue chain\n",
    "        if que[0] == 'A':\n",
    "            for orgn in orgns_to_route:\n",
    "                req_route_orgn = f\"\"\"'{the_que}', 1, 'REQG', 'A', '', '', '{orgn}', '', '', sysdate, 'RWALDEN', ''\"\"\"\n",
    "                po_route_orgn = f\"\"\"'{the_que}', 2, 'CORG', 'A', '', '', '{orgn}', '', '', sysdate, 'RWALDEN', ''\"\"\"\n",
    "                print(req_route_orgn)\n",
    "                print(po_route_orgn)\n",
    "                zxc.insert_into_foraqrc(req_route_orgn)\n",
    "                zxc.insert_into_foraqrc(po_route_orgn)\n",
    "\n",
    "\n",
    "        # route orgns to Budget queue in queue chain\n",
    "        if que[0] == 'budget':\n",
    "            for orgn in orgns_to_route:\n",
    "                jv_route_orgn = f\"\"\"'{the_que}', 20, 'DBRG', 'A', '', '', '{orgn}', '', '', sysdate, 'RWALDEN', ''\"\"\"\n",
    "                print(jv_route_orgn)\n",
    "                zxc.insert_into_foraqrc(jv_route_orgn)\n",
    "# ################################\n",
    "queue_chain_number = 998\n",
    "queue_description = 'Test Queue Desc'\n",
    "queues_to_build = [('A','B',0,['AMUSIAL1','EOBRIEN3']),('B','G',.01,['KJANISZEWSKI','UGOFF', 'BJESTER1', 'LNOWAK']),('G','EXBS',4999.99,['SMILLER66'])]\n",
    "orgns_to_route = ['12345','67890','19283']\n",
    "build_a_new_queue_chain(queue_chain_number, queue_description, queues_to_build, orgns_to_route)"
   ],
   "metadata": {
    "collapsed": false,
    "pycharm": {
     "name": "#%%\n"
    }
   }
  },
  {
   "cell_type": "code",
   "execution_count": null,
   "outputs": [],
   "source": [
    "print(zxc.query_ftvappq(\"FTVAPPQ_QUEUE_ID in ('999A','999B','999G','B999')\"))\n",
    "print(zxc.query_foraqus(\"FORAQUS_QUEUE_ID in ('999A','999B','999G','B999')\"))\n",
    "print(zxc.query_foraqrc(\"FORAQRC_QUEUE_ID in ('999A','999B','999G','B999')\"))"
   ],
   "metadata": {
    "collapsed": false,
    "pycharm": {
     "name": "#%%\n"
    }
   }
  },
  {
   "cell_type": "code",
   "execution_count": null,
   "outputs": [],
   "source": [
    "print(zxc.insert_into_ftvappq(\"\"\"'999A', '999-Test Orgn- Test Que', 0, '999B', null, sysdate, 'RWALDEN' \"\"\"))\n",
    "print(zxc.insert_into_ftvappq(\"\"\"'999B', '999-Test Orgn- Test Que', 100.01, '999G', null, sysdate, 'RWALDEN' \"\"\"))\n",
    "print(zxc.insert_into_ftvappq(\"\"\"'999G', '999-Test Orgn- Test Que', 1000.01, 'EXBS', null, sysdate, 'RWALDEN' \"\"\"))\n",
    "print(zxc.insert_into_ftvappq(\"\"\"'B999', '999-Test Orgn- Test Que', 10000.01, '999G', null, sysdate, 'RWALDEN' \"\"\"))\n",
    "\n",
    "print(zxc.query_ftvappq(\"FTVAPPQ_QUEUE_ID in ('999A','999B','999G','B999')\"))"
   ],
   "metadata": {
    "collapsed": false,
    "pycharm": {
     "name": "#%%\n"
    }
   }
  },
  {
   "cell_type": "code",
   "execution_count": null,
   "outputs": [],
   "source": [
    "print(zxc.insert_into_foraqus(\"\"\"'999A', 'RWALDEN', 10, 0, sysdate, null, null, sysdate, 'RWALDEN' \"\"\"))\n",
    "print(zxc.insert_into_foraqus(\"\"\"'999B', 'RWALDEN', 10, 100.01, sysdate, null, null, sysdate, 'RWALDEN' \"\"\"))\n",
    "print(zxc.insert_into_foraqus(\"\"\"'999G', 'RWALDEN', 10, 1000.02, sysdate, null, null, sysdate, 'RWALDEN' \"\"\"))\n",
    "print(zxc.insert_into_foraqus(\"\"\"'B999', 'RWALDEN', 10, 10000.03, sysdate, null, null, sysdate, 'RWALDEN' \"\"\"))\n",
    "\n",
    "print(zxc.query_foraqus(\"FORAQUS_QUEUE_ID in ('999A','999B','999G','B999')\"))"
   ],
   "metadata": {
    "collapsed": false,
    "pycharm": {
     "name": "#%%\n"
    }
   }
  },
  {
   "cell_type": "code",
   "execution_count": null,
   "outputs": [],
   "source": [
    "print(zxc.insert_into_foraqrc(\"\"\"'999A', 1, 'REQG', 'A', '', '', '14020', '', '', sysdate, 'RWALDEN', '' \"\"\"))\n",
    "print(zxc.insert_into_foraqrc(\"\"\"'999A', 2, 'CORG', 'A', '', '', '14020', '', '', sysdate, 'RWALDEN', '' \"\"\"))\n",
    "print(zxc.insert_into_foraqrc(\"\"\"'B999', 20, 'DBRG', 'A', '', '', '14020', '', '', sysdate, 'RWALDEN', '' \"\"\"))\n",
    "\n",
    "print(zxc.query_foraqrc(\"FORAQRC_QUEUE_ID in ('999A','999B','999G','B999')\"))"
   ],
   "metadata": {
    "collapsed": false,
    "pycharm": {
     "name": "#%%\n"
    }
   }
  },
  {
   "cell_type": "code",
   "execution_count": null,
   "outputs": [],
   "source": [
    "print(zxc.db_delete('FTVAPPQ', \"FTVAPPQ_QUEUE_ID in ('999A','999B','999G','B999')\"))\n",
    "print(zxc.db_delete('FORAQUS', \"FORAQUS_QUEUE_ID in ('999A','999B','999G','B999')\"))\n",
    "print(zxc.db_delete('FORAQRC', \"FORAQRC_QUEUE_ID in ('999A','999B','999G','B999')\"))\n",
    "\n",
    "print(zxc.query_ftvappq(\"FTVAPPQ_QUEUE_ID in ('999A','999B','999G','B999')\"))\n",
    "print(zxc.query_foraqus(\"FORAQUS_QUEUE_ID in ('999A','999B','999G','B999')\"))\n",
    "print(zxc.query_foraqrc(\"FORAQRC_QUEUE_ID in ('999A','999B','999G','B999')\"))"
   ],
   "metadata": {
    "collapsed": false,
    "pycharm": {
     "name": "#%%\n"
    }
   }
  },
  {
   "cell_type": "code",
   "execution_count": null,
   "outputs": [],
   "source": [],
   "metadata": {
    "collapsed": false,
    "pycharm": {
     "name": "#%%\n"
    }
   }
  },
  {
   "cell_type": "code",
   "execution_count": null,
   "outputs": [],
   "source": [
    "x = 1/0"
   ],
   "metadata": {
    "collapsed": false,
    "pycharm": {
     "name": "#%%\n"
    }
   }
  },
  {
   "cell_type": "markdown",
   "source": [
    "# Query Tables"
   ],
   "metadata": {
    "collapsed": false,
    "pycharm": {
     "name": "#%% md\n"
    }
   }
  },
  {
   "cell_type": "code",
   "execution_count": null,
   "outputs": [],
   "source": [
    "def query_foraqus(my_where='',my_order_by='',my_group_by='',my_max_records_returned = ''):\n",
    "    select = f\"\"\"FORAQUS_QUEUE_ID,FORAQUS_USER_ID_APPR,FORAQUS_QUEUE_LEVEL,FORAQUS_QUEUE_LIMIT,FORAQUS_EFF_DATE,\n",
    "    FORAQUS_NCHG_DATE,FORAQUS_TERM_DATE\"\"\"\n",
    "    from_ = f\"\"\"FORAQUS\"\"\"\n",
    "    x =  zxc.db_query(select,from_,my_where,my_order_by,my_group_by,my_max_records_returned)\n",
    "    return x\n",
    "def query_ftvappq(my_where='',my_order_by='',my_group_by='',my_max_records_returned = ''):\n",
    "    select = f\"\"\"FTVAPPQ_QUEUE_ID, FTVAPPQ_DESCRIPTION, FTVAPPQ_QUEUE_LIMIT, FTVAPPQ_NEXT_QUEUE_ID, FTVAPPQ_APPROVAL_REQ, FTVAPPQ_ACTIVITY_DATE, FTVAPPQ_USER_ID\"\"\"\n",
    "    from_ = f\"\"\"FTVAPPQ\"\"\"\n",
    "    x =  zxc.db_query(select,from_,my_where,my_order_by,my_group_by,my_max_records_returned)\n",
    "    return x\n",
    "def query_foraqrc(my_where='',my_order_by='',my_group_by='',my_max_records_returned = ''):\n",
    "    select = f\"\"\"FORAQRC_QUEUE_ID, FORAQRC_DOC_TYPE, FORAQRC_RULE_GROUP, FORAQRC_COAS_CODE, FORAQRC_FTYP_CODE, FORAQRC_FUND_CODE, FORAQRC_ORGN_CODE, FORAQRC_ATYP_CODE, FORAQRC_ACCT_CODE, FORAQRC_ACTIVITY_DATE, FORAQRC_USER_ID, FORAQRC_PROG_CODE\"\"\"\n",
    "    from_ = f\"\"\"FORAQRC\"\"\"\n",
    "    x =  zxc.db_query(select,from_,my_where,my_order_by,my_group_by,my_max_records_returned)\n",
    "    return x"
   ],
   "metadata": {
    "collapsed": false,
    "pycharm": {
     "name": "#%%\n"
    }
   }
  },
  {
   "cell_type": "code",
   "execution_count": null,
   "outputs": [],
   "source": [
    "print(query_ftvappq(\"FTVAPPQ_QUEUE_ID in ('999A','999B','999G','B999')\"))\n",
    "print(query_foraqus(\"FORAQUS_QUEUE_ID in ('999A','999B','999G','B999')\"))\n",
    "print(query_foraqrc(\"FORAQRC_QUEUE_ID in ('999A','999B','999G','B999')\"))"
   ],
   "metadata": {
    "collapsed": false,
    "pycharm": {
     "name": "#%%\n"
    }
   }
  },
  {
   "cell_type": "code",
   "execution_count": null,
   "outputs": [],
   "source": [
    "def insert_into_ftvappq(_my_value):\n",
    "    my_insert = \"\"\"FTVAPPQ(FTVAPPQ_QUEUE_ID, FTVAPPQ_DESCRIPTION, FTVAPPQ_QUEUE_LIMIT, FTVAPPQ_NEXT_QUEUE_ID, FTVAPPQ_APPROVAL_REQ, FTVAPPQ_ACTIVITY_DATE, FTVAPPQ_USER_ID)\"\"\"\n",
    "    x = zxc.db_insert(my_insert, _my_value)\n",
    "    print(x)\n",
    "\n",
    "print(insert_into_ftvappq(\"\"\"'999A', '999-Test Orgn- Test Que', 0, '999B', null, sysdate, 'RWALDEN' \"\"\"))\n",
    "print(insert_into_ftvappq(\"\"\"'999B', '999-Test Orgn- Test Que', 100.01, '999G', null, sysdate, 'RWALDEN' \"\"\"))\n",
    "print(insert_into_ftvappq(\"\"\"'999G', '999-Test Orgn- Test Que', 1000.01, 'EXBS', null, sysdate, 'RWALDEN' \"\"\"))\n",
    "print(insert_into_ftvappq(\"\"\"'B999', '999-Test Orgn- Test Que', 10000.01, '999G', null, sysdate, 'RWALDEN' \"\"\"))\n",
    "\n",
    "print(query_ftvappq(\"FTVAPPQ_QUEUE_ID in ('999A','999B','999G','B999')\"))"
   ],
   "metadata": {
    "collapsed": false,
    "pycharm": {
     "name": "#%%\n"
    }
   }
  },
  {
   "cell_type": "code",
   "execution_count": null,
   "outputs": [],
   "source": [
    "def insert_into_foraqus(_my_value):\n",
    "    my_insert = \"\"\"FORAQUS(FORAQUS_QUEUE_ID,FORAQUS_USER_ID_APPR,FORAQUS_QUEUE_LEVEL,FORAQUS_QUEUE_LIMIT,FORAQUS_EFF_DATE,FORAQUS_NCHG_DATE,FORAQUS_TERM_DATE,FORAQUS_ACTIVITY_DATE,FORAQUS_USER_ID)\"\"\"\n",
    "    x = zxc.db_insert(my_insert, _my_value)\n",
    "    print(x)\n",
    "\n",
    "print(insert_into_foraqus(\"\"\"'999A', 'RWALDEN', 10, 0, sysdate, null, null, sysdate, 'RWALDEN' \"\"\"))\n",
    "print(insert_into_foraqus(\"\"\"'999B', 'RWALDEN', 10, 100.01, sysdate, null, null, sysdate, 'RWALDEN' \"\"\"))\n",
    "print(insert_into_foraqus(\"\"\"'999G', 'RWALDEN', 10, 1000.02, sysdate, null, null, sysdate, 'RWALDEN' \"\"\"))\n",
    "print(insert_into_foraqus(\"\"\"'B999', 'RWALDEN', 10, 10000.03, sysdate, null, null, sysdate, 'RWALDEN' \"\"\"))\n",
    "\n",
    "print(query_foraqus(\"FORAQUS_QUEUE_ID in ('999A','999B','999G','B999')\"))"
   ],
   "metadata": {
    "collapsed": false,
    "pycharm": {
     "name": "#%%\n"
    }
   }
  },
  {
   "cell_type": "code",
   "execution_count": null,
   "outputs": [],
   "source": [
    "def insert_into_foraqrc(_my_value):\n",
    "    my_insert = \"\"\"FORAQRC(FORAQRC_QUEUE_ID, FORAQRC_DOC_TYPE, FORAQRC_RULE_GROUP, FORAQRC_COAS_CODE, FORAQRC_FTYP_CODE, FORAQRC_FUND_CODE, FORAQRC_ORGN_CODE, FORAQRC_ATYP_CODE, FORAQRC_ACCT_CODE, FORAQRC_ACTIVITY_DATE, FORAQRC_USER_ID, FORAQRC_PROG_CODE) \"\"\"\n",
    "    x = zxc.db_insert(my_insert, _my_value)\n",
    "    print(x)\n",
    "\n",
    "print(insert_into_foraqrc(\"\"\"'999A', 1, 'REQG', 'A', '', '', '14020', '', '', sysdate, 'RWALDEN', '' \"\"\"))\n",
    "print(insert_into_foraqrc(\"\"\"'999A', 2, 'CORG', 'A', '', '', '14020', '', '', sysdate, 'RWALDEN', '' \"\"\"))\n",
    "print(insert_into_foraqrc(\"\"\"'B999', 20, 'DBRG', 'A', '', '', '14020', '', '', sysdate, 'RWALDEN', '' \"\"\"))\n",
    "\n",
    "print(query_foraqrc(\"FORAQRC_QUEUE_ID in ('999A','999B','999G','B999')\"))"
   ],
   "metadata": {
    "collapsed": false,
    "pycharm": {
     "name": "#%%\n"
    }
   }
  },
  {
   "cell_type": "code",
   "execution_count": null,
   "outputs": [],
   "source": [
    "print(zxc.db_delete('FTVAPPQ', \"FTVAPPQ_QUEUE_ID in ('999A','999B','999G','B999')\"))\n",
    "print(zxc.db_delete('FORAQUS', \"FORAQUS_QUEUE_ID in ('999A','999B','999G','B999')\"))\n",
    "print(zxc.db_delete('FORAQRC', \"FORAQRC_QUEUE_ID in ('999A','999B','999G','B999')\"))\n",
    "\n",
    "print(query_ftvappq(\"FTVAPPQ_QUEUE_ID in ('999A','999B','999G','B999')\"))\n",
    "print(query_foraqus(\"FORAQUS_QUEUE_ID in ('999A','999B','999G','B999')\"))\n",
    "print(query_foraqrc(\"FORAQRC_QUEUE_ID in ('999A','999B','999G','B999')\"))"
   ],
   "metadata": {
    "collapsed": false,
    "pycharm": {
     "name": "#%%\n"
    }
   }
  },
  {
   "cell_type": "code",
   "execution_count": null,
   "outputs": [],
   "source": [],
   "metadata": {
    "collapsed": false,
    "pycharm": {
     "name": "#%%\n"
    }
   }
  },
  {
   "cell_type": "code",
   "execution_count": null,
   "outputs": [],
   "source": [],
   "metadata": {
    "collapsed": false,
    "pycharm": {
     "name": "#%%\n"
    }
   }
  },
  {
   "cell_type": "code",
   "execution_count": null,
   "outputs": [],
   "source": [
    "# Query FORAQUS\n",
    "select = f\"\"\"FORAQUS_QUEUE_ID,FORAQUS_USER_ID_APPR,FORAQUS_QUEUE_LEVEL,FORAQUS_QUEUE_LIMIT,FORAQUS_EFF_DATE,\n",
    "FORAQUS_NCHG_DATE,FORAQUS_TERM_DATE\"\"\"\n",
    "from_ = f\"\"\"FORAQUS\"\"\"\n",
    "where = f\"\"\"FORAQUS_QUEUE_ID in ('999A','999B','999G','B999')\"\"\"\n",
    "order_by = f\"\"\"FORAQUS_QUEUE_ID\"\"\"\n",
    "group_by = f\"\"\"\"\"\"\n",
    "max_records_returned = '' #10 #f\"\"\"10\"\"\"\n",
    "\n",
    "x =  zxc.db_query(select,from_,where,order_by,group_by,max_records_returned)\n",
    "#print(dir(x[0]))\n",
    "for y in x:\n",
    "    print(x.index(y), 'of', len(x)-1)\n",
    "    print(y)"
   ],
   "metadata": {
    "collapsed": false,
    "pycharm": {
     "name": "#%%\n"
    }
   }
  },
  {
   "cell_type": "code",
   "execution_count": null,
   "outputs": [],
   "source": [
    "# Query FTVAPPQ\n",
    "select = f\"\"\"FTVAPPQ_QUEUE_ID, FTVAPPQ_DESCRIPTION, FTVAPPQ_QUEUE_LIMIT, FTVAPPQ_NEXT_QUEUE_ID, FTVAPPQ_APPROVAL_REQ, FTVAPPQ_ACTIVITY_DATE, FTVAPPQ_USER_ID\"\"\"\n",
    "from_ = f\"\"\"FTVAPPQ\"\"\"\n",
    "where = f\"\"\"FTVAPPQ_QUEUE_ID in ('999A','999B','999G','B999')\"\"\"\n",
    "order_by = f\"\"\"FTVAPPQ_QUEUE_ID\"\"\"\n",
    "group_by = f\"\"\"\"\"\"\n",
    "max_records_returned = '' #10 #f\"\"\"10\"\"\"\n",
    "x = zxc.db_query(select,from_,where,order_by,group_by,max_records_returned)\n",
    "#print(dir(x[0]))\n",
    "for y in x:\n",
    "    print(x.index(y), 'of', len(x)-1)\n",
    "    print(y)"
   ],
   "metadata": {
    "collapsed": false,
    "pycharm": {
     "name": "#%%\n"
    }
   }
  },
  {
   "cell_type": "code",
   "execution_count": null,
   "outputs": [],
   "source": [
    "# Query FORAQRC\n",
    "select = f\"\"\"FORAQRC_QUEUE_ID, FORAQRC_DOC_TYPE, FORAQRC_RULE_GROUP, FORAQRC_COAS_CODE, FORAQRC_FTYP_CODE, FORAQRC_FUND_CODE, FORAQRC_ORGN_CODE, FORAQRC_ATYP_CODE, FORAQRC_ACCT_CODE, FORAQRC_ACTIVITY_DATE, FORAQRC_USER_ID, FORAQRC_PROG_CODE\"\"\"\n",
    "from_ = f\"\"\"FORAQRC\"\"\"\n",
    "where = f\"\"\"FORAQRC_QUEUE_ID in ('999A','999B','999G','B999')\"\"\"\n",
    "order_by = f\"\"\"FORAQRC_QUEUE_ID\"\"\"\n",
    "group_by = f\"\"\"\"\"\"\n",
    "max_records_returned = '' #10 #f\"\"\"10\"\"\"\n",
    "x = zxc.db_query(select,from_,where,order_by,group_by,max_records_returned)\n",
    "#print(dir(x[0]))\n",
    "for y in x:\n",
    "    print(x.index(y), 'of', len(x)-1)\n",
    "    print(y)"
   ],
   "metadata": {
    "collapsed": false,
    "pycharm": {
     "name": "#%%\n"
    }
   }
  },
  {
   "cell_type": "markdown",
   "source": [
    "# Update Tables"
   ],
   "metadata": {
    "collapsed": false,
    "pycharm": {
     "name": "#%% md\n"
    }
   }
  },
  {
   "cell_type": "code",
   "execution_count": null,
   "outputs": [],
   "source": [
    "# Update FTVAPPQ\n",
    "my_update = 'FTVAPPQ'\n",
    "my_set = 'FTVAPPQ_ACTIVITY_DATE = sysdate'\n",
    "my_where = \"FTVAPPQ_QUEUE_ID = '000B'\"\n",
    "x = zxc.db_update(my_update, my_set, my_where)\n",
    "print(x)"
   ],
   "metadata": {
    "collapsed": false,
    "pycharm": {
     "name": "#%%\n"
    }
   }
  },
  {
   "cell_type": "markdown",
   "source": [
    "# Make New Test Queues"
   ],
   "metadata": {
    "collapsed": false,
    "pycharm": {
     "name": "#%% md\n"
    }
   }
  },
  {
   "cell_type": "markdown",
   "source": [
    "# Create Test Queues"
   ],
   "metadata": {
    "collapsed": false,
    "pycharm": {
     "name": "#%% md\n"
    }
   }
  },
  {
   "cell_type": "code",
   "execution_count": null,
   "outputs": [],
   "source": [
    "# Insert FTVAPPQ\n",
    "my_insert = \"\"\"FTVAPPQ(FTVAPPQ_QUEUE_ID, FTVAPPQ_DESCRIPTION, FTVAPPQ_QUEUE_LIMIT, FTVAPPQ_NEXT_QUEUE_ID, FTVAPPQ_APPROVAL_REQ, FTVAPPQ_ACTIVITY_DATE, FTVAPPQ_USER_ID)\"\"\"\n",
    "my_value = \"\"\"'999A', '999-Test Orgn- Test Que', 0, '999B', null, sysdate, 'RWALDEN' \"\"\"\n",
    "x = zxc.db_insert(my_insert, my_value)\n",
    "print(x)"
   ],
   "metadata": {
    "collapsed": false,
    "pycharm": {
     "name": "#%%\n"
    }
   }
  },
  {
   "cell_type": "code",
   "execution_count": null,
   "outputs": [],
   "source": [
    "# Insert FTVAPPQ\n",
    "my_insert = \"\"\"FTVAPPQ(FTVAPPQ_QUEUE_ID, FTVAPPQ_DESCRIPTION, FTVAPPQ_QUEUE_LIMIT, FTVAPPQ_NEXT_QUEUE_ID, FTVAPPQ_APPROVAL_REQ, FTVAPPQ_ACTIVITY_DATE, FTVAPPQ_USER_ID)\"\"\"\n",
    "my_value = \"\"\"'999B', '999-Test Orgn- Test Que', 0, '999G', null, sysdate, 'RWALDEN' \"\"\"\n",
    "x = zxc.db_insert(my_insert, my_value)\n",
    "print(x)"
   ],
   "metadata": {
    "collapsed": false,
    "pycharm": {
     "name": "#%%\n"
    }
   }
  },
  {
   "cell_type": "code",
   "execution_count": null,
   "outputs": [],
   "source": [
    "# Insert FTVAPPQ\n",
    "my_insert = \"\"\"FTVAPPQ(FTVAPPQ_QUEUE_ID, FTVAPPQ_DESCRIPTION, FTVAPPQ_QUEUE_LIMIT, FTVAPPQ_NEXT_QUEUE_ID, FTVAPPQ_APPROVAL_REQ, FTVAPPQ_ACTIVITY_DATE, FTVAPPQ_USER_ID)\"\"\"\n",
    "my_value = \"\"\"'999G', '999-Test Orgn- Test Que', 0, 'EXBS', null, sysdate, 'RWALDEN' \"\"\"\n",
    "x = zxc.db_insert(my_insert, my_value)\n",
    "print(x)"
   ],
   "metadata": {
    "collapsed": false,
    "pycharm": {
     "name": "#%%\n"
    }
   }
  },
  {
   "cell_type": "code",
   "execution_count": null,
   "outputs": [],
   "source": [
    "# Insert FTVAPPQ\n",
    "my_insert = \"\"\"FTVAPPQ(FTVAPPQ_QUEUE_ID, FTVAPPQ_DESCRIPTION, FTVAPPQ_QUEUE_LIMIT, FTVAPPQ_NEXT_QUEUE_ID, FTVAPPQ_APPROVAL_REQ, FTVAPPQ_ACTIVITY_DATE, FTVAPPQ_USER_ID)\"\"\"\n",
    "my_value = \"\"\"'B999', '999-Test Orgn- Test Que', 0, '999G', null, sysdate, 'RWALDEN' \"\"\"\n",
    "x = zxc.db_insert(my_insert, my_value)\n",
    "print(x)"
   ],
   "metadata": {
    "collapsed": false,
    "pycharm": {
     "name": "#%%\n"
    }
   }
  },
  {
   "cell_type": "markdown",
   "source": [
    "# Insert Users into Test Queues"
   ],
   "metadata": {
    "collapsed": false,
    "pycharm": {
     "name": "#%% md\n"
    }
   }
  },
  {
   "cell_type": "code",
   "execution_count": null,
   "outputs": [],
   "source": [
    "# Insert FORAQUS\n",
    "my_insert = \"\"\"FORAQUS(FORAQUS_QUEUE_ID,FORAQUS_USER_ID_APPR,FORAQUS_QUEUE_LEVEL,FORAQUS_QUEUE_LIMIT,FORAQUS_EFF_DATE,\n",
    "FORAQUS_NCHG_DATE,FORAQUS_TERM_DATE,FORAQUS_ACTIVITY_DATE,FORAQUS_USER_ID)\"\"\"\n",
    "my_value = \"\"\"'999A', 'RWALDEN', 10, 0, sysdate, null, null, sysdate, 'RWALDEN' \"\"\"\n",
    "x = zxc.db_insert(my_insert, my_value)\n",
    "print(x)"
   ],
   "metadata": {
    "collapsed": false,
    "pycharm": {
     "name": "#%%\n"
    }
   }
  },
  {
   "cell_type": "code",
   "execution_count": null,
   "outputs": [],
   "source": [
    "# Insert FORAQUS\n",
    "my_insert = \"\"\"FORAQUS(FORAQUS_QUEUE_ID,FORAQUS_USER_ID_APPR,FORAQUS_QUEUE_LEVEL,FORAQUS_QUEUE_LIMIT,FORAQUS_EFF_DATE,\n",
    "FORAQUS_NCHG_DATE,FORAQUS_TERM_DATE,FORAQUS_ACTIVITY_DATE,FORAQUS_USER_ID)\"\"\"\n",
    "my_value = \"\"\"'999B', 'RWALDEN', 10, 0, sysdate, null, null, sysdate, 'RWALDEN' \"\"\"\n",
    "x = zxc.db_insert(my_insert, my_value)\n",
    "print(x)"
   ],
   "metadata": {
    "collapsed": false,
    "pycharm": {
     "name": "#%%\n"
    }
   }
  },
  {
   "cell_type": "code",
   "execution_count": null,
   "outputs": [],
   "source": [
    "# Insert FORAQUS\n",
    "my_insert = \"\"\"FORAQUS(FORAQUS_QUEUE_ID,FORAQUS_USER_ID_APPR,FORAQUS_QUEUE_LEVEL,FORAQUS_QUEUE_LIMIT,FORAQUS_EFF_DATE,\n",
    "FORAQUS_NCHG_DATE,FORAQUS_TERM_DATE,FORAQUS_ACTIVITY_DATE,FORAQUS_USER_ID)\"\"\"\n",
    "my_value = \"\"\"'999G', 'RWALDEN', 10, 0, sysdate, null, null, sysdate, 'RWALDEN' \"\"\"\n",
    "x = zxc.db_insert(my_insert, my_value)\n",
    "print(x)"
   ],
   "metadata": {
    "collapsed": false,
    "pycharm": {
     "name": "#%%\n"
    }
   }
  },
  {
   "cell_type": "code",
   "execution_count": null,
   "outputs": [],
   "source": [
    "# Insert FORAQUS\n",
    "my_insert = \"\"\"FORAQUS(FORAQUS_QUEUE_ID,FORAQUS_USER_ID_APPR,FORAQUS_QUEUE_LEVEL,FORAQUS_QUEUE_LIMIT,FORAQUS_EFF_DATE,\n",
    "FORAQUS_NCHG_DATE,FORAQUS_TERM_DATE,FORAQUS_ACTIVITY_DATE,FORAQUS_USER_ID)\"\"\"\n",
    "my_value = \"\"\"'B999', 'RWALDEN', 10, 0, sysdate, null, null, sysdate, 'RWALDEN' \"\"\"\n",
    "x = zxc.db_insert(my_insert, my_value)\n",
    "print(x)"
   ],
   "metadata": {
    "collapsed": false,
    "pycharm": {
     "name": "#%%\n"
    }
   }
  },
  {
   "cell_type": "markdown",
   "source": [
    "# Insert Routes for test queues FORAQRC"
   ],
   "metadata": {
    "collapsed": false,
    "pycharm": {
     "name": "#%% md\n"
    }
   }
  },
  {
   "cell_type": "code",
   "execution_count": null,
   "outputs": [],
   "source": [
    "# Insert FORAQRC REQ 999A\n",
    "my_insert = \"\"\"FORAQRC(FORAQRC_QUEUE_ID, FORAQRC_DOC_TYPE, FORAQRC_RULE_GROUP, FORAQRC_COAS_CODE, FORAQRC_FTYP_CODE, FORAQRC_FUND_CODE, FORAQRC_ORGN_CODE, FORAQRC_ATYP_CODE, FORAQRC_ACCT_CODE, FORAQRC_ACTIVITY_DATE, FORAQRC_USER_ID, FORAQRC_PROG_CODE) \"\"\"\n",
    "my_value = \"\"\"'999A', 1, 'REQG', 'A', '', '', '14020', '', '', sysdate, 'RWALDEN', '' \"\"\"\n",
    "x = zxc.db_insert(my_insert, my_value)\n",
    "print(x)"
   ],
   "metadata": {
    "collapsed": false,
    "pycharm": {
     "name": "#%%\n"
    }
   }
  },
  {
   "cell_type": "code",
   "execution_count": null,
   "outputs": [],
   "source": [
    "# Insert FORAQRC PO 999A\n",
    "my_insert = \"\"\"FORAQRC(FORAQRC_QUEUE_ID, FORAQRC_DOC_TYPE, FORAQRC_RULE_GROUP, FORAQRC_COAS_CODE, FORAQRC_FTYP_CODE, FORAQRC_FUND_CODE, FORAQRC_ORGN_CODE, FORAQRC_ATYP_CODE, FORAQRC_ACCT_CODE, FORAQRC_ACTIVITY_DATE, FORAQRC_USER_ID, FORAQRC_PROG_CODE) \"\"\"\n",
    "my_value = \"\"\"'999A', 2, 'CORG', 'A', '', '', '14020', '', '', sysdate, 'RWALDEN', '' \"\"\"\n",
    "x = zxc.db_insert(my_insert, my_value)\n",
    "print(x)"
   ],
   "metadata": {
    "collapsed": false,
    "pycharm": {
     "name": "#%%\n"
    }
   }
  },
  {
   "cell_type": "code",
   "execution_count": null,
   "outputs": [],
   "source": [
    "# Insert FORAQRC JV B999\n",
    "my_insert = \"\"\"FORAQRC(FORAQRC_QUEUE_ID, FORAQRC_DOC_TYPE, FORAQRC_RULE_GROUP, FORAQRC_COAS_CODE, FORAQRC_FTYP_CODE, FORAQRC_FUND_CODE, FORAQRC_ORGN_CODE, FORAQRC_ATYP_CODE, FORAQRC_ACCT_CODE, FORAQRC_ACTIVITY_DATE, FORAQRC_USER_ID, FORAQRC_PROG_CODE) \"\"\"\n",
    "my_value = \"\"\"'B999', 20, 'DBRG', 'A', '', '', '14020', '', '', sysdate, 'RWALDEN', '' \"\"\"\n",
    "x = zxc.db_insert(my_insert, my_value)\n",
    "print(x)"
   ],
   "metadata": {
    "collapsed": false,
    "pycharm": {
     "name": "#%%\n"
    }
   }
  },
  {
   "cell_type": "markdown",
   "source": [
    "# Delete test queues"
   ],
   "metadata": {
    "collapsed": false,
    "pycharm": {
     "name": "#%% md\n"
    }
   }
  },
  {
   "cell_type": "code",
   "execution_count": null,
   "outputs": [],
   "source": [
    "# Delete test queues\n",
    "my_from = 'FTVAPPQ'\n",
    "my_where = \"FTVAPPQ_QUEUE_ID in ('999A','999B','999G','B999')\"\n",
    "x = zxc.db_delete(my_from, my_where)\n",
    "print(x)\n",
    "\n",
    "my_from = 'FORAQUS'\n",
    "my_where = \"FORAQUS_QUEUE_ID in ('999A','999B','999G','B999')\"\n",
    "x = zxc.db_delete(my_from, my_where)\n",
    "print(x)\n",
    "\n",
    "my_from = 'FORAQRC'\n",
    "my_where = \"FORAQRC_QUEUE_ID in ('999A','999B','999G','B999')\"\n",
    "x = zxc.db_delete(my_from, my_where)\n",
    "print(x)"
   ],
   "metadata": {
    "collapsed": false,
    "pycharm": {
     "name": "#%%\n"
    }
   }
  },
  {
   "cell_type": "code",
   "execution_count": null,
   "outputs": [],
   "source": [],
   "metadata": {
    "collapsed": false,
    "pycharm": {
     "name": "#%%\n"
    }
   }
  },
  {
   "cell_type": "markdown",
   "source": [
    "# Queue Tables\n",
    "FIMSMGR.FORAQRC FORAQRC,\n",
    "FIMSMGR.FORAQUS FORAQUS,\n",
    "FIMSMGR.FTVAPPQ FTVAPPQ"
   ],
   "metadata": {
    "collapsed": false,
    "pycharm": {
     "name": "#%% md\n"
    }
   }
  },
  {
   "cell_type": "markdown",
   "source": [
    "# FORAQRC fields\n",
    "### FORAQRC_DOC_TYPE is a number REQ = 1, PO = 2, JV = 20\n",
    "FORAQRC_QUEUE_ID, FORAQRC_DOC_TYPE, FORAQRC_RULE_GROUP, FORAQRC_COAS_CODE, FORAQRC_FTYP_CODE, FORAQRC_FUND_CODE, FORAQRC_ORGN_CODE, FORAQRC_ATYP_CODE, FORAQRC_ACCT_CODE, FORAQRC_ACTIVITY_DATE, FORAQRC_USER_ID, FORAQRC_PROG_CODE\n",
    "\n",
    "--FORAQRC_SURROGATE_ID, FORAQRC_VERSION, FORAQRC_DATA_ORIGIN, FORAQRC_VPDI_CODE\n",
    "\n",
    "FORAQRC_QUEUE_ID\n",
    "FORAQRC_DOC_TYPE\n",
    "FORAQRC_RULE_GROUP\n",
    "FORAQRC_COAS_CODE\n",
    "FORAQRC_FTYP_CODE\n",
    "FORAQRC_FUND_CODE\n",
    "FORAQRC_ORGN_CODE\n",
    "FORAQRC_ATYP_CODE\n",
    "FORAQRC_ACCT_CODE\n",
    "FORAQRC_ACTIVITY_DATE\n",
    "FORAQRC_USER_ID\n",
    "FORAQRC_PROG_CODE\n",
    "\n",
    "FORAQRC_SURROGATE_ID\n",
    "FORAQRC_VERSION\n",
    "FORAQRC_DATA_ORIGIN\n",
    "FORAQRC_VPDI_CODE"
   ],
   "metadata": {
    "collapsed": false,
    "pycharm": {
     "name": "#%% md\n"
    }
   }
  },
  {
   "cell_type": "markdown",
   "source": [
    "# FORAQUS fields\n",
    "FORAQUS(FORAQUS_QUEUE_ID, FORAQUS_USER_ID_APPR, FORAQUS_QUEUE_LEVEL, FORAQUS_QUEUE_LIMIT, FORAQUS_EFF_DATE, FORAQUS_NCHG_DATE, FORAQUS_TERM_DATE, FORAQUS_ACTIVITY_DATE, FORAQUS_USER_ID, FORAQUS_SURROGATE_ID, FORAQUS_VERSION, FORAQUS_DATA_ORIGIN, FORAQUS_VPDI_CODE)\n",
    "\n",
    "FORAQUS_QUEUE_ID\n",
    "FORAQUS_USER_ID_APPR\n",
    "FORAQUS_QUEUE_LEVEL\n",
    "FORAQUS_QUEUE_LIMIT\n",
    "FORAQUS_EFF_DATE\n",
    "FORAQUS_NCHG_DATE\n",
    "FORAQUS_TERM_DATE\n",
    "\n",
    "FORAQUS_ACTIVITY_DATE, FORAQUS_USER_ID, FORAQUS_SURROGATE_ID, FORAQUS_VERSION, FORAQUS_DATA_ORIGIN, FORAQUS_VPDI_CODE"
   ],
   "metadata": {
    "collapsed": false,
    "pycharm": {
     "name": "#%% md\n"
    }
   }
  },
  {
   "cell_type": "markdown",
   "source": [
    "# FTVAPPQ fields\n",
    "\n",
    " FTVAPPQ_QUEUE_ID, FTVAPPQ_DESCRIPTION, FTVAPPQ_QUEUE_LIMIT, FTVAPPQ_NEXT_QUEUE_ID, FTVAPPQ_APPROVAL_REQ, FTVAPPQ_ACTIVITY_DATE, FTVAPPQ_USER_ID\n",
    "\n",
    "--, FTVAPPQ_SURROGATE_ID, FTVAPPQ_DATA_ORIGIN, FTVAPPQ_VERSION, FTVAPPQ_VPDI_CODE\n",
    "\n",
    "FTVAPPQ_QUEUE_ID\n",
    "FTVAPPQ_DESCRIPTION\n",
    "FTVAPPQ_QUEUE_LIMIT\n",
    "FTVAPPQ_NEXT_QUEUE_ID\n",
    "FTVAPPQ_APPROVAL_REQ\n",
    "FTVAPPQ_ACTIVITY_DATE\n",
    "FTVAPPQ_USER_ID\n",
    "\n",
    "FTVAPPQ_SURROGATE_ID\n",
    "FTVAPPQ_DATA_ORIGIN\n",
    "FTVAPPQ_VERSION\n",
    "FTVAPPQ_VPDI_CODE\n"
   ],
   "metadata": {
    "collapsed": false,
    "pycharm": {
     "name": "#%% md\n"
    }
   }
  },
  {
   "cell_type": "markdown",
   "source": [
    "# Resources\n",
    "\n",
    "https://learncodeshare.net/2015/06/02/basic-crud-operations-using-cx_oracle/\n",
    "https://learncodeshare.net/2015/06/26/insert-crud-using-cx_oracle/\n",
    "\n",
    "https://cx-oracle.readthedocs.io/en/latest/user_guide/sql_execution.html\n",
    "\n",
    "https://www.foxinfotech.in/2018/09/how-to-call-oracle-function-in-python.html\n",
    "\n",
    "https://www.oracletutorial.com/oracle-basics/oracle-delete/\n",
    "\n",
    "https://www.oracletutorial.com/python-oracle/updating-data/\n",
    "\n",
    "https://www.programcreek.com/python/example/55416/cx_Oracle.connect"
   ],
   "metadata": {
    "collapsed": false,
    "pycharm": {
     "name": "#%% md\n"
    }
   }
  },
  {
   "cell_type": "code",
   "execution_count": null,
   "outputs": [],
   "source": [],
   "metadata": {
    "collapsed": false,
    "pycharm": {
     "name": "#%%\n"
    }
   }
  }
 ],
 "metadata": {
  "kernelspec": {
   "display_name": "Python 3",
   "language": "python",
   "name": "python3"
  },
  "language_info": {
   "codemirror_mode": {
    "name": "ipython",
    "version": 2
   },
   "file_extension": ".py",
   "mimetype": "text/x-python",
   "name": "python",
   "nbconvert_exporter": "python",
   "pygments_lexer": "ipython2",
   "version": "2.7.6"
  }
 },
 "nbformat": 4,
 "nbformat_minor": 0
}