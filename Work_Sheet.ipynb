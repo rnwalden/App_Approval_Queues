{
 "cells": [
  {
   "cell_type": "code",
   "execution_count": null,
   "metadata": {
    "collapsed": true,
    "pycharm": {
     "name": "#%%\n"
    }
   },
   "outputs": [],
   "source": [
    "%load_ext autoreload\n",
    "%autoreload 2"
   ]
  },
  {
   "cell_type": "code",
   "execution_count": null,
   "outputs": [],
   "source": [
    "import approval_que_app as aqa"
   ],
   "metadata": {
    "collapsed": false,
    "pycharm": {
     "name": "#%%\n"
    }
   }
  },
  {
   "cell_type": "markdown",
   "source": [
    "# Create Session Objects"
   ],
   "metadata": {
    "collapsed": false,
    "pycharm": {
     "name": "#%% md\n"
    }
   }
  },
  {
   "cell_type": "code",
   "execution_count": null,
   "outputs": [],
   "source": [
    "working_session = aqa.OracleConnect()"
   ],
   "metadata": {
    "collapsed": false,
    "pycharm": {
     "name": "#%%\n"
    }
   }
  },
  {
   "cell_type": "code",
   "execution_count": null,
   "outputs": [],
   "source": [
    "working_session_backup = aqa.TableBackUp(working_session)"
   ],
   "metadata": {
    "collapsed": false,
    "pycharm": {
     "name": "#%%\n"
    }
   }
  },
  {
   "cell_type": "markdown",
   "source": [
    "# Close Connection"
   ],
   "metadata": {
    "collapsed": false,
    "pycharm": {
     "name": "#%% md\n"
    }
   }
  },
  {
   "cell_type": "code",
   "execution_count": null,
   "outputs": [],
   "source": [
    "working_session.engine_connection.close()"
   ],
   "metadata": {
    "collapsed": false,
    "pycharm": {
     "name": "#%%\n"
    }
   }
  },
  {
   "cell_type": "markdown",
   "source": [
    "# Create Session Backups"
   ],
   "metadata": {
    "collapsed": false,
    "pycharm": {
     "name": "#%% md\n"
    }
   }
  },
  {
   "cell_type": "code",
   "execution_count": null,
   "outputs": [],
   "source": [
    "# Create session backups\n",
    "_result = working_session_backup.perform_session_backup()\n",
    "print(_result)\n",
    "# Display created file names\n",
    "print(working_session_backup.session_bk_FORAQUS_file_name)\n",
    "print(working_session_backup.session_bk_FORAQRC_file_name)\n",
    "print(working_session_backup.session_bk_FTVAPPQ_file_name)"
   ],
   "metadata": {
    "collapsed": false,
    "pycharm": {
     "name": "#%%\n"
    }
   }
  },
  {
   "cell_type": "markdown",
   "source": [
    "# Do Work"
   ],
   "metadata": {
    "collapsed": false,
    "pycharm": {
     "name": "#%% md\n"
    }
   }
  },
  {
   "cell_type": "markdown",
   "source": [
    "## Create 3 new queues"
   ],
   "metadata": {
    "collapsed": false,
    "pycharm": {
     "name": "#%% md\n"
    }
   }
  },
  {
   "cell_type": "code",
   "execution_count": null,
   "outputs": [],
   "source": [
    "queue_chain_number = working_session.get_next_queue_number()\n",
    "queue_description = 'Kaiser Sim Collaboration'\n",
    "queues_to_build = [('A','B',0,['AMUSIAL1','EOBRIEN3']),('B','G',.01,['KJANISZEWSKI','UGOFF', 'BJESTER1', 'LNOWAK']),('G','VPAS',.05,['SMILLER66'])]\n",
    "orgns_to_route = ['62404']\n",
    "working_session.build_a_new_queue_chain(queue_chain_number, queue_description, queues_to_build, orgns_to_route)"
   ],
   "metadata": {
    "collapsed": false,
    "pycharm": {
     "name": "#%%\n"
    }
   }
  },
  {
   "cell_type": "code",
   "execution_count": null,
   "outputs": [],
   "source": [
    "queue_chain_number = 141 #working_session.get_next_queue_number()\n",
    "queue_description = 'LACOE AB130 Outreach Support'\n",
    "queues_to_build = [('A', 'B', 0, ['AMUSIAL1', 'EOBRIEN3']),('B', 'G', .01, ['KJANISZEWSKI', 'UGOFF', 'BJESTER1', 'LNOWAK']),('G', 'EXBS', 4999.99, ['CVALIOTIS'])]\n",
    "orgns_to_route = ['62719']\n",
    "working_session.build_a_new_queue_chain(queue_chain_number, queue_description, queues_to_build, orgns_to_route)"
   ],
   "metadata": {
    "collapsed": false,
    "pycharm": {
     "name": "#%%\n"
    }
   }
  },
  {
   "cell_type": "code",
   "execution_count": null,
   "outputs": [],
   "source": [
    "queue_chain_number = working_session.get_next_queue_number()\n",
    "queue_description = 'Economic Workforce Development'\n",
    "queues_to_build = [('A','B',0,['AMUSIAL1','EOBRIEN3']),('B','G',.01,['KJANISZEWSKI','UGOFF', 'BJESTER1', 'LNOWAK']),('G','EXBS',4999.99,['CHART8'])]\n",
    "orgns_to_route = ['62408']\n",
    "working_session.build_a_new_queue_chain(queue_chain_number, queue_description, queues_to_build, orgns_to_route)"
   ],
   "metadata": {
    "collapsed": false,
    "pycharm": {
     "name": "#%%\n"
    }
   }
  },
  {
   "cell_type": "markdown",
   "source": [
    "## Replace Termed Approver"
   ],
   "metadata": {
    "collapsed": false,
    "pycharm": {
     "name": "#%% md\n"
    }
   }
  },
  {
   "cell_type": "code",
   "execution_count": null,
   "outputs": [],
   "source": [
    "# List current approver queues\n",
    "x,y = working_session.get_approvers_queues('NVALSAMIDES')\n",
    "print(x,y)"
   ],
   "metadata": {
    "collapsed": false,
    "pycharm": {
     "name": "#%%\n"
    }
   }
  },
  {
   "cell_type": "code",
   "execution_count": null,
   "outputs": [],
   "source": [
    "# Replace Approver in Selected Queues to replace current approver with replacement. Pass no queues to replace in all queues.\n",
    "# Replace all Ex. : working_session.replace_approver('NVALSAMIDES', 'RWALDEN')\n",
    "#x = working_session.replace_approver('NVALSAMIDES', 'RWALDEN', ('CAQ', 'INVQ', 'JVQ', 'NSF')) # Only in the listed queues\n",
    "x = working_session.replace_approver('NVALSAMIDES', 'RWALDEN') # All queues user is in"
   ],
   "metadata": {
    "collapsed": false,
    "pycharm": {
     "name": "#%%\n"
    }
   }
  },
  {
   "cell_type": "code",
   "execution_count": null,
   "outputs": [],
   "source": [
    "# ReList current approver queues\n",
    "x,y = working_session.get_approvers_queues('NVALSAMIDES')\n",
    "print(x,y)"
   ],
   "metadata": {
    "collapsed": false,
    "pycharm": {
     "name": "#%%\n"
    }
   }
  },
  {
   "cell_type": "code",
   "execution_count": null,
   "outputs": [],
   "source": [
    "# Term from remaining queues  # should make a function to control the date entered to reflect date now\n",
    "x = working_session.term_approver('NVALSAMIDES', '24-AUG-22', from_queues = ())"
   ],
   "metadata": {
    "collapsed": false,
    "pycharm": {
     "name": "#%%\n"
    }
   }
  },
  {
   "cell_type": "code",
   "execution_count": null,
   "outputs": [],
   "source": [
    "# ReList current approver queues\n",
    "x,y = working_session.get_approvers_queues('NVALSAMIDES')\n",
    "print(x,y)"
   ],
   "metadata": {
    "collapsed": false,
    "pycharm": {
     "name": "#%%\n"
    }
   }
  },
  {
   "cell_type": "markdown",
   "source": [
    "## Example Request\n",
    " revise our approvers for Human Resources org 11030\n",
    " Harmony will remain on all of the above.\n",
    " Add James Firth (jfirth@avc.edu) to org 11030 as an approver\n",
    " Remove Debby Hackenberg (dclarkhackenberg@avc.edu) from org 11030\n",
    " Debby Hackenberg will need to be assigned and the approver for her org 11035\n",
    "\n"
   ],
   "metadata": {
    "collapsed": false,
    "pycharm": {
     "name": "#%% md\n"
    }
   }
  },
  {
   "cell_type": "code",
   "execution_count": null,
   "outputs": [],
   "source": [
    "# List current approver queues\n",
    "x,y = working_session.get_approvers_queues('DCLARKHACKENBERG')\n",
    "print(x,y)"
   ],
   "metadata": {
    "collapsed": false,
    "pycharm": {
     "name": "#%%\n"
    }
   }
  },
  {
   "cell_type": "code",
   "execution_count": null,
   "outputs": [],
   "source": [
    "# Step 1 replace the DCLARKHACKENBERG with the new JFIRTH\n",
    "working_session.replace_approver('DCLARKHACKENBERG', 'JFIRTH')\n"
   ],
   "metadata": {
    "collapsed": false,
    "pycharm": {
     "name": "#%%\n"
    }
   }
  },
  {
   "cell_type": "code",
   "execution_count": null,
   "outputs": [],
   "source": [
    "# Step 2 Place DCLARKHACKENBERG into new queue\n",
    "working_session.insert_into_foraqus(\"\"\"'137E', 'DCLARKHACKENBERG', 10, 999.99, sysdate, null, null, sysdate, 'RWALDEN' \"\"\")"
   ],
   "metadata": {
    "collapsed": false,
    "pycharm": {
     "name": "#%%\n"
    }
   }
  },
  {
   "cell_type": "code",
   "execution_count": null,
   "outputs": [],
   "source": [
    "# ReList current approver queues\n",
    "x,y = working_session.get_approvers_queues('DCLARKHACKENBERG')\n",
    "print(x,y)"
   ],
   "metadata": {
    "collapsed": false,
    "pycharm": {
     "name": "#%%\n"
    }
   }
  },
  {
   "cell_type": "markdown",
   "source": [
    "## Set a Proxy Approver"
   ],
   "metadata": {
    "collapsed": false,
    "pycharm": {
     "name": "#%% md\n"
    }
   }
  },
  {
   "cell_type": "code",
   "execution_count": null,
   "outputs": [],
   "source": [
    "x = working_session.set_proxy_approver('AMUSIAL1', 'RWALDEN', '22-AUG-5', '22-AUG-15')"
   ],
   "metadata": {
    "collapsed": false,
    "pycharm": {
     "name": "#%%\n"
    }
   }
  },
  {
   "cell_type": "markdown",
   "source": [
    "## Search for Queues with no Approvers assigned"
   ],
   "metadata": {
    "collapsed": false,
    "pycharm": {
     "name": "#%% md\n"
    }
   }
  },
  {
   "cell_type": "code",
   "execution_count": null,
   "outputs": [],
   "source": [
    "x = working_session.search_for_mt_queues()\n",
    "print(x)"
   ],
   "metadata": {
    "collapsed": false,
    "pycharm": {
     "name": "#%%\n"
    }
   }
  },
  {
   "cell_type": "code",
   "execution_count": null,
   "outputs": [],
   "source": [],
   "metadata": {
    "collapsed": false,
    "pycharm": {
     "name": "#%%\n"
    }
   }
  },
  {
   "cell_type": "code",
   "execution_count": null,
   "outputs": [],
   "source": [],
   "metadata": {
    "collapsed": false,
    "pycharm": {
     "name": "#%%\n"
    }
   }
  },
  {
   "cell_type": "markdown",
   "source": [
    "## Perform User Backup"
   ],
   "metadata": {
    "collapsed": false,
    "pycharm": {
     "name": "#%% md\n"
    }
   }
  },
  {
   "cell_type": "code",
   "execution_count": null,
   "outputs": [],
   "source": [
    "a = working_session_backup.user_back_up_foraqus()\n",
    "b = working_session_backup.user_back_up_foraqrc()\n",
    "c = working_session_backup.user_back_up_ftvappq()\n",
    "print(a,b,c)"
   ],
   "metadata": {
    "collapsed": false,
    "pycharm": {
     "name": "#%%\n"
    }
   }
  },
  {
   "cell_type": "markdown",
   "source": [
    "## Perform Session Restore"
   ],
   "metadata": {
    "collapsed": false,
    "pycharm": {
     "name": "#%% md\n"
    }
   }
  },
  {
   "cell_type": "code",
   "execution_count": null,
   "outputs": [],
   "source": [
    "x = working_session_backup.perform_session_restore()"
   ],
   "metadata": {
    "collapsed": false,
    "pycharm": {
     "name": "#%%\n"
    }
   }
  },
  {
   "cell_type": "markdown",
   "source": [
    "## Perform a New Session Backup for Comparison"
   ],
   "metadata": {
    "collapsed": false,
    "pycharm": {
     "name": "#%% md\n"
    }
   }
  },
  {
   "cell_type": "code",
   "execution_count": null,
   "outputs": [],
   "source": [
    "x = working_session_backup.perform_session_backup()"
   ],
   "metadata": {
    "collapsed": false,
    "pycharm": {
     "name": "#%%\n"
    }
   }
  },
  {
   "cell_type": "markdown",
   "source": [
    "## Perform User Restore"
   ],
   "metadata": {
    "collapsed": false,
    "pycharm": {
     "name": "#%% md\n"
    }
   }
  },
  {
   "cell_type": "code",
   "execution_count": null,
   "outputs": [],
   "source": [
    "a = working_session_backup.user_restore_foraqus()\n",
    "b = working_session_backup.user_restore_foraqrc()\n",
    "c = working_session_backup.user_restore_ftvappq()\n",
    "print(a,b,c)"
   ],
   "metadata": {
    "collapsed": false,
    "pycharm": {
     "name": "#%%\n"
    }
   }
  },
  {
   "cell_type": "code",
   "execution_count": null,
   "outputs": [],
   "source": [],
   "metadata": {
    "collapsed": false,
    "pycharm": {
     "name": "#%%\n"
    }
   }
  },
  {
   "cell_type": "code",
   "execution_count": null,
   "outputs": [],
   "source": [
    "x = working_session.set_proxy_approver('RHIGHTOWER7', 'KJOHNSON89', '22-SEP-1', '22-SEP-30')"
   ],
   "metadata": {
    "collapsed": false,
    "pycharm": {
     "name": "#%%\n"
    }
   }
  },
  {
   "cell_type": "code",
   "execution_count": null,
   "outputs": [],
   "source": [
    "# ReList current approver queues\n",
    "x,y = working_session.get_approvers_queues('RHIGHTOWER7')\n",
    "print(x,y)"
   ],
   "metadata": {
    "collapsed": false,
    "pycharm": {
     "name": "#%%\n"
    }
   }
  },
  {
   "cell_type": "code",
   "execution_count": null,
   "outputs": [],
   "source": [],
   "metadata": {
    "collapsed": false,
    "pycharm": {
     "name": "#%%\n"
    }
   }
  }
 ],
 "metadata": {
  "kernelspec": {
   "display_name": "Python 3",
   "language": "python",
   "name": "python3"
  },
  "language_info": {
   "codemirror_mode": {
    "name": "ipython",
    "version": 2
   },
   "file_extension": ".py",
   "mimetype": "text/x-python",
   "name": "python",
   "nbconvert_exporter": "python",
   "pygments_lexer": "ipython2",
   "version": "2.7.6"
  }
 },
 "nbformat": 4,
 "nbformat_minor": 0
}
