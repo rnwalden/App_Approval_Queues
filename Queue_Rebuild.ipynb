{
 "cells": [
  {
   "cell_type": "code",
   "execution_count": 2,
   "metadata": {
    "collapsed": true,
    "pycharm": {
     "name": "#%%\n"
    }
   },
   "outputs": [],
   "source": [
    "%load_ext autoreload\n",
    "%autoreload 2"
   ]
  },
  {
   "cell_type": "code",
   "execution_count": 1,
   "outputs": [],
   "source": [
    "import approval_que_app as aqa"
   ],
   "metadata": {
    "collapsed": false,
    "pycharm": {
     "name": "#%%\n"
    }
   }
  },
  {
   "cell_type": "code",
   "execution_count": 2,
   "outputs": [
    {
     "name": "stdout",
     "output_type": "stream",
     "text": [
      "logs file exists in project_root\n"
     ]
    }
   ],
   "source": [
    "working_session = aqa.OracleConnect()"
   ],
   "metadata": {
    "collapsed": false,
    "pycharm": {
     "name": "#%%\n"
    }
   }
  },
  {
   "cell_type": "code",
   "execution_count": 3,
   "outputs": [],
   "source": [
    "working_session.engine_connection.close()"
   ],
   "metadata": {
    "collapsed": false,
    "pycharm": {
     "name": "#%%\n"
    }
   }
  },
  {
   "cell_type": "markdown",
   "source": [
    "# FTMORGN for Financial Manager"
   ],
   "metadata": {
    "collapsed": false,
    "pycharm": {
     "name": "#%% md\n"
    }
   }
  },
  {
   "cell_type": "code",
   "execution_count": 18,
   "outputs": [],
   "source": [
    "with working_session.engine_connection.cursor() as _cur:\n",
    "    _cur.execute(f\"\"\"select FTVORGN_ORGN_CODE, FTVORGN_TITLE, FTVORGN_ORGN_CODE_PRED, FTVORGN_FMGR_CODE_PIDM, FTVORGN_NCHG_DATE, FTVORGN_STATUS_IND,\n",
    "                            avc.return_id_number(FTVORGN_FMGR_CODE_PIDM) ofm_id,\n",
    "                            baninst1.Gokname.f_get_name(FTVORGN_FMGR_CODE_PIDM, 'PREF_FMIL') ofm_name\n",
    "    from ftvorgn where FTVORGN_NCHG_DATE > sysdate and FTVORGN_STATUS_IND = 'A' and FTVORGN_TERM_DATE is null\n",
    "    order by FTVORGN_FMGR_CODE_PIDM, FTVORGN_ORGN_CODE\"\"\")\n",
    "    x = _cur.fetchall()"
   ],
   "metadata": {
    "collapsed": false,
    "pycharm": {
     "name": "#%%\n"
    }
   }
  },
  {
   "cell_type": "code",
   "execution_count": 4,
   "outputs": [
    {
     "name": "stdout",
     "output_type": "stream",
     "text": [
      "447 [('12260', 'Child Development Center', '3005', 20180, datetime.datetime(2099, 12, 31, 0, 0), 'A', '900120794', 'Katarina Orlic-Babic'), ('62471', 'CDC LAUP', '1500', 20180, datetime.datetime(2099, 12, 31, 0, 0), 'A', '900120794', 'Katarina Orlic-Babic'), ('62476', 'Quality Improvement Grant STEP', '1500', 20180, datetime.datetime(2099, 12, 31, 0, 0), 'A', '900120794', 'Katarina Orlic-Babic'), ('62494', 'CDSS Stipend', '3005', 20180, datetime.datetime(2099, 12, 31, 0, 0), 'A', '900120794', 'Katarina Orlic-Babic'), ('62030', 'Perkins IV', '1500', 58426, datetime.datetime(2099, 12, 31, 0, 0), 'A', '900017996', 'Catherine A. Hart'), ('62408', 'Economic & Workforce Development', '1500', 58426, datetime.datetime(2099, 12, 31, 0, 0), 'A', '900017996', 'Catherine A. Hart'), ('62477', 'Strong Workforce Program 60%', '1500', 58426, datetime.datetime(2099, 12, 31, 0, 0), 'A', '900017996', 'Catherine A. Hart'), ('62478', 'Strong Workforce Program 40%', '1500', 58426, datetime.datetime(2099, 12, 31, 0, 0), 'A', '900017996', 'Catherine A. Hart'), ('62484', 'Strong Workforce Program 60% 17-18', '1500', 58426, datetime.datetime(2099, 12, 31, 0, 0), 'A', '900017996', 'Catherine A. Hart'), ('13070', 'DSPS District Contribution', '1306', 65721, datetime.datetime(2099, 12, 31, 0, 0), 'A', '900108988', 'Louis A. Lucero'), ('13071', 'DHH District Required Match', '1306', 65721, datetime.datetime(2099, 12, 31, 0, 0), 'A', '900108988', 'Louis A. Lucero'), ('62450', 'Disabled Student Services', '1500', 65721, datetime.datetime(2099, 12, 31, 0, 0), 'A', '900108988', 'Louis A. Lucero'), ('62451', 'DHH Deaf & Hard of Hearing', '1500', 65721, datetime.datetime(2099, 12, 31, 0, 0), 'A', '900108988', 'Louis A. Lucero'), ('62452', 'DHH 25% District Match', '1306', 65721, datetime.datetime(2099, 12, 31, 0, 0), 'A', '900108988', 'Louis A. Lucero'), ('62453', 'Print & Electronic Info', '1500', 65721, datetime.datetime(2099, 12, 31, 0, 0), 'A', '900108988', 'Louis A. Lucero'), ('12201', 'Arts & Humanities Dean', '3008', 82362, datetime.datetime(2099, 12, 31, 0, 0), 'A', '900045386', 'Kathryn S. Mitchell'), ('12205', 'Arts & Humanities Instruction', '3008', 82362, datetime.datetime(2099, 12, 31, 0, 0), 'A', '900045386', 'Kathryn S. Mitchell'), ('12151', 'Career Technical Education Dean', '3002', 89783, datetime.datetime(2099, 12, 31, 0, 0), 'A', '900085650', 'Maria E. Clinton'), ('12155', 'Career Technical Ed Instruction', '3002', 89783, datetime.datetime(2099, 12, 31, 0, 0), 'A', '900085650', 'Maria E. Clinton'), ('12160', 'Faa Certification/Fox Field', '3002', 89783, datetime.datetime(2099, 12, 31, 0, 0), 'A', '900085650', 'Maria E. Clinton'), ('12161', 'Bach Degree Airframe PPlant Dean', '3002', 89783, datetime.datetime(2099, 12, 31, 0, 0), 'A', '900085650', 'Maria E. Clinton'), ('12165', 'Bach Degree Airframe PPlant Inst', '3002', 89783, datetime.datetime(2099, 12, 31, 0, 0), 'A', '900085650', 'Maria E. Clinton'), ('12301', 'Business & Comp Studies Dean', '3002', 89783, datetime.datetime(2099, 12, 31, 0, 0), 'A', '900085650', 'Maria E. Clinton'), ('12305', 'Business & Comp Studies Instr.', '3002', 89783, datetime.datetime(2099, 12, 31, 0, 0), 'A', '900085650', 'Maria E. Clinton'), ('62472', 'Kern CCD Proposition 39', '1500', 89783, datetime.datetime(2099, 12, 31, 0, 0), 'A', '900085650', 'Maria E. Clinton'), ('62474', 'Santa Barbara CCD CTE Enhancement', '1500', 89783, datetime.datetime(2099, 12, 31, 0, 0), 'A', '900085650', 'Maria E. Clinton'), ('62475', 'KERN CCD CLEAN ENERGY PROP 39', '1500', 89783, datetime.datetime(2099, 12, 31, 0, 0), 'A', '900085650', 'Maria E. Clinton'), ('62479', 'KERN CCD CLN ENRGY PROP 39 Mini', '1500', 89783, datetime.datetime(2099, 12, 31, 0, 0), 'A', '900085650', 'Maria E. Clinton'), ('62480', 'CTE Data Unlock Initiative', '1500', 89783, datetime.datetime(2099, 12, 31, 0, 0), 'A', '900085650', 'Maria E. Clinton'), ('62481', 'I Can Afford College for BA Degree', '1500', 89783, datetime.datetime(2099, 12, 31, 0, 0), 'A', '900085650', 'Maria E. Clinton'), ('11031', 'Disaster Preparedness', '2001', 99060, datetime.datetime(2099, 12, 31, 0, 0), 'A', '900068298', 'Terry W. Cleveland'), ('11032', 'Risk Management', '2001', 99060, datetime.datetime(2099, 12, 31, 0, 0), 'A', '900068298', 'Terry W. Cleveland'), ('13010', 'Enrollment Services', '1301', 99522, datetime.datetime(2099, 12, 31, 0, 0), 'A', '900077218', 'LaDonna Trimble'), ('13206', 'Enrollment Services Dean', '1301', 99522, datetime.datetime(2099, 12, 31, 0, 0), 'A', '900077218', 'LaDonna Trimble'), ('62409', 'Learning-Aligned Employment Program', '1500', 99522, datetime.datetime(2099, 12, 31, 0, 0), 'A', '900077218', 'LaDonna Trimble'), ('62460', 'SSSP', '1500', 99522, datetime.datetime(2099, 12, 31, 0, 0), 'A', '900077218', 'LaDonna Trimble'), ('62461', 'SSSP Non Credit', '1500', 99522, datetime.datetime(2099, 12, 31, 0, 0), 'A', '900077218', 'LaDonna Trimble'), ('62701', 'Proctoring', '1500', 99522, datetime.datetime(2099, 12, 31, 0, 0), 'A', '900077218', 'LaDonna Trimble'), ('62035', 'Teacher Preparation Program-Fed', '1500', 122327, datetime.datetime(2099, 12, 31, 0, 0), 'A', '900052802', 'Andrea Sanders'), ('62436', 'Teacher Preparation Program', '1500', 122327, datetime.datetime(2099, 12, 31, 0, 0), 'A', '900052802', 'Andrea Sanders'), ('62488', 'Child and Family Education', '1500', 122327, datetime.datetime(2099, 12, 31, 0, 0), 'A', '900052802', 'Andrea Sanders'), ('62706', 'Child Dev Training Consortium', '1500', 122327, datetime.datetime(2099, 12, 31, 0, 0), 'A', '900052802', 'Andrea Sanders'), ('12351', 'Math/Science/Engineering Dean', '3006', 122348, datetime.datetime(2099, 12, 31, 0, 0), 'A', '900131792', 'Christos Valiotis'), ('12355', 'Math Instruction', '3006', 122348, datetime.datetime(2099, 12, 31, 0, 0), 'A', '900131792', 'Christos Valiotis'), ('12360', 'Science Instruction', '3006', 122348, datetime.datetime(2099, 12, 31, 0, 0), 'A', '900131792', 'Christos Valiotis'), ('62016', 'NSF Bees Sub-award', '1500', 122348, datetime.datetime(2099, 12, 31, 0, 0), 'A', '900131792', 'Christos Valiotis'), ('62042', 'Title V - COOP', '1500', 122348, datetime.datetime(2099, 12, 31, 0, 0), 'A', '900131792', 'Christos Valiotis'), ('62050', 'Title V Solo Grant', '1500', 122348, datetime.datetime(2099, 12, 31, 0, 0), 'A', '900131792', 'Christos Valiotis'), ('62719', 'Kaiser Sim Collaboration', '1500', 122348, datetime.datetime(2099, 12, 31, 0, 0), 'A', '900131792', 'Christos Valiotis'), ('15857', 'Library Books & Periodicals', '3001', 125044, datetime.datetime(2099, 12, 31, 0, 0), 'A', '900128009', 'Leslie S. Uhazy'), ('14500', 'Utilities', '1450', 131513, datetime.datetime(2099, 12, 31, 0, 0), 'A', '900041226', 'Doug R. Jensen'), ('14560', 'Facilities Services - TEMP', '1450', 131513, datetime.datetime(2099, 12, 31, 0, 0), 'A', '900041226', 'Doug R. Jensen'), ('15082', 'SSERV Electrical Expansion', '1451', 131513, datetime.datetime(2099, 12, 31, 0, 0), 'A', '900041226', 'Doug R. Jensen'), ('15502', 'Modulars', '1451', 131513, datetime.datetime(2099, 12, 31, 0, 0), 'A', '900041226', 'Doug R. Jensen'), ('15701', 'Palmdale projects', '1451', 131513, datetime.datetime(2099, 12, 31, 0, 0), 'A', '900041226', 'Doug R. Jensen'), ('15702', 'Ada Evaluation', '1451', 131513, datetime.datetime(2099, 12, 31, 0, 0), 'A', '900041226', 'Doug R. Jensen'), ('15710', 'Chilled Water Loop', '1451', 131513, datetime.datetime(2099, 12, 31, 0, 0), 'A', '900041226', 'Doug R. Jensen'), ('15711', 'Replace Doors & Hardware', '1451', 131513, datetime.datetime(2099, 12, 31, 0, 0), 'A', '900041226', 'Doug R. Jensen'), ('15712', 'Exterior Lighting Project', '1451', 131513, datetime.datetime(2099, 12, 31, 0, 0), 'A', '900041226', 'Doug R. Jensen'), ('15713', 'Solar Panel Project', '1451', 131513, datetime.datetime(2099, 12, 31, 0, 0), 'A', '900041226', 'Doug R. Jensen'), ('15714', 'Student Center Remodel', '1451', 131513, datetime.datetime(2099, 12, 31, 0, 0), 'A', '900041226', 'Doug R. Jensen'), ('15715', 'Master Plan', '1451', 131513, datetime.datetime(2099, 12, 31, 0, 0), 'A', '900041226', 'Doug R. Jensen'), ('15725', 'Baseball Facility', '14505', 131513, datetime.datetime(2099, 12, 31, 0, 0), 'A', '900041226', 'Doug R. Jensen'), ('15755', '2010 Capital Outlay', '1451', 131513, datetime.datetime(2099, 12, 31, 0, 0), 'A', '900041226', 'Doug R. Jensen'), ('15851', 'Palmdale Regional Airport', '1451', 131513, datetime.datetime(2099, 12, 31, 0, 0), 'A', '900041226', 'Doug R. Jensen'), ('13051', 'Student Life', '1305', 140437, datetime.datetime(2099, 12, 31, 0, 0), 'A', '900116143', 'Jill Zimmerman'), ('13052', \"Associated Student's Org.\", '1305', 140437, datetime.datetime(2099, 12, 31, 0, 0), 'A', '900116143', 'Jill Zimmerman'), ('13053', 'Student Programs & Services', '1305', 140437, datetime.datetime(2099, 12, 31, 0, 0), 'A', '900116143', 'Jill Zimmerman'), ('13054', 'Commencement', '1305', 140437, datetime.datetime(2099, 12, 31, 0, 0), 'A', '900116143', 'Jill Zimmerman'), ('13101', 'ASO Billing', '1305', 140437, datetime.datetime(2099, 12, 31, 0, 0), 'A', '900116143', 'Jill Zimmerman'), ('13208', 'Outreach', '1305', 140437, datetime.datetime(2099, 12, 31, 0, 0), 'A', '900116143', 'Jill Zimmerman'), ('13209', \"Veteran's Services\", '1305', 140437, datetime.datetime(2099, 12, 31, 0, 0), 'A', '900116143', 'Jill Zimmerman'), ('13220', 'Job Placement Center', '1305', 140437, datetime.datetime(2099, 12, 31, 0, 0), 'A', '900116143', 'Jill Zimmerman'), ('13300', 'FWS Required District Match', '1305', 140437, datetime.datetime(2099, 12, 31, 0, 0), 'A', '900116143', 'Jill Zimmerman'), ('13400', 'Financial Aid', '1305', 140437, datetime.datetime(2099, 12, 31, 0, 0), 'A', '900116143', 'Jill Zimmerman'), ('13800', 'Student Representation Fee', '1305', 140437, datetime.datetime(2099, 12, 31, 0, 0), 'A', '900116143', 'Jill Zimmerman'), ('62055', 'Title V 1st Year Experience', '1500', 140437, datetime.datetime(2099, 12, 31, 0, 0), 'A', '900116143', 'Jill Zimmerman'), ('62060', 'TITLE V 2nd Year Experience', '1500', 140437, datetime.datetime(2099, 12, 31, 0, 0), 'A', '900116143', 'Jill Zimmerman'), ('62300', 'Pell Grants', '1500', 140437, datetime.datetime(2099, 12, 31, 0, 0), 'A', '900116143', 'Jill Zimmerman'), ('62309', 'Financial Aid Passthrough', '1500', 140437, datetime.datetime(2099, 12, 31, 0, 0), 'A', '900116143', 'Jill Zimmerman'), ('62310', 'Direct Loan', '1500', 140437, datetime.datetime(2099, 12, 31, 0, 0), 'A', '900116143', 'Jill Zimmerman'), ('62407', 'College & Career Access Pathways', '1500', 140437, datetime.datetime(2099, 12, 31, 0, 0), 'A', '900116143', 'Jill Zimmerman'), ('62412', 'Veterans One-Time Funding', '1500', 140437, datetime.datetime(2099, 12, 31, 0, 0), 'A', '900116143', 'Jill Zimmerman'), ('62423', 'California Campus Catalyst Fund', '1500', 140437, datetime.datetime(2099, 12, 31, 0, 0), 'A', '900116143', 'Jill Zimmerman'), ('62424', 'Veterans Resource Cntr Ongoing', '1500', 140437, datetime.datetime(2099, 12, 31, 0, 0), 'A', '900116143', 'Jill Zimmerman'), ('62426', 'California College Promise', '1500', 140437, datetime.datetime(2099, 12, 31, 0, 0), 'A', '900116143', 'Jill Zimmerman'), ('62430', 'Stud Financial Aid Assist-Bfap', '1500', 140437, datetime.datetime(2099, 12, 31, 0, 0), 'A', '900116143', 'Jill Zimmerman'), ('62435', 'Financial Aid Technology', '1500', 140437, datetime.datetime(2099, 12, 31, 0, 0), 'A', '900116143', 'Jill Zimmerman'), ('62437', 'Rapid Rehousing Fund', '1500', 140437, datetime.datetime(2099, 12, 31, 0, 0), 'A', '900116143', 'Jill Zimmerman'), ('62447', 'Undocumented Resources Liasions', '1500', 140437, datetime.datetime(2099, 12, 31, 0, 0), 'A', '900116143', 'Jill Zimmerman'), ('62448', 'Calfresh Outreach', '1500', 140437, datetime.datetime(2099, 12, 31, 0, 0), 'A', '900116143', 'Jill Zimmerman'), ('62449', 'Retention and Enrollment Outreach', '1500', 140437, datetime.datetime(2099, 12, 31, 0, 0), 'A', '900116143', 'Jill Zimmerman'), ('62462', 'Student Equity', '1500', 140437, datetime.datetime(2099, 12, 31, 0, 0), 'A', '900116143', 'Jill Zimmerman'), ('62464', 'Basic Needs Centers', '1500', 140437, datetime.datetime(2099, 12, 31, 0, 0), 'A', '900116143', 'Jill Zimmerman'), ('62467', 'Student Food and Housing Support', '1500', 140437, datetime.datetime(2099, 12, 31, 0, 0), 'A', '900116143', 'Jill Zimmerman'), ('62469', 'LGBTQ+', '1500', 140437, datetime.datetime(2099, 12, 31, 0, 0), 'A', '900116143', 'Jill Zimmerman'), ('62482', 'Hunger Free Campus', '1500', 140437, datetime.datetime(2099, 12, 31, 0, 0), 'A', '900116143', 'Jill Zimmerman'), ('62483', 'SWP Job Developer', '1500', 140437, datetime.datetime(2099, 12, 31, 0, 0), 'A', '900116143', 'Jill Zimmerman'), ('62486', 'Campus Safety & Sexual Assault', '1500', 140437, datetime.datetime(2099, 12, 31, 0, 0), 'A', '900116143', 'Jill Zimmerman'), ('62487', 'Mental Health Support', '1500', 140437, datetime.datetime(2099, 12, 31, 0, 0), 'A', '900116143', 'Jill Zimmerman'), ('62490', 'Rising Scholars Network', '1500', 140437, datetime.datetime(2099, 12, 31, 0, 0), 'A', '900116143', 'Jill Zimmerman'), ('62493', 'CAI-Home Visitor Apprenticeship', '1500', 140437, datetime.datetime(2099, 12, 31, 0, 0), 'A', '900116143', 'Jill Zimmerman'), ('62601', 'FT Student Success Grant', '1500', 140437, datetime.datetime(2099, 12, 31, 0, 0), 'A', '900116143', 'Jill Zimmerman'), ('62603', 'Dreamer Students One Time 17-18', '1500', 140437, datetime.datetime(2099, 12, 31, 0, 0), 'A', '900116143', 'Jill Zimmerman'), ('62606', 'Emergency SFA SB 85', '1500', 140437, datetime.datetime(2099, 12, 31, 0, 0), 'A', '900116143', 'Jill Zimmerman'), ('62702', 'Early College High School FCCC', '1500', 140437, datetime.datetime(2099, 12, 31, 0, 0), 'A', '900116143', 'Jill Zimmerman'), ('62703', 'Student Health Services', '1500', 140437, datetime.datetime(2099, 12, 31, 0, 0), 'A', '900116143', 'Jill Zimmerman'), ('62710', 'Truth Initiative', '1500', 140437, datetime.datetime(2099, 12, 31, 0, 0), 'A', '900116143', 'Jill Zimmerman'), ('62762', 'Youth Apprenticeship Program', '1500', 140437, datetime.datetime(2099, 12, 31, 0, 0), 'A', '900116143', 'Jill Zimmerman'), ('62782', 'Hunger Free Donation', '1500', 140437, datetime.datetime(2099, 12, 31, 0, 0), 'A', '900116143', 'Jill Zimmerman'), ('12107', 'Distance Education', '3009', 237307, datetime.datetime(2099, 12, 31, 0, 0), 'A', '900174768', 'Duane Rumsey'), ('12215', 'Art Gallery', '3008', 237307, datetime.datetime(2099, 12, 31, 0, 0), 'A', '900174768', 'Duane Rumsey'), ('12220', 'Summer Musical', '3008', 237307, datetime.datetime(2099, 12, 31, 0, 0), 'A', '900174768', 'Duane Rumsey'), ('12221', 'Theatre Productions', '3008', 237307, datetime.datetime(2099, 12, 31, 0, 0), 'A', '900174768', 'Duane Rumsey'), ('12251', 'Social & Behavioral Sciences Dean', '3005', 237307, datetime.datetime(2099, 12, 31, 0, 0), 'A', '900174768', 'Duane Rumsey'), ('12255', 'Social & Behavioral Sciences Inst', '3005', 237307, datetime.datetime(2099, 12, 31, 0, 0), 'A', '900174768', 'Duane Rumsey'), ('12256', 'Model United Nations', '3005', 237307, datetime.datetime(2099, 12, 31, 0, 0), 'A', '900174768', 'Duane Rumsey'), ('12850', 'Work Experience', '3009', 237307, datetime.datetime(2099, 12, 31, 0, 0), 'A', '900174768', 'Duane Rumsey'), ('62416', 'Foster parent training grant', '1500', 237307, datetime.datetime(2099, 12, 31, 0, 0), 'A', '900174768', 'Duane Rumsey'), ('62434', 'RAMP UP VVC', '1500', 237307, datetime.datetime(2099, 12, 31, 0, 0), 'A', '900174768', 'Duane Rumsey'), ('11050', 'Public Relations', '1002', 256219, datetime.datetime(2099, 12, 31, 0, 0), 'A', '900181644', 'Elizabeth B. Diachun'), ('13080', 'Calworks District Required Match', '1306', 299598, datetime.datetime(2099, 12, 31, 0, 0), 'A', '900204396', 'Gary A. Roggenstein'), ('13215', 'Transfer Center', '1306', 299598, datetime.datetime(2099, 12, 31, 0, 0), 'A', '900204396', 'Gary A. Roggenstein'), ('62020', 'Tanf - Federal', '1500', 299598, datetime.datetime(2099, 12, 31, 0, 0), 'A', '900204396', 'Gary A. Roggenstein'), ('62420', 'Tanf - State', '1500', 299598, datetime.datetime(2099, 12, 31, 0, 0), 'A', '900204396', 'Gary A. Roggenstein'), ('62470', 'DSS Calworks', '1500', 299598, datetime.datetime(2099, 12, 31, 0, 0), 'A', '900204396', 'Gary A. Roggenstein'), ('14505', 'Facilities Services', '1450', 328078, datetime.datetime(2099, 12, 31, 0, 0), 'A', '900232918', 'Dawn K. McIntosh'), ('17029', 'Campus Infrastructure PHS I', '1451', 328078, datetime.datetime(2099, 12, 31, 0, 0), 'A', '900232918', 'Dawn K. McIntosh'), ('17030', 'PHS I Swing Space', '1451', 328078, datetime.datetime(2099, 12, 31, 0, 0), 'A', '900232918', 'Dawn K. McIntosh'), ('17037', 'Student Services Bldg', '1451', 328078, datetime.datetime(2099, 12, 31, 0, 0), 'A', '900232918', 'Dawn K. McIntosh'), ('17038', 'J-12/30th Main Entrance', '1451', 328078, datetime.datetime(2099, 12, 31, 0, 0), 'A', '900232918', 'Dawn K. McIntosh'), ('17039', 'Career Tech Ed T503/504 Reloc', '1451', 328078, datetime.datetime(2099, 12, 31, 0, 0), 'A', '900232918', 'Dawn K. McIntosh'), ('17040', 'Community Center Building', '1451', 328078, datetime.datetime(2099, 12, 31, 0, 0), 'A', '900232918', 'Dawn K. McIntosh'), ('17041', 'Marauder Complex-Modular FieldHouse', '1451', 328078, datetime.datetime(2099, 12, 31, 0, 0), 'A', '900232918', 'Dawn K. McIntosh'), ('17042', 'General Conditions & Logistics', '1451', 328078, datetime.datetime(2099, 12, 31, 0, 0), 'A', '900232918', 'Dawn K. McIntosh'), ('17108', 'Career Tech Ed T503/504 Reloc', '1451', 328078, datetime.datetime(2099, 12, 31, 0, 0), 'A', '900232918', 'Dawn K. McIntosh'), ('17109', 'Student Services Bldg', '1451', 328078, datetime.datetime(2099, 12, 31, 0, 0), 'A', '900232918', 'Dawn K. McIntosh'), ('17110', 'J-12/30th Main Entrance', '1451', 328078, datetime.datetime(2099, 12, 31, 0, 0), 'A', '900232918', 'Dawn K. McIntosh'), ('17111', 'Tennis Courts', '1451', 328078, datetime.datetime(2099, 12, 31, 0, 0), 'A', '900232918', 'Dawn K. McIntosh'), ('17112', 'Community Center', '1451', 328078, datetime.datetime(2099, 12, 31, 0, 0), 'A', '900232918', 'Dawn K. McIntosh'), ('17113', 'Adaptive Swimming Pool', '1451', 328078, datetime.datetime(2099, 12, 31, 0, 0), 'A', '900232918', 'Dawn K. McIntosh'), ('17140', 'Campus Security Building', '1451', 328078, datetime.datetime(2099, 12, 31, 0, 0), 'A', '900232918', 'Dawn K. McIntosh'), ('17196', 'Gym Reno 17-002', '1451', 328078, datetime.datetime(2099, 12, 31, 0, 0), 'A', '900232918', 'Dawn K. McIntosh'), ('17199', 'Palmdale Center Expansion', '1451', 328078, datetime.datetime(2099, 12, 31, 0, 0), 'A', '900232918', 'Dawn K. McIntosh'), ('17200', '2015 Lease Rev Palm Debt Apr 17', '1400', 328078, datetime.datetime(2099, 12, 31, 0, 0), 'A', '900232918', 'Dawn K. McIntosh'), ('17801', 'Inst. Bldg 1/LC Demo', '1451', 328078, datetime.datetime(2099, 12, 31, 0, 0), 'A', '900232918', 'Dawn K. McIntosh'), ('18004', 'PE Field Renovation 18004', '1451', 328078, datetime.datetime(2099, 12, 31, 0, 0), 'A', '900232918', 'Dawn K. McIntosh'), ('18010', 'Waste & Recycling Center Renovation', '1451', 328078, datetime.datetime(2099, 12, 31, 0, 0), 'A', '900232918', 'Dawn K. McIntosh'), ('18011', 'Swing Phase 2', '1451', 328078, datetime.datetime(2099, 12, 31, 0, 0), 'A', '900232918', 'Dawn K. McIntosh'), ('18012', 'Palmdale Center Technology Facility', '1451', 328078, datetime.datetime(2099, 12, 31, 0, 0), 'A', '900232918', 'Dawn K. McIntosh'), ('18021', 'Cedar Hall and Joshua Hall', '1451', 328078, datetime.datetime(2099, 12, 31, 0, 0), 'A', '900232918', 'Dawn K. McIntosh'), ('19003', 'ADA Campus Wide Improvement 19-003', '1451', 328078, datetime.datetime(2099, 12, 31, 0, 0), 'A', '900232918', 'Dawn K. McIntosh'), ('19004', 'HVAC Mechanical Upgrade 19-004', '1451', 328078, datetime.datetime(2099, 12, 31, 0, 0), 'A', '900232918', 'Dawn K. McIntosh'), ('20007', 'APL Flooring Replacement', '1451', 328078, datetime.datetime(2099, 12, 31, 0, 0), 'A', '900232918', 'Dawn K. McIntosh'), ('20010', 'Campus Flooring Replacement Phase 2', '1451', 328078, datetime.datetime(2099, 12, 31, 0, 0), 'A', '900232918', 'Dawn K. McIntosh'), ('20012', 'Fox Field Hangar', '1451', 328078, datetime.datetime(2099, 12, 31, 0, 0), 'A', '900232918', 'Dawn K. McIntosh'), ('20014', 'PalmdaleProperty-Survey&Maintenance', '1451', 328078, datetime.datetime(2099, 12, 31, 0, 0), 'A', '900232918', 'Dawn K. McIntosh'), ('22006', 'Condenser Tube Repairs', '1451', 328078, datetime.datetime(2099, 12, 31, 0, 0), 'A', '900232918', 'Dawn K. McIntosh'), ('22007', 'Door Access Controls Upgrade', '1451', 328078, datetime.datetime(2099, 12, 31, 0, 0), 'A', '900232918', 'Dawn K. McIntosh'), ('22008', 'A,FA3,L,YH,UH&MH CarpetSignagePaint', '1451', 328078, datetime.datetime(2099, 12, 31, 0, 0), 'A', '900232918', 'Dawn K. McIntosh'), ('22009', 'Irrigation Upgrade', '1451', 328078, datetime.datetime(2099, 12, 31, 0, 0), 'A', '900232918', 'Dawn K. McIntosh'), ('22010', 'Administration & CDC Roof Repairs', '1451', 328078, datetime.datetime(2099, 12, 31, 0, 0), 'A', '900232918', 'Dawn K. McIntosh'), ('22011', 'Library & MesHall Elevator Upgrades', '1451', 328078, datetime.datetime(2099, 12, 31, 0, 0), 'A', '900232918', 'Dawn K. McIntosh'), ('22012', 'LearnCtr & FineArts ExteriorUpgrade', '1451', 328078, datetime.datetime(2099, 12, 31, 0, 0), 'A', '900232918', 'Dawn K. McIntosh'), ('22013', 'Yoshida Hall Offices Renovation', '1451', 328078, datetime.datetime(2099, 12, 31, 0, 0), 'A', '900232918', 'Dawn K. McIntosh'), ('22014', 'Outdoor Fitness Center', '1451', 328078, datetime.datetime(2099, 12, 31, 0, 0), 'A', '900232918', 'Dawn K. McIntosh'), ('22015', 'Learning Center Renovation Project', '1451', 328078, datetime.datetime(2099, 12, 31, 0, 0), 'A', '900232918', 'Dawn K. McIntosh'), ('22016', 'Math Engineering Renovation Project', '1451', 328078, datetime.datetime(2099, 12, 31, 0, 0), 'A', '900232918', 'Dawn K. McIntosh'), ('22017', 'Student Center Renovation Project', '1451', 328078, datetime.datetime(2099, 12, 31, 0, 0), 'A', '900232918', 'Dawn K. McIntosh'), ('62718', 'AT&T Cell Tower Projects', '1500', 328078, datetime.datetime(2099, 12, 31, 0, 0), 'A', '900232918', 'Dawn K. McIntosh'), ('11150', 'Information Technology Service', '1003', 368769, datetime.datetime(2099, 12, 31, 0, 0), 'A', '900273616', 'Rick R. Shaw'), ('12725', 'Instructional Multimedia Cntr', '1003', 368769, datetime.datetime(2099, 12, 31, 0, 0), 'A', '900273616', 'Rick R. Shaw'), ('15852', 'Computer Refresh', '1003', 368769, datetime.datetime(2099, 12, 31, 0, 0), 'A', '900273616', 'Rick R. Shaw'), ('15853', 'Server Refresh', '1003', 368769, datetime.datetime(2099, 12, 31, 0, 0), 'A', '900273616', 'Rick R. Shaw'), ('15855', 'Virtual Science Lab Audio Visual', '1003', 368769, datetime.datetime(2099, 12, 31, 0, 0), 'A', '900273616', 'Rick R. Shaw'), ('12930', 'Staff Development', '1400', 372807, datetime.datetime(2099, 12, 31, 0, 0), 'A', '900277670', 'Kim E. Correa'), ('11025', 'General Counsel', '1001', 374152, datetime.datetime(2099, 12, 31, 0, 0), 'A', '900279014', 'Ed T. Knudson'), ('11030', 'Human Resources', '2001', 374152, datetime.datetime(2099, 12, 31, 0, 0), 'A', '900279014', 'Ed T. Knudson'), ('11033', 'ADA Compliance', '2001', 374152, datetime.datetime(2099, 12, 31, 0, 0), 'A', '900279014', 'Ed T. Knudson'), ('11034', 'Non-ADA Accommodations', '2001', 374152, datetime.datetime(2099, 12, 31, 0, 0), 'A', '900279014', 'Ed T. Knudson'), ('11035', 'Payroll', '2001', 374152, datetime.datetime(2099, 12, 31, 0, 0), 'A', '900279014', 'Ed T. Knudson'), ('11060', 'Auxiliary Services', '5000', 374152, datetime.datetime(2099, 12, 31, 0, 0), 'A', '900279014', 'Ed T. Knudson'), ('11200', 'Board Of Trustees', '1001', 374152, datetime.datetime(2099, 12, 31, 0, 0), 'A', '900279014', 'Ed T. Knudson'), ('11201', 'Internal Audit', '1001', 374152, datetime.datetime(2099, 12, 31, 0, 0), 'A', '900279014', 'Ed T. Knudson'), ('11800', 'Accreditation', '3001', 374152, datetime.datetime(2099, 12, 31, 0, 0), 'A', '900279014', 'Ed T. Knudson'), ('12901', 'Faculty Bargaining Unit', '2001', 374152, datetime.datetime(2099, 12, 31, 0, 0), 'A', '900279014', 'Ed T. Knudson'), ('12911', 'Academic Senate', '1001', 374152, datetime.datetime(2099, 12, 31, 0, 0), 'A', '900279014', 'Ed T. Knudson'), ('13000', 'Vice President, Student Srvcs', '1300', 374152, datetime.datetime(2099, 12, 31, 0, 0), 'A', '900279014', 'Ed T. Knudson'), ('14000', 'Vice President, Administrative Serv', '1001', 374152, datetime.datetime(2099, 12, 31, 0, 0), 'A', '900279014', 'Ed T. Knudson'), ('14005', 'Classified Bargaining Unit', '1300', 374152, datetime.datetime(2099, 12, 31, 0, 0), 'A', '900279014', 'Ed T. Knudson'), ('14600', 'Campus Safety', '1001', 374152, datetime.datetime(2099, 12, 31, 0, 0), 'A', '900279014', 'Ed T. Knudson'), ('15717', 'AVC Road Projects', '1451', 374152, datetime.datetime(2099, 12, 31, 0, 0), 'A', '900279014', 'Ed T. Knudson'), ('15719', 'Extrior Lghtg PH III', '1451', 374152, datetime.datetime(2099, 12, 31, 0, 0), 'A', '900279014', 'Ed T. Knudson'), ('15720', 'Health Science FPP', '1451', 374152, datetime.datetime(2099, 12, 31, 0, 0), 'A', '900279014', 'Ed T. Knudson'), ('15721', 'Baseball Field Repairs', '1451', 374152, datetime.datetime(2099, 12, 31, 0, 0), 'A', '900279014', 'Ed T. Knudson'), ('15722', 'EIR - Environment Impact Rpt', '1451', 374152, datetime.datetime(2099, 12, 31, 0, 0), 'A', '900279014', 'Ed T. Knudson'), ('15723', 'Maintenance OPS Building', '1451', 374152, datetime.datetime(2099, 12, 31, 0, 0), 'A', '900279014', 'Ed T. Knudson'), ('15724', 'Emergency Lighting', '1451', 374152, datetime.datetime(2099, 12, 31, 0, 0), 'A', '900279014', 'Ed T. Knudson'), ('15727', 'Replace Obsolete Locks', '1451', 374152, datetime.datetime(2099, 12, 31, 0, 0), 'A', '900279014', 'Ed T. Knudson'), ('15728', 'Administrative Costs', '1451', 374152, datetime.datetime(2099, 12, 31, 0, 0), 'A', '900279014', 'Ed T. Knudson'), ('15730', 'Theatre Arts Bldg', '1451', 374152, datetime.datetime(2099, 12, 31, 0, 0), 'A', '900279014', 'Ed T. Knudson'), ('15731', 'ADA IMP PHS1', '1451', 374152, datetime.datetime(2099, 12, 31, 0, 0), 'A', '900279014', 'Ed T. Knudson'), ('15732', 'District Design Standards', '1451', 374152, datetime.datetime(2099, 12, 31, 0, 0), 'A', '900279014', 'Ed T. Knudson'), ('15735', 'Rplc&Upgd Cmps Infrstr', '1451', 374152, datetime.datetime(2099, 12, 31, 0, 0), 'A', '900279014', 'Ed T. Knudson'), ('15737', 'Roof Repair Campuswide', '1451', 374152, datetime.datetime(2099, 12, 31, 0, 0), 'A', '900279014', 'Ed T. Knudson'), ('15738', 'Facilities Plng Serv', '1451', 374152, datetime.datetime(2099, 12, 31, 0, 0), 'A', '900279014', 'Ed T. Knudson'), ('15740', 'Gym Remodel', '1451', 374152, datetime.datetime(2099, 12, 31, 0, 0), 'A', '900279014', 'Ed T. Knudson'), ('15743', 'Ag Labs & Grnhouse', '1451', 374152, datetime.datetime(2099, 12, 31, 0, 0), 'A', '900279014', 'Ed T. Knudson'), ('15744', 'Campus Safety Camera System', '1451', 374152, datetime.datetime(2099, 12, 31, 0, 0), 'A', '900279014', 'Ed T. Knudson'), ('15745', 'Message Sign', '1451', 374152, datetime.datetime(2099, 12, 31, 0, 0), 'A', '900279014', 'Ed T. Knudson'), ('15750', 'West Campus expansion', '1451', 374152, datetime.datetime(2099, 12, 31, 0, 0), 'A', '900279014', 'Ed T. Knudson'), ('15756', 'Air Compressor Replacement', '1451', 374152, datetime.datetime(2099, 12, 31, 0, 0), 'A', '900279014', 'Ed T. Knudson'), ('15757', \"Veteran's Center\", '1451', 374152, datetime.datetime(2099, 12, 31, 0, 0), 'A', '900279014', 'Ed T. Knudson'), ('15758', 'Teaching & Learning Center', '1451', 374152, datetime.datetime(2099, 12, 31, 0, 0), 'A', '900279014', 'Ed T. Knudson'), ('15759', 'Track High Jump Replacement', '1451', 374152, datetime.datetime(2099, 12, 31, 0, 0), 'A', '900279014', 'Ed T. Knudson'), ('15760', 'Energy Management Systems Upgrade', '1451', 374152, datetime.datetime(2099, 12, 31, 0, 0), 'A', '900279014', 'Ed T. Knudson'), ('15761', 'New Palmdale Center Building', '1451', 374152, datetime.datetime(2099, 12, 31, 0, 0), 'A', '900279014', 'Ed T. Knudson'), ('15762', 'SS Corridor Flooring Replacment', '1451', 374152, datetime.datetime(2099, 12, 31, 0, 0), 'A', '900279014', 'Ed T. Knudson'), ('15764', 'Admin Reno, Firesafe & Cabinets', '1451', 374152, datetime.datetime(2099, 12, 31, 0, 0), 'A', '900279014', 'Ed T. Knudson'), ('15765', 'Basketball Floor Replacement', '1451', 374152, datetime.datetime(2099, 12, 31, 0, 0), 'A', '900279014', 'Ed T. Knudson'), ('15766', 'Foundation Remodel & Furniture', '1451', 374152, datetime.datetime(2099, 12, 31, 0, 0), 'A', '900279014', 'Ed T. Knudson'), ('15770', 'Landscape Projects', '1451', 374152, datetime.datetime(2099, 12, 31, 0, 0), 'A', '900279014', 'Ed T. Knudson'), ('15771', 'Elevator Projects', '1451', 374152, datetime.datetime(2099, 12, 31, 0, 0), 'A', '900279014', 'Ed T. Knudson'), ('15772', 'Campus Restroom Renovations', '1451', 374152, datetime.datetime(2099, 12, 31, 0, 0), 'A', '900279014', 'Ed T. Knudson'), ('15773', 'Choral Room Renovations', '1451', 374152, datetime.datetime(2099, 12, 31, 0, 0), 'A', '900279014', 'Ed T. Knudson'), ('15774', 'AT&T Cell Tower', '1451', 374152, datetime.datetime(2099, 12, 31, 0, 0), 'A', '900279014', 'Ed T. Knudson'), ('15775', 'Sand Volleyball Facility', '1451', 374152, datetime.datetime(2099, 12, 31, 0, 0), 'A', '900279014', 'Ed T. Knudson'), ('15776', 'Tennis Court Renovations', '1451', 374152, datetime.datetime(2099, 12, 31, 0, 0), 'A', '900279014', 'Ed T. Knudson'), ('15777', 'Engineering Building', '1451', 374152, datetime.datetime(2099, 12, 31, 0, 0), 'A', '900279014', 'Ed T. Knudson'), ('15778', 'Campus Curbs & Walkways', '1451', 374152, datetime.datetime(2099, 12, 31, 0, 0), 'A', '900279014', 'Ed T. Knudson'), ('15779', 'Replace/Repair Campus Roofs', '1451', 374152, datetime.datetime(2099, 12, 31, 0, 0), 'A', '900279014', 'Ed T. Knudson'), ('15780', 'Window & Wall Repair', '1451', 374152, datetime.datetime(2099, 12, 31, 0, 0), 'A', '900279014', 'Ed T. Knudson'), ('15781', 'Student Lounge Renovation', '1451', 374152, datetime.datetime(2099, 12, 31, 0, 0), 'A', '900279014', 'Ed T. Knudson'), ('15782', 'Elect Expan TE2 Robotic Welder', '1451', 374152, datetime.datetime(2099, 12, 31, 0, 0), 'A', '900279014', 'Ed T. Knudson'), ('15783', 'Campus Flooring Replacement', '1451', 374152, datetime.datetime(2099, 12, 31, 0, 0), 'A', '900279014', 'Ed T. Knudson'), ('15846', 'LED Lighting INACTIVE USE 15849', '1451', 374152, datetime.datetime(2099, 12, 31, 0, 0), 'A', '900279014', 'Ed T. Knudson'), ('15847', 'Replace Gym Boiler', '1451', 374152, datetime.datetime(2099, 12, 31, 0, 0), 'A', '900279014', 'Ed T. Knudson'), ('15848', 'Campus Restrooms Renovation SM', '1451', 374152, datetime.datetime(2099, 12, 31, 0, 0), 'A', '900279014', 'Ed T. Knudson'), ('15849', 'Prop 39 energy projects', '1451', 374152, datetime.datetime(2099, 12, 31, 0, 0), 'A', '900279014', 'Ed T. Knudson'), ('15850', 'Foxfield Renovations', '1451', 374152, datetime.datetime(2099, 12, 31, 0, 0), 'A', '900279014', 'Ed T. Knudson'), ('15854', 'ME HVAC', '1451', 374152, datetime.datetime(2099, 12, 31, 0, 0), 'A', '900279014', 'Ed T. Knudson'), ('15856', 'TE7 101 F18 Trng Mod Replcmnt', '3001', 374152, datetime.datetime(2099, 12, 31, 0, 0), 'A', '900279014', 'Ed T. Knudson'), ('15858', 'Instructional Equipment', '3001', 374152, datetime.datetime(2099, 12, 31, 0, 0), 'A', '900279014', 'Ed T. Knudson'), ('15859', 'Track High Jump Replacement', '1451', 374152, datetime.datetime(2099, 12, 31, 0, 0), 'A', '900279014', 'Ed T. Knudson'), ('15860', 'Parking Lot #9 Lighting', '1451', 374152, datetime.datetime(2099, 12, 31, 0, 0), 'A', '900279014', 'Ed T. Knudson'), ('15861', 'Facilities/M&O Funding', '1451', 374152, datetime.datetime(2099, 12, 31, 0, 0), 'A', '900279014', 'Ed T. Knudson'), ('15862', 'CDC Shade Structure', '1451', 374152, datetime.datetime(2099, 12, 31, 0, 0), 'A', '900279014', 'Ed T. Knudson'), ('15863', 'District Furniture Replace/Addition', '1451', 374152, datetime.datetime(2099, 12, 31, 0, 0), 'A', '900279014', 'Ed T. Knudson'), ('15865', 'Basketball Floor Replacement', '1451', 374152, datetime.datetime(2099, 12, 31, 0, 0), 'A', '900279014', 'Ed T. Knudson'), ('15866', 'Foundation Upgrades', '1451', 374152, datetime.datetime(2099, 12, 31, 0, 0), 'A', '900279014', 'Ed T. Knudson'), ('15867', 'TE7 Modernization', '1451', 374152, datetime.datetime(2099, 12, 31, 0, 0), 'A', '900279014', 'Ed T. Knudson'), ('15868', 'BE306 ITS Exec Dir Furniture', '1451', 374152, datetime.datetime(2099, 12, 31, 0, 0), 'A', '900279014', 'Ed T. Knudson'), ('15869', 'Ext Lghtg Rplcmnt 17-017', '1451', 374152, datetime.datetime(2099, 12, 31, 0, 0), 'A', '900279014', 'Ed T. Knudson'), ('15870', 'TE7 Rm 101 Remodel 17-036', '1451', 374152, datetime.datetime(2099, 12, 31, 0, 0), 'A', '900279014', 'Ed T. Knudson'), ('15871', 'Street Sweeper', '1451', 374152, datetime.datetime(2099, 12, 31, 0, 0), 'A', '900279014', 'Ed T. Knudson'), ('17000', 'Planning & Coord:Facilities', '1451', 374152, datetime.datetime(2099, 12, 31, 0, 0), 'A', '900279014', 'Ed T. Knudson'), ('17001', 'Planning & Coord:Bus Serv', '1451', 374152, datetime.datetime(2099, 12, 31, 0, 0), 'A', '900279014', 'Ed T. Knudson'), ('17002', 'Gym Reno 17-002 USE 17196', '1451', 374152, datetime.datetime(2099, 12, 31, 0, 0), 'A', '900279014', 'Ed T. Knudson'), ('17006', 'Gym Reno 17-002', '1451', 374152, datetime.datetime(2099, 12, 31, 0, 0), 'A', '900279014', 'Ed T. Knudson'), ('17008', 'Palmdale Cnr Exp INACTIVE USE 17199', '1451', 374152, datetime.datetime(2099, 12, 31, 0, 0), 'A', '900279014', 'Ed T. Knudson'), ('17012', 'ME&APL Build STEM Lab Mod 17012', '1451', 374152, datetime.datetime(2099, 12, 31, 0, 0), 'A', '900279014', 'Ed T. Knudson'), ('17018', 'Utility Valve&Piping Repair 17-018', '1451', 374152, datetime.datetime(2099, 12, 31, 0, 0), 'A', '900279014', 'Ed T. Knudson'), ('17019', 'Boiler Rplcmnt Campus Wide 17-019', '1451', 374152, datetime.datetime(2099, 12, 31, 0, 0), 'A', '900279014', 'Ed T. Knudson'), ('17020', 'HVAC Rplc B/TE2', '1451', 374152, datetime.datetime(2099, 12, 31, 0, 0), 'A', '900279014', 'Ed T. Knudson'), ('17021', 'Central Plant VFD Pump Upgrade', '1451', 374152, datetime.datetime(2099, 12, 31, 0, 0), 'A', '900279014', 'Ed T. Knudson'), ('17022', 'Ext Door Hardware Rpr/Rplce', '1451', 374152, datetime.datetime(2099, 12, 31, 0, 0), 'A', '900279014', 'Ed T. Knudson'), ('17026', 'EIR AVC Lanc Camp Master Plan', '1451', 374152, datetime.datetime(2099, 12, 31, 0, 0), 'A', '900279014', 'Ed T. Knudson'), ('17027', 'Campus Project Planning', '1451', 374152, datetime.datetime(2099, 12, 31, 0, 0), 'A', '900279014', 'Ed T. Knudson'), ('17028', 'Campus Arch Design Standards', '1451', 374152, datetime.datetime(2099, 12, 31, 0, 0), 'A', '900279014', 'Ed T. Knudson'), ('17031', 'Sage Hall (Academic Commons)', '1451', 374152, datetime.datetime(2099, 12, 31, 0, 0), 'A', '900279014', 'Ed T. Knudson'), ('17101', 'EIR AVC Lanc Camp Master Plan', '1451', 374152, datetime.datetime(2099, 12, 31, 0, 0), 'A', '900279014', 'Ed T. Knudson'), ('17103', 'Campus Arch Dsgn Stndrds USE 17028', '1451', 374152, datetime.datetime(2099, 12, 31, 0, 0), 'A', '900279014', 'Ed T. Knudson'), ('17104', 'Capmus Infrastructure PHS I', '1451', 374152, datetime.datetime(2099, 12, 31, 0, 0), 'A', '900279014', 'Ed T. Knudson'), ('17105', 'PHS I Swing Space', '1451', 374152, datetime.datetime(2099, 12, 31, 0, 0), 'A', '900279014', 'Ed T. Knudson'), ('17106', 'Campus Security Building', '1451', 374152, datetime.datetime(2099, 12, 31, 0, 0), 'A', '900279014', 'Ed T. Knudson'), ('17201', 'Arts Complex', '1451', 374152, datetime.datetime(2099, 12, 31, 0, 0), 'A', '900279014', 'Ed T. Knudson'), ('17202', 'SOAR High School', '1451', 374152, datetime.datetime(2099, 12, 31, 0, 0), 'A', '900279014', 'Ed T. Knudson'), ('17203', 'CSUB & University Center', '1451', 374152, datetime.datetime(2099, 12, 31, 0, 0), 'A', '900279014', 'Ed T. Knudson'), ('17225', '2010 BofA Central Plant Debt Apr 17', '1400', 374152, datetime.datetime(2099, 12, 31, 0, 0), 'A', '900279014', 'Ed T. Knudson'), ('17240', 'Tennis Courts', '1451', 374152, datetime.datetime(2099, 12, 31, 0, 0), 'A', '900279014', 'Ed T. Knudson'), ('17250', '2010 COP Solar Proj Debt Apr 17', '1400', 374152, datetime.datetime(2099, 12, 31, 0, 0), 'A', '900279014', 'Ed T. Knudson'), ('17300', 'Capital Outlay Endowment', '1400', 374152, datetime.datetime(2099, 12, 31, 0, 0), 'A', '900279014', 'Ed T. Knudson'), ('17802', 'Inst. Bldg 2 & Admin Bldg', '1451', 374152, datetime.datetime(2099, 12, 31, 0, 0), 'A', '900279014', 'Ed T. Knudson'), ('17803', 'SCT Building', '1451', 374152, datetime.datetime(2099, 12, 31, 0, 0), 'A', '900279014', 'Ed T. Knudson'), ('18001', 'Joshua Hall', '1451', 374152, datetime.datetime(2099, 12, 31, 0, 0), 'A', '900279014', 'Ed T. Knudson'), ('18002', 'Cedar Hall', '1451', 374152, datetime.datetime(2099, 12, 31, 0, 0), 'A', '900279014', 'Ed T. Knudson'), ('18003', 'The Commons', '1451', 374152, datetime.datetime(2099, 12, 31, 0, 0), 'A', '900279014', 'Ed T. Knudson'), ('18005', 'Prop 39 Year 5 energy projects', '1451', 374152, datetime.datetime(2099, 12, 31, 0, 0), 'A', '900279014', 'Ed T. Knudson'), ('18006', 'Lighting Upgrade Campus Wide 18006', '1451', 374152, datetime.datetime(2099, 12, 31, 0, 0), 'A', '900279014', 'Ed T. Knudson'), ('18007', 'Upgrade Exterior Locks Plmd 18007', '1451', 374152, datetime.datetime(2099, 12, 31, 0, 0), 'A', '900279014', 'Ed T. Knudson'), ('18008', 'Campus Flooring Replacement 18008', '1451', 374152, datetime.datetime(2099, 12, 31, 0, 0), 'A', '900279014', 'Ed T. Knudson'), ('18009', 'ADA Campus Wide Improvements 18009', '1451', 374152, datetime.datetime(2099, 12, 31, 0, 0), 'A', '900279014', 'Ed T. Knudson'), ('18018', 'Student Serv. Stairway Repair 18018', '1451', 374152, datetime.datetime(2099, 12, 31, 0, 0), 'A', '900279014', 'Ed T. Knudson'), ('19001', 'Stadium Track Replacement 19001', '1451', 374152, datetime.datetime(2099, 12, 31, 0, 0), 'A', '900279014', 'Ed T. Knudson'), ('19002', 'Autoclave-Bldg.TE8 Utilities Instal', '1451', 374152, datetime.datetime(2099, 12, 31, 0, 0), 'A', '900279014', 'Ed T. Knudson'), ('20005', 'BE & UH Classroom Modernization', '1451', 374152, datetime.datetime(2099, 12, 31, 0, 0), 'A', '900279014', 'Ed T. Knudson'), ('62040', 'STEM COOP P031C11009', '1500', 374152, datetime.datetime(2099, 12, 31, 0, 0), 'A', '900279014', 'Ed T. Knudson'), ('62041', 'STEM SOLO', '1500', 374152, datetime.datetime(2099, 12, 31, 0, 0), 'A', '900279014', 'Ed T. Knudson'), ('62070', 'Star/Trio', '1500', 374152, datetime.datetime(2099, 12, 31, 0, 0), 'A', '900279014', 'Ed T. Knudson'), ('62405', 'Instructional Block Grant Library', '1500', 374152, datetime.datetime(2099, 12, 31, 0, 0), 'A', '900279014', 'Ed T. Knudson'), ('62414', 'Staff Diversity', '1500', 374152, datetime.datetime(2099, 12, 31, 0, 0), 'A', '900279014', 'Ed T. Knudson'), ('62417', 'Prop 20', '1500', 374152, datetime.datetime(2099, 12, 31, 0, 0), 'A', '900279014', 'Ed T. Knudson'), ('62425', 'Instructional Block Grant', '1500', 374152, datetime.datetime(2099, 12, 31, 0, 0), 'A', '900279014', 'Ed T. Knudson'), ('62446', 'Classified Professional Development', '1500', 374152, datetime.datetime(2099, 12, 31, 0, 0), 'A', '900279014', 'Ed T. Knudson'), ('62455', 'Calworks', '1500', 374152, datetime.datetime(2099, 12, 31, 0, 0), 'A', '900279014', 'Ed T. Knudson'), ('62459', 'SouthBay Workforce', '1500', 374152, datetime.datetime(2099, 12, 31, 0, 0), 'A', '900279014', 'Ed T. Knudson'), ('62466', 'EEO Best Practices', '1500', 374152, datetime.datetime(2099, 12, 31, 0, 0), 'A', '900279014', 'Ed T. Knudson'), ('62468', 'Culturally Competent Faculty PD', '1500', 374152, datetime.datetime(2099, 12, 31, 0, 0), 'A', '900279014', 'Ed T. Knudson'), ('62473', 'Antelope Valley Air Quality Mngment', '1500', 374152, datetime.datetime(2099, 12, 31, 0, 0), 'A', '900279014', 'Ed T. Knudson'), ('62492', 'Guided Pathways', '1500', 374152, datetime.datetime(2099, 12, 31, 0, 0), 'A', '900279014', 'Ed T. Knudson'), ('11100', 'Institutional Rsrch & Planning', '1006', 375301, datetime.datetime(2099, 12, 31, 0, 0), 'A', '900280168', 'Meeta B. Goel'), ('12701', 'Instructional Resources Dean', '3007', 375301, datetime.datetime(2099, 12, 31, 0, 0), 'A', '900280168', 'Meeta B. Goel'), ('12710', 'Library', '1006', 375301, datetime.datetime(2099, 12, 31, 0, 0), 'A', '900280168', 'Meeta B. Goel'), ('62406', 'Library Services Platform', '1500', 375301, datetime.datetime(2099, 12, 31, 0, 0), 'A', '900280168', 'Meeta B. Goel'), ('11040', 'Advancement', '1005', 398237, datetime.datetime(2099, 12, 31, 0, 0), 'A', '900301947', 'Dianne M. Knippel'), ('11101', 'Foundation', '1005', 398237, datetime.datetime(2099, 12, 31, 0, 0), 'A', '900301947', 'Dianne M. Knippel'), ('62075', 'TRIO Star Program', '1500', 406777, datetime.datetime(2099, 12, 31, 0, 0), 'A', '900310425', 'Saundra D. Cooley'), ('62077', 'TRIO 21-26', '1500', 406777, datetime.datetime(2099, 12, 31, 0, 0), 'A', '900310425', 'Saundra D. Cooley'), ('12805', 'Community Project/Extended Learning', '3009', 409849, datetime.datetime(2099, 12, 31, 0, 0), 'A', '900313500', 'Laureano Flores'), ('12806', 'Palmdale Campus', '3009', 409849, datetime.datetime(2099, 12, 31, 0, 0), 'A', '900313500', 'Laureano Flores'), ('12840', 'Work Force Development', '3009', 409849, datetime.datetime(2099, 12, 31, 0, 0), 'A', '900313500', 'Laureano Flores'), ('62010', 'Federal College Workstudy', '1500', 409849, datetime.datetime(2099, 12, 31, 0, 0), 'A', '900313500', 'Laureano Flores'), ('62043', 'AFRL - Makerspace for AVC', '1500', 409849, datetime.datetime(2099, 12, 31, 0, 0), 'A', '900313500', 'Laureano Flores'), ('62044', 'AFRL - CATIE I&O', '1500', 409849, datetime.datetime(2099, 12, 31, 0, 0), 'A', '900313500', 'Laureano Flores'), ('62080', 'CTE Transitions 14-C01-002', '1500', 409849, datetime.datetime(2099, 12, 31, 0, 0), 'A', '900313500', 'Laureano Flores'), ('62419', 'Inmate Education Pilot Program', '1500', 409849, datetime.datetime(2099, 12, 31, 0, 0), 'A', '900313500', 'Laureano Flores'), ('62432', 'Employee Training Panel ETP', '1500', 409849, datetime.datetime(2099, 12, 31, 0, 0), 'A', '900313500', 'Laureano Flores'), ('62485', 'Calif Apprenticeship Initiative CAI', '1500', 409849, datetime.datetime(2099, 12, 31, 0, 0), 'A', '900313500', 'Laureano Flores'), ('62489', 'Youth Apprenticeship Program', '1500', 409849, datetime.datetime(2099, 12, 31, 0, 0), 'A', '900313500', 'Laureano Flores'), ('62704', 'Department of Corrections', '1500', 409849, datetime.datetime(2099, 12, 31, 0, 0), 'A', '900313500', 'Laureano Flores'), ('62705', 'Corporate & Community Ed', '1500', 409849, datetime.datetime(2099, 12, 31, 0, 0), 'A', '900313500', 'Laureano Flores'), ('62712', 'LACOE TRAINING', '1500', 409849, datetime.datetime(2099, 12, 31, 0, 0), 'A', '900313500', 'Laureano Flores'), ('62713', \"Cottonwood Children's Choir\", '1500', 409849, datetime.datetime(2099, 12, 31, 0, 0), 'A', '900313500', 'Laureano Flores'), ('12101', 'Language & Communication Arts Dean', '3003', 409936, datetime.datetime(2099, 12, 31, 0, 0), 'A', '900313587', 'Riley J. Dwyer'), ('12105', 'Language & Communication Arts Inst.', '3003', 409936, datetime.datetime(2099, 12, 31, 0, 0), 'A', '900313587', 'Riley J. Dwyer'), ('12106', 'Academic Development', '3003', 409936, datetime.datetime(2099, 12, 31, 0, 0), 'A', '900313587', 'Riley J. Dwyer'), ('12720', 'Learning Center', '3003', 409936, datetime.datetime(2099, 12, 31, 0, 0), 'A', '900313587', 'Riley J. Dwyer'), ('62415', 'Basic Skills', '1500', 409936, datetime.datetime(2099, 12, 31, 0, 0), 'A', '900313587', 'Riley J. Dwyer'), ('62497', 'Puente Program', '1500', 409936, datetime.datetime(2099, 12, 31, 0, 0), 'A', '900313587', 'Riley J. Dwyer'), ('00000', 'District', '1400', 412800, datetime.datetime(2099, 12, 31, 0, 0), 'A', '900316451', 'Sarah A. Miller'), ('00004', 'CARES Act Institution', '1500', 412800, datetime.datetime(2099, 12, 31, 0, 0), 'A', '900316451', 'Sarah A. Miller'), ('00007', 'Challenger Project', '1400', 412800, datetime.datetime(2099, 12, 31, 0, 0), 'A', '900316451', 'Sarah A. Miller'), ('11020', 'Legal Counsel', None, 412800, datetime.datetime(2099, 12, 31, 0, 0), 'A', '900316451', 'Sarah A. Miller'), ('12920', 'Tenure Review', '1001', 412800, datetime.datetime(2099, 12, 31, 0, 0), 'A', '900316451', 'Sarah A. Miller'), ('14020', 'Business Services', '1400', 412800, datetime.datetime(2099, 12, 31, 0, 0), 'A', '900316451', 'Sarah A. Miller'), ('14030', 'Mandated Costs', '1400', 412800, datetime.datetime(2099, 12, 31, 0, 0), 'A', '900316451', 'Sarah A. Miller'), ('14101', 'CMS Prof Dev', '1400', 412800, datetime.datetime(2099, 12, 31, 0, 0), 'A', '900316451', 'Sarah A. Miller'), ('14102', 'Mandatory Travel', '1400', 412800, datetime.datetime(2099, 12, 31, 0, 0), 'A', '900316451', 'Sarah A. Miller'), ('62014', 'FWS FISAP Admin', '1500', 412800, datetime.datetime(2099, 12, 31, 0, 0), 'A', '900316451', 'Sarah A. Miller'), ('62036', 'CRRSAA-HEERF II - MSI', '1500', 412800, datetime.datetime(2099, 12, 31, 0, 0), 'A', '900316451', 'Sarah A. Miller'), ('62037', 'ARP HEERF III MSI', '1500', 412800, datetime.datetime(2099, 12, 31, 0, 0), 'A', '900316451', 'Sarah A. Miller'), ('62038', 'ARPA Stipend', '1500', 412800, datetime.datetime(2099, 12, 31, 0, 0), 'A', '900316451', 'Sarah A. Miller'), ('62045', 'CARES Act MSI', '1500', 412800, datetime.datetime(2099, 12, 31, 0, 0), 'A', '900316451', 'Sarah A. Miller'), ('62046', 'COVID-19 Response Block Grant-Fed.', '1500', 412800, datetime.datetime(2099, 12, 31, 0, 0), 'A', '900316451', 'Sarah A. Miller'), ('62048', 'CRRSAA - HEERF II - Student', '1500', 412800, datetime.datetime(2099, 12, 31, 0, 0), 'A', '900316451', 'Sarah A. Miller'), ('62049', 'CRRSAA - HEERF II - Institutional', '1500', 412800, datetime.datetime(2099, 12, 31, 0, 0), 'A', '900316451', 'Sarah A. Miller'), ('62065', 'ARP HEERF 111 Student', '1500', 412800, datetime.datetime(2099, 12, 31, 0, 0), 'A', '900316451', 'Sarah A. Miller'), ('62066', 'ARP HEERF 111 Institutional', '1500', 412800, datetime.datetime(2099, 12, 31, 0, 0), 'A', '900316451', 'Sarah A. Miller'), ('62313', 'Pell Grants Administration', '1500', 412800, datetime.datetime(2099, 12, 31, 0, 0), 'A', '900316451', 'Sarah A. Miller'), ('62320', 'Seog Grants', '1500', 412800, datetime.datetime(2099, 12, 31, 0, 0), 'A', '900316451', 'Sarah A. Miller'), ('62321', 'SEOG FISAP Admin', '1500', 412800, datetime.datetime(2099, 12, 31, 0, 0), 'A', '900316451', 'Sarah A. Miller'), ('62404', 'LACOE AB130 Outreach Support', '1500', 412800, datetime.datetime(2099, 12, 31, 0, 0), 'A', '900316451', 'Sarah A. Miller'), ('62411', 'Enrollment Fee Financial Asst.', '1500', 412800, datetime.datetime(2099, 12, 31, 0, 0), 'A', '900316451', 'Sarah A. Miller'), ('62431', 'AB86 Adult Education', '1500', 412800, datetime.datetime(2099, 12, 31, 0, 0), 'A', '900316451', 'Sarah A. Miller'), ('62433', 'LA Universal Preschool LAUP', '1500', 412800, datetime.datetime(2099, 12, 31, 0, 0), 'A', '900316451', 'Sarah A. Miller'), ('62438', 'COVID-19 Response Block Grant-State', '1500', 412800, datetime.datetime(2099, 12, 31, 0, 0), 'A', '900316451', 'Sarah A. Miller'), ('62439', 'Cal OES State - Supplied PPE', '1500', 412800, datetime.datetime(2099, 12, 31, 0, 0), 'A', '900316451', 'Sarah A. Miller'), ('62465', 'FT13 Interest Revenue', '1500', 412800, datetime.datetime(2099, 12, 31, 0, 0), 'A', '900316451', 'Sarah A. Miller'), ('62498', 'CRRSA AB82 Stipend', '1500', 412800, datetime.datetime(2099, 12, 31, 0, 0), 'A', '900316451', 'Sarah A. Miller'), ('62499', 'CRRSA AB82 Stipend ACA', '1500', 412800, datetime.datetime(2099, 12, 31, 0, 0), 'A', '900316451', 'Sarah A. Miller'), ('62600', 'Cal Grants', '1500', 412800, datetime.datetime(2099, 12, 31, 0, 0), 'A', '900316451', 'Sarah A. Miller'), ('62602', 'Community College Completion Grant', '1500', 412800, datetime.datetime(2099, 12, 31, 0, 0), 'A', '900316451', 'Sarah A. Miller'), ('62604', 'Student Success Completion Grant', '1500', 412800, datetime.datetime(2099, 12, 31, 0, 0), 'A', '900316451', 'Sarah A. Miller'), ('62605', 'Disaster Relief Emergency SFA', '1500', 412800, datetime.datetime(2099, 12, 31, 0, 0), 'A', '900316451', 'Sarah A. Miller'), ('62707', 'Indirect Fee Recovered', '1500', 412800, datetime.datetime(2099, 12, 31, 0, 0), 'A', '900316451', 'Sarah A. Miller'), ('62708', 'OPT IN Mandated Costs (PRIOR YRS)', '1500', 412800, datetime.datetime(2099, 12, 31, 0, 0), 'A', '900316451', 'Sarah A. Miller'), ('62720', '16-17 OPT IN Mandated Costs', '1500', 412800, datetime.datetime(2099, 12, 31, 0, 0), 'A', '900316451', 'Sarah A. Miller'), ('62721', 'OPT IN Mandated Costs', '1500', 412800, datetime.datetime(2099, 12, 31, 0, 0), 'A', '900316451', 'Sarah A. Miller'), ('62722', '18-19 OPT IN Mandated Costs', '1500', 412800, datetime.datetime(2099, 12, 31, 0, 0), 'A', '900316451', 'Sarah A. Miller'), ('62900', 'Scholarships', '1500', 412800, datetime.datetime(2099, 12, 31, 0, 0), 'A', '900316451', 'Sarah A. Miller'), ('62901', 'Scholarshares', '1500', 412800, datetime.datetime(2099, 12, 31, 0, 0), 'A', '900316451', 'Sarah A. Miller'), ('62902', 'Private Loans', '1500', 412800, datetime.datetime(2099, 12, 31, 0, 0), 'A', '900316451', 'Sarah A. Miller'), ('66902', 'Stafford Loans', '1500', 412800, datetime.datetime(2099, 12, 31, 0, 0), 'A', '900316451', 'Sarah A. Miller'), ('66904', 'PLUS LOAN', '1500', 412800, datetime.datetime(2099, 12, 31, 0, 0), 'A', '900316451', 'Sarah A. Miller'), ('66905', 'Academic Competitiveness Grant', '1500', 412800, datetime.datetime(2099, 12, 31, 0, 0), 'A', '900316451', 'Sarah A. Miller'), ('66911', 'Care Grants', '1500', 412800, datetime.datetime(2099, 12, 31, 0, 0), 'A', '900316451', 'Sarah A. Miller'), ('77000', 'LACOE Data Processing Services', '1400', 412800, datetime.datetime(2099, 12, 31, 0, 0), 'A', '900316451', 'Sarah A. Miller'), ('91000', 'Debt Services', '1400', 412800, datetime.datetime(2099, 12, 31, 0, 0), 'A', '900316451', 'Sarah A. Miller'), ('12401', 'Physical Ed & Athletics Dean', '3004', 420945, datetime.datetime(2099, 12, 31, 0, 0), 'A', '900324595', 'Thomas E. Gang'), ('12402', 'Athletics-Post Season Travel', '3004', 420945, datetime.datetime(2099, 12, 31, 0, 0), 'A', '900324595', 'Thomas E. Gang'), ('12403', 'Athletics-Post Season Men', '3004', 420945, datetime.datetime(2099, 12, 31, 0, 0), 'A', '900324595', 'Thomas E. Gang'), ('12404', 'Athletics-Post Season Women', '3004', 420945, datetime.datetime(2099, 12, 31, 0, 0), 'A', '900324595', 'Thomas E. Gang'), ('12405', 'Physical Ed & Athletics Inst.', '3004', 420945, datetime.datetime(2099, 12, 31, 0, 0), 'A', '900324595', 'Thomas E. Gang'), ('12411', 'Athletics - General Expenses', '3004', 420945, datetime.datetime(2099, 12, 31, 0, 0), 'A', '900324595', 'Thomas E. Gang'), ('12415', 'Mens Sports', '3004', 420945, datetime.datetime(2099, 12, 31, 0, 0), 'A', '900324595', 'Thomas E. Gang'), ('12420', 'Womens Sports', '3004', 420945, datetime.datetime(2099, 12, 31, 0, 0), 'A', '900324595', 'Thomas E. Gang'), ('13060', 'Eops - District Match', '1306', 421208, datetime.datetime(2099, 12, 31, 0, 0), 'A', '900324858', 'Rashitta Brown-Elize'), ('13205', 'Counseling & Matriculation', '1306', 421208, datetime.datetime(2099, 12, 31, 0, 0), 'A', '900324858', 'Rashitta Brown-Elize'), ('62440', 'EOPS', '1500', 421208, datetime.datetime(2099, 12, 31, 0, 0), 'A', '900324858', 'Rashitta Brown-Elize'), ('62442', 'CARE', '1500', 421208, datetime.datetime(2099, 12, 31, 0, 0), 'A', '900324858', 'Rashitta Brown-Elize'), ('12051', 'Health & Safety Sciences Dean', '3004', 422352, datetime.datetime(2099, 12, 31, 0, 0), 'A', '900326002', 'Gregory A. Bormann'), ('12055', 'Health&Safety Sciences Instruction', '3004', 422352, datetime.datetime(2099, 12, 31, 0, 0), 'A', '900326002', 'Gregory A. Bormann'), ('62418', 'Santa Barbara CCD CTE Enhancement', '1500', 422352, datetime.datetime(2099, 12, 31, 0, 0), 'A', '900326002', 'Gregory A. Bormann'), ('62422', 'Nursing Enrollment', '1500', 422352, datetime.datetime(2099, 12, 31, 0, 0), 'A', '900326002', 'Gregory A. Bormann'), ('62444', 'Nursing 1st Response StudentSupport', '1500', 422352, datetime.datetime(2099, 12, 31, 0, 0), 'A', '900326002', 'Gregory A. Bormann'), ('62445', 'Respiratory 1st Response StdSupport', '1500', 422352, datetime.datetime(2099, 12, 31, 0, 0), 'A', '900326002', 'Gregory A. Bormann'), ('14900', 'Theatre Productions', '1400', 422476, datetime.datetime(2099, 12, 31, 0, 0), 'A', '900326125', 'James A. Nasipak'), ('62410', 'CA Career Pathways Trust', '1500', 446169, datetime.datetime(2099, 12, 31, 0, 0), 'A', '900349796', 'Nicholas M. Valsamides'), ('62421', 'Commercial Sexual Exploitation', '1500', 446169, datetime.datetime(2099, 12, 31, 0, 0), 'A', '900349796', 'Nicholas M. Valsamides'), ('11000', \"President's Office\", '1001', 514488, datetime.datetime(2099, 12, 31, 0, 0), 'A', '900418111', 'Jennifer L. Zellet'), ('12000', 'VP of Academic Affair', '3001', 514488, datetime.datetime(2099, 12, 31, 0, 0), 'A', '900418111', 'Jennifer L. Zellet'), ('10', 'Antelope Valley college', None, None, datetime.datetime(2099, 12, 31, 0, 0), 'A', None, '*ERROR* Name with rule PREF_FMIL not found for ID: '), ('100', 'President - Palmdale & Lancaster', '10', None, datetime.datetime(2099, 12, 31, 0, 0), 'A', None, '*ERROR* Name with rule PREF_FMIL not found for ID: '), ('1000', 'President', '100', None, datetime.datetime(2099, 12, 31, 0, 0), 'A', None, '*ERROR* Name with rule PREF_FMIL not found for ID: '), ('1001', 'President', '1000', None, datetime.datetime(2099, 12, 31, 0, 0), 'A', None, '*ERROR* Name with rule PREF_FMIL not found for ID: '), ('1002', 'Exec Dir. of Marketing & PIO', '1000', None, datetime.datetime(2099, 12, 31, 0, 0), 'A', None, '*ERROR* Name with rule PREF_FMIL not found for ID: '), ('1003', 'Executive Director of ITS', '1000', None, datetime.datetime(2099, 12, 31, 0, 0), 'A', None, '*ERROR* Name with rule PREF_FMIL not found for ID: '), ('1005', 'Exec Dir of Advance.& Foundation', '1000', None, datetime.datetime(2099, 12, 31, 0, 0), 'A', None, '*ERROR* Name with rule PREF_FMIL not found for ID: '), ('1006', 'Dean Inst. Effective Resrch & Plan', '1000', None, datetime.datetime(2099, 12, 31, 0, 0), 'A', None, '*ERROR* Name with rule PREF_FMIL not found for ID: '), ('1300', 'Vice President Student Services', '4000', None, datetime.datetime(2099, 12, 31, 0, 0), 'A', None, '*ERROR* Name with rule PREF_FMIL not found for ID: '), ('1301', 'Dean of Enrollment Services', '4000', None, datetime.datetime(2099, 12, 31, 0, 0), 'A', None, '*ERROR* Name with rule PREF_FMIL not found for ID: '), ('1305', 'Dean of Student Life', '4000', None, datetime.datetime(2099, 12, 31, 0, 0), 'A', None, '*ERROR* Name with rule PREF_FMIL not found for ID: '), ('1306', 'Dean of Counseling & Matriculation', '4000', None, datetime.datetime(2099, 12, 31, 0, 0), 'A', None, '*ERROR* Name with rule PREF_FMIL not found for ID: '), ('1400', 'Exec Director of Business & CBO', '5000', None, datetime.datetime(2099, 12, 31, 0, 0), 'A', None, '*ERROR* Name with rule PREF_FMIL not found for ID: '), ('1450', 'Executive Director of Facilities', '6000', None, datetime.datetime(2099, 12, 31, 0, 0), 'A', None, '*ERROR* Name with rule PREF_FMIL not found for ID: '), ('1451', 'Exec Dir Cap Outlay Sched Maint', '4000', None, datetime.datetime(2099, 12, 31, 0, 0), 'A', None, '*ERROR* Name with rule PREF_FMIL not found for ID: '), ('14550', 'Parking TST', '1450', None, datetime.datetime(2099, 12, 31, 0, 0), 'A', None, '*ERROR* Name with rule PREF_FMIL not found for ID: '), ('14910', 'Bookstore', '1400', None, datetime.datetime(2099, 12, 31, 0, 0), 'A', None, '*ERROR* Name with rule PREF_FMIL not found for ID: '), ('1500', 'Restricted Programs', '1000', None, datetime.datetime(2099, 12, 31, 0, 0), 'A', None, '*ERROR* Name with rule PREF_FMIL not found for ID: '), ('17043', 'AT&T Baseball Stadium Projects', '1451', None, datetime.datetime(2099, 12, 31, 0, 0), 'A', None, '*ERROR* Name with rule PREF_FMIL not found for ID: '), ('17102', 'Campus Project Planning USE 17027', '1451', None, datetime.datetime(2099, 12, 31, 0, 0), 'A', None, '*ERROR* Name with rule PREF_FMIL not found for ID: '), ('2000', 'Vice President of Human Resources', '100', None, datetime.datetime(2099, 12, 31, 0, 0), 'A', None, '*ERROR* Name with rule PREF_FMIL not found for ID: '), ('2001', 'Vice President of Human Resources', '2000', None, datetime.datetime(2099, 12, 31, 0, 0), 'A', None, '*ERROR* Name with rule PREF_FMIL not found for ID: '), ('3000', 'Vice President of Academic Affairs', '100', None, datetime.datetime(2099, 12, 31, 0, 0), 'A', None, '*ERROR* Name with rule PREF_FMIL not found for ID: '), ('3001', 'VP of Academic Affairs', '3000', None, datetime.datetime(2099, 12, 31, 0, 0), 'A', None, '*ERROR* Name with rule PREF_FMIL not found for ID: '), ('3002', 'Dean of Career Tech Ed', '3000', None, datetime.datetime(2099, 12, 31, 0, 0), 'A', None, '*ERROR* Name with rule PREF_FMIL not found for ID: '), ('3003', 'Dean of Rhetoric & Literacy', '3000', None, datetime.datetime(2099, 12, 31, 0, 0), 'A', None, '*ERROR* Name with rule PREF_FMIL not found for ID: '), ('3004', 'Dean of Health & Safety Sciences', '3000', None, datetime.datetime(2099, 12, 31, 0, 0), 'A', None, '*ERROR* Name with rule PREF_FMIL not found for ID: '), ('3005', 'Dean of Social & Behavioral Science', '3000', None, datetime.datetime(2099, 12, 31, 0, 0), 'A', None, '*ERROR* Name with rule PREF_FMIL not found for ID: '), ('3006', 'Dean of Math/Sciences/Engineering', '3000', None, datetime.datetime(2099, 12, 31, 0, 0), 'A', None, '*ERROR* Name with rule PREF_FMIL not found for ID: '), ('3007', 'Dean of Learning Center', '3000', None, datetime.datetime(2099, 12, 31, 0, 0), 'A', None, '*ERROR* Name with rule PREF_FMIL not found for ID: '), ('3008', 'Dean of Arts & Humanities', '3000', None, datetime.datetime(2099, 12, 31, 0, 0), 'A', None, '*ERROR* Name with rule PREF_FMIL not found for ID: '), ('3009', 'Dean of Palmdale/Extended Learning', '3000', None, datetime.datetime(2099, 12, 31, 0, 0), 'A', None, '*ERROR* Name with rule PREF_FMIL not found for ID: '), ('4000', 'Vice President of Student Services', '100', None, datetime.datetime(2099, 12, 31, 0, 0), 'A', None, '*ERROR* Name with rule PREF_FMIL not found for ID: '), ('5000', 'Executive Director of Business CBO', '100', None, datetime.datetime(2099, 12, 31, 0, 0), 'A', None, '*ERROR* Name with rule PREF_FMIL not found for ID: '), ('6000', 'Executive Director of Facilities', '100', None, datetime.datetime(2099, 12, 31, 0, 0), 'A', None, '*ERROR* Name with rule PREF_FMIL not found for ID: '), ('62413', 'CA Prison Incarcerated Students', '1500', None, datetime.datetime(2099, 12, 31, 0, 0), 'A', None, '*ERROR* Name with rule PREF_FMIL not found for ID: ')]\n",
      "('12260', 'Child Development Center', '3005', 20180, datetime.datetime(2099, 12, 31, 0, 0), 'A', '900120794', 'Katarina Orlic-Babic')\n"
     ]
    }
   ],
   "source": [
    "print(len(x), x)\n",
    "print(x[0])"
   ],
   "metadata": {
    "collapsed": false,
    "pycharm": {
     "name": "#%%\n"
    }
   }
  },
  {
   "cell_type": "code",
   "execution_count": 20,
   "outputs": [
    {
     "name": "stdout",
     "output_type": "stream",
     "text": [
      "447\n",
      "12260  Child Development Center 900120794 Katarina Orlic-Babic\n",
      "62471  CDC LAUP 900120794 Katarina Orlic-Babic\n",
      "62476  Quality Improvement Grant STEP 900120794 Katarina Orlic-Babic\n",
      "62494  CDSS Stipend 900120794 Katarina Orlic-Babic\n",
      "62030  Perkins IV 900017996 Catherine A. Hart\n",
      "62408  Economic & Workforce Development 900017996 Catherine A. Hart\n",
      "62477  Strong Workforce Program 60% 900017996 Catherine A. Hart\n",
      "62478  Strong Workforce Program 40% 900017996 Catherine A. Hart\n",
      "62484  Strong Workforce Program 60% 17-18 900017996 Catherine A. Hart\n",
      "13070  DSPS District Contribution 900108988 Louis A. Lucero\n",
      "13071  DHH District Required Match 900108988 Louis A. Lucero\n",
      "62450  Disabled Student Services 900108988 Louis A. Lucero\n",
      "62451  DHH Deaf & Hard of Hearing 900108988 Louis A. Lucero\n",
      "62452  DHH 25% District Match 900108988 Louis A. Lucero\n",
      "62453  Print & Electronic Info 900108988 Louis A. Lucero\n",
      "12201  Arts & Humanities Dean 900045386 Kathryn S. Mitchell\n",
      "12205  Arts & Humanities Instruction 900045386 Kathryn S. Mitchell\n",
      "12151  Career Technical Education Dean 900085650 Maria E. Clinton\n",
      "12155  Career Technical Ed Instruction 900085650 Maria E. Clinton\n",
      "12160  Faa Certification/Fox Field 900085650 Maria E. Clinton\n",
      "12161  Bach Degree Airframe PPlant Dean 900085650 Maria E. Clinton\n",
      "12165  Bach Degree Airframe PPlant Inst 900085650 Maria E. Clinton\n",
      "12301  Business & Comp Studies Dean 900085650 Maria E. Clinton\n",
      "12305  Business & Comp Studies Instr. 900085650 Maria E. Clinton\n",
      "62472  Kern CCD Proposition 39 900085650 Maria E. Clinton\n",
      "62474  Santa Barbara CCD CTE Enhancement 900085650 Maria E. Clinton\n",
      "62475  KERN CCD CLEAN ENERGY PROP 39 900085650 Maria E. Clinton\n",
      "62479  KERN CCD CLN ENRGY PROP 39 Mini 900085650 Maria E. Clinton\n",
      "62480  CTE Data Unlock Initiative 900085650 Maria E. Clinton\n",
      "62481  I Can Afford College for BA Degree 900085650 Maria E. Clinton\n",
      "11031  Disaster Preparedness 900068298 Terry W. Cleveland\n",
      "11032  Risk Management 900068298 Terry W. Cleveland\n",
      "13010  Enrollment Services 900077218 LaDonna Trimble\n",
      "13206  Enrollment Services Dean 900077218 LaDonna Trimble\n",
      "62409  Learning-Aligned Employment Program 900077218 LaDonna Trimble\n",
      "62460  SSSP 900077218 LaDonna Trimble\n",
      "62461  SSSP Non Credit 900077218 LaDonna Trimble\n",
      "62701  Proctoring 900077218 LaDonna Trimble\n",
      "62035  Teacher Preparation Program-Fed 900052802 Andrea Sanders\n",
      "62436  Teacher Preparation Program 900052802 Andrea Sanders\n",
      "62488  Child and Family Education 900052802 Andrea Sanders\n",
      "62706  Child Dev Training Consortium 900052802 Andrea Sanders\n",
      "12351  Math/Science/Engineering Dean 900131792 Christos Valiotis\n",
      "12355  Math Instruction 900131792 Christos Valiotis\n",
      "12360  Science Instruction 900131792 Christos Valiotis\n",
      "62016  NSF Bees Sub-award 900131792 Christos Valiotis\n",
      "62042  Title V - COOP 900131792 Christos Valiotis\n",
      "62050  Title V Solo Grant 900131792 Christos Valiotis\n",
      "62719  Kaiser Sim Collaboration 900131792 Christos Valiotis\n",
      "15857  Library Books & Periodicals 900128009 Leslie S. Uhazy\n",
      "14500  Utilities 900041226 Doug R. Jensen\n",
      "14560  Facilities Services - TEMP 900041226 Doug R. Jensen\n",
      "15082  SSERV Electrical Expansion 900041226 Doug R. Jensen\n",
      "15502  Modulars 900041226 Doug R. Jensen\n",
      "15701  Palmdale projects 900041226 Doug R. Jensen\n",
      "15702  Ada Evaluation 900041226 Doug R. Jensen\n",
      "15710  Chilled Water Loop 900041226 Doug R. Jensen\n",
      "15711  Replace Doors & Hardware 900041226 Doug R. Jensen\n",
      "15712  Exterior Lighting Project 900041226 Doug R. Jensen\n",
      "15713  Solar Panel Project 900041226 Doug R. Jensen\n",
      "15714  Student Center Remodel 900041226 Doug R. Jensen\n",
      "15715  Master Plan 900041226 Doug R. Jensen\n",
      "15725  Baseball Facility 900041226 Doug R. Jensen\n",
      "15755  2010 Capital Outlay 900041226 Doug R. Jensen\n",
      "15851  Palmdale Regional Airport 900041226 Doug R. Jensen\n",
      "13051  Student Life 900116143 Jill Zimmerman\n",
      "13052  Associated Student's Org. 900116143 Jill Zimmerman\n",
      "13053  Student Programs & Services 900116143 Jill Zimmerman\n",
      "13054  Commencement 900116143 Jill Zimmerman\n",
      "13101  ASO Billing 900116143 Jill Zimmerman\n",
      "13208  Outreach 900116143 Jill Zimmerman\n",
      "13209  Veteran's Services 900116143 Jill Zimmerman\n",
      "13220  Job Placement Center 900116143 Jill Zimmerman\n",
      "13300  FWS Required District Match 900116143 Jill Zimmerman\n",
      "13400  Financial Aid 900116143 Jill Zimmerman\n",
      "13800  Student Representation Fee 900116143 Jill Zimmerman\n",
      "62055  Title V 1st Year Experience 900116143 Jill Zimmerman\n",
      "62060  TITLE V 2nd Year Experience 900116143 Jill Zimmerman\n",
      "62300  Pell Grants 900116143 Jill Zimmerman\n",
      "62309  Financial Aid Passthrough 900116143 Jill Zimmerman\n",
      "62310  Direct Loan 900116143 Jill Zimmerman\n",
      "62407  College & Career Access Pathways 900116143 Jill Zimmerman\n",
      "62412  Veterans One-Time Funding 900116143 Jill Zimmerman\n",
      "62423  California Campus Catalyst Fund 900116143 Jill Zimmerman\n",
      "62424  Veterans Resource Cntr Ongoing 900116143 Jill Zimmerman\n",
      "62426  California College Promise 900116143 Jill Zimmerman\n",
      "62430  Stud Financial Aid Assist-Bfap 900116143 Jill Zimmerman\n",
      "62435  Financial Aid Technology 900116143 Jill Zimmerman\n",
      "62437  Rapid Rehousing Fund 900116143 Jill Zimmerman\n",
      "62447  Undocumented Resources Liasions 900116143 Jill Zimmerman\n",
      "62448  Calfresh Outreach 900116143 Jill Zimmerman\n",
      "62449  Retention and Enrollment Outreach 900116143 Jill Zimmerman\n",
      "62462  Student Equity 900116143 Jill Zimmerman\n",
      "62464  Basic Needs Centers 900116143 Jill Zimmerman\n",
      "62467  Student Food and Housing Support 900116143 Jill Zimmerman\n",
      "62469  LGBTQ+ 900116143 Jill Zimmerman\n",
      "62482  Hunger Free Campus 900116143 Jill Zimmerman\n",
      "62483  SWP Job Developer 900116143 Jill Zimmerman\n",
      "62486  Campus Safety & Sexual Assault 900116143 Jill Zimmerman\n",
      "62487  Mental Health Support 900116143 Jill Zimmerman\n",
      "62490  Rising Scholars Network 900116143 Jill Zimmerman\n",
      "62493  CAI-Home Visitor Apprenticeship 900116143 Jill Zimmerman\n",
      "62601  FT Student Success Grant 900116143 Jill Zimmerman\n",
      "62603  Dreamer Students One Time 17-18 900116143 Jill Zimmerman\n",
      "62606  Emergency SFA SB 85 900116143 Jill Zimmerman\n",
      "62702  Early College High School FCCC 900116143 Jill Zimmerman\n",
      "62703  Student Health Services 900116143 Jill Zimmerman\n",
      "62710  Truth Initiative 900116143 Jill Zimmerman\n",
      "62762  Youth Apprenticeship Program 900116143 Jill Zimmerman\n",
      "62782  Hunger Free Donation 900116143 Jill Zimmerman\n",
      "12107  Distance Education 900174768 Duane Rumsey\n",
      "12215  Art Gallery 900174768 Duane Rumsey\n",
      "12220  Summer Musical 900174768 Duane Rumsey\n",
      "12221  Theatre Productions 900174768 Duane Rumsey\n",
      "12251  Social & Behavioral Sciences Dean 900174768 Duane Rumsey\n",
      "12255  Social & Behavioral Sciences Inst 900174768 Duane Rumsey\n",
      "12256  Model United Nations 900174768 Duane Rumsey\n",
      "12850  Work Experience 900174768 Duane Rumsey\n",
      "62416  Foster parent training grant 900174768 Duane Rumsey\n",
      "62434  RAMP UP VVC 900174768 Duane Rumsey\n",
      "11050  Public Relations 900181644 Elizabeth B. Diachun\n",
      "13080  Calworks District Required Match 900204396 Gary A. Roggenstein\n",
      "13215  Transfer Center 900204396 Gary A. Roggenstein\n",
      "62020  Tanf - Federal 900204396 Gary A. Roggenstein\n",
      "62420  Tanf - State 900204396 Gary A. Roggenstein\n",
      "62470  DSS Calworks 900204396 Gary A. Roggenstein\n",
      "14505  Facilities Services 900232918 Dawn K. McIntosh\n",
      "17029  Campus Infrastructure PHS I 900232918 Dawn K. McIntosh\n",
      "17030  PHS I Swing Space 900232918 Dawn K. McIntosh\n",
      "17037  Student Services Bldg 900232918 Dawn K. McIntosh\n",
      "17038  J-12/30th Main Entrance 900232918 Dawn K. McIntosh\n",
      "17039  Career Tech Ed T503/504 Reloc 900232918 Dawn K. McIntosh\n",
      "17040  Community Center Building 900232918 Dawn K. McIntosh\n",
      "17041  Marauder Complex-Modular FieldHouse 900232918 Dawn K. McIntosh\n",
      "17042  General Conditions & Logistics 900232918 Dawn K. McIntosh\n",
      "17108  Career Tech Ed T503/504 Reloc 900232918 Dawn K. McIntosh\n",
      "17109  Student Services Bldg 900232918 Dawn K. McIntosh\n",
      "17110  J-12/30th Main Entrance 900232918 Dawn K. McIntosh\n",
      "17111  Tennis Courts 900232918 Dawn K. McIntosh\n",
      "17112  Community Center 900232918 Dawn K. McIntosh\n",
      "17113  Adaptive Swimming Pool 900232918 Dawn K. McIntosh\n",
      "17140  Campus Security Building 900232918 Dawn K. McIntosh\n",
      "17196  Gym Reno 17-002 900232918 Dawn K. McIntosh\n",
      "17199  Palmdale Center Expansion 900232918 Dawn K. McIntosh\n",
      "17200  2015 Lease Rev Palm Debt Apr 17 900232918 Dawn K. McIntosh\n",
      "17801  Inst. Bldg 1/LC Demo 900232918 Dawn K. McIntosh\n",
      "18004  PE Field Renovation 18004 900232918 Dawn K. McIntosh\n",
      "18010  Waste & Recycling Center Renovation 900232918 Dawn K. McIntosh\n",
      "18011  Swing Phase 2 900232918 Dawn K. McIntosh\n",
      "18012  Palmdale Center Technology Facility 900232918 Dawn K. McIntosh\n",
      "18021  Cedar Hall and Joshua Hall 900232918 Dawn K. McIntosh\n",
      "19003  ADA Campus Wide Improvement 19-003 900232918 Dawn K. McIntosh\n",
      "19004  HVAC Mechanical Upgrade 19-004 900232918 Dawn K. McIntosh\n",
      "20007  APL Flooring Replacement 900232918 Dawn K. McIntosh\n",
      "20010  Campus Flooring Replacement Phase 2 900232918 Dawn K. McIntosh\n",
      "20012  Fox Field Hangar 900232918 Dawn K. McIntosh\n",
      "20014  PalmdaleProperty-Survey&Maintenance 900232918 Dawn K. McIntosh\n",
      "22006  Condenser Tube Repairs 900232918 Dawn K. McIntosh\n",
      "22007  Door Access Controls Upgrade 900232918 Dawn K. McIntosh\n",
      "22008  A,FA3,L,YH,UH&MH CarpetSignagePaint 900232918 Dawn K. McIntosh\n",
      "22009  Irrigation Upgrade 900232918 Dawn K. McIntosh\n",
      "22010  Administration & CDC Roof Repairs 900232918 Dawn K. McIntosh\n",
      "22011  Library & MesHall Elevator Upgrades 900232918 Dawn K. McIntosh\n",
      "22012  LearnCtr & FineArts ExteriorUpgrade 900232918 Dawn K. McIntosh\n",
      "22013  Yoshida Hall Offices Renovation 900232918 Dawn K. McIntosh\n",
      "22014  Outdoor Fitness Center 900232918 Dawn K. McIntosh\n",
      "22015  Learning Center Renovation Project 900232918 Dawn K. McIntosh\n",
      "22016  Math Engineering Renovation Project 900232918 Dawn K. McIntosh\n",
      "22017  Student Center Renovation Project 900232918 Dawn K. McIntosh\n",
      "62718  AT&T Cell Tower Projects 900232918 Dawn K. McIntosh\n",
      "11150  Information Technology Service 900273616 Rick R. Shaw\n",
      "12725  Instructional Multimedia Cntr 900273616 Rick R. Shaw\n",
      "15852  Computer Refresh 900273616 Rick R. Shaw\n",
      "15853  Server Refresh 900273616 Rick R. Shaw\n",
      "15855  Virtual Science Lab Audio Visual 900273616 Rick R. Shaw\n",
      "12930  Staff Development 900277670 Kim E. Correa\n",
      "11025  General Counsel 900279014 Ed T. Knudson\n",
      "11030  Human Resources 900279014 Ed T. Knudson\n",
      "11033  ADA Compliance 900279014 Ed T. Knudson\n",
      "11034  Non-ADA Accommodations 900279014 Ed T. Knudson\n",
      "11035  Payroll 900279014 Ed T. Knudson\n",
      "11060  Auxiliary Services 900279014 Ed T. Knudson\n",
      "11200  Board Of Trustees 900279014 Ed T. Knudson\n",
      "11201  Internal Audit 900279014 Ed T. Knudson\n",
      "11800  Accreditation 900279014 Ed T. Knudson\n",
      "12901  Faculty Bargaining Unit 900279014 Ed T. Knudson\n",
      "12911  Academic Senate 900279014 Ed T. Knudson\n",
      "13000  Vice President, Student Srvcs 900279014 Ed T. Knudson\n",
      "14000  Vice President, Administrative Serv 900279014 Ed T. Knudson\n",
      "14005  Classified Bargaining Unit 900279014 Ed T. Knudson\n",
      "14600  Campus Safety 900279014 Ed T. Knudson\n",
      "15717  AVC Road Projects 900279014 Ed T. Knudson\n",
      "15719  Extrior Lghtg PH III 900279014 Ed T. Knudson\n",
      "15720  Health Science FPP 900279014 Ed T. Knudson\n",
      "15721  Baseball Field Repairs 900279014 Ed T. Knudson\n",
      "15722  EIR - Environment Impact Rpt 900279014 Ed T. Knudson\n",
      "15723  Maintenance OPS Building 900279014 Ed T. Knudson\n",
      "15724  Emergency Lighting 900279014 Ed T. Knudson\n",
      "15727  Replace Obsolete Locks 900279014 Ed T. Knudson\n",
      "15728  Administrative Costs 900279014 Ed T. Knudson\n",
      "15730  Theatre Arts Bldg 900279014 Ed T. Knudson\n",
      "15731  ADA IMP PHS1 900279014 Ed T. Knudson\n",
      "15732  District Design Standards 900279014 Ed T. Knudson\n",
      "15735  Rplc&Upgd Cmps Infrstr 900279014 Ed T. Knudson\n",
      "15737  Roof Repair Campuswide 900279014 Ed T. Knudson\n",
      "15738  Facilities Plng Serv 900279014 Ed T. Knudson\n",
      "15740  Gym Remodel 900279014 Ed T. Knudson\n",
      "15743  Ag Labs & Grnhouse 900279014 Ed T. Knudson\n",
      "15744  Campus Safety Camera System 900279014 Ed T. Knudson\n",
      "15745  Message Sign 900279014 Ed T. Knudson\n",
      "15750  West Campus expansion 900279014 Ed T. Knudson\n",
      "15756  Air Compressor Replacement 900279014 Ed T. Knudson\n",
      "15757  Veteran's Center 900279014 Ed T. Knudson\n",
      "15758  Teaching & Learning Center 900279014 Ed T. Knudson\n",
      "15759  Track High Jump Replacement 900279014 Ed T. Knudson\n",
      "15760  Energy Management Systems Upgrade 900279014 Ed T. Knudson\n",
      "15761  New Palmdale Center Building 900279014 Ed T. Knudson\n",
      "15762  SS Corridor Flooring Replacment 900279014 Ed T. Knudson\n",
      "15764  Admin Reno, Firesafe & Cabinets 900279014 Ed T. Knudson\n",
      "15765  Basketball Floor Replacement 900279014 Ed T. Knudson\n",
      "15766  Foundation Remodel & Furniture 900279014 Ed T. Knudson\n",
      "15770  Landscape Projects 900279014 Ed T. Knudson\n",
      "15771  Elevator Projects 900279014 Ed T. Knudson\n",
      "15772  Campus Restroom Renovations 900279014 Ed T. Knudson\n",
      "15773  Choral Room Renovations 900279014 Ed T. Knudson\n",
      "15774  AT&T Cell Tower 900279014 Ed T. Knudson\n",
      "15775  Sand Volleyball Facility 900279014 Ed T. Knudson\n",
      "15776  Tennis Court Renovations 900279014 Ed T. Knudson\n",
      "15777  Engineering Building 900279014 Ed T. Knudson\n",
      "15778  Campus Curbs & Walkways 900279014 Ed T. Knudson\n",
      "15779  Replace/Repair Campus Roofs 900279014 Ed T. Knudson\n",
      "15780  Window & Wall Repair 900279014 Ed T. Knudson\n",
      "15781  Student Lounge Renovation 900279014 Ed T. Knudson\n",
      "15782  Elect Expan TE2 Robotic Welder 900279014 Ed T. Knudson\n",
      "15783  Campus Flooring Replacement 900279014 Ed T. Knudson\n",
      "15846  LED Lighting INACTIVE USE 15849 900279014 Ed T. Knudson\n",
      "15847  Replace Gym Boiler 900279014 Ed T. Knudson\n",
      "15848  Campus Restrooms Renovation SM 900279014 Ed T. Knudson\n",
      "15849  Prop 39 energy projects 900279014 Ed T. Knudson\n",
      "15850  Foxfield Renovations 900279014 Ed T. Knudson\n",
      "15854  ME HVAC 900279014 Ed T. Knudson\n",
      "15856  TE7 101 F18 Trng Mod Replcmnt 900279014 Ed T. Knudson\n",
      "15858  Instructional Equipment 900279014 Ed T. Knudson\n",
      "15859  Track High Jump Replacement 900279014 Ed T. Knudson\n",
      "15860  Parking Lot #9 Lighting 900279014 Ed T. Knudson\n",
      "15861  Facilities/M&O Funding 900279014 Ed T. Knudson\n",
      "15862  CDC Shade Structure 900279014 Ed T. Knudson\n",
      "15863  District Furniture Replace/Addition 900279014 Ed T. Knudson\n",
      "15865  Basketball Floor Replacement 900279014 Ed T. Knudson\n",
      "15866  Foundation Upgrades 900279014 Ed T. Knudson\n",
      "15867  TE7 Modernization 900279014 Ed T. Knudson\n",
      "15868  BE306 ITS Exec Dir Furniture 900279014 Ed T. Knudson\n",
      "15869  Ext Lghtg Rplcmnt 17-017 900279014 Ed T. Knudson\n",
      "15870  TE7 Rm 101 Remodel 17-036 900279014 Ed T. Knudson\n",
      "15871  Street Sweeper 900279014 Ed T. Knudson\n",
      "17000  Planning & Coord:Facilities 900279014 Ed T. Knudson\n",
      "17001  Planning & Coord:Bus Serv 900279014 Ed T. Knudson\n",
      "17002  Gym Reno 17-002 USE 17196 900279014 Ed T. Knudson\n",
      "17006  Gym Reno 17-002 900279014 Ed T. Knudson\n",
      "17008  Palmdale Cnr Exp INACTIVE USE 17199 900279014 Ed T. Knudson\n",
      "17012  ME&APL Build STEM Lab Mod 17012 900279014 Ed T. Knudson\n",
      "17018  Utility Valve&Piping Repair 17-018 900279014 Ed T. Knudson\n",
      "17019  Boiler Rplcmnt Campus Wide 17-019 900279014 Ed T. Knudson\n",
      "17020  HVAC Rplc B/TE2 900279014 Ed T. Knudson\n",
      "17021  Central Plant VFD Pump Upgrade 900279014 Ed T. Knudson\n",
      "17022  Ext Door Hardware Rpr/Rplce 900279014 Ed T. Knudson\n",
      "17026  EIR AVC Lanc Camp Master Plan 900279014 Ed T. Knudson\n",
      "17027  Campus Project Planning 900279014 Ed T. Knudson\n",
      "17028  Campus Arch Design Standards 900279014 Ed T. Knudson\n",
      "17031  Sage Hall (Academic Commons) 900279014 Ed T. Knudson\n",
      "17101  EIR AVC Lanc Camp Master Plan 900279014 Ed T. Knudson\n",
      "17103  Campus Arch Dsgn Stndrds USE 17028 900279014 Ed T. Knudson\n",
      "17104  Capmus Infrastructure PHS I 900279014 Ed T. Knudson\n",
      "17105  PHS I Swing Space 900279014 Ed T. Knudson\n",
      "17106  Campus Security Building 900279014 Ed T. Knudson\n",
      "17201  Arts Complex 900279014 Ed T. Knudson\n",
      "17202  SOAR High School 900279014 Ed T. Knudson\n",
      "17203  CSUB & University Center 900279014 Ed T. Knudson\n",
      "17225  2010 BofA Central Plant Debt Apr 17 900279014 Ed T. Knudson\n",
      "17240  Tennis Courts 900279014 Ed T. Knudson\n",
      "17250  2010 COP Solar Proj Debt Apr 17 900279014 Ed T. Knudson\n",
      "17300  Capital Outlay Endowment 900279014 Ed T. Knudson\n",
      "17802  Inst. Bldg 2 & Admin Bldg 900279014 Ed T. Knudson\n",
      "17803  SCT Building 900279014 Ed T. Knudson\n",
      "18001  Joshua Hall 900279014 Ed T. Knudson\n",
      "18002  Cedar Hall 900279014 Ed T. Knudson\n",
      "18003  The Commons 900279014 Ed T. Knudson\n",
      "18005  Prop 39 Year 5 energy projects 900279014 Ed T. Knudson\n",
      "18006  Lighting Upgrade Campus Wide 18006 900279014 Ed T. Knudson\n",
      "18007  Upgrade Exterior Locks Plmd 18007 900279014 Ed T. Knudson\n",
      "18008  Campus Flooring Replacement 18008 900279014 Ed T. Knudson\n",
      "18009  ADA Campus Wide Improvements 18009 900279014 Ed T. Knudson\n",
      "18018  Student Serv. Stairway Repair 18018 900279014 Ed T. Knudson\n",
      "19001  Stadium Track Replacement 19001 900279014 Ed T. Knudson\n",
      "19002  Autoclave-Bldg.TE8 Utilities Instal 900279014 Ed T. Knudson\n",
      "20005  BE & UH Classroom Modernization 900279014 Ed T. Knudson\n",
      "62040  STEM COOP P031C11009 900279014 Ed T. Knudson\n",
      "62041  STEM SOLO 900279014 Ed T. Knudson\n",
      "62070  Star/Trio 900279014 Ed T. Knudson\n",
      "62405  Instructional Block Grant Library 900279014 Ed T. Knudson\n",
      "62414  Staff Diversity 900279014 Ed T. Knudson\n",
      "62417  Prop 20 900279014 Ed T. Knudson\n",
      "62425  Instructional Block Grant 900279014 Ed T. Knudson\n",
      "62446  Classified Professional Development 900279014 Ed T. Knudson\n",
      "62455  Calworks 900279014 Ed T. Knudson\n",
      "62459  SouthBay Workforce 900279014 Ed T. Knudson\n",
      "62466  EEO Best Practices 900279014 Ed T. Knudson\n",
      "62468  Culturally Competent Faculty PD 900279014 Ed T. Knudson\n",
      "62473  Antelope Valley Air Quality Mngment 900279014 Ed T. Knudson\n",
      "62492  Guided Pathways 900279014 Ed T. Knudson\n",
      "11100  Institutional Rsrch & Planning 900280168 Meeta B. Goel\n",
      "12701  Instructional Resources Dean 900280168 Meeta B. Goel\n",
      "12710  Library 900280168 Meeta B. Goel\n",
      "62406  Library Services Platform 900280168 Meeta B. Goel\n",
      "11040  Advancement 900301947 Dianne M. Knippel\n",
      "11101  Foundation 900301947 Dianne M. Knippel\n",
      "62075  TRIO Star Program 900310425 Saundra D. Cooley\n",
      "62077  TRIO 21-26 900310425 Saundra D. Cooley\n",
      "12805  Community Project/Extended Learning 900313500 Laureano Flores\n",
      "12806  Palmdale Campus 900313500 Laureano Flores\n",
      "12840  Work Force Development 900313500 Laureano Flores\n",
      "62010  Federal College Workstudy 900313500 Laureano Flores\n",
      "62043  AFRL - Makerspace for AVC 900313500 Laureano Flores\n",
      "62044  AFRL - CATIE I&O 900313500 Laureano Flores\n",
      "62080  CTE Transitions 14-C01-002 900313500 Laureano Flores\n",
      "62419  Inmate Education Pilot Program 900313500 Laureano Flores\n",
      "62432  Employee Training Panel ETP 900313500 Laureano Flores\n",
      "62485  Calif Apprenticeship Initiative CAI 900313500 Laureano Flores\n",
      "62489  Youth Apprenticeship Program 900313500 Laureano Flores\n",
      "62704  Department of Corrections 900313500 Laureano Flores\n",
      "62705  Corporate & Community Ed 900313500 Laureano Flores\n",
      "62712  LACOE TRAINING 900313500 Laureano Flores\n",
      "62713  Cottonwood Children's Choir 900313500 Laureano Flores\n",
      "12101  Language & Communication Arts Dean 900313587 Riley J. Dwyer\n",
      "12105  Language & Communication Arts Inst. 900313587 Riley J. Dwyer\n",
      "12106  Academic Development 900313587 Riley J. Dwyer\n",
      "12720  Learning Center 900313587 Riley J. Dwyer\n",
      "62415  Basic Skills 900313587 Riley J. Dwyer\n",
      "62497  Puente Program 900313587 Riley J. Dwyer\n",
      "00000  District 900316451 Sarah A. Miller\n",
      "00004  CARES Act Institution 900316451 Sarah A. Miller\n",
      "00007  Challenger Project 900316451 Sarah A. Miller\n",
      "11020  Legal Counsel 900316451 Sarah A. Miller\n",
      "12920  Tenure Review 900316451 Sarah A. Miller\n",
      "14020  Business Services 900316451 Sarah A. Miller\n",
      "14030  Mandated Costs 900316451 Sarah A. Miller\n",
      "14101  CMS Prof Dev 900316451 Sarah A. Miller\n",
      "14102  Mandatory Travel 900316451 Sarah A. Miller\n",
      "62014  FWS FISAP Admin 900316451 Sarah A. Miller\n",
      "62036  CRRSAA-HEERF II - MSI 900316451 Sarah A. Miller\n",
      "62037  ARP HEERF III MSI 900316451 Sarah A. Miller\n",
      "62038  ARPA Stipend 900316451 Sarah A. Miller\n",
      "62045  CARES Act MSI 900316451 Sarah A. Miller\n",
      "62046  COVID-19 Response Block Grant-Fed. 900316451 Sarah A. Miller\n",
      "62048  CRRSAA - HEERF II - Student 900316451 Sarah A. Miller\n",
      "62049  CRRSAA - HEERF II - Institutional 900316451 Sarah A. Miller\n",
      "62065  ARP HEERF 111 Student 900316451 Sarah A. Miller\n",
      "62066  ARP HEERF 111 Institutional 900316451 Sarah A. Miller\n",
      "62313  Pell Grants Administration 900316451 Sarah A. Miller\n",
      "62320  Seog Grants 900316451 Sarah A. Miller\n",
      "62321  SEOG FISAP Admin 900316451 Sarah A. Miller\n",
      "62404  LACOE AB130 Outreach Support 900316451 Sarah A. Miller\n",
      "62411  Enrollment Fee Financial Asst. 900316451 Sarah A. Miller\n",
      "62431  AB86 Adult Education 900316451 Sarah A. Miller\n",
      "62433  LA Universal Preschool LAUP 900316451 Sarah A. Miller\n",
      "62438  COVID-19 Response Block Grant-State 900316451 Sarah A. Miller\n",
      "62439  Cal OES State - Supplied PPE 900316451 Sarah A. Miller\n",
      "62465  FT13 Interest Revenue 900316451 Sarah A. Miller\n",
      "62498  CRRSA AB82 Stipend 900316451 Sarah A. Miller\n",
      "62499  CRRSA AB82 Stipend ACA 900316451 Sarah A. Miller\n",
      "62600  Cal Grants 900316451 Sarah A. Miller\n",
      "62602  Community College Completion Grant 900316451 Sarah A. Miller\n",
      "62604  Student Success Completion Grant 900316451 Sarah A. Miller\n",
      "62605  Disaster Relief Emergency SFA 900316451 Sarah A. Miller\n",
      "62707  Indirect Fee Recovered 900316451 Sarah A. Miller\n",
      "62708  OPT IN Mandated Costs (PRIOR YRS) 900316451 Sarah A. Miller\n",
      "62720  16-17 OPT IN Mandated Costs 900316451 Sarah A. Miller\n",
      "62721  OPT IN Mandated Costs 900316451 Sarah A. Miller\n",
      "62722  18-19 OPT IN Mandated Costs 900316451 Sarah A. Miller\n",
      "62900  Scholarships 900316451 Sarah A. Miller\n",
      "62901  Scholarshares 900316451 Sarah A. Miller\n",
      "62902  Private Loans 900316451 Sarah A. Miller\n",
      "66902  Stafford Loans 900316451 Sarah A. Miller\n",
      "66904  PLUS LOAN 900316451 Sarah A. Miller\n",
      "66905  Academic Competitiveness Grant 900316451 Sarah A. Miller\n",
      "66911  Care Grants 900316451 Sarah A. Miller\n",
      "77000  LACOE Data Processing Services 900316451 Sarah A. Miller\n",
      "91000  Debt Services 900316451 Sarah A. Miller\n",
      "12401  Physical Ed & Athletics Dean 900324595 Thomas E. Gang\n",
      "12402  Athletics-Post Season Travel 900324595 Thomas E. Gang\n",
      "12403  Athletics-Post Season Men 900324595 Thomas E. Gang\n",
      "12404  Athletics-Post Season Women 900324595 Thomas E. Gang\n",
      "12405  Physical Ed & Athletics Inst. 900324595 Thomas E. Gang\n",
      "12411  Athletics - General Expenses 900324595 Thomas E. Gang\n",
      "12415  Mens Sports 900324595 Thomas E. Gang\n",
      "12420  Womens Sports 900324595 Thomas E. Gang\n",
      "13060  Eops - District Match 900324858 Rashitta Brown-Elize\n",
      "13205  Counseling & Matriculation 900324858 Rashitta Brown-Elize\n",
      "62440  EOPS 900324858 Rashitta Brown-Elize\n",
      "62442  CARE 900324858 Rashitta Brown-Elize\n",
      "12051  Health & Safety Sciences Dean 900326002 Gregory A. Bormann\n",
      "12055  Health&Safety Sciences Instruction 900326002 Gregory A. Bormann\n",
      "62418  Santa Barbara CCD CTE Enhancement 900326002 Gregory A. Bormann\n",
      "62422  Nursing Enrollment 900326002 Gregory A. Bormann\n",
      "62444  Nursing 1st Response StudentSupport 900326002 Gregory A. Bormann\n",
      "62445  Respiratory 1st Response StdSupport 900326002 Gregory A. Bormann\n",
      "14900  Theatre Productions 900326125 James A. Nasipak\n",
      "62410  CA Career Pathways Trust 900349796 Nicholas M. Valsamides\n",
      "62421  Commercial Sexual Exploitation 900349796 Nicholas M. Valsamides\n",
      "11000  President's Office 900418111 Jennifer L. Zellet\n",
      "12000  VP of Academic Affair 900418111 Jennifer L. Zellet\n",
      "10  Antelope Valley college None *ERROR* Name with rule PREF_FMIL not found for ID: \n",
      "100  President - Palmdale & Lancaster None *ERROR* Name with rule PREF_FMIL not found for ID: \n",
      "1000  President None *ERROR* Name with rule PREF_FMIL not found for ID: \n",
      "1001  President None *ERROR* Name with rule PREF_FMIL not found for ID: \n",
      "1002  Exec Dir. of Marketing & PIO None *ERROR* Name with rule PREF_FMIL not found for ID: \n",
      "1003  Executive Director of ITS None *ERROR* Name with rule PREF_FMIL not found for ID: \n",
      "1005  Exec Dir of Advance.& Foundation None *ERROR* Name with rule PREF_FMIL not found for ID: \n",
      "1006  Dean Inst. Effective Resrch & Plan None *ERROR* Name with rule PREF_FMIL not found for ID: \n",
      "1300  Vice President Student Services None *ERROR* Name with rule PREF_FMIL not found for ID: \n",
      "1301  Dean of Enrollment Services None *ERROR* Name with rule PREF_FMIL not found for ID: \n",
      "1305  Dean of Student Life None *ERROR* Name with rule PREF_FMIL not found for ID: \n",
      "1306  Dean of Counseling & Matriculation None *ERROR* Name with rule PREF_FMIL not found for ID: \n",
      "1400  Exec Director of Business & CBO None *ERROR* Name with rule PREF_FMIL not found for ID: \n",
      "1450  Executive Director of Facilities None *ERROR* Name with rule PREF_FMIL not found for ID: \n",
      "1451  Exec Dir Cap Outlay Sched Maint None *ERROR* Name with rule PREF_FMIL not found for ID: \n",
      "14550  Parking TST None *ERROR* Name with rule PREF_FMIL not found for ID: \n",
      "14910  Bookstore None *ERROR* Name with rule PREF_FMIL not found for ID: \n",
      "1500  Restricted Programs None *ERROR* Name with rule PREF_FMIL not found for ID: \n",
      "17043  AT&T Baseball Stadium Projects None *ERROR* Name with rule PREF_FMIL not found for ID: \n",
      "17102  Campus Project Planning USE 17027 None *ERROR* Name with rule PREF_FMIL not found for ID: \n",
      "2000  Vice President of Human Resources None *ERROR* Name with rule PREF_FMIL not found for ID: \n",
      "2001  Vice President of Human Resources None *ERROR* Name with rule PREF_FMIL not found for ID: \n",
      "3000  Vice President of Academic Affairs None *ERROR* Name with rule PREF_FMIL not found for ID: \n",
      "3001  VP of Academic Affairs None *ERROR* Name with rule PREF_FMIL not found for ID: \n",
      "3002  Dean of Career Tech Ed None *ERROR* Name with rule PREF_FMIL not found for ID: \n",
      "3003  Dean of Rhetoric & Literacy None *ERROR* Name with rule PREF_FMIL not found for ID: \n",
      "3004  Dean of Health & Safety Sciences None *ERROR* Name with rule PREF_FMIL not found for ID: \n",
      "3005  Dean of Social & Behavioral Science None *ERROR* Name with rule PREF_FMIL not found for ID: \n",
      "3006  Dean of Math/Sciences/Engineering None *ERROR* Name with rule PREF_FMIL not found for ID: \n",
      "3007  Dean of Learning Center None *ERROR* Name with rule PREF_FMIL not found for ID: \n",
      "3008  Dean of Arts & Humanities None *ERROR* Name with rule PREF_FMIL not found for ID: \n",
      "3009  Dean of Palmdale/Extended Learning None *ERROR* Name with rule PREF_FMIL not found for ID: \n",
      "4000  Vice President of Student Services None *ERROR* Name with rule PREF_FMIL not found for ID: \n",
      "5000  Executive Director of Business CBO None *ERROR* Name with rule PREF_FMIL not found for ID: \n",
      "6000  Executive Director of Facilities None *ERROR* Name with rule PREF_FMIL not found for ID: \n",
      "62413  CA Prison Incarcerated Students None *ERROR* Name with rule PREF_FMIL not found for ID: \n"
     ]
    }
   ],
   "source": [
    "print(len(x))\n",
    "for a in x:\n",
    "    print(a[0],'', a[1], a[6], a[7])\n"
   ],
   "metadata": {
    "collapsed": false,
    "pycharm": {
     "name": "#%%\n"
    }
   }
  },
  {
   "cell_type": "raw",
   "source": [
    "queue_chain_number = 140 #working_session.get_next_queue_number()\n",
    "queue_description = 'Kaiser Sim Collaboration'\n",
    "queues_to_build = [('A','B',0,['AMUSIAL1','EOBRIEN3']),('B','G',.01,['KJANISZEWSKI','UGOFF', 'BJESTER1', 'LNOWAK']),('G','VPAS',.05,['SMILLER66'])]\n",
    "orgns_to_route = ['62404']\n",
    "working_session.build_a_new_queue_chain(queue_chain_number, queue_description, queues_to_build, orgns_to_route)"
   ],
   "metadata": {
    "collapsed": false,
    "pycharm": {
     "name": "#%% raw\n"
    }
   }
  },
  {
   "cell_type": "markdown",
   "source": [
    "# Poson to Orgn for Approval Queues"
   ],
   "metadata": {
    "collapsed": false,
    "pycharm": {
     "name": "#%% md\n"
    }
   }
  },
  {
   "cell_type": "code",
   "execution_count": 10,
   "outputs": [],
   "source": [
    "with working_session.engine_connection.cursor() as _cur:\n",
    "    _cur.execute(f\"\"\"select NBBPOSN_POSN, NBBPOSN_STATUS, NBBPOSN_TITLE, NBBPOSN_ECLS_CODE\n",
    "     , ( select listagg(NBRPLBD_ORGN_CODE ||', ') from NBRPLBD where NBRPLBD_POSN = NBBPOSN_POSN and NBRPLBD_FISC_CODE = '2023') as Poson_Orgns\n",
    "     , ( select listagg(distinct bq1.NBRJOBS_PIDM ||', ') from nbrjobs bq1 where bq1.NBRJOBS_POSN = NBBPOSN_POSN and bq1.NBRJOBS_STATUS = 'A' and bq1.NBRJOBS_EFFECTIVE_DATE = (select max(sq1.NBRJOBS_EFFECTIVE_DATE) from NBRJOBS sq1 where sq1.NBRJOBS_POSN = bq1.NBRJOBS_POSN)) as OFM\n",
    "from NBBPOSN\n",
    "where NBBPOSN_STATUS = 'A'\n",
    "    and NBBPOSN_ECLS_CODE in ('AD','SR')\"\"\")\n",
    "    x = _cur.fetchall()"
   ],
   "metadata": {
    "collapsed": false,
    "pycharm": {
     "name": "#%%\n"
    }
   }
  },
  {
   "cell_type": "code",
   "execution_count": 11,
   "outputs": [
    {
     "name": "stdout",
     "output_type": "stream",
     "text": [
      "38\n",
      "('AD0008', 'A', 'VP Student Services', 'AD', '13000, ', None)\n",
      "('AD0009', 'A', 'VP Academic Affairs', 'AD', '12000, ', None)\n",
      "('AD0011', 'A', 'Dean, Career Technical Educati', 'AD', '12151, ', '422352, ')\n",
      "('AD0012', 'A', 'Dean Rhetoric and Literacy', 'AD', '12101, ', '409936, ')\n",
      "('AD0013', 'A', 'Dean Instt Effect Rsch Plng LS', 'AD', '11100, 11100, ', '375301, ')\n",
      "('AD0014', 'A', 'Exec Director - Business', 'SR', '14020, ', None)\n",
      "('AD0016', 'A', 'Dean Enrollment Svcs', 'AD', '62460, 13206, ', '99522, ')\n",
      "('AD0019', 'A', 'Dean Soc Beh Sciences / CFE', 'AD', '12251, ', '59306, ')\n",
      "('AD0017', 'A', 'Dean Math, Sciences & Engrg', 'AD', '12351, 62042, ', '122348, ')\n",
      "('AD0021', 'A', 'Director I EOP&S', 'AD', '13060, ', None)\n",
      "('AD0020', 'A', 'Executive Director, Facilities', 'SR', '14505, ', '328078, ')\n",
      "('AD0001', 'A', 'Superintendent/President', 'AD', '11000, ', '514488, ')\n",
      "('AD0002', 'A', 'VP Human Res Emp Relns', 'AD', '11030, ', None)\n",
      "('AD0003', 'A', 'Dean Health & Safety Sciences', 'AD', '12051, ', None)\n",
      "('AD0004', 'A', 'Director I OSD', 'AD', '62450, ', None)\n",
      "('AD0007', 'A', 'Exec Director- Mktg & Pub Info', 'SR', '11050, ', None)\n",
      "('AD0022', 'A', 'Exec Dir. Foundation', 'SR', '11101, ', '398237, ')\n",
      "('AD0023', 'A', 'Dean Arts & Humanities', 'AD', '12201, 62492, ', '82362, ')\n",
      "('AD0024', 'A', 'Dean, Extended Learning Palm', 'SR', '12806, ', None)\n",
      "('AD0030', 'A', 'VP Administrative Services', 'AD', '14000, ', '76090, ')\n",
      "('AD0031', 'A', 'General Counsel', 'AD', '11020, ', '450300, ')\n",
      "('AD0026', 'A', 'Dean Academic, Plng, Spcl Init', 'AD', '11100, ', None)\n",
      "('AD0006', 'A', 'Exec Director - ITS', 'SR', '11150, ', '368769, ')\n",
      "('AD0025', 'A', 'Temporary Classified Admin', 'SR', '11050, ', None)\n",
      "('AD0028', 'A', 'Exec Director, General Service', 'SR', '14020, ', None)\n",
      "('AD0027', 'A', 'Dean Athletics & Kinesology', 'AD', '12401, ', '420945, ')\n",
      "('AD0010', 'A', 'Director II STAR/Trio', 'SR', '13053, 62077, ', None)\n",
      "('AD0015', 'A', 'Dean Counseling & Matric', 'AD', '13205, 62460, ', '421208, ')\n",
      "('AD0018', 'A', 'Dean Student Life', 'AD', '13051, ', '140437, ')\n",
      "('ADI027', 'A', 'Interim General Counsel', 'AD', '11025, ', None)\n",
      "('AD0029', 'A', 'Exec Director, FIN & FS', 'SR', '14020, ', '412800, ')\n",
      "('ADI028', 'A', 'Interim Dean of Comm,Proj,Extd', 'AD', '12805, ', None)\n",
      "('ADI029', 'A', 'Interim VP Academic Affairs', 'AD', '12000, ', None)\n",
      "('AD0032', 'A', 'Associate Dean, Student Life', 'AD', '62060, 13051, ', '234371, ')\n",
      "('AD0033', 'A', 'Associate Dean, Outreach Svcs.', 'AD', '13208, 13208, 13208, ', '313584, ')\n",
      "('AD0034', 'A', 'Associate Dean,Categorical PRG', 'AD', '62077, 62455, ', '406777, ')\n",
      "('ADI030', 'A', 'Interim Exec Director HR', 'SR', '11030, ', None)\n",
      "('AD0035', 'A', 'Associate Dean, HSS', 'AD', '12051, ', '78496, ')\n"
     ]
    }
   ],
   "source": [
    "print(len(x))\n",
    "for a in x:\n",
    "    print(a)\n",
    "    #x = f\"\"\"    \"\"\""
   ],
   "metadata": {
    "collapsed": false,
    "pycharm": {
     "name": "#%%\n"
    }
   }
  },
  {
   "cell_type": "markdown",
   "source": [
    "# Orgn and Pred Orgn"
   ],
   "metadata": {
    "collapsed": false,
    "pycharm": {
     "name": "#%% md\n"
    }
   }
  },
  {
   "cell_type": "code",
   "execution_count": 15,
   "outputs": [],
   "source": [
    "with working_session.engine_connection.cursor() as _cur:\n",
    "    _cur.execute(f\"\"\"select bq1.FTVORGN_ORGN_CODE, (select listagg( sq1.FTVORGN_ORGN_CODE||', ') from FTVORGN sq1 where sq1.FTVORGN_ORGN_CODE_PRED = bq1.FTVORGN_ORGN_CODE and FTVORGN_NCHG_DATE > sysdate ) children\n",
    "from FTVORGN bq1\n",
    "where FTVORGN_NCHG_DATE > sysdate\"\"\")\n",
    "    x = _cur.fetchall()"
   ],
   "metadata": {
    "collapsed": false,
    "pycharm": {
     "name": "#%%\n"
    }
   }
  },
  {
   "cell_type": "code",
   "execution_count": 16,
   "outputs": [
    {
     "name": "stdout",
     "output_type": "stream",
     "text": [
      "456\n",
      "('10', '100, ')\n",
      "('100', '6000, 2000, 4000, 5000, 3000, 1000, ')\n",
      "('1000', '1001, 1002, 1005, 1006, 1500, 1003, ')\n",
      "('1001', '11025, 12911, 14000, 11201, 14600, 11200, 12920, 11000, ')\n",
      "('1002', '11050, ')\n",
      "('1003', '11150, 12725, 15852, 15853, 15855, ')\n",
      "('1005', '11102, 11040, 11101, ')\n",
      "('1006', '11100, 12710, ')\n",
      "('1500', '62301, 62311, 62037, 62489, 62070, 62455, 62459, 62492, 62491, 62407, 62310, 62424, 62430, 62433, 62602, 62701, 62710, 62900, 66902, 66911, 62436, 62451, 62472, 62479, 62782, 62468, 62406, 62309, 62320, 62418, 62426, 62431, 62435, 62461, 62462, 62471, 62482, 62487, 62600, 62601, 62603, 62604, 62702, 62901, 62902, 66904, 66905, 62060, 62450, 62453, 62474, 62475, 62480, 62481, 62706, 62413, 62043, 62045, 62411, 62465, 62707, 62720, 62721, 62464, 62038, 62075, 62080, 62410, 62421, 62722, 62321, 62041, 62040, 62417, 62419, 62432, 62485, 62705, 62704, 62713, 62438, 62046, 00004, 62439, 62035, 62445, 62605, 62415, 62422, 62440, 62460, 62483, 62703, 62486, 62446, 62405, 62042, 62010, 62050, 62434, 62497, 62416, 62488, 62049, 62048, 62412, 62447, 62448, 62449, 62606, 62414, 62020, 62470, 62409, 62044, 62437, 62444, 62313, 62762, 62708, 62014, 62425, 62712, 62015, 62047, 62077, 62493, 62420, 62423, 62442, 62476, 62016, 62467, 62466, 62055, 62300, 62469, 62719, 62404, 62490, 62718, 62477, 62478, 62484, 62030, 62473, 62065, 62066, 62036, 62498, 62499, 62408, ')\n",
      "('1300', '13000, 14005, ')\n",
      "('1301', '13206, 13010, ')\n",
      "('1305', '13051, 13053, 13052, 13209, 13300, 13400, 13101, 13800, 13054, 13208, 13220, ')\n",
      "('1306', '13070, 13060, 13071, 62452, 13215, 13205, 13080, ')\n",
      "('1400', '14910, 12930, 77000, 14905, 14020, 14101, 00000, 91000, 00007, 14102, 14030, 14900, 17200, 17300, 17250, 17225, ')\n",
      "('1450', '14550, 14500, 14560, 14505, ')\n",
      "('14505', '15725, ')\n",
      "('1451', '22006, 22007, 22009, 22010, 22011, 22013, 22012, 22008, 22015, 22016, 15864, 22017, 17102, 15502, 15701, 15702, 15711, 15712, 15714, 15715, 15755, 17043, 15719, 15717, 15082, 15710, 15713, 15851, 17106, 17105, 17104, 17103, 17101, 17031, 17028, 17027, 17026, 17022, 17021, 17020, 17019, 17018, 17012, 17008, 17006, 17002, 17001, 17000, 15871, 15870, 15869, 15868, 15867, 15866, 15865, 22014, 15863, 15862, 15861, 15860, 15859, 15854, 15850, 15846, 15847, 15848, 15849, 15783, 15782, 15781, 15780, 15779, 15778, 15777, 15776, 15775, 15774, 15773, 15772, 15771, 15770, 15766, 15765, 15764, 15762, 15761, 15760, 15759, 15758, 15757, 15756, 15750, 15745, 15744, 15743, 15740, 15738, 15737, 15735, 15732, 15731, 15730, 15728, 15727, 15724, 15723, 15722, 15721, 15720, 20014, 20012, 20010, 19004, 19003, 18021, 18011, 18010, 18004, 17801, 17199, 17196, 17140, 17113, 17112, 17111, 17110, 17109, 17108, 17107, 17029, 17030, 17037, 17038, 17039, 17041, 17042, 17040, 18012, 20007, 20005, 19002, 19001, 18018, 18009, 18008, 18007, 18006, 18005, 18003, 18002, 18001, 17803, 17802, 17240, 17203, 17202, 17201, ')\n",
      "('2000', '2001, ')\n",
      "('2001', '11035, 11034, 11032, 11031, 12901, 11033, 11030, ')\n",
      "('3000', '3001, 3007, 3008, 3002, 3003, 3005, 3006, 3009, 3004, ')\n",
      "('3001', '12000, 15856, 15858, 11800, 15857, ')\n",
      "('3002', '12151, 12155, 12160, 12161, 12165, 12301, 12305, ')\n",
      "('3003', '12101, 12105, 12106, 12720, ')\n",
      "('3004', '12404, 12420, 12401, 12402, 12403, 12405, 12411, 12415, 12051, 12055, ')\n",
      "('3005', '12260, 12256, 12255, 12251, 62494, ')\n",
      "('3006', '12351, 12355, 12360, ')\n",
      "('3007', '12701, ')\n",
      "('3008', '12201, 12220, 12221, 12215, 12205, ')\n",
      "('3009', '12850, 12107, 12806, 12840, 12805, ')\n",
      "('4000', '1300, 1301, 1306, 1451, 1305, ')\n",
      "('5000', '1400, 11060, ')\n",
      "('6000', '1450, ')\n"
     ]
    }
   ],
   "source": [
    "print(len(x))\n",
    "for a in x:\n",
    "    if a[1] is not None:\n",
    "        print(a)\n",
    "        #x = f\"\"\"    \"\"\""
   ],
   "metadata": {
    "collapsed": false,
    "pycharm": {
     "name": "#%%\n"
    }
   }
  },
  {
   "cell_type": "code",
   "execution_count": null,
   "outputs": [],
   "source": [],
   "metadata": {
    "collapsed": false,
    "pycharm": {
     "name": "#%%\n"
    }
   }
  }
 ],
 "metadata": {
  "kernelspec": {
   "display_name": "Python 3",
   "language": "python",
   "name": "python3"
  },
  "language_info": {
   "codemirror_mode": {
    "name": "ipython",
    "version": 2
   },
   "file_extension": ".py",
   "mimetype": "text/x-python",
   "name": "python",
   "nbconvert_exporter": "python",
   "pygments_lexer": "ipython2",
   "version": "2.7.6"
  }
 },
 "nbformat": 4,
 "nbformat_minor": 0
}